{
 "cells": [
  {
   "cell_type": "code",
   "execution_count": 692,
   "id": "b2b4d014",
   "metadata": {
    "ExecuteTime": {
     "end_time": "2022-06-09T02:22:53.749310Z",
     "start_time": "2022-06-09T02:22:53.710664Z"
    }
   },
   "outputs": [
    {
     "data": {
      "text/html": [
       "        <script type=\"text/javascript\">\n",
       "        window.PlotlyConfig = {MathJaxConfig: 'local'};\n",
       "        if (window.MathJax) {MathJax.Hub.Config({SVG: {font: \"STIX-Web\"}});}\n",
       "        if (typeof require !== 'undefined') {\n",
       "        require.undef(\"plotly\");\n",
       "        requirejs.config({\n",
       "            paths: {\n",
       "                'plotly': ['https://cdn.plot.ly/plotly-2.6.3.min']\n",
       "            }\n",
       "        });\n",
       "        require(['plotly'], function(Plotly) {\n",
       "            window._Plotly = Plotly;\n",
       "        });\n",
       "        }\n",
       "        </script>\n",
       "        "
      ]
     },
     "metadata": {},
     "output_type": "display_data"
    }
   ],
   "source": [
    "import os\n",
    "import glob\n",
    "import time\n",
    "\n",
    "from tqdm import tqdm\n",
    "from dotenv import load_dotenv\n",
    "\n",
    "from pymongo import MongoClient\n",
    "import praw\n",
    "\n",
    "import datetime as dt\n",
    "import numpy as np\n",
    "import pandas as pd\n",
    "\n",
    "import plotly.figure_factory as ff\n",
    "import plotly.graph_objects as go\n",
    "import plotly.express as px\n",
    "from plotly.offline import plot, iplot, init_notebook_mode\n",
    "from plotly.subplots import make_subplots\n",
    "init_notebook_mode(connected=True)\n",
    "\n",
    "from sksurv.nonparametric import kaplan_meier_estimator as kme\n",
    "from sksurv.preprocessing import OneHotEncoder as ohe\n",
    "from sksurv.linear_model import CoxPHSurvivalAnalysis as cox\n",
    "\n",
    "%config Completer.use_jedi = False\n",
    "\n",
    "os.chdir('/shared/jackie/resilient-communities')\n",
    "\n",
    "load_dotenv()\n",
    "\n",
    "reddit = praw.Reddit(\n",
    "    client_id=os.environ.get('REDDIT_CLIENT_ID_2'),\n",
    "    client_secret=os.environ.get('REDDIT_CLIENT_SECRET_2'),\n",
    "    user_agent=os.environ.get('REDDIT_USER_AGENT_2'),\n",
    "    username=os.environ.get('REDDIT_USERNAME_2'),\n",
    "    password=os.environ.get('REDDIT_PASSWORD_2')\n",
    ")\n",
    "\n",
    "client = MongoClient('localhost', 27017)\n",
    "all_comments = client.resilient.all\n",
    "popular_threads = client.resilient.popular_threads\n",
    "pushshift_comments = client.pushshift_comments\n",
    "pushshift_threads = client.pushshift_comments"
   ]
  },
  {
   "cell_type": "markdown",
   "id": "2def3fee",
   "metadata": {},
   "source": [
    "# Get the total number of comments from PRAW stream.\n",
    "\n",
    "We stream all comments into a single MongoDB collection."
   ]
  },
  {
   "cell_type": "code",
   "execution_count": 287,
   "id": "11f3764a",
   "metadata": {
    "ExecuteTime": {
     "end_time": "2022-06-08T21:21:49.246753Z",
     "start_time": "2022-06-08T21:21:49.238575Z"
    }
   },
   "outputs": [
    {
     "data": {
      "text/html": [
       "<style  type=\"text/css\" >\n",
       "</style><table id=\"T_01fedace_e771_11ec_8828_70b5e8d10544\" ><thead>    <tr>        <th class=\"blank level0\" ></th>        <th class=\"col_heading level0 col0\" >N</th>    </tr></thead><tbody>\n",
       "                <tr>\n",
       "                        <th id=\"T_01fedace_e771_11ec_8828_70b5e8d10544level0_row0\" class=\"row_heading level0 row0\" >Comments</th>\n",
       "                        <td id=\"T_01fedace_e771_11ec_8828_70b5e8d10544row0_col0\" class=\"data row0 col0\" >525,300,000</td>\n",
       "            </tr>\n",
       "    </tbody></table>"
      ],
      "text/plain": [
       "<pandas.io.formats.style.Styler at 0x7f8a67e01780>"
      ]
     },
     "execution_count": 287,
     "metadata": {},
     "output_type": "execute_result"
    }
   ],
   "source": [
    "pd.DataFrame.from_dict({\n",
    "    'Comments': all_comments.estimated_document_count()\n",
    "}, orient='index').rename(columns={0: 'N'}).style.format('{:,}')"
   ]
  },
  {
   "cell_type": "markdown",
   "id": "12cced12",
   "metadata": {},
   "source": [
    "# Get r/popular threads stored in the collection.\n",
    "\n",
    "Each r/popular thread and it's respective features are stored statically in a MongoDB collection. There are other collections (e.g., a collection for all Reddit comments and a collection for r/popular snapshots), but calculations should be ran on the r/popular collection. We derive features from those other collections in scripts. The scripts include: `store-popular-threads.py`, `generate-praw-features.py`, and `requery-comments.py`."
   ]
  },
  {
   "cell_type": "code",
   "execution_count": 291,
   "id": "ca65acbc",
   "metadata": {
    "ExecuteTime": {
     "end_time": "2022-06-08T21:25:22.325170Z",
     "start_time": "2022-06-08T21:25:21.920536Z"
    },
    "code_folding": [
     0
    ]
   },
   "outputs": [
    {
     "data": {
      "text/html": [
       "<div>\n",
       "<style scoped>\n",
       "    .dataframe tbody tr th:only-of-type {\n",
       "        vertical-align: middle;\n",
       "    }\n",
       "\n",
       "    .dataframe tbody tr th {\n",
       "        vertical-align: top;\n",
       "    }\n",
       "\n",
       "    .dataframe thead th {\n",
       "        text-align: right;\n",
       "    }\n",
       "</style>\n",
       "<table border=\"1\" class=\"dataframe\">\n",
       "  <thead>\n",
       "    <tr style=\"text-align: right;\">\n",
       "      <th></th>\n",
       "      <th>author</th>\n",
       "      <th>title</th>\n",
       "      <th>subreddit</th>\n",
       "      <th>created_utc</th>\n",
       "    </tr>\n",
       "    <tr>\n",
       "      <th>id</th>\n",
       "      <th></th>\n",
       "      <th></th>\n",
       "      <th></th>\n",
       "      <th></th>\n",
       "    </tr>\n",
       "  </thead>\n",
       "  <tbody>\n",
       "    <tr>\n",
       "      <th>tkwdrr</th>\n",
       "      <td>No-Gap240</td>\n",
       "      <td>Thanks a latte!</td>\n",
       "      <td>antiwork</td>\n",
       "      <td>1.648049e+09</td>\n",
       "    </tr>\n",
       "    <tr>\n",
       "      <th>tkl164</th>\n",
       "      <td>BrokenShutters</td>\n",
       "      <td>A truly awful aged like milk</td>\n",
       "      <td>agedlikemilk</td>\n",
       "      <td>1.648007e+09</td>\n",
       "    </tr>\n",
       "    <tr>\n",
       "      <th>tl0bmh</th>\n",
       "      <td>BolaSquirrel</td>\n",
       "      <td>PSA to invaders</td>\n",
       "      <td>Eldenring</td>\n",
       "      <td>1.648054e+09</td>\n",
       "    </tr>\n",
       "    <tr>\n",
       "      <th>tl4kfi</th>\n",
       "      <td>Ok_Inevitable_9461</td>\n",
       "      <td>...and they call the left snowflakes</td>\n",
       "      <td>PoliticalHumor</td>\n",
       "      <td>1.648059e+09</td>\n",
       "    </tr>\n",
       "    <tr>\n",
       "      <th>tkv6er</th>\n",
       "      <td>Father-TedCrilly</td>\n",
       "      <td>Worlds fattest man around the 1900’s.</td>\n",
       "      <td>AbsoluteUnits</td>\n",
       "      <td>1.648046e+09</td>\n",
       "    </tr>\n",
       "    <tr>\n",
       "      <th>...</th>\n",
       "      <td>...</td>\n",
       "      <td>...</td>\n",
       "      <td>...</td>\n",
       "      <td>...</td>\n",
       "    </tr>\n",
       "    <tr>\n",
       "      <th>v7vbxz</th>\n",
       "      <td>MrMoonchild_</td>\n",
       "      <td>Not everyone is a sport illustrator swimsuit m...</td>\n",
       "      <td>JoeRogan</td>\n",
       "      <td>1.654710e+09</td>\n",
       "    </tr>\n",
       "    <tr>\n",
       "      <th>v7vc22</th>\n",
       "      <td>beerbellybegone</td>\n",
       "      <td>Don't disrespect Grandma</td>\n",
       "      <td>quityourbullshit</td>\n",
       "      <td>1.654710e+09</td>\n",
       "    </tr>\n",
       "    <tr>\n",
       "      <th>v7vdbm</th>\n",
       "      <td>beerbellybegone</td>\n",
       "      <td>Preacher speaking God's word</td>\n",
       "      <td>MurderedByWords</td>\n",
       "      <td>1.654710e+09</td>\n",
       "    </tr>\n",
       "    <tr>\n",
       "      <th>v7wym2</th>\n",
       "      <td>SnooCupcakes8607</td>\n",
       "      <td>You bullied the wrong student my guy</td>\n",
       "      <td>instant_regret</td>\n",
       "      <td>1.654714e+09</td>\n",
       "    </tr>\n",
       "    <tr>\n",
       "      <th>v7x39u</th>\n",
       "      <td>JediWithAnM4</td>\n",
       "      <td>Man stops to rescue kitten, gets ambushed by p...</td>\n",
       "      <td>aww</td>\n",
       "      <td>1.654715e+09</td>\n",
       "    </tr>\n",
       "  </tbody>\n",
       "</table>\n",
       "<p>34381 rows × 4 columns</p>\n",
       "</div>"
      ],
      "text/plain": [
       "                    author                                              title  \\\n",
       "id                                                                              \n",
       "tkwdrr           No-Gap240                                    Thanks a latte!   \n",
       "tkl164      BrokenShutters                       A truly awful aged like milk   \n",
       "tl0bmh        BolaSquirrel                                    PSA to invaders   \n",
       "tl4kfi  Ok_Inevitable_9461               ...and they call the left snowflakes   \n",
       "tkv6er    Father-TedCrilly              Worlds fattest man around the 1900’s.   \n",
       "...                    ...                                                ...   \n",
       "v7vbxz        MrMoonchild_  Not everyone is a sport illustrator swimsuit m...   \n",
       "v7vc22     beerbellybegone                           Don't disrespect Grandma   \n",
       "v7vdbm     beerbellybegone                       Preacher speaking God's word   \n",
       "v7wym2    SnooCupcakes8607               You bullied the wrong student my guy   \n",
       "v7x39u        JediWithAnM4  Man stops to rescue kitten, gets ambushed by p...   \n",
       "\n",
       "               subreddit   created_utc  \n",
       "id                                      \n",
       "tkwdrr          antiwork  1.648049e+09  \n",
       "tkl164      agedlikemilk  1.648007e+09  \n",
       "tl0bmh         Eldenring  1.648054e+09  \n",
       "tl4kfi    PoliticalHumor  1.648059e+09  \n",
       "tkv6er     AbsoluteUnits  1.648046e+09  \n",
       "...                  ...           ...  \n",
       "v7vbxz          JoeRogan  1.654710e+09  \n",
       "v7vc22  quityourbullshit  1.654710e+09  \n",
       "v7vdbm   MurderedByWords  1.654710e+09  \n",
       "v7wym2    instant_regret  1.654714e+09  \n",
       "v7x39u               aww  1.654715e+09  \n",
       "\n",
       "[34381 rows x 4 columns]"
      ]
     },
     "execution_count": 291,
     "metadata": {},
     "output_type": "execute_result"
    }
   ],
   "source": [
    "def get_popular_threads(filter={}, columns=[], n=None):\n",
    "    \n",
    "    # Adding index to the query projection.\n",
    "    fields = {field: 1 for field in ['id'] + columns}\n",
    "    \n",
    "    cursor = popular_threads.find(filter, fields)\n",
    "    \n",
    "    if n is not None:\n",
    "        cursor = cursor.limit(n)\n",
    "    \n",
    "    df = pd.DataFrame(cursor)\n",
    "    \n",
    "    if len(df) == 0:\n",
    "        return df\n",
    "    \n",
    "    return df.set_index('id') \\\n",
    "        .drop(columns=['_id'])[columns]\n",
    "\n",
    "get_popular_threads(\n",
    "    columns=['author', 'title', 'subreddit', 'created_utc']\n",
    ")"
   ]
  },
  {
   "cell_type": "markdown",
   "id": "088b406e",
   "metadata": {},
   "source": [
    "# Get r/popular date range."
   ]
  },
  {
   "cell_type": "code",
   "execution_count": 387,
   "id": "d34d51c0",
   "metadata": {
    "ExecuteTime": {
     "end_time": "2022-06-08T22:47:38.449901Z",
     "start_time": "2022-06-08T22:47:38.137278Z"
    },
    "code_folding": [
     0
    ]
   },
   "outputs": [
    {
     "name": "stdout",
     "output_type": "stream",
     "text": [
      "Not local time, but UTC.\n"
     ]
    },
    {
     "data": {
      "text/html": [
       "<div>\n",
       "<style scoped>\n",
       "    .dataframe tbody tr th:only-of-type {\n",
       "        vertical-align: middle;\n",
       "    }\n",
       "\n",
       "    .dataframe tbody tr th {\n",
       "        vertical-align: top;\n",
       "    }\n",
       "\n",
       "    .dataframe thead th {\n",
       "        text-align: right;\n",
       "    }\n",
       "</style>\n",
       "<table border=\"1\" class=\"dataframe\">\n",
       "  <thead>\n",
       "    <tr style=\"text-align: right;\">\n",
       "      <th></th>\n",
       "      <th>Earliest</th>\n",
       "      <th>Latest</th>\n",
       "    </tr>\n",
       "  </thead>\n",
       "  <tbody>\n",
       "    <tr>\n",
       "      <th>Creation</th>\n",
       "      <td>2022-03-22 22:35:31</td>\n",
       "      <td>2022-06-08 13:58:40</td>\n",
       "    </tr>\n",
       "    <tr>\n",
       "      <th>Retrieval</th>\n",
       "      <td>2022-03-23 17:53:48</td>\n",
       "      <td>2022-06-08 16:13:54</td>\n",
       "    </tr>\n",
       "  </tbody>\n",
       "</table>\n",
       "</div>"
      ],
      "text/plain": [
       "                     Earliest              Latest\n",
       "Creation  2022-03-22 22:35:31 2022-06-08 13:58:40\n",
       "Retrieval 2022-03-23 17:53:48 2022-06-08 16:13:54"
      ]
     },
     "execution_count": 387,
     "metadata": {},
     "output_type": "execute_result"
    }
   ],
   "source": [
    "def get_popular_date_range():\n",
    "    \n",
    "    threads = get_popular_threads(columns=['created_utc', 'min_utc', 'max_utc'])\n",
    "    \n",
    "    print('Not local time, but UTC.')\n",
    "    \n",
    "    return pd.DataFrame.from_dict({\n",
    "        'Earliest': {\n",
    "            'Creation': dt.datetime.fromtimestamp(threads['created_utc'].min()),\n",
    "            'Retrieval': dt.datetime.fromtimestamp(threads['min_utc'].min())\n",
    "        },\n",
    "        'Latest': {\n",
    "            'Creation': dt.datetime.fromtimestamp(threads['created_utc'].max()),\n",
    "            'Retrieval': dt.datetime.fromtimestamp(threads['max_utc'].max())\n",
    "        }\n",
    "    })\n",
    "\n",
    "get_popular_date_range()"
   ]
  },
  {
   "cell_type": "markdown",
   "id": "2610ca56",
   "metadata": {},
   "source": [
    "# What's the feature coverage look like?\n",
    "\n",
    "Answers: how many r/popular threads have comment, removed, and newcomer features?"
   ]
  },
  {
   "cell_type": "code",
   "execution_count": 663,
   "id": "f2109a09",
   "metadata": {
    "ExecuteTime": {
     "end_time": "2022-06-09T01:28:43.753370Z",
     "start_time": "2022-06-09T01:28:43.162797Z"
    },
    "code_folding": [
     0
    ]
   },
   "outputs": [
    {
     "data": {
      "text/html": [
       "<style  type=\"text/css\" >\n",
       "</style><table id=\"T_8020d3e0_e793_11ec_8828_70b5e8d10544\" ><thead>    <tr>        <th class=\"blank level0\" ></th>        <th class=\"col_heading level0 col0\" >N</th>        <th class=\"col_heading level0 col1\" >Percentage</th>    </tr></thead><tbody>\n",
       "                <tr>\n",
       "                        <th id=\"T_8020d3e0_e793_11ec_8828_70b5e8d10544level0_row0\" class=\"row_heading level0 row0\" >Total</th>\n",
       "                        <td id=\"T_8020d3e0_e793_11ec_8828_70b5e8d10544row0_col0\" class=\"data row0 col0\" >34,381</td>\n",
       "                        <td id=\"T_8020d3e0_e793_11ec_8828_70b5e8d10544row0_col1\" class=\"data row0 col1\" >1.00</td>\n",
       "            </tr>\n",
       "            <tr>\n",
       "                        <th id=\"T_8020d3e0_e793_11ec_8828_70b5e8d10544level0_row1\" class=\"row_heading level0 row1\" >Comment</th>\n",
       "                        <td id=\"T_8020d3e0_e793_11ec_8828_70b5e8d10544row1_col0\" class=\"data row1 col0\" >33,883</td>\n",
       "                        <td id=\"T_8020d3e0_e793_11ec_8828_70b5e8d10544row1_col1\" class=\"data row1 col1\" >0.99</td>\n",
       "            </tr>\n",
       "            <tr>\n",
       "                        <th id=\"T_8020d3e0_e793_11ec_8828_70b5e8d10544level0_row2\" class=\"row_heading level0 row2\" >Removed</th>\n",
       "                        <td id=\"T_8020d3e0_e793_11ec_8828_70b5e8d10544row2_col0\" class=\"data row2 col0\" >15,853</td>\n",
       "                        <td id=\"T_8020d3e0_e793_11ec_8828_70b5e8d10544row2_col1\" class=\"data row2 col1\" >0.46</td>\n",
       "            </tr>\n",
       "            <tr>\n",
       "                        <th id=\"T_8020d3e0_e793_11ec_8828_70b5e8d10544level0_row3\" class=\"row_heading level0 row3\" >Newcomer</th>\n",
       "                        <td id=\"T_8020d3e0_e793_11ec_8828_70b5e8d10544row3_col0\" class=\"data row3 col0\" >6,057</td>\n",
       "                        <td id=\"T_8020d3e0_e793_11ec_8828_70b5e8d10544row3_col1\" class=\"data row3 col1\" >0.18</td>\n",
       "            </tr>\n",
       "    </tbody></table>"
      ],
      "text/plain": [
       "<pandas.io.formats.style.Styler at 0x7f8978a4a7f0>"
      ]
     },
     "execution_count": 663,
     "metadata": {},
     "output_type": "execute_result"
    }
   ],
   "source": [
    "def display_popular_thread_coverage():\n",
    "    \n",
    "    total_threads = popular_threads.estimated_document_count()\n",
    "    comment_coverage = len(get_popular_threads(filter={'praw_utc': {'$ne': None}}))\n",
    "    removed_coverage = len(get_popular_threads(filter={'requery_utc': {'$ne': None}}))\n",
    "    newcomer_coverage = len(get_popular_threads(filter={'newcomer_utc': {'$ne': None}}))\n",
    "    \n",
    "    return pd.DataFrame.from_dict({\n",
    "        'Total': {'N': total_threads, 'Percentage': total_threads / total_threads},\n",
    "        'Comment': {'N': comment_coverage, 'Percentage': comment_coverage / total_threads},\n",
    "        'Removed': {'N': removed_coverage, 'Percentage': removed_coverage / total_threads},\n",
    "        'Newcomer': {'N': newcomer_coverage, 'Percentage': newcomer_coverage / total_threads}\n",
    "    }, orient='index').style.format({'N': '{:,}', 'Percentage': '{:.2f}'})\n",
    "\n",
    "display_popular_thread_coverage()"
   ]
  },
  {
   "cell_type": "markdown",
   "id": "52e630c2",
   "metadata": {},
   "source": [
    "# Describe distribution of features."
   ]
  },
  {
   "cell_type": "code",
   "execution_count": 680,
   "id": "01430328",
   "metadata": {
    "ExecuteTime": {
     "end_time": "2022-06-09T01:50:48.410513Z",
     "start_time": "2022-06-09T01:50:47.976458Z"
    },
    "code_folding": [
     0
    ]
   },
   "outputs": [
    {
     "data": {
      "text/html": [
       "<style  type=\"text/css\" >\n",
       "</style><table id=\"T_95af40fe_e796_11ec_8828_70b5e8d10544\" ><thead>    <tr>        <th class=\"blank level0\" ></th>        <th class=\"col_heading level0 col0\" >25%</th>        <th class=\"col_heading level0 col1\" >50%</th>        <th class=\"col_heading level0 col2\" >75%</th>        <th class=\"col_heading level0 col3\" >min</th>        <th class=\"col_heading level0 col4\" >mean</th>        <th class=\"col_heading level0 col5\" >max</th>        <th class=\"col_heading level0 col6\" >count</th>    </tr></thead><tbody>\n",
       "                <tr>\n",
       "                        <th id=\"T_95af40fe_e796_11ec_8828_70b5e8d10544level0_row0\" class=\"row_heading level0 row0\" >Created To Popular (hours)</th>\n",
       "                        <td id=\"T_95af40fe_e796_11ec_8828_70b5e8d10544row0_col0\" class=\"data row0 col0\" >3.09</td>\n",
       "                        <td id=\"T_95af40fe_e796_11ec_8828_70b5e8d10544row0_col1\" class=\"data row0 col1\" >4.40</td>\n",
       "                        <td id=\"T_95af40fe_e796_11ec_8828_70b5e8d10544row0_col2\" class=\"data row0 col2\" >6.57</td>\n",
       "                        <td id=\"T_95af40fe_e796_11ec_8828_70b5e8d10544row0_col3\" class=\"data row0 col3\" >0.17</td>\n",
       "                        <td id=\"T_95af40fe_e796_11ec_8828_70b5e8d10544row0_col4\" class=\"data row0 col4\" >5.48</td>\n",
       "                        <td id=\"T_95af40fe_e796_11ec_8828_70b5e8d10544row0_col5\" class=\"data row0 col5\" >24.22</td>\n",
       "                        <td id=\"T_95af40fe_e796_11ec_8828_70b5e8d10544row0_col6\" class=\"data row0 col6\" >34,381</td>\n",
       "            </tr>\n",
       "            <tr>\n",
       "                        <th id=\"T_95af40fe_e796_11ec_8828_70b5e8d10544level0_row1\" class=\"row_heading level0 row1\" >Popular Window (hours)</th>\n",
       "                        <td id=\"T_95af40fe_e796_11ec_8828_70b5e8d10544row1_col0\" class=\"data row1 col0\" >1.77</td>\n",
       "                        <td id=\"T_95af40fe_e796_11ec_8828_70b5e8d10544row1_col1\" class=\"data row1 col1\" >4.68</td>\n",
       "                        <td id=\"T_95af40fe_e796_11ec_8828_70b5e8d10544row1_col2\" class=\"data row1 col2\" >9.16</td>\n",
       "                        <td id=\"T_95af40fe_e796_11ec_8828_70b5e8d10544row1_col3\" class=\"data row1 col3\" >0.00</td>\n",
       "                        <td id=\"T_95af40fe_e796_11ec_8828_70b5e8d10544row1_col4\" class=\"data row1 col4\" >6.19</td>\n",
       "                        <td id=\"T_95af40fe_e796_11ec_8828_70b5e8d10544row1_col5\" class=\"data row1 col5\" >1588.53</td>\n",
       "                        <td id=\"T_95af40fe_e796_11ec_8828_70b5e8d10544row1_col6\" class=\"data row1 col6\" >34,381</td>\n",
       "            </tr>\n",
       "            <tr>\n",
       "                        <th id=\"T_95af40fe_e796_11ec_8828_70b5e8d10544level0_row2\" class=\"row_heading level0 row2\" >Active Window (days)</th>\n",
       "                        <td id=\"T_95af40fe_e796_11ec_8828_70b5e8d10544row2_col0\" class=\"data row2 col0\" >2.05</td>\n",
       "                        <td id=\"T_95af40fe_e796_11ec_8828_70b5e8d10544row2_col1\" class=\"data row2 col1\" >7.37</td>\n",
       "                        <td id=\"T_95af40fe_e796_11ec_8828_70b5e8d10544row2_col2\" class=\"data row2 col2\" >22.72</td>\n",
       "                        <td id=\"T_95af40fe_e796_11ec_8828_70b5e8d10544row2_col3\" class=\"data row2 col3\" >0.00</td>\n",
       "                        <td id=\"T_95af40fe_e796_11ec_8828_70b5e8d10544row2_col4\" class=\"data row2 col4\" >14.33</td>\n",
       "                        <td id=\"T_95af40fe_e796_11ec_8828_70b5e8d10544row2_col5\" class=\"data row2 col5\" >75.13</td>\n",
       "                        <td id=\"T_95af40fe_e796_11ec_8828_70b5e8d10544row2_col6\" class=\"data row2 col6\" >33,883</td>\n",
       "            </tr>\n",
       "            <tr>\n",
       "                        <th id=\"T_95af40fe_e796_11ec_8828_70b5e8d10544level0_row3\" class=\"row_heading level0 row3\" >Number Of Comments </th>\n",
       "                        <td id=\"T_95af40fe_e796_11ec_8828_70b5e8d10544row3_col0\" class=\"data row3 col0\" >287.00</td>\n",
       "                        <td id=\"T_95af40fe_e796_11ec_8828_70b5e8d10544row3_col1\" class=\"data row3 col1\" >657.00</td>\n",
       "                        <td id=\"T_95af40fe_e796_11ec_8828_70b5e8d10544row3_col2\" class=\"data row3 col2\" >1212.00</td>\n",
       "                        <td id=\"T_95af40fe_e796_11ec_8828_70b5e8d10544row3_col3\" class=\"data row3 col3\" >1.00</td>\n",
       "                        <td id=\"T_95af40fe_e796_11ec_8828_70b5e8d10544row3_col4\" class=\"data row3 col4\" >1120.88</td>\n",
       "                        <td id=\"T_95af40fe_e796_11ec_8828_70b5e8d10544row3_col5\" class=\"data row3 col5\" >85811.00</td>\n",
       "                        <td id=\"T_95af40fe_e796_11ec_8828_70b5e8d10544row3_col6\" class=\"data row3 col6\" >33,883</td>\n",
       "            </tr>\n",
       "            <tr>\n",
       "                        <th id=\"T_95af40fe_e796_11ec_8828_70b5e8d10544level0_row4\" class=\"row_heading level0 row4\" >Number Of Authors </th>\n",
       "                        <td id=\"T_95af40fe_e796_11ec_8828_70b5e8d10544row4_col0\" class=\"data row4 col0\" >221.00</td>\n",
       "                        <td id=\"T_95af40fe_e796_11ec_8828_70b5e8d10544row4_col1\" class=\"data row4 col1\" >455.00</td>\n",
       "                        <td id=\"T_95af40fe_e796_11ec_8828_70b5e8d10544row4_col2\" class=\"data row4 col2\" >843.00</td>\n",
       "                        <td id=\"T_95af40fe_e796_11ec_8828_70b5e8d10544row4_col3\" class=\"data row4 col3\" >1.00</td>\n",
       "                        <td id=\"T_95af40fe_e796_11ec_8828_70b5e8d10544row4_col4\" class=\"data row4 col4\" >783.45</td>\n",
       "                        <td id=\"T_95af40fe_e796_11ec_8828_70b5e8d10544row4_col5\" class=\"data row4 col5\" >81439.00</td>\n",
       "                        <td id=\"T_95af40fe_e796_11ec_8828_70b5e8d10544row4_col6\" class=\"data row4 col6\" >33,883</td>\n",
       "            </tr>\n",
       "            <tr>\n",
       "                        <th id=\"T_95af40fe_e796_11ec_8828_70b5e8d10544level0_row5\" class=\"row_heading level0 row5\" >Number Of Removed </th>\n",
       "                        <td id=\"T_95af40fe_e796_11ec_8828_70b5e8d10544row5_col0\" class=\"data row5 col0\" >2.00</td>\n",
       "                        <td id=\"T_95af40fe_e796_11ec_8828_70b5e8d10544row5_col1\" class=\"data row5 col1\" >5.00</td>\n",
       "                        <td id=\"T_95af40fe_e796_11ec_8828_70b5e8d10544row5_col2\" class=\"data row5 col2\" >14.00</td>\n",
       "                        <td id=\"T_95af40fe_e796_11ec_8828_70b5e8d10544row5_col3\" class=\"data row5 col3\" >0.00</td>\n",
       "                        <td id=\"T_95af40fe_e796_11ec_8828_70b5e8d10544row5_col4\" class=\"data row5 col4\" >19.86</td>\n",
       "                        <td id=\"T_95af40fe_e796_11ec_8828_70b5e8d10544row5_col5\" class=\"data row5 col5\" >13009.00</td>\n",
       "                        <td id=\"T_95af40fe_e796_11ec_8828_70b5e8d10544row5_col6\" class=\"data row5 col6\" >15,963</td>\n",
       "            </tr>\n",
       "            <tr>\n",
       "                        <th id=\"T_95af40fe_e796_11ec_8828_70b5e8d10544level0_row6\" class=\"row_heading level0 row6\" >Number Of Newcomers </th>\n",
       "                        <td id=\"T_95af40fe_e796_11ec_8828_70b5e8d10544row6_col0\" class=\"data row6 col0\" >37.00</td>\n",
       "                        <td id=\"T_95af40fe_e796_11ec_8828_70b5e8d10544row6_col1\" class=\"data row6 col1\" >86.00</td>\n",
       "                        <td id=\"T_95af40fe_e796_11ec_8828_70b5e8d10544row6_col2\" class=\"data row6 col2\" >195.00</td>\n",
       "                        <td id=\"T_95af40fe_e796_11ec_8828_70b5e8d10544row6_col3\" class=\"data row6 col3\" >0.00</td>\n",
       "                        <td id=\"T_95af40fe_e796_11ec_8828_70b5e8d10544row6_col4\" class=\"data row6 col4\" >173.19</td>\n",
       "                        <td id=\"T_95af40fe_e796_11ec_8828_70b5e8d10544row6_col5\" class=\"data row6 col5\" >25417.00</td>\n",
       "                        <td id=\"T_95af40fe_e796_11ec_8828_70b5e8d10544row6_col6\" class=\"data row6 col6\" >6,057</td>\n",
       "            </tr>\n",
       "    </tbody></table>"
      ],
      "text/plain": [
       "<pandas.io.formats.style.Styler at 0x7f896ecb94a8>"
      ]
     },
     "execution_count": 680,
     "metadata": {},
     "output_type": "execute_result"
    }
   ],
   "source": [
    "def describe_features(to_latex=False):\n",
    "    \n",
    "    threads = get_popular_threads(columns=[\n",
    "        'created_to_popular',\n",
    "        'popular_window',\n",
    "        'active_window',\n",
    "        'num_removed',\n",
    "        'num_authors',\n",
    "        'num_comments',\n",
    "        'num_newcomers'\n",
    "    ])\n",
    "    \n",
    "    table = pd.DataFrame()\n",
    "    \n",
    "    hour = int(dt.timedelta(hours=1).total_seconds())\n",
    "    day = int(dt.timedelta(days=1).total_seconds())\n",
    "    week = int(dt.timedelta(days=7).total_seconds())\n",
    "    \n",
    "    units = ['(hours)', '(hours)', '(days)', '', '', '', '']\n",
    "    \n",
    "    table = table.append((threads['created_to_popular'] / hour).describe())\n",
    "    table = table.append((threads['popular_window'] / hour).describe())\n",
    "    table = table.append((threads['active_window'] / day).describe())\n",
    "    table = table.append((threads['num_comments']).describe())\n",
    "    table = table.append((threads['num_authors']).describe())\n",
    "    table = table.append((threads['num_removed'].describe()))\n",
    "    table = table.append((threads['num_newcomers'].describe()))\n",
    "    \n",
    "    styles = {\n",
    "        field: '{:.2f}' for field in ['25%', '50%', '75%', 'min', 'mean', 'max']\n",
    "    }\n",
    "    styles['count'] = '{:,.0f}'\n",
    "    \n",
    "    table.index = [indice.replace('_', ' ').replace('num', 'number of').title() + f' {unit}' \n",
    "                   for indice, unit in zip(table.index, units)]\n",
    "    \n",
    "    if to_latex:\n",
    "        \n",
    "        for column in table.columns:\n",
    "            if column == 'count':\n",
    "                table[column] = table[column].apply(lambda x: f'{x:,.0f}')\n",
    "            else:\n",
    "                table[column] = table[column].apply(lambda x: f'{x:.2f}')\n",
    "        \n",
    "        latex_table = table[['25%', '50%', '75%', 'min', 'mean', 'max', 'count']] \\\n",
    "            .to_latex(bold_rows=True, column_format='lrrrrrrr')\n",
    "        \n",
    "        for column in table.columns:\n",
    "            if '%' in column:\n",
    "                column = column.replace('%', '\\%')\n",
    "\n",
    "            latex_table = latex_table.replace(column, f'\\\\textbf{{{column.title()}}}')\n",
    "        \n",
    "        for rule in ['\\\\toprule', '\\\\midrule', '\\\\bottomrule']:\n",
    "            latex_table = latex_table.replace(rule, '\\hline')\n",
    "            \n",
    "        print(latex_table)\n",
    "        \n",
    "        return\n",
    "        \n",
    "    return table[['25%', '50%', '75%', 'min', 'mean', 'max', 'count']] \\\n",
    "        .style.format(styles)\n",
    "\n",
    "describe_features(to_latex=False)"
   ]
  },
  {
   "cell_type": "markdown",
   "id": "af49aa1d",
   "metadata": {},
   "source": [
    "# List subreddits that reach r/popular in dataset and the number of threads that reached."
   ]
  },
  {
   "cell_type": "code",
   "execution_count": 400,
   "id": "25e6718e",
   "metadata": {
    "ExecuteTime": {
     "end_time": "2022-06-08T22:58:40.657324Z",
     "start_time": "2022-06-08T22:58:40.376693Z"
    },
    "code_folding": [
     0
    ]
   },
   "outputs": [
    {
     "data": {
      "text/html": [
       "<div>\n",
       "<style scoped>\n",
       "    .dataframe tbody tr th:only-of-type {\n",
       "        vertical-align: middle;\n",
       "    }\n",
       "\n",
       "    .dataframe tbody tr th {\n",
       "        vertical-align: top;\n",
       "    }\n",
       "\n",
       "    .dataframe thead th {\n",
       "        text-align: right;\n",
       "    }\n",
       "</style>\n",
       "<table border=\"1\" class=\"dataframe\">\n",
       "  <thead>\n",
       "    <tr style=\"text-align: right;\">\n",
       "      <th></th>\n",
       "      <th>num_threads</th>\n",
       "    </tr>\n",
       "  </thead>\n",
       "  <tbody>\n",
       "    <tr>\n",
       "      <th>memes</th>\n",
       "      <td>615</td>\n",
       "    </tr>\n",
       "    <tr>\n",
       "      <th>MadeMeSmile</th>\n",
       "      <td>539</td>\n",
       "    </tr>\n",
       "    <tr>\n",
       "      <th>worldnews</th>\n",
       "      <td>532</td>\n",
       "    </tr>\n",
       "    <tr>\n",
       "      <th>interestingasfuck</th>\n",
       "      <td>519</td>\n",
       "    </tr>\n",
       "    <tr>\n",
       "      <th>funny</th>\n",
       "      <td>501</td>\n",
       "    </tr>\n",
       "    <tr>\n",
       "      <th>...</th>\n",
       "      <td>...</td>\n",
       "    </tr>\n",
       "    <tr>\n",
       "      <th>law</th>\n",
       "      <td>1</td>\n",
       "    </tr>\n",
       "    <tr>\n",
       "      <th>BMW</th>\n",
       "      <td>1</td>\n",
       "    </tr>\n",
       "    <tr>\n",
       "      <th>britishcolumbia</th>\n",
       "      <td>1</td>\n",
       "    </tr>\n",
       "    <tr>\n",
       "      <th>trans</th>\n",
       "      <td>1</td>\n",
       "    </tr>\n",
       "    <tr>\n",
       "      <th>barstoolsports</th>\n",
       "      <td>1</td>\n",
       "    </tr>\n",
       "  </tbody>\n",
       "</table>\n",
       "<p>891 rows × 1 columns</p>\n",
       "</div>"
      ],
      "text/plain": [
       "                   num_threads\n",
       "memes                      615\n",
       "MadeMeSmile                539\n",
       "worldnews                  532\n",
       "interestingasfuck          519\n",
       "funny                      501\n",
       "...                        ...\n",
       "law                          1\n",
       "BMW                          1\n",
       "britishcolumbia              1\n",
       "trans                        1\n",
       "barstoolsports               1\n",
       "\n",
       "[891 rows x 1 columns]"
      ]
     },
     "execution_count": 400,
     "metadata": {},
     "output_type": "execute_result"
    }
   ],
   "source": [
    "def list_popular_subreddits():\n",
    "    \n",
    "    popular_subreddits = get_popular_threads(columns=['subreddit'])\n",
    "    \n",
    "    return popular_subreddits['subreddit'] \\\n",
    "        .value_counts() \\\n",
    "        .to_frame() \\\n",
    "        .rename(columns={'subreddit': 'num_threads'})\n",
    "\n",
    "list_popular_subreddits()"
   ]
  },
  {
   "cell_type": "markdown",
   "id": "864ddd67",
   "metadata": {},
   "source": [
    "# Display the cumulative sum of the subreddits with the most r/popular threads to least."
   ]
  },
  {
   "cell_type": "code",
   "execution_count": 401,
   "id": "2e70b5cd",
   "metadata": {
    "ExecuteTime": {
     "end_time": "2022-06-08T22:58:55.110019Z",
     "start_time": "2022-06-08T22:58:54.669804Z"
    },
    "code_folding": [
     0
    ]
   },
   "outputs": [
    {
     "data": {
      "image/svg+xml": [
       "<svg class=\"main-svg\" xmlns=\"http://www.w3.org/2000/svg\" xmlns:xlink=\"http://www.w3.org/1999/xlink\" width=\"700\" height=\"300\" style=\"\" viewBox=\"0 0 700 300\"><rect x=\"0\" y=\"0\" width=\"700\" height=\"300\" style=\"fill: rgb(255, 255, 255); fill-opacity: 1;\"/><defs id=\"defs-2507c8\"><g class=\"clips\"><clipPath id=\"clip2507c8xyplot\" class=\"plotclip\"><rect width=\"540\" height=\"160\"/></clipPath><clipPath class=\"axesclip\" id=\"clip2507c8x\"><rect x=\"80\" y=\"0\" width=\"540\" height=\"300\"/></clipPath><clipPath class=\"axesclip\" id=\"clip2507c8y\"><rect x=\"0\" y=\"60\" width=\"700\" height=\"160\"/></clipPath><clipPath class=\"axesclip\" id=\"clip2507c8xy\"><rect x=\"80\" y=\"60\" width=\"540\" height=\"160\"/></clipPath></g><g class=\"gradients\"/><g class=\"patterns\"/></defs><g class=\"bglayer\"/><g class=\"layer-below\"><g class=\"imagelayer\"/><g class=\"shapelayer\"/></g><g class=\"cartesianlayer\"><g class=\"subplot xy\"><g class=\"layer-subplot\"><g class=\"shapelayer\"/><g class=\"imagelayer\"/></g><g class=\"gridlayer\"><g class=\"x\"><path class=\"xgrid crisp\" transform=\"translate(201.35,0)\" d=\"M0,60v160\" style=\"stroke: rgb(235, 240, 248); stroke-opacity: 1; stroke-width: 1px;\"/><path class=\"xgrid crisp\" transform=\"translate(322.7,0)\" d=\"M0,60v160\" style=\"stroke: rgb(235, 240, 248); stroke-opacity: 1; stroke-width: 1px;\"/><path class=\"xgrid crisp\" transform=\"translate(444.04,0)\" d=\"M0,60v160\" style=\"stroke: rgb(235, 240, 248); stroke-opacity: 1; stroke-width: 1px;\"/><path class=\"xgrid crisp\" transform=\"translate(565.39,0)\" d=\"M0,60v160\" style=\"stroke: rgb(235, 240, 248); stroke-opacity: 1; stroke-width: 1px;\"/></g><g class=\"y\"><path class=\"ygrid crisp\" transform=\"translate(0,175.79000000000002)\" d=\"M80,0h540\" style=\"stroke: rgb(235, 240, 248); stroke-opacity: 1; stroke-width: 1px;\"/><path class=\"ygrid crisp\" transform=\"translate(0,131.57999999999998)\" d=\"M80,0h540\" style=\"stroke: rgb(235, 240, 248); stroke-opacity: 1; stroke-width: 1px;\"/><path class=\"ygrid crisp\" transform=\"translate(0,87.37)\" d=\"M80,0h540\" style=\"stroke: rgb(235, 240, 248); stroke-opacity: 1; stroke-width: 1px;\"/></g></g><g class=\"zerolinelayer\"><path class=\"xzl zl crisp\" transform=\"translate(80,0)\" d=\"M0,60v160\" style=\"stroke: rgb(235, 240, 248); stroke-opacity: 1; stroke-width: 2px;\"/><path class=\"yzl zl crisp\" transform=\"translate(0,220)\" d=\"M80,0h540\" style=\"stroke: rgb(235, 240, 248); stroke-opacity: 1; stroke-width: 2px;\"/></g><path class=\"xlines-below\"/><path class=\"ylines-below\"/><g class=\"overlines-below\"/><g class=\"xaxislayer-below\"/><g class=\"yaxislayer-below\"/><g class=\"overaxes-below\"/><g class=\"plot\" transform=\"translate(80,60)\" clip-path=\"url(#clip2507c8xyplot)\"><g class=\"scatterlayer mlayer\"><g class=\"trace scatter tracefb1a15\" style=\"stroke-miterlimit: 2;\"><g class=\"fills\"><g><path class=\"js-fill\" d=\"M540,160L0,160L0,157.28L6.67,134.03L7.28,132.27L13.96,115.5L14.56,114.19L23.06,97.86L23.66,96.86L31.55,85.24L32.16,84.43L40.65,74L41.26,73.32L52.18,62.5L52.79,61.96L62.49,54.28L63.1,53.86L78.27,44.06L78.88,43.7L91.01,37.45L91.62,37.17L106.18,31.44L106.79,31.24L123.78,26.35L124.38,26.2L144.4,22.04L145.01,21.94L166.85,18.76L167.46,18.68L205.08,15.08L205.69,15.03L263.33,11.89L263.93,11.87L350.09,9.75L350.7,9.74L468.4,8.52L469.01,8.52L540,8\" style=\"fill: rgb(99, 110, 250); fill-opacity: 0.5; stroke-width: 0;\"/></g></g><g class=\"errorbars\"/><g class=\"lines\"><path class=\"js-line\" d=\"M0,157.28L6.67,134.03L7.28,132.27L13.96,115.5L14.56,114.19L23.06,97.86L23.66,96.86L31.55,85.24L32.16,84.43L40.65,74L41.26,73.32L52.18,62.5L52.79,61.96L62.49,54.28L63.1,53.86L78.27,44.06L78.88,43.7L91.01,37.45L91.62,37.17L106.18,31.44L106.79,31.24L123.78,26.35L124.38,26.2L144.4,22.04L145.01,21.94L166.85,18.76L167.46,18.68L205.08,15.08L205.69,15.03L263.33,11.89L263.93,11.87L350.09,9.75L350.7,9.74L468.4,8.52L469.01,8.52L540,8\" style=\"vector-effect: non-scaling-stroke; fill: none; stroke: rgb(99, 110, 250); stroke-opacity: 1; stroke-width: 2px; opacity: 1;\"/></g><g class=\"points\"/><g class=\"text\"/></g></g></g><g class=\"overplot\"/><path class=\"xlines-above crisp\" d=\"M0,0\" style=\"fill: none;\"/><path class=\"ylines-above crisp\" d=\"M0,0\" style=\"fill: none;\"/><g class=\"overlines-above\"/><g class=\"xaxislayer-above\"><g class=\"xtick\"><text text-anchor=\"middle\" x=\"0\" y=\"233\" transform=\"translate(80,0)\" style=\"font-family: 'Open Sans', verdana, arial, sans-serif; font-size: 12px; fill: rgb(42, 63, 95); fill-opacity: 1; white-space: pre; opacity: 1;\">0</text></g><g class=\"xtick\"><text text-anchor=\"middle\" x=\"0\" y=\"233\" style=\"font-family: 'Open Sans', verdana, arial, sans-serif; font-size: 12px; fill: rgb(42, 63, 95); fill-opacity: 1; white-space: pre; opacity: 1;\" transform=\"translate(201.35,0)\">200</text></g><g class=\"xtick\"><text text-anchor=\"middle\" x=\"0\" y=\"233\" style=\"font-family: 'Open Sans', verdana, arial, sans-serif; font-size: 12px; fill: rgb(42, 63, 95); fill-opacity: 1; white-space: pre; opacity: 1;\" transform=\"translate(322.7,0)\">400</text></g><g class=\"xtick\"><text text-anchor=\"middle\" x=\"0\" y=\"233\" style=\"font-family: 'Open Sans', verdana, arial, sans-serif; font-size: 12px; fill: rgb(42, 63, 95); fill-opacity: 1; white-space: pre; opacity: 1;\" transform=\"translate(444.04,0)\">600</text></g><g class=\"xtick\"><text text-anchor=\"middle\" x=\"0\" y=\"233\" style=\"font-family: 'Open Sans', verdana, arial, sans-serif; font-size: 12px; fill: rgb(42, 63, 95); fill-opacity: 1; white-space: pre; opacity: 1;\" transform=\"translate(565.39,0)\">800</text></g></g><g class=\"yaxislayer-above\"><g class=\"ytick\"><text text-anchor=\"end\" x=\"79\" y=\"4.199999999999999\" transform=\"translate(0,220)\" style=\"font-family: 'Open Sans', verdana, arial, sans-serif; font-size: 12px; fill: rgb(42, 63, 95); fill-opacity: 1; white-space: pre; opacity: 1;\">0</text></g><g class=\"ytick\"><text text-anchor=\"end\" x=\"79\" y=\"4.199999999999999\" style=\"font-family: 'Open Sans', verdana, arial, sans-serif; font-size: 12px; fill: rgb(42, 63, 95); fill-opacity: 1; white-space: pre; opacity: 1;\" transform=\"translate(0,175.79000000000002)\">10k</text></g><g class=\"ytick\"><text text-anchor=\"end\" x=\"79\" y=\"4.199999999999999\" style=\"font-family: 'Open Sans', verdana, arial, sans-serif; font-size: 12px; fill: rgb(42, 63, 95); fill-opacity: 1; white-space: pre; opacity: 1;\" transform=\"translate(0,131.57999999999998)\">20k</text></g><g class=\"ytick\"><text text-anchor=\"end\" x=\"79\" y=\"4.199999999999999\" style=\"font-family: 'Open Sans', verdana, arial, sans-serif; font-size: 12px; fill: rgb(42, 63, 95); fill-opacity: 1; white-space: pre; opacity: 1;\" transform=\"translate(0,87.37)\">30k</text></g></g><g class=\"overaxes-above\"/></g></g><g class=\"polarlayer\"/><g class=\"smithlayer\"/><g class=\"ternarylayer\"/><g class=\"geolayer\"/><g class=\"funnelarealayer\"/><g class=\"pielayer\"/><g class=\"iciclelayer\"/><g class=\"treemaplayer\"/><g class=\"sunburstlayer\"/><g class=\"glimages\"/><defs id=\"topdefs-2507c8\"><g class=\"clips\"/></defs><g class=\"layer-above\"><g class=\"imagelayer\"/><g class=\"shapelayer\"/></g><g class=\"infolayer\"><g class=\"g-gtitle\"><text class=\"gtitle\" x=\"35\" y=\"30\" text-anchor=\"start\" dy=\"0em\" style=\"font-family: 'Open Sans', verdana, arial, sans-serif; font-size: 17px; fill: rgb(42, 63, 95); opacity: 1; font-weight: normal; white-space: pre;\">Cumulative Sum of r/popular Threads by Subreddit</text></g><g class=\"g-xtitle\"><text class=\"xtitle\" x=\"350\" y=\"261.8\" text-anchor=\"middle\" style=\"font-family: 'Open Sans', verdana, arial, sans-serif; font-size: 14px; fill: rgb(42, 63, 95); opacity: 1; font-weight: normal; white-space: pre;\">#subreddit</text></g><g class=\"g-ytitle\"><text class=\"ytitle\" transform=\"rotate(-90,34.16875,140)\" x=\"34.16875\" y=\"140\" text-anchor=\"middle\" style=\"font-family: 'Open Sans', verdana, arial, sans-serif; font-size: 14px; fill: rgb(42, 63, 95); opacity: 1; font-weight: normal; white-space: pre;\">#threads</text></g></g></svg>"
      ]
     },
     "metadata": {},
     "output_type": "display_data"
    }
   ],
   "source": [
    "def display_cumulative_sum(save=False):\n",
    "    \n",
    "    counts = list_popular_subreddits()['num_threads'] \\\n",
    "        .cumsum().reset_index()\n",
    "    \n",
    "    fig = px.area(counts['num_threads'])\n",
    "    \n",
    "    fig.update_layout(\n",
    "        template='plotly_white',\n",
    "        showlegend=False,\n",
    "        xaxis_title='#subreddit',\n",
    "        yaxis_title='#threads',\n",
    "        title='Cumulative Sum of r/popular Threads by Subreddit',\n",
    "        height=300\n",
    "    )\n",
    "    \n",
    "    fig.update_xaxes(showgrid=True)\n",
    "    fig.update_yaxes(showgrid=True)\n",
    "    \n",
    "    fig.show('svg')\n",
    "    \n",
    "    if save:\n",
    "        fig.write_image('figs/cumulative_sum.png', scale=3)\n",
    "\n",
    "display_cumulative_sum(save=True)"
   ]
  },
  {
   "cell_type": "markdown",
   "id": "77982bd1",
   "metadata": {},
   "source": [
    "# Display Pushshift collections for popular subreddits, i.e., the subreddits that reach r/popular."
   ]
  },
  {
   "cell_type": "code",
   "execution_count": 687,
   "id": "b2d0d967",
   "metadata": {
    "ExecuteTime": {
     "end_time": "2022-06-09T02:18:27.117085Z",
     "start_time": "2022-06-09T02:16:17.906066Z"
    },
    "code_folding": [
     0
    ],
    "scrolled": false
   },
   "outputs": [
    {
     "name": "stderr",
     "output_type": "stream",
     "text": [
      " 21%|██        | 22/105 [02:08<08:06,  5.86s/it]\n"
     ]
    },
    {
     "ename": "KeyboardInterrupt",
     "evalue": "",
     "output_type": "error",
     "traceback": [
      "\u001b[0;31m---------------------------------------------------------------------------\u001b[0m",
      "\u001b[0;31mKeyboardInterrupt\u001b[0m                         Traceback (most recent call last)",
      "\u001b[0;32m<ipython-input-687-b1738034a895>\u001b[0m in \u001b[0;36m<module>\u001b[0;34m\u001b[0m\n\u001b[1;32m     30\u001b[0m         \u001b[0;34m.\u001b[0m\u001b[0mstyle\u001b[0m\u001b[0;34m.\u001b[0m\u001b[0mformat\u001b[0m\u001b[0;34m(\u001b[0m\u001b[0mformatter\u001b[0m\u001b[0;34m=\u001b[0m\u001b[0;34m'{:,}'\u001b[0m\u001b[0;34m,\u001b[0m \u001b[0msubset\u001b[0m\u001b[0;34m=\u001b[0m\u001b[0;34m[\u001b[0m\u001b[0;34m'N'\u001b[0m\u001b[0;34m]\u001b[0m\u001b[0;34m)\u001b[0m\u001b[0;34m\u001b[0m\u001b[0;34m\u001b[0m\u001b[0m\n\u001b[1;32m     31\u001b[0m \u001b[0;34m\u001b[0m\u001b[0m\n\u001b[0;32m---> 32\u001b[0;31m \u001b[0mdisplay_pushshift_coverage\u001b[0m\u001b[0;34m(\u001b[0m\u001b[0;34m)\u001b[0m\u001b[0;34m\u001b[0m\u001b[0;34m\u001b[0m\u001b[0m\n\u001b[0m",
      "\u001b[0;32m<ipython-input-687-b1738034a895>\u001b[0m in \u001b[0;36mdisplay_pushshift_coverage\u001b[0;34m()\u001b[0m\n\u001b[1;32m     16\u001b[0m                        \u001b[0;34m'min_utc'\u001b[0m\u001b[0;34m:\u001b[0m \u001b[0;34m{\u001b[0m\u001b[0;34m'$min'\u001b[0m\u001b[0;34m:\u001b[0m \u001b[0;34m'$created_utc'\u001b[0m\u001b[0;34m}\u001b[0m\u001b[0;34m,\u001b[0m\u001b[0;34m\u001b[0m\u001b[0;34m\u001b[0m\u001b[0m\n\u001b[1;32m     17\u001b[0m                        'max_utc': {'$max': '$created_utc'}}}\n\u001b[0;32m---> 18\u001b[0;31m         ], allowDiskUse=True))\n\u001b[0m\u001b[1;32m     19\u001b[0m \u001b[0;34m\u001b[0m\u001b[0m\n\u001b[1;32m     20\u001b[0m         table[subreddit] = {\n",
      "\u001b[0;32m~/.local/lib/python3.6/site-packages/pymongo/collection.py\u001b[0m in \u001b[0;36maggregate\u001b[0;34m(self, pipeline, session, **kwargs)\u001b[0m\n\u001b[1;32m   2505\u001b[0m                                    \u001b[0msession\u001b[0m\u001b[0;34m=\u001b[0m\u001b[0ms\u001b[0m\u001b[0;34m,\u001b[0m\u001b[0;34m\u001b[0m\u001b[0;34m\u001b[0m\u001b[0m\n\u001b[1;32m   2506\u001b[0m                                    \u001b[0mexplicit_session\u001b[0m\u001b[0;34m=\u001b[0m\u001b[0msession\u001b[0m \u001b[0;32mis\u001b[0m \u001b[0;32mnot\u001b[0m \u001b[0;32mNone\u001b[0m\u001b[0;34m,\u001b[0m\u001b[0;34m\u001b[0m\u001b[0;34m\u001b[0m\u001b[0m\n\u001b[0;32m-> 2507\u001b[0;31m                                    **kwargs)\n\u001b[0m\u001b[1;32m   2508\u001b[0m \u001b[0;34m\u001b[0m\u001b[0m\n\u001b[1;32m   2509\u001b[0m     \u001b[0;32mdef\u001b[0m \u001b[0maggregate_raw_batches\u001b[0m\u001b[0;34m(\u001b[0m\u001b[0mself\u001b[0m\u001b[0;34m,\u001b[0m \u001b[0mpipeline\u001b[0m\u001b[0;34m,\u001b[0m \u001b[0msession\u001b[0m\u001b[0;34m=\u001b[0m\u001b[0;32mNone\u001b[0m\u001b[0;34m,\u001b[0m \u001b[0;34m**\u001b[0m\u001b[0mkwargs\u001b[0m\u001b[0;34m)\u001b[0m\u001b[0;34m:\u001b[0m\u001b[0;34m\u001b[0m\u001b[0;34m\u001b[0m\u001b[0m\n",
      "\u001b[0;32m~/.local/lib/python3.6/site-packages/pymongo/collection.py\u001b[0m in \u001b[0;36m_aggregate\u001b[0;34m(self, aggregation_command, pipeline, cursor_class, session, explicit_session, **kwargs)\u001b[0m\n\u001b[1;32m   2419\u001b[0m         return self.__database.client._retryable_read(\n\u001b[1;32m   2420\u001b[0m             \u001b[0mcmd\u001b[0m\u001b[0;34m.\u001b[0m\u001b[0mget_cursor\u001b[0m\u001b[0;34m,\u001b[0m \u001b[0mcmd\u001b[0m\u001b[0;34m.\u001b[0m\u001b[0mget_read_preference\u001b[0m\u001b[0;34m(\u001b[0m\u001b[0msession\u001b[0m\u001b[0;34m)\u001b[0m\u001b[0;34m,\u001b[0m \u001b[0msession\u001b[0m\u001b[0;34m,\u001b[0m\u001b[0;34m\u001b[0m\u001b[0;34m\u001b[0m\u001b[0m\n\u001b[0;32m-> 2421\u001b[0;31m             retryable=not cmd._performs_write)\n\u001b[0m\u001b[1;32m   2422\u001b[0m \u001b[0;34m\u001b[0m\u001b[0m\n\u001b[1;32m   2423\u001b[0m     \u001b[0;32mdef\u001b[0m \u001b[0maggregate\u001b[0m\u001b[0;34m(\u001b[0m\u001b[0mself\u001b[0m\u001b[0;34m,\u001b[0m \u001b[0mpipeline\u001b[0m\u001b[0;34m,\u001b[0m \u001b[0msession\u001b[0m\u001b[0;34m=\u001b[0m\u001b[0;32mNone\u001b[0m\u001b[0;34m,\u001b[0m \u001b[0;34m**\u001b[0m\u001b[0mkwargs\u001b[0m\u001b[0;34m)\u001b[0m\u001b[0;34m:\u001b[0m\u001b[0;34m\u001b[0m\u001b[0;34m\u001b[0m\u001b[0m\n",
      "\u001b[0;32m~/.local/lib/python3.6/site-packages/pymongo/mongo_client.py\u001b[0m in \u001b[0;36m_retryable_read\u001b[0;34m(self, func, read_pref, session, address, retryable)\u001b[0m\n\u001b[1;32m   1523\u001b[0m                         \u001b[0;31m# not support retryable reads, raise the last error.\u001b[0m\u001b[0;34m\u001b[0m\u001b[0;34m\u001b[0m\u001b[0;34m\u001b[0m\u001b[0m\n\u001b[1;32m   1524\u001b[0m                         \u001b[0;32mraise\u001b[0m \u001b[0mlast_error\u001b[0m\u001b[0;34m\u001b[0m\u001b[0;34m\u001b[0m\u001b[0m\n\u001b[0;32m-> 1525\u001b[0;31m                     \u001b[0;32mreturn\u001b[0m \u001b[0mfunc\u001b[0m\u001b[0;34m(\u001b[0m\u001b[0msession\u001b[0m\u001b[0;34m,\u001b[0m \u001b[0mserver\u001b[0m\u001b[0;34m,\u001b[0m \u001b[0msock_info\u001b[0m\u001b[0;34m,\u001b[0m \u001b[0msecondary_ok\u001b[0m\u001b[0;34m)\u001b[0m\u001b[0;34m\u001b[0m\u001b[0;34m\u001b[0m\u001b[0m\n\u001b[0m\u001b[1;32m   1526\u001b[0m             \u001b[0;32mexcept\u001b[0m \u001b[0mServerSelectionTimeoutError\u001b[0m\u001b[0;34m:\u001b[0m\u001b[0;34m\u001b[0m\u001b[0;34m\u001b[0m\u001b[0m\n\u001b[1;32m   1527\u001b[0m                 \u001b[0;32mif\u001b[0m \u001b[0mretrying\u001b[0m\u001b[0;34m:\u001b[0m\u001b[0;34m\u001b[0m\u001b[0;34m\u001b[0m\u001b[0m\n",
      "\u001b[0;32m~/.local/lib/python3.6/site-packages/pymongo/aggregation.py\u001b[0m in \u001b[0;36mget_cursor\u001b[0;34m(self, session, server, sock_info, secondary_ok)\u001b[0m\n\u001b[1;32m    147\u001b[0m             \u001b[0msession\u001b[0m\u001b[0;34m=\u001b[0m\u001b[0msession\u001b[0m\u001b[0;34m,\u001b[0m\u001b[0;34m\u001b[0m\u001b[0;34m\u001b[0m\u001b[0m\n\u001b[1;32m    148\u001b[0m             \u001b[0mclient\u001b[0m\u001b[0;34m=\u001b[0m\u001b[0mself\u001b[0m\u001b[0;34m.\u001b[0m\u001b[0m_database\u001b[0m\u001b[0;34m.\u001b[0m\u001b[0mclient\u001b[0m\u001b[0;34m,\u001b[0m\u001b[0;34m\u001b[0m\u001b[0;34m\u001b[0m\u001b[0m\n\u001b[0;32m--> 149\u001b[0;31m             user_fields=self._user_fields)\n\u001b[0m\u001b[1;32m    150\u001b[0m \u001b[0;34m\u001b[0m\u001b[0m\n\u001b[1;32m    151\u001b[0m         \u001b[0mself\u001b[0m\u001b[0;34m.\u001b[0m\u001b[0m_process_result\u001b[0m\u001b[0;34m(\u001b[0m\u001b[0mresult\u001b[0m\u001b[0;34m,\u001b[0m \u001b[0msession\u001b[0m\u001b[0;34m,\u001b[0m \u001b[0mserver\u001b[0m\u001b[0;34m,\u001b[0m \u001b[0msock_info\u001b[0m\u001b[0;34m,\u001b[0m \u001b[0msecondary_ok\u001b[0m\u001b[0;34m)\u001b[0m\u001b[0;34m\u001b[0m\u001b[0;34m\u001b[0m\u001b[0m\n",
      "\u001b[0;32m~/.local/lib/python3.6/site-packages/pymongo/pool.py\u001b[0m in \u001b[0;36mcommand\u001b[0;34m(self, dbname, spec, secondary_ok, read_preference, codec_options, check, allowable_errors, check_keys, read_concern, write_concern, parse_write_concern_error, collation, session, client, retryable_write, publish_events, user_fields, exhaust_allowed)\u001b[0m\n\u001b[1;32m    724\u001b[0m         \u001b[0;31m# Catch socket.error, KeyboardInterrupt, etc. and close ourselves.\u001b[0m\u001b[0;34m\u001b[0m\u001b[0;34m\u001b[0m\u001b[0;34m\u001b[0m\u001b[0m\n\u001b[1;32m    725\u001b[0m         \u001b[0;32mexcept\u001b[0m \u001b[0mBaseException\u001b[0m \u001b[0;32mas\u001b[0m \u001b[0merror\u001b[0m\u001b[0;34m:\u001b[0m\u001b[0;34m\u001b[0m\u001b[0;34m\u001b[0m\u001b[0m\n\u001b[0;32m--> 726\u001b[0;31m             \u001b[0mself\u001b[0m\u001b[0;34m.\u001b[0m\u001b[0m_raise_connection_failure\u001b[0m\u001b[0;34m(\u001b[0m\u001b[0merror\u001b[0m\u001b[0;34m)\u001b[0m\u001b[0;34m\u001b[0m\u001b[0;34m\u001b[0m\u001b[0m\n\u001b[0m\u001b[1;32m    727\u001b[0m \u001b[0;34m\u001b[0m\u001b[0m\n\u001b[1;32m    728\u001b[0m     \u001b[0;32mdef\u001b[0m \u001b[0msend_message\u001b[0m\u001b[0;34m(\u001b[0m\u001b[0mself\u001b[0m\u001b[0;34m,\u001b[0m \u001b[0mmessage\u001b[0m\u001b[0;34m,\u001b[0m \u001b[0mmax_doc_size\u001b[0m\u001b[0;34m)\u001b[0m\u001b[0;34m:\u001b[0m\u001b[0;34m\u001b[0m\u001b[0;34m\u001b[0m\u001b[0m\n",
      "\u001b[0;32m~/.local/lib/python3.6/site-packages/pymongo/pool.py\u001b[0m in \u001b[0;36mcommand\u001b[0;34m(self, dbname, spec, secondary_ok, read_preference, codec_options, check, allowable_errors, check_keys, read_concern, write_concern, parse_write_concern_error, collation, session, client, retryable_write, publish_events, user_fields, exhaust_allowed)\u001b[0m\n\u001b[1;32m    719\u001b[0m                            \u001b[0munacknowledged\u001b[0m\u001b[0;34m=\u001b[0m\u001b[0munacknowledged\u001b[0m\u001b[0;34m,\u001b[0m\u001b[0;34m\u001b[0m\u001b[0;34m\u001b[0m\u001b[0m\n\u001b[1;32m    720\u001b[0m                            \u001b[0muser_fields\u001b[0m\u001b[0;34m=\u001b[0m\u001b[0muser_fields\u001b[0m\u001b[0;34m,\u001b[0m\u001b[0;34m\u001b[0m\u001b[0;34m\u001b[0m\u001b[0m\n\u001b[0;32m--> 721\u001b[0;31m                            exhaust_allowed=exhaust_allowed)\n\u001b[0m\u001b[1;32m    722\u001b[0m         \u001b[0;32mexcept\u001b[0m \u001b[0;34m(\u001b[0m\u001b[0mOperationFailure\u001b[0m\u001b[0;34m,\u001b[0m \u001b[0mNotPrimaryError\u001b[0m\u001b[0;34m)\u001b[0m\u001b[0;34m:\u001b[0m\u001b[0;34m\u001b[0m\u001b[0;34m\u001b[0m\u001b[0m\n\u001b[1;32m    723\u001b[0m             \u001b[0;32mraise\u001b[0m\u001b[0;34m\u001b[0m\u001b[0;34m\u001b[0m\u001b[0m\n",
      "\u001b[0;32m~/.local/lib/python3.6/site-packages/pymongo/network.py\u001b[0m in \u001b[0;36mcommand\u001b[0;34m(sock_info, dbname, spec, secondary_ok, is_mongos, read_preference, codec_options, session, client, check, allowable_errors, address, check_keys, listeners, max_bson_size, read_concern, parse_write_concern_error, collation, compression_ctx, use_op_msg, unacknowledged, user_fields, exhaust_allowed)\u001b[0m\n\u001b[1;32m    150\u001b[0m             \u001b[0mresponse_doc\u001b[0m \u001b[0;34m=\u001b[0m \u001b[0;34m{\u001b[0m\u001b[0;34m\"ok\"\u001b[0m\u001b[0;34m:\u001b[0m \u001b[0;36m1\u001b[0m\u001b[0;34m}\u001b[0m\u001b[0;34m\u001b[0m\u001b[0;34m\u001b[0m\u001b[0m\n\u001b[1;32m    151\u001b[0m         \u001b[0;32melse\u001b[0m\u001b[0;34m:\u001b[0m\u001b[0;34m\u001b[0m\u001b[0;34m\u001b[0m\u001b[0m\n\u001b[0;32m--> 152\u001b[0;31m             \u001b[0mreply\u001b[0m \u001b[0;34m=\u001b[0m \u001b[0mreceive_message\u001b[0m\u001b[0;34m(\u001b[0m\u001b[0msock_info\u001b[0m\u001b[0;34m,\u001b[0m \u001b[0mrequest_id\u001b[0m\u001b[0;34m)\u001b[0m\u001b[0;34m\u001b[0m\u001b[0;34m\u001b[0m\u001b[0m\n\u001b[0m\u001b[1;32m    153\u001b[0m             \u001b[0msock_info\u001b[0m\u001b[0;34m.\u001b[0m\u001b[0mmore_to_come\u001b[0m \u001b[0;34m=\u001b[0m \u001b[0mreply\u001b[0m\u001b[0;34m.\u001b[0m\u001b[0mmore_to_come\u001b[0m\u001b[0;34m\u001b[0m\u001b[0;34m\u001b[0m\u001b[0m\n\u001b[1;32m    154\u001b[0m             unpacked_docs = reply.unpack_response(\n",
      "\u001b[0;32m~/.local/lib/python3.6/site-packages/pymongo/network.py\u001b[0m in \u001b[0;36mreceive_message\u001b[0;34m(sock_info, request_id, max_message_size)\u001b[0m\n\u001b[1;32m    198\u001b[0m     \u001b[0;31m# Ignore the response's request id.\u001b[0m\u001b[0;34m\u001b[0m\u001b[0;34m\u001b[0m\u001b[0;34m\u001b[0m\u001b[0m\n\u001b[1;32m    199\u001b[0m     length, _, response_to, op_code = _UNPACK_HEADER(\n\u001b[0;32m--> 200\u001b[0;31m         _receive_data_on_socket(sock_info, 16, deadline))\n\u001b[0m\u001b[1;32m    201\u001b[0m     \u001b[0;31m# No request_id for exhaust cursor \"getMore\".\u001b[0m\u001b[0;34m\u001b[0m\u001b[0;34m\u001b[0m\u001b[0;34m\u001b[0m\u001b[0m\n\u001b[1;32m    202\u001b[0m     \u001b[0;32mif\u001b[0m \u001b[0mrequest_id\u001b[0m \u001b[0;32mis\u001b[0m \u001b[0;32mnot\u001b[0m \u001b[0;32mNone\u001b[0m\u001b[0;34m:\u001b[0m\u001b[0;34m\u001b[0m\u001b[0;34m\u001b[0m\u001b[0m\n",
      "\u001b[0;32m~/.local/lib/python3.6/site-packages/pymongo/network.py\u001b[0m in \u001b[0;36m_receive_data_on_socket\u001b[0;34m(sock_info, length, deadline)\u001b[0m\n\u001b[1;32m    289\u001b[0m             \u001b[0;32mtry\u001b[0m\u001b[0;34m:\u001b[0m\u001b[0;34m\u001b[0m\u001b[0;34m\u001b[0m\u001b[0m\n\u001b[1;32m    290\u001b[0m                 \u001b[0mwait_for_read\u001b[0m\u001b[0;34m(\u001b[0m\u001b[0msock_info\u001b[0m\u001b[0;34m,\u001b[0m \u001b[0mdeadline\u001b[0m\u001b[0;34m)\u001b[0m\u001b[0;34m\u001b[0m\u001b[0;34m\u001b[0m\u001b[0m\n\u001b[0;32m--> 291\u001b[0;31m                 \u001b[0mchunk_length\u001b[0m \u001b[0;34m=\u001b[0m \u001b[0msock_info\u001b[0m\u001b[0;34m.\u001b[0m\u001b[0msock\u001b[0m\u001b[0;34m.\u001b[0m\u001b[0mrecv_into\u001b[0m\u001b[0;34m(\u001b[0m\u001b[0mmv\u001b[0m\u001b[0;34m[\u001b[0m\u001b[0mbytes_read\u001b[0m\u001b[0;34m:\u001b[0m\u001b[0;34m]\u001b[0m\u001b[0;34m)\u001b[0m\u001b[0;34m\u001b[0m\u001b[0;34m\u001b[0m\u001b[0m\n\u001b[0m\u001b[1;32m    292\u001b[0m             \u001b[0;32mexcept\u001b[0m \u001b[0;34m(\u001b[0m\u001b[0mIOError\u001b[0m\u001b[0;34m,\u001b[0m \u001b[0mOSError\u001b[0m\u001b[0;34m)\u001b[0m \u001b[0;32mas\u001b[0m \u001b[0mexc\u001b[0m\u001b[0;34m:\u001b[0m\u001b[0;34m\u001b[0m\u001b[0;34m\u001b[0m\u001b[0m\n\u001b[1;32m    293\u001b[0m                 \u001b[0;32mif\u001b[0m \u001b[0m_errno_from_exception\u001b[0m\u001b[0;34m(\u001b[0m\u001b[0mexc\u001b[0m\u001b[0;34m)\u001b[0m \u001b[0;34m==\u001b[0m \u001b[0merrno\u001b[0m\u001b[0;34m.\u001b[0m\u001b[0mEINTR\u001b[0m\u001b[0;34m:\u001b[0m\u001b[0;34m\u001b[0m\u001b[0;34m\u001b[0m\u001b[0m\n",
      "\u001b[0;31mKeyboardInterrupt\u001b[0m: "
     ]
    }
   ],
   "source": [
    "def display_pushshift_coverage():\n",
    "    \n",
    "    popular_subreddits = get_popular_threads(columns=['subreddit'])['subreddit'] \\\n",
    "        .unique().tolist()\n",
    "    \n",
    "    collection_subreddits = set(pushshift_comments.list_collection_names()) \\\n",
    "        .intersection(set(popular_subreddits))\n",
    "    \n",
    "    table = {}\n",
    "    \n",
    "    for subreddit in tqdm(collection_subreddits):\n",
    "        \n",
    "        date_range = pd.DataFrame(pushshift_comments[subreddit].aggregate([\n",
    "            {'$project': {'created_utc': 1}},\n",
    "            {'$group': {'_id': None,\n",
    "                       'min_utc': {'$min': '$created_utc'},\n",
    "                       'max_utc': {'$max': '$created_utc'}}}\n",
    "        ], allowDiskUse=True))\n",
    "        \n",
    "        table[subreddit] = {\n",
    "            'N': pushshift_comments[subreddit].estimated_document_count(),\n",
    "            'Start': dt.datetime.fromtimestamp(date_range['min_utc'].values[0]),\n",
    "            'End': dt.datetime.fromtimestamp(date_range['max_utc'].values[0])\n",
    "        }\n",
    "        \n",
    "    print(f'{len(collection_subreddits):,} subreddits in collection. ' \\\n",
    "          f'{len(popular_subreddits) - len(collection_subreddits):,} subreddits remaining.')\n",
    "        \n",
    "    return pd.DataFrame.from_dict(table, orient='index').sort_values(by='N', desc=False) \\\n",
    "        .style.format(formatter='{:,}', subset=['N'])\n",
    "\n",
    "display_pushshift_coverage()"
   ]
  },
  {
   "cell_type": "code",
   "execution_count": 556,
   "id": "11dec040",
   "metadata": {
    "ExecuteTime": {
     "end_time": "2022-06-09T00:34:33.031356Z",
     "start_time": "2022-06-09T00:34:32.184346Z"
    },
    "code_folding": [
     0
    ]
   },
   "outputs": [
    {
     "data": {
      "image/svg+xml": [
       "<svg class=\"main-svg\" xmlns=\"http://www.w3.org/2000/svg\" xmlns:xlink=\"http://www.w3.org/1999/xlink\" width=\"700\" height=\"500\" style=\"\" viewBox=\"0 0 700 500\"><rect x=\"0\" y=\"0\" width=\"700\" height=\"500\" style=\"fill: rgb(255, 255, 255); fill-opacity: 1;\"/><defs id=\"defs-cf97ef\"><g class=\"clips\"><clipPath id=\"clipcf97efxyplot\" class=\"plotclip\"><rect width=\"440\" height=\"320\"/></clipPath><clipPath class=\"axesclip\" id=\"clipcf97efx\"><rect x=\"80\" y=\"0\" width=\"440\" height=\"500\"/></clipPath><clipPath class=\"axesclip\" id=\"clipcf97efy\"><rect x=\"0\" y=\"100\" width=\"700\" height=\"320\"/></clipPath><clipPath class=\"axesclip\" id=\"clipcf97efxy\"><rect x=\"80\" y=\"100\" width=\"440\" height=\"320\"/></clipPath></g><g class=\"gradients\"/><g class=\"patterns\"/></defs><g class=\"bglayer\"/><g class=\"layer-below\"><g class=\"imagelayer\"/><g class=\"shapelayer\"/></g><g class=\"cartesianlayer\"><g class=\"subplot xy\"><g class=\"layer-subplot\"><g class=\"shapelayer\"/><g class=\"imagelayer\"/></g><g class=\"gridlayer\"><g class=\"x\"><path class=\"xgrid crisp\" transform=\"translate(161.97,0)\" d=\"M0,100v320\" style=\"stroke: rgb(235, 240, 248); stroke-opacity: 1; stroke-width: 1px;\"/><path class=\"xgrid crisp\" transform=\"translate(244.19,0)\" d=\"M0,100v320\" style=\"stroke: rgb(235, 240, 248); stroke-opacity: 1; stroke-width: 1px;\"/><path class=\"xgrid crisp\" transform=\"translate(326.4,0)\" d=\"M0,100v320\" style=\"stroke: rgb(235, 240, 248); stroke-opacity: 1; stroke-width: 1px;\"/><path class=\"xgrid crisp\" transform=\"translate(408.62,0)\" d=\"M0,100v320\" style=\"stroke: rgb(235, 240, 248); stroke-opacity: 1; stroke-width: 1px;\"/><path class=\"xgrid crisp\" transform=\"translate(490.83,0)\" d=\"M0,100v320\" style=\"stroke: rgb(235, 240, 248); stroke-opacity: 1; stroke-width: 1px;\"/></g><g class=\"y\"><path class=\"ygrid crisp\" transform=\"translate(0,375.15)\" d=\"M80,0h440\" style=\"stroke: rgb(235, 240, 248); stroke-opacity: 1; stroke-width: 1px;\"/><path class=\"ygrid crisp\" transform=\"translate(0,346.28999999999996)\" d=\"M80,0h440\" style=\"stroke: rgb(235, 240, 248); stroke-opacity: 1; stroke-width: 1px;\"/><path class=\"ygrid crisp\" transform=\"translate(0,317.44)\" d=\"M80,0h440\" style=\"stroke: rgb(235, 240, 248); stroke-opacity: 1; stroke-width: 1px;\"/><path class=\"ygrid crisp\" transform=\"translate(0,288.58000000000004)\" d=\"M80,0h440\" style=\"stroke: rgb(235, 240, 248); stroke-opacity: 1; stroke-width: 1px;\"/><path class=\"ygrid crisp\" transform=\"translate(0,259.73)\" d=\"M80,0h440\" style=\"stroke: rgb(235, 240, 248); stroke-opacity: 1; stroke-width: 1px;\"/><path class=\"ygrid crisp\" transform=\"translate(0,230.87)\" d=\"M80,0h440\" style=\"stroke: rgb(235, 240, 248); stroke-opacity: 1; stroke-width: 1px;\"/><path class=\"ygrid crisp\" transform=\"translate(0,202.01999999999998)\" d=\"M80,0h440\" style=\"stroke: rgb(235, 240, 248); stroke-opacity: 1; stroke-width: 1px;\"/><path class=\"ygrid crisp\" transform=\"translate(0,173.16)\" d=\"M80,0h440\" style=\"stroke: rgb(235, 240, 248); stroke-opacity: 1; stroke-width: 1px;\"/><path class=\"ygrid crisp\" transform=\"translate(0,144.31)\" d=\"M80,0h440\" style=\"stroke: rgb(235, 240, 248); stroke-opacity: 1; stroke-width: 1px;\"/><path class=\"ygrid crisp\" transform=\"translate(0,115.45)\" d=\"M80,0h440\" style=\"stroke: rgb(235, 240, 248); stroke-opacity: 1; stroke-width: 1px;\"/></g></g><g class=\"zerolinelayer\"><path class=\"yzl zl crisp\" transform=\"translate(0,404)\" d=\"M80,0h440\" style=\"stroke: rgb(235, 240, 248); stroke-opacity: 1; stroke-width: 2px;\"/></g><path class=\"xlines-below\"/><path class=\"ylines-below\"/><g class=\"overlines-below\"/><g class=\"xaxislayer-below\"/><g class=\"yaxislayer-below\"/><g class=\"overaxes-below\"/><g class=\"plot\" transform=\"translate(80,100)\" clip-path=\"url(#clipcf97efxyplot)\"><g class=\"scatterlayer mlayer\"><g class=\"trace scatter traceb1cf04\" style=\"stroke-miterlimit: 2; opacity: 1;\"><g class=\"fills\"/><g class=\"errorbars\"/><g class=\"lines\"><path class=\"js-line\" d=\"M0.2,16.59L1.4,23.4L1.41,24.54L2.06,30.22L2.81,31.36L4.21,39.31L4.59,40.44L5.57,48.4L6.14,49.53L8.02,57.48L8.29,58.62L9.12,63.16L9.51,64.3L11.36,68.84L11.61,69.98L12.65,72.25L13.26,73.39L14.21,76.8L14.94,77.93L15.84,81.34L16.28,82.48L18.9,88.16L20.83,89.29L22.79,96.11L25.13,97.24L26.76,101.79L27.03,102.92L28.03,106.33L29.38,107.47L29.54,109.74L31.63,110.88L35.75,112.01L36.3,113.15L36.89,115.42L37.58,116.56L39.25,117.69L39.49,118.83L40.16,119.97L42.75,121.1L44.7,124.51L47.98,125.65L50.4,132.46L52.79,133.6L53.66,135.87L54.6,137.01L57.15,141.55L60.8,142.69L61.55,143.82L64.28,144.96L70.7,149.5L71.41,150.64L73.65,151.77L73.72,152.91L77.44,154.05L78.19,155.18L80,157.45L80.18,158.59L83.7,160.86L88.78,162L89.62,163.13L91.61,164.27L95.66,166.54L97.08,167.68L100.92,168.81L102.08,169.95L102.35,171.09L104.74,172.22L110.66,173.36L110.7,174.49L116.75,177.9L117.54,179.04L122.69,182.45L123.01,183.58L125.88,184.72L126.63,185.85L127.72,188.13L130.14,189.26L130.24,190.4L132.16,191.53L134.78,196.08L136.36,197.21L137.19,198.35L141.77,199.49L143.02,201.76L143.77,202.89L145.63,204.03L149.2,205.17L149.75,207.44L152.03,208.57L155.09,211.98L156.13,213.12L158.5,215.39L158.82,216.53L164.34,219.93L164.79,221.07L164.89,222.21L167.29,223.34L168.04,225.61L169.92,226.75L170.22,227.89L171.7,229.02L172.01,231.29L173.43,232.43L173.72,233.57L174.9,234.7L175.39,236.97L177.98,238.11L181.99,240.38L182.08,241.52L184.43,242.66L188.69,243.79L189.81,246.06L197.65,247.2L200.08,249.47L204.27,250.61L208.45,251.74L208.86,252.88L210.44,255.15L215.79,256.29L217.68,257.42L226.72,258.56L229.03,260.83L230.04,261.97L253.73,264.24L259.12,265.38L262.9,267.65L268.01,268.78L271.72,272.19L272.77,273.33L272.83,274.46L274.36,275.6L281.1,277.87L287.63,279.01L288.18,280.14L294.32,281.28L307.08,283.55L309.07,284.69L310.03,285.82L315.47,286.96L316.61,289.23L325.72,290.37L328.22,291.5L328.28,292.64L328.67,293.78L347.65,294.91L352.95,296.05L354.37,297.18L354.93,298.32L365.33,299.46L386.1,300.59L386.63,301.73L388.81,302.86L418.2,304\" style=\"vector-effect: non-scaling-stroke; fill: none; stroke: rgb(99, 110, 250); stroke-opacity: 1; stroke-width: 2px; opacity: 1;\"/></g><g class=\"points\"/><g class=\"text\"/></g><g class=\"trace scatter tracea8d2d9\" style=\"stroke-miterlimit: 2; opacity: 1;\"><g class=\"fills\"/><g class=\"errorbars\"/><g class=\"lines\"><path class=\"js-line\" d=\"M0,16.87L0.31,31.09L0.32,32.51L1.82,146.22L1.88,147.64L2.25,154.75L2.28,156.17L2.93,160.44L2.97,161.86L6.32,193.13L6.95,194.55L9.09,198.81L10.86,200.24L11.27,204.5L12.64,205.92L14.1,208.76L18.43,210.19L20.41,213.03L21.35,214.45L22.38,215.87L27.17,217.29L28.72,218.71L29.03,220.14L29.21,221.56L30.17,222.98L30.39,224.4L31.77,225.82L45.53,230.09L47.02,231.51L49.36,234.35L53.64,235.77L59.21,237.19L68.66,238.61L77.57,241.46L77.96,242.88L80.83,244.3L89.05,245.72L90,248.56L91.56,249.99L92.25,251.41L94.08,252.83L94.74,254.25L98.57,255.67L104.55,257.09L116.21,258.51L116.38,259.94L120.01,261.36L130.29,264.2L147.84,265.62L150.43,267.04L150.72,268.46L160.41,271.31L164.97,272.73L165.43,274.15L169.82,275.57L189.82,276.99L190.21,278.41L190.81,279.84L195.81,281.26L197.14,282.68L219.14,284.1L294.13,286.94L307.37,288.36L311.22,289.79L317.66,291.21L330.07,292.63L333.82,294.05L381.12,295.47L386.3,296.89L408.29,301.16L408.39,302.58L415.54,304\" style=\"vector-effect: non-scaling-stroke; fill: none; stroke: rgb(239, 85, 59); stroke-opacity: 1; stroke-width: 2px; opacity: 1;\"/></g><g class=\"points\"/><g class=\"text\"/></g><g class=\"trace scatter trace99add3\" style=\"stroke-miterlimit: 2; opacity: 1;\"><g class=\"fills\"/><g class=\"errorbars\"/><g class=\"lines\"><path class=\"js-line\" d=\"M0.15,16L1.06,22.03L1.17,22.58L1.87,27.52L2.15,28.07L3.19,33.55L3.43,34.1L4.54,38.49L4.65,39.04L5.6,43.43L5.76,43.98L13.34,65.92L13.74,66.47L16.21,73.6L16.51,74.15L17.41,76.89L17.88,77.44L18.75,80.73L18.93,81.28L19.8,85.12L19.93,85.67L22.64,91.15L22.7,91.7L23.55,94.99L23.88,95.54L25,101.03L25.43,101.58L26.17,104.32L26.35,104.87L28.87,111.45L28.92,112L29.6,115.29L29.92,115.84L30.96,119.13L31.4,119.68L32.8,122.97L32.9,123.52L34.46,127.36L34.56,127.91L35.5,130.65L35.53,131.2L38.05,140.53L38.27,141.07L39,142.72L39.37,143.27L40.62,146.01L41.33,146.56L41.91,150.4L42.37,150.95L44.33,154.79L45.5,155.34L48.22,160.82L49.37,161.37L50.49,163.02L50.86,163.57L52.72,167.41L54.09,167.95L57.68,171.79L57.92,172.34L59.5,175.09L59.58,175.63L61.64,178.93L61.67,179.47L63.57,181.67L65.31,182.22L65.89,184.41L66.23,184.96L69.49,187.15L70.03,187.7L75.41,192.64L75.88,193.19L76.3,194.83L77.83,195.38L79.8,198.67L80.7,199.22L83.16,204.16L83.8,204.71L84.57,206.9L86.14,207.45L88.13,209.1L88.51,209.65L89.11,210.74L89.12,211.29L89.6,211.84L91.12,212.39L96.21,215.68L96.31,216.23L96.44,216.78L97.68,217.33L97.73,217.87L98.82,218.42L101.73,220.62L104.54,221.17L112.51,224.46L112.68,225.01L113.6,226.65L114.56,227.2L118.68,228.85L118.84,229.39L119.74,230.49L123.77,231.04L128.24,233.78L128.26,234.33L130.19,238.17L131.54,238.72L133.12,239.82L133.26,240.37L133.85,242.01L134.79,242.56L134.93,243.11L136.16,243.66L137.53,245.3L139.09,245.85L141.72,247.5L146.36,248.05L147.76,249.69L149.94,250.24L153.24,251.89L153.37,252.43L158.2,254.63L162.94,255.18L169.14,257.37L170.16,257.92L175.53,260.11L176.21,260.66L177.15,261.76L179.82,262.31L180.42,263.95L182.44,264.5L194.55,268.89L195.22,269.44L203.25,270.54L203.45,271.09L204.45,272.73L206.08,273.28L208.11,274.38L212.83,274.93L213.05,275.47L215.33,276.02L218.09,278.22L219.11,278.77L231.25,280.41L243.36,280.96L246.25,282.06L252.6,282.61L260.35,286.45L265.29,286.99L266.93,287.54L272.09,288.09L274.04,289.74L274.2,290.29L285.48,291.38L287.15,291.93L288.19,293.58L291.05,294.13L318.84,296.87L323.84,297.42L330.67,298.51L342.08,299.06L365.45,300.71L366.25,301.26L369.82,301.81L385.98,302.35L412.82,303.45L416.14,304\" style=\"vector-effect: non-scaling-stroke; fill: none; stroke: rgb(0, 204, 150); stroke-opacity: 1; stroke-width: 2px; opacity: 1;\"/></g><g class=\"points\"/><g class=\"text\"/></g><g class=\"trace scatter trace9cc56c\" style=\"stroke-miterlimit: 2; opacity: 1;\"><g class=\"fills\"/><g class=\"errorbars\"/><g class=\"lines\"><path class=\"js-line\" d=\"M0.54,16.38L2.89,30.34L3.41,31.28L4.6,33.14L4.65,34.07L5.05,37.79L5.76,38.72L7.95,58.27L7.98,59.2L8.74,61.99L9.16,62.92L11.62,78.75L12.62,79.68L13.45,84.33L13.81,85.26L14.18,88.05L14.72,88.98L15.85,95.5L16.37,96.43L16.88,99.22L17.86,100.15L19.4,103.88L19.47,104.81L19.86,106.67L21.16,107.6L24.83,124.36L25.49,125.29L26.44,129.01L26.56,129.94L27.31,131.8L28.18,132.73L29.62,137.39L30.92,138.32L32.62,141.11L34.66,142.04L34.8,142.97L35.87,143.9L36.75,145.76L37.04,146.69L39.75,155.07L40.56,156L41.07,157.86L41.67,158.79L42.13,163.45L43.53,164.38L45.16,169.96L45.2,170.9L49.47,172.76L49.5,173.69L51.5,175.55L53.13,176.48L55.15,180.2L57.62,181.13L61.77,183L64.54,183.93L66.91,186.72L66.99,187.65L69.6,188.58L69.8,189.51L69.98,190.44L72.06,191.37L72.3,192.3L74.16,193.23L76.5,196.03L77.22,196.96L78.6,199.75L79.39,200.68L81.58,202.54L82.68,203.47L87.12,205.34L87.16,206.27L88.6,209.99L89.8,210.92L90.94,212.78L92.52,213.71L92.54,214.64L93.74,215.57L94.47,217.44L97.25,218.37L101.16,221.16L101.45,222.09L108.48,223.95L108.64,224.88L109.3,225.81L111.43,226.74L125.35,233.26L125.7,234.19L127.36,236.05L130.84,236.98L132.03,237.91L135.68,238.84L143.02,242.57L143.62,243.5L143.76,244.43L145.36,245.36L154.09,250.01L155.31,250.94L156.23,252.81L158.44,253.74L161.18,255.6L161.35,256.53L167.87,261.18L168.23,262.11L168.77,263.04L172.12,263.98L176.58,265.84L177.69,266.77L179.56,268.63L184.27,269.56L187.58,270.49L187.99,271.42L192.22,274.21L192.83,275.15L196.84,277.94L201.11,278.87L202.25,280.73L202.31,281.66L221.72,283.52L222.63,284.45L226.5,285.38L226.71,286.31L232.76,287.25L232.86,288.18L233.34,289.11L237.45,290.04L241.99,290.97L242.32,291.9L243.21,292.83L250.95,293.76L257.93,294.69L258.41,295.62L293.97,297.48L296.41,298.42L311.54,300.28L335.41,301.21L372.18,303.07L407.84,304\" style=\"vector-effect: non-scaling-stroke; fill: none; stroke: rgb(171, 99, 250); stroke-opacity: 1; stroke-width: 2px; opacity: 1;\"/></g><g class=\"points\"/><g class=\"text\"/></g><g class=\"trace scatter trace0e4e8a\" style=\"stroke-miterlimit: 2; opacity: 1;\"><g class=\"fills\"/><g class=\"errorbars\"/><g class=\"lines\"><path class=\"js-line\" d=\"M0.8,16.02L2.17,18.27L2.21,18.83L5.91,36.3L5.92,36.87L7.74,44.76L7.93,45.32L8.75,50.96L8.97,51.52L10.13,57.16L10.47,57.72L13.48,72.37L13.72,72.94L14.59,74.63L14.62,75.19L15.89,79.7L16.54,80.26L18.09,83.64L18.3,84.21L20.03,90.41L20.4,90.97L22.74,94.35L23.06,94.92L23.79,100.55L24.04,101.11L25.08,102.24L25.36,102.81L26.58,104.5L27.45,105.06L28.46,107.88L28.7,108.44L30.27,114.64L30.67,115.2L31.4,116.89L31.45,117.46L32.47,119.71L32.56,120.28L37.72,134.37L38.41,134.93L39.55,138.31L39.59,138.87L42,143.95L44.06,144.51L44.6,146.2L45.16,146.76L46.29,150.71L47.1,151.27L48.34,152.4L48.52,152.96L49.3,154.09L50.81,154.65L53.13,158.6L53.19,159.16L53.93,160.85L54.32,161.42L55.48,163.67L56.12,164.23L57.48,165.36L58.12,165.93L58.82,167.05L59.77,167.62L61.5,168.74L61.62,169.31L63.84,172.12L64.4,172.69L65.13,174.38L65.44,174.94L72.38,180.58L72.47,181.14L72.84,181.71L74.17,182.27L75.11,183.96L77.52,184.52L81.89,189.03L81.92,189.6L84.71,190.72L85.45,191.29L85.86,192.41L87.05,192.98L91.78,196.36L92.2,196.92L93.64,198.61L93.75,199.18L95.86,200.3L99.94,200.87L101.93,203.12L105.08,203.68L105.66,204.81L107.61,205.38L107.82,205.94L109.94,206.5L110.54,207.07L113.59,207.63L113.79,208.19L114.92,208.76L115.38,209.32L117.56,209.88L124.11,213.83L124.16,214.39L125.6,215.52L126.06,216.08L126.24,216.65L129.69,217.21L130.52,218.34L133.82,218.9L137.49,220.03L138.18,220.59L140.8,223.41L140.89,223.97L141.65,224.54L145.5,225.1L148.99,226.23L149.71,226.79L152.07,227.92L153.15,228.48L154.28,229.61L155.69,230.17L155.81,230.74L160.45,231.3L160.54,232.43L161.64,232.99L162.5,235.81L164.24,236.37L166.11,238.06L167.59,238.63L171.95,240.88L172.08,241.44L185.2,246.52L188.35,247.08L191.65,248.77L191.66,249.33L197.99,253.84L198.22,254.41L199.18,255.53L205.52,256.1L208,257.22L212.35,257.79L212.72,258.35L214.76,258.91L216.89,260.61L220.45,261.17L220.94,261.73L223.06,262.3L223.27,262.86L225.12,263.42L230.22,264.55L231.89,265.11L250.77,268.5L251.39,269.06L251.71,269.62L254.36,270.19L259.52,271.31L260.24,271.88L260.36,272.44L263.97,273L265.88,274.13L270.23,274.69L270.91,275.26L275.05,275.82L283.95,278.64L284.46,279.2L285.81,280.33L287.95,280.89L288.61,281.46L292.87,282.02L305.83,283.71L306.69,284.27L307.86,285.4L310.22,285.97L324.13,287.66L325.06,288.22L325.69,288.78L332.51,289.35L354.41,291.04L355.08,291.6L382.28,296.67L393.71,297.24L394.92,297.8L402.45,298.36L407.35,299.49L409.77,300.06L410.28,300.62L414.41,301.18L440,304\" style=\"vector-effect: non-scaling-stroke; fill: none; stroke: rgb(255, 161, 90); stroke-opacity: 1; stroke-width: 2px; opacity: 1;\"/></g><g class=\"points\"/><g class=\"text\"/></g></g></g><g class=\"overplot\"/><path class=\"xlines-above crisp\" d=\"M0,0\" style=\"fill: none;\"/><path class=\"ylines-above crisp\" d=\"M0,0\" style=\"fill: none;\"/><g class=\"overlines-above\"/><g class=\"xaxislayer-above\"><g class=\"xtick\"><text text-anchor=\"middle\" x=\"0\" y=\"433\" transform=\"translate(161.97,0)\" style=\"font-family: 'Open Sans', verdana, arial, sans-serif; font-size: 12px; fill: rgb(42, 63, 95); fill-opacity: 1; white-space: pre; opacity: 1;\">2</text></g><g class=\"xtick\"><text text-anchor=\"middle\" x=\"0\" y=\"433\" style=\"font-family: 'Open Sans', verdana, arial, sans-serif; font-size: 12px; fill: rgb(42, 63, 95); fill-opacity: 1; white-space: pre; opacity: 1;\" transform=\"translate(244.19,0)\">4</text></g><g class=\"xtick\"><text text-anchor=\"middle\" x=\"0\" y=\"433\" style=\"font-family: 'Open Sans', verdana, arial, sans-serif; font-size: 12px; fill: rgb(42, 63, 95); fill-opacity: 1; white-space: pre; opacity: 1;\" transform=\"translate(326.4,0)\">6</text></g><g class=\"xtick\"><text text-anchor=\"middle\" x=\"0\" y=\"433\" style=\"font-family: 'Open Sans', verdana, arial, sans-serif; font-size: 12px; fill: rgb(42, 63, 95); fill-opacity: 1; white-space: pre; opacity: 1;\" transform=\"translate(408.62,0)\">8</text></g><g class=\"xtick\"><text text-anchor=\"middle\" x=\"0\" y=\"433\" style=\"font-family: 'Open Sans', verdana, arial, sans-serif; font-size: 12px; fill: rgb(42, 63, 95); fill-opacity: 1; white-space: pre; opacity: 1;\" transform=\"translate(490.83,0)\">10</text></g></g><g class=\"yaxislayer-above\"><g class=\"ytick\"><text text-anchor=\"end\" x=\"79\" y=\"4.199999999999999\" transform=\"translate(0,404)\" style=\"font-family: 'Open Sans', verdana, arial, sans-serif; font-size: 12px; fill: rgb(42, 63, 95); fill-opacity: 1; white-space: pre; opacity: 1;\">0</text></g><g class=\"ytick\"><text text-anchor=\"end\" x=\"79\" y=\"4.199999999999999\" style=\"font-family: 'Open Sans', verdana, arial, sans-serif; font-size: 12px; fill: rgb(42, 63, 95); fill-opacity: 1; white-space: pre; opacity: 1;\" transform=\"translate(0,375.15)\">0.1</text></g><g class=\"ytick\"><text text-anchor=\"end\" x=\"79\" y=\"4.199999999999999\" style=\"font-family: 'Open Sans', verdana, arial, sans-serif; font-size: 12px; fill: rgb(42, 63, 95); fill-opacity: 1; white-space: pre; opacity: 1;\" transform=\"translate(0,346.28999999999996)\">0.2</text></g><g class=\"ytick\"><text text-anchor=\"end\" x=\"79\" y=\"4.199999999999999\" style=\"font-family: 'Open Sans', verdana, arial, sans-serif; font-size: 12px; fill: rgb(42, 63, 95); fill-opacity: 1; white-space: pre; opacity: 1;\" transform=\"translate(0,317.44)\">0.3</text></g><g class=\"ytick\"><text text-anchor=\"end\" x=\"79\" y=\"4.199999999999999\" style=\"font-family: 'Open Sans', verdana, arial, sans-serif; font-size: 12px; fill: rgb(42, 63, 95); fill-opacity: 1; white-space: pre; opacity: 1;\" transform=\"translate(0,288.58000000000004)\">0.4</text></g><g class=\"ytick\"><text text-anchor=\"end\" x=\"79\" y=\"4.199999999999999\" style=\"font-family: 'Open Sans', verdana, arial, sans-serif; font-size: 12px; fill: rgb(42, 63, 95); fill-opacity: 1; white-space: pre; opacity: 1;\" transform=\"translate(0,259.73)\">0.5</text></g><g class=\"ytick\"><text text-anchor=\"end\" x=\"79\" y=\"4.199999999999999\" style=\"font-family: 'Open Sans', verdana, arial, sans-serif; font-size: 12px; fill: rgb(42, 63, 95); fill-opacity: 1; white-space: pre; opacity: 1;\" transform=\"translate(0,230.87)\">0.6</text></g><g class=\"ytick\"><text text-anchor=\"end\" x=\"79\" y=\"4.199999999999999\" style=\"font-family: 'Open Sans', verdana, arial, sans-serif; font-size: 12px; fill: rgb(42, 63, 95); fill-opacity: 1; white-space: pre; opacity: 1;\" transform=\"translate(0,202.01999999999998)\">0.7</text></g><g class=\"ytick\"><text text-anchor=\"end\" x=\"79\" y=\"4.199999999999999\" style=\"font-family: 'Open Sans', verdana, arial, sans-serif; font-size: 12px; fill: rgb(42, 63, 95); fill-opacity: 1; white-space: pre; opacity: 1;\" transform=\"translate(0,173.16)\">0.8</text></g><g class=\"ytick\"><text text-anchor=\"end\" x=\"79\" y=\"4.199999999999999\" style=\"font-family: 'Open Sans', verdana, arial, sans-serif; font-size: 12px; fill: rgb(42, 63, 95); fill-opacity: 1; white-space: pre; opacity: 1;\" transform=\"translate(0,144.31)\">0.9</text></g><g class=\"ytick\"><text text-anchor=\"end\" x=\"79\" y=\"4.199999999999999\" style=\"font-family: 'Open Sans', verdana, arial, sans-serif; font-size: 12px; fill: rgb(42, 63, 95); fill-opacity: 1; white-space: pre; opacity: 1;\" transform=\"translate(0,115.45)\">1</text></g></g><g class=\"overaxes-above\"/></g></g><g class=\"polarlayer\"/><g class=\"smithlayer\"/><g class=\"ternarylayer\"/><g class=\"geolayer\"/><g class=\"funnelarealayer\"/><g class=\"pielayer\"/><g class=\"iciclelayer\"/><g class=\"treemaplayer\"/><g class=\"sunburstlayer\"/><g class=\"glimages\"/><defs id=\"topdefs-cf97ef\"><g class=\"clips\"/><clipPath id=\"legendcf97ef\"><rect width=\"159\" height=\"105\" x=\"0\" y=\"0\"/></clipPath></defs><g class=\"layer-above\"><g class=\"imagelayer\"/><g class=\"shapelayer\"/></g><g class=\"infolayer\"><g class=\"legend\" pointer-events=\"all\" transform=\"translate(528.8,100)\"><rect class=\"bg\" shape-rendering=\"crispEdges\" width=\"159\" height=\"105\" x=\"0\" y=\"0\" style=\"stroke: rgb(68, 68, 68); stroke-opacity: 1; fill: rgb(255, 255, 255); fill-opacity: 1; stroke-width: 0px;\"/><g class=\"scrollbox\" transform=\"\" clip-path=\"url(#legendcf97ef)\"><g class=\"groups\"><g class=\"traces\" transform=\"translate(0,14.5)\" style=\"opacity: 1;\"><text class=\"legendtext\" text-anchor=\"start\" x=\"40\" y=\"4.680000000000001\" style=\"font-family: 'Open Sans', verdana, arial, sans-serif; font-size: 12px; fill: rgb(42, 63, 95); fill-opacity: 1; white-space: pre;\">r/mildlyinfuriating</text><g class=\"layers\" style=\"opacity: 1;\"><g class=\"legendfill\"/><g class=\"legendlines\"><path class=\"js-line\" d=\"M5,0h30\" style=\"fill: none; stroke: rgb(99, 110, 250); stroke-opacity: 1; stroke-width: 2px;\"/></g><g class=\"legendsymbols\"><g class=\"legendpoints\"/></g></g><rect class=\"legendtoggle\" x=\"0\" y=\"-9.5\" width=\"153.859375\" height=\"19\" style=\"fill: rgb(0, 0, 0); fill-opacity: 0;\"/></g><g class=\"traces\" transform=\"translate(0,33.5)\" style=\"opacity: 1;\"><text class=\"legendtext\" text-anchor=\"start\" x=\"40\" y=\"4.680000000000001\" style=\"font-family: 'Open Sans', verdana, arial, sans-serif; font-size: 12px; fill: rgb(42, 63, 95); fill-opacity: 1; white-space: pre;\">r/HumansBeingBros</text><g class=\"layers\" style=\"opacity: 1;\"><g class=\"legendfill\"/><g class=\"legendlines\"><path class=\"js-line\" d=\"M5,0h30\" style=\"fill: none; stroke: rgb(239, 85, 59); stroke-opacity: 1; stroke-width: 2px;\"/></g><g class=\"legendsymbols\"><g class=\"legendpoints\"/></g></g><rect class=\"legendtoggle\" x=\"0\" y=\"-9.5\" width=\"153.859375\" height=\"19\" style=\"fill: rgb(0, 0, 0); fill-opacity: 0;\"/></g><g class=\"traces\" transform=\"translate(0,52.5)\" style=\"opacity: 1;\"><text class=\"legendtext\" text-anchor=\"start\" x=\"40\" y=\"4.680000000000001\" style=\"font-family: 'Open Sans', verdana, arial, sans-serif; font-size: 12px; fill: rgb(42, 63, 95); fill-opacity: 1; white-space: pre;\">r/worldnews</text><g class=\"layers\" style=\"opacity: 1;\"><g class=\"legendfill\"/><g class=\"legendlines\"><path class=\"js-line\" d=\"M5,0h30\" style=\"fill: none; stroke: rgb(0, 204, 150); stroke-opacity: 1; stroke-width: 2px;\"/></g><g class=\"legendsymbols\"><g class=\"legendpoints\"/></g></g><rect class=\"legendtoggle\" x=\"0\" y=\"-9.5\" width=\"153.859375\" height=\"19\" style=\"fill: rgb(0, 0, 0); fill-opacity: 0;\"/></g><g class=\"traces\" transform=\"translate(0,71.5)\" style=\"opacity: 1;\"><text class=\"legendtext\" text-anchor=\"start\" x=\"40\" y=\"4.680000000000001\" style=\"font-family: 'Open Sans', verdana, arial, sans-serif; font-size: 12px; fill: rgb(42, 63, 95); fill-opacity: 1; white-space: pre;\">r/aww</text><g class=\"layers\" style=\"opacity: 1;\"><g class=\"legendfill\"/><g class=\"legendlines\"><path class=\"js-line\" d=\"M5,0h30\" style=\"fill: none; stroke: rgb(171, 99, 250); stroke-opacity: 1; stroke-width: 2px;\"/></g><g class=\"legendsymbols\"><g class=\"legendpoints\"/></g></g><rect class=\"legendtoggle\" x=\"0\" y=\"-9.5\" width=\"153.859375\" height=\"19\" style=\"fill: rgb(0, 0, 0); fill-opacity: 0;\"/></g><g class=\"traces\" transform=\"translate(0,90.5)\" style=\"opacity: 1;\"><text class=\"legendtext\" text-anchor=\"start\" x=\"40\" y=\"4.680000000000001\" style=\"font-family: 'Open Sans', verdana, arial, sans-serif; font-size: 12px; fill: rgb(42, 63, 95); fill-opacity: 1; white-space: pre;\">r/interestingasfuck</text><g class=\"layers\" style=\"opacity: 1;\"><g class=\"legendfill\"/><g class=\"legendlines\"><path class=\"js-line\" d=\"M5,0h30\" style=\"fill: none; stroke: rgb(255, 161, 90); stroke-opacity: 1; stroke-width: 2px;\"/></g><g class=\"legendsymbols\"><g class=\"legendpoints\"/></g></g><rect class=\"legendtoggle\" x=\"0\" y=\"-9.5\" width=\"153.859375\" height=\"19\" style=\"fill: rgb(0, 0, 0); fill-opacity: 0;\"/></g></g></g><rect class=\"scrollbar\" rx=\"20\" ry=\"3\" width=\"0\" height=\"0\" x=\"0\" y=\"0\" style=\"fill: rgb(128, 139, 164); fill-opacity: 1;\"/></g><g class=\"g-gtitle\"><text class=\"gtitle\" x=\"35\" y=\"50\" text-anchor=\"start\" dy=\"0em\" style=\"font-family: 'Open Sans', verdana, arial, sans-serif; font-size: 17px; fill: rgb(42, 63, 95); opacity: 1; font-weight: normal; white-space: pre;\">Active Window Survival for Sampled Subreddits's r/popular Threads</text></g><g class=\"g-xtitle\"><text class=\"xtitle\" x=\"300\" y=\"461.8\" text-anchor=\"middle\" style=\"font-family: 'Open Sans', verdana, arial, sans-serif; font-size: 14px; fill: rgb(42, 63, 95); opacity: 1; font-weight: normal; white-space: pre;\">#weeks</text></g><g class=\"g-ytitle\"><text class=\"ytitle\" transform=\"rotate(-90,37.278125,260)\" x=\"37.278125\" y=\"260\" text-anchor=\"middle\" style=\"font-family: 'Open Sans', verdana, arial, sans-serif; font-size: 14px; fill: rgb(42, 63, 95); opacity: 1; font-weight: normal; white-space: pre;\">%survival</text></g></g></svg>"
      ]
     },
     "metadata": {},
     "output_type": "display_data"
    },
    {
     "data": {
      "image/svg+xml": [
       "<svg class=\"main-svg\" xmlns=\"http://www.w3.org/2000/svg\" xmlns:xlink=\"http://www.w3.org/1999/xlink\" width=\"700\" height=\"500\" style=\"\" viewBox=\"0 0 700 500\"><rect x=\"0\" y=\"0\" width=\"700\" height=\"500\" style=\"fill: rgb(255, 255, 255); fill-opacity: 1;\"/><defs id=\"defs-14685b\"><g class=\"clips\"><clipPath id=\"clip14685bxyplot\" class=\"plotclip\"><rect width=\"440\" height=\"320\"/></clipPath><clipPath class=\"axesclip\" id=\"clip14685bx\"><rect x=\"80\" y=\"0\" width=\"440\" height=\"500\"/></clipPath><clipPath class=\"axesclip\" id=\"clip14685by\"><rect x=\"0\" y=\"100\" width=\"700\" height=\"320\"/></clipPath><clipPath class=\"axesclip\" id=\"clip14685bxy\"><rect x=\"80\" y=\"100\" width=\"440\" height=\"320\"/></clipPath></g><g class=\"gradients\"/><g class=\"patterns\"/></defs><g class=\"bglayer\"/><g class=\"layer-below\"><g class=\"imagelayer\"/><g class=\"shapelayer\"/></g><g class=\"cartesianlayer\"><g class=\"subplot xy\"><g class=\"layer-subplot\"><g class=\"shapelayer\"/><g class=\"imagelayer\"/></g><g class=\"gridlayer\"><g class=\"x\"><path class=\"xgrid crisp\" transform=\"translate(190,0)\" d=\"M0,100v320\" style=\"stroke: rgb(235, 240, 248); stroke-opacity: 1; stroke-width: 1px;\"/><path class=\"xgrid crisp\" transform=\"translate(300,0)\" d=\"M0,100v320\" style=\"stroke: rgb(235, 240, 248); stroke-opacity: 1; stroke-width: 1px;\"/><path class=\"xgrid crisp\" transform=\"translate(410,0)\" d=\"M0,100v320\" style=\"stroke: rgb(235, 240, 248); stroke-opacity: 1; stroke-width: 1px;\"/></g><g class=\"y\"><path class=\"ygrid crisp\" transform=\"translate(0,375.09)\" d=\"M80,0h440\" style=\"stroke: rgb(235, 240, 248); stroke-opacity: 1; stroke-width: 1px;\"/><path class=\"ygrid crisp\" transform=\"translate(0,346.18)\" d=\"M80,0h440\" style=\"stroke: rgb(235, 240, 248); stroke-opacity: 1; stroke-width: 1px;\"/><path class=\"ygrid crisp\" transform=\"translate(0,317.27)\" d=\"M80,0h440\" style=\"stroke: rgb(235, 240, 248); stroke-opacity: 1; stroke-width: 1px;\"/><path class=\"ygrid crisp\" transform=\"translate(0,288.37)\" d=\"M80,0h440\" style=\"stroke: rgb(235, 240, 248); stroke-opacity: 1; stroke-width: 1px;\"/><path class=\"ygrid crisp\" transform=\"translate(0,259.46000000000004)\" d=\"M80,0h440\" style=\"stroke: rgb(235, 240, 248); stroke-opacity: 1; stroke-width: 1px;\"/><path class=\"ygrid crisp\" transform=\"translate(0,230.55)\" d=\"M80,0h440\" style=\"stroke: rgb(235, 240, 248); stroke-opacity: 1; stroke-width: 1px;\"/><path class=\"ygrid crisp\" transform=\"translate(0,201.64)\" d=\"M80,0h440\" style=\"stroke: rgb(235, 240, 248); stroke-opacity: 1; stroke-width: 1px;\"/><path class=\"ygrid crisp\" transform=\"translate(0,172.73000000000002)\" d=\"M80,0h440\" style=\"stroke: rgb(235, 240, 248); stroke-opacity: 1; stroke-width: 1px;\"/><path class=\"ygrid crisp\" transform=\"translate(0,143.82)\" d=\"M80,0h440\" style=\"stroke: rgb(235, 240, 248); stroke-opacity: 1; stroke-width: 1px;\"/><path class=\"ygrid crisp\" transform=\"translate(0,114.91)\" d=\"M80,0h440\" style=\"stroke: rgb(235, 240, 248); stroke-opacity: 1; stroke-width: 1px;\"/></g></g><g class=\"zerolinelayer\"><path class=\"xzl zl crisp\" transform=\"translate(80,0)\" d=\"M0,100v320\" style=\"stroke: rgb(235, 240, 248); stroke-opacity: 1; stroke-width: 2px;\"/><path class=\"yzl zl crisp\" transform=\"translate(0,404)\" d=\"M80,0h440\" style=\"stroke: rgb(235, 240, 248); stroke-opacity: 1; stroke-width: 2px;\"/></g><path class=\"xlines-below\"/><path class=\"ylines-below\"/><g class=\"overlines-below\"/><g class=\"xaxislayer-below\"/><g class=\"yaxislayer-below\"/><g class=\"overaxes-below\"/><g class=\"plot\" transform=\"translate(80,100)\" clip-path=\"url(#clip14685bxyplot)\"><g class=\"scatterlayer mlayer\"><g class=\"trace scatter trace4a54d8\" style=\"stroke-miterlimit: 2; opacity: 1;\"><g class=\"fills\"/><g class=\"errorbars\"/><g class=\"lines\"><path class=\"js-line\" d=\"M0,18.3L1.86,22.82L1.87,23.95L3.11,31.85L3.73,32.98L3.77,35.24L4.97,36.37L7.47,39.76L7.48,42.02L8.71,45.4L8.72,46.53L13.07,55.57L13.15,56.7L16.23,58.95L16.29,60.08L17.49,62.34L18.68,63.47L18.76,64.6L19.93,65.73L20.51,67.99L20.56,69.12L21.27,72.5L22.43,73.63L24.99,75.89L25.6,77.02L29.89,78.15L29.9,79.28L31.78,81.54L34.22,82.67L34.45,83.8L36.09,84.93L38.01,87.18L38.07,88.31L42.36,90.57L42.75,91.7L47.4,92.83L47.47,93.96L47.54,95.09L49.23,96.22L50.15,98.48L51.81,99.61L53.61,102.99L54.68,104.12L54.84,105.25L56.06,106.38L56.83,107.51L63.03,108.64L65.08,110.9L65.27,112.03L70.68,116.55L73.46,117.67L76.11,119.93L76.55,121.06L84.07,124.45L89.83,125.58L90.93,127.84L90.97,128.97L95.83,132.35L98.58,133.48L99.73,134.61L102.43,135.74L106.5,138L106.5,139.13L107.07,140.26L110.35,141.39L111.45,142.52L113.62,143.65L114.25,144.78L118.88,145.91L119.51,147.03L121.04,148.16L123.88,149.29L132.51,150.42L134,153.81L135.62,154.94L137.72,158.33L139.97,159.46L142.16,160.59L142.27,161.72L145.74,162.84L146.29,163.97L146.33,165.1L147.34,166.23L152.89,168.49L153.15,169.62L154.18,174.14L155.77,175.27L156.62,176.4L158.93,177.52L162.15,179.78L163.4,180.91L171.17,183.17L172.65,184.3L174.36,186.56L176.18,187.69L176.75,189.95L178.07,191.08L179.42,194.46L181.27,195.59L183,197.85L183.38,198.98L184.42,200.11L187.61,201.24L189.09,203.5L189.77,204.63L191.85,208.01L195.7,209.14L196.68,211.4L196.72,212.53L196.86,213.66L198.53,214.79L202.22,217.05L203.65,218.18L206.44,221.57L209.51,222.69L209.72,223.82L211.32,224.95L214.08,228.34L214.14,229.47L216.97,231.73L217.01,232.86L217.07,233.99L218.16,235.12L218.7,236.25L220.31,237.37L222.98,240.76L223.31,241.89L225.63,244.15L226.14,245.28L231.26,248.67L231.51,249.8L232.51,252.05L235.83,253.18L238.44,254.31L239.09,255.44L240.39,256.57L240.44,257.7L242.41,261.09L244.49,262.22L245.17,264.48L246.52,265.61L247.9,270.12L252.72,271.25L255.54,272.38L255.91,273.51L256.31,274.64L258.58,275.77L260.95,276.9L261.26,278.03L262.4,280.29L263.89,281.42L265.4,284.8L267.25,285.93L271.34,288.19L277.86,289.32L280.78,290.45L280.93,291.58L285.04,292.71L285.64,293.84L289.19,298.35L291.12,299.48L298.56,301.74L305.01,302.87L9240,303.4598020798527L9240,304\" style=\"vector-effect: non-scaling-stroke; fill: none; stroke: rgb(99, 110, 250); stroke-opacity: 1; stroke-width: 2px; opacity: 1;\"/></g><g class=\"points\"/><g class=\"text\"/></g><g class=\"trace scatter tracea1eabf\" style=\"stroke-miterlimit: 2; opacity: 1;\"><g class=\"fills\"/><g class=\"errorbars\"/><g class=\"lines\"><path class=\"js-line\" d=\"M0,19.08L0.62,20.47L0.62,23.25L3.11,37.15L3.14,38.54L4.99,44.1L5.01,45.49L6.23,49.66L6.24,51.05L6.84,53.83L6.86,56.61L7.49,64.95L8.11,66.34L11.2,73.29L11.22,74.68L11.85,81.63L12.43,83.02L13.15,89.96L13.71,91.35L14.37,99.69L14.97,101.08L15.54,103.86L15.57,105.25L16.31,109.42L17.42,110.81L18.1,113.59L20.52,114.98L23.11,120.54L23.17,121.93L25.49,126.1L26.97,127.49L28.68,130.27L28.68,131.66L29.4,133.05L31.12,134.44L34.27,142.78L37.44,144.17L39.33,148.34L40.01,149.73L44.33,152.51L44.96,153.9L48.58,160.85L50.54,162.24L55.01,165.02L57.25,166.41L57.42,167.8L59.33,169.19L59.72,170.58L63.31,171.97L64.16,177.52L67.76,178.91L69.49,180.3L73.43,181.69L74.82,183.08L79,184.47L79.7,187.25L79.98,188.64L83.39,190.03L84.45,191.42L85.31,194.2L87.89,195.59L88.28,196.98L91.96,198.37L94.06,201.15L98.97,202.54L102.09,205.32L105.58,206.71L105.89,209.49L111.4,210.88L114.2,212.27L121.17,213.66L122.4,215.05L125.73,216.44L131.54,217.83L132.7,219.22L135.17,220.61L135.79,222L139.25,223.39L140.34,224.78L142.08,226.17L142.44,227.56L143.12,230.34L147.25,231.73L148.83,234.51L151.71,235.9L162.65,240.07L172.51,241.46L176.85,242.85L191.17,244.24L207.3,245.63L208.55,247.02L227.05,249.8L229.21,251.19L232.87,252.58L239.32,253.97L243.32,255.36L243.64,256.75L253.19,259.53L255.83,260.91L256.55,262.3L259.26,263.69L262.46,265.08L263.35,266.47L264.57,269.25L266.71,270.64L267.07,272.03L271.11,273.42L278.22,276.2L278.49,277.59L282.28,280.37L282.58,281.76L294.81,283.15L300.24,284.54L308,288.71L308.85,290.1L312.16,292.88L312.62,294.27L315.11,295.66L324.44,297.05L356.6,299.83L356.88,301.22L387.69,304\" style=\"vector-effect: non-scaling-stroke; fill: none; stroke: rgb(239, 85, 59); stroke-opacity: 1; stroke-width: 2px; opacity: 1;\"/></g><g class=\"points\"/><g class=\"text\"/></g><g class=\"trace scatter trace485ede\" style=\"stroke-miterlimit: 2; opacity: 1;\"><g class=\"fills\"/><g class=\"errorbars\"/><g class=\"lines\"><path class=\"js-line\" d=\"M0,16L2.49,23.61L2.49,25.24L3.16,27.95L3.73,28.5L4.4,32.85L4.98,33.39L5.6,35.56L6.23,36.11L6.84,37.19L6.85,37.74L7.53,38.82L8.11,39.37L8.75,40.45L8.76,41L9.98,42.63L10.01,43.71L11.21,45.34L11.25,45.89L12.45,48.06L12.47,49.15L13.24,52.41L13.67,52.95L14.34,59.47L14.93,60.02L15.58,64.36L16.21,64.91L16.92,66.54L17.43,67.08L17.54,67.62L18.64,68.17L19.33,71.97L19.91,72.51L20.58,75.23L21.3,75.77L22.47,79.58L23.04,80.12L23.74,82.84L24.27,83.38L25.54,86.64L26.16,87.18L26.73,88.82L27.42,89.36L28.01,91.53L28.66,92.08L29.27,94.79L30.11,95.34L31.11,96.97L31.14,97.51L34.28,99.68L34.38,100.23L36.23,101.86L36.33,102.4L37.53,103.49L37.96,104.03L39.91,105.66L40.45,106.2L40.67,107.29L41.71,107.83L42.4,108.92L42.87,109.46L44.96,111.64L45.15,112.18L47.89,115.44L48.62,115.98L50.07,118.7L50.5,119.25L54.13,120.88L54.34,121.42L54.78,122.51L56.08,123.05L57.9,126.85L59.8,127.4L62.3,129.03L63.5,129.57L64.88,131.2L64.93,131.74L65.01,132.83L65.9,133.37L68.75,137.18L68.81,137.72L68.82,138.26L71.57,138.81L72.57,139.89L72.84,140.44L75.3,142.61L75.34,143.15L77.81,145.33L78.98,145.87L79.93,148.05L80.92,148.59L81.46,150.22L82.1,150.76L83.34,153.48L84.18,154.02L88.69,157.28L89.28,157.83L90.91,158.91L91.32,159.46L96.04,163.26L96.42,163.8L97.28,165.98L97.65,166.52L100.09,168.15L102.6,168.69L103.51,169.78L103.62,170.32L107.66,171.41L107.77,171.95L108.91,173.04L108.91,173.58L109.65,174.67L110.06,175.76L112.01,176.85L112.05,177.39L115.09,179.02L115.13,179.56L115.33,180.65L117.62,181.19L120.19,182.82L120.41,183.37L120.47,183.91L121.48,184.45L124.55,186.63L124.69,187.17L126.16,188.8L127.03,189.34L127.61,190.43L128.29,190.97L128.47,191.52L129.69,192.06L131.39,193.69L131.99,194.23L133.17,195.86L133.42,196.41L134.99,199.12L137.32,199.67L139.53,200.75L139.93,201.3L140.04,202.38L141.14,202.93L142.08,205.1L142.29,205.65L145.11,207.28L145.23,207.82L146.22,209.99L147.02,210.54L149.52,213.25L149.59,213.8L150.19,215.43L151.42,215.97L154.06,218.69L154.11,219.23L155.68,220.86L155.76,221.4L156.77,223.58L157.07,224.12L158.66,227.38L159.77,227.92L159.82,228.47L160.74,229.01L160.89,229.55L161.83,230.1L162.14,230.64L163.34,231.18L165.17,234.99L166.52,235.53L169.11,239.34L169.5,239.88L170.94,243.14L171.37,243.68L173.17,245.86L173.62,246.4L175.98,249.12L176.2,249.66L180.38,252.38L182.39,252.92L183.85,255.09L183.99,255.64L185.01,256.72L185.2,257.27L186.67,259.44L188.45,259.98L189.32,262.16L190.52,262.7L193.55,264.88L193.98,265.42L194.32,266.51L195.57,267.05L200.56,271.4L200.61,271.94L204.35,276.29L205.33,276.83L205.59,277.37L206.84,277.92L208.19,279.55L211.63,280.09L212.68,281.72L212.83,282.26L215.97,283.89L215.98,284.44L217.44,285.52L217.55,286.07L219.3,287.7L219.47,288.24L225.14,289.33L225.75,289.87L225.88,290.42L228.6,290.96L229.4,292.05L230.73,292.59L231.65,293.68L232.32,294.76L234.1,296.39L236.75,296.94L243.67,299.65L244.39,300.2L247.64,301.28L248.37,301.83L256.06,302.37L285.13,302.91L285.73,304\" style=\"vector-effect: non-scaling-stroke; fill: none; stroke: rgb(0, 204, 150); stroke-opacity: 1; stroke-width: 2px; opacity: 1;\"/></g><g class=\"points\"/><g class=\"text\"/></g><g class=\"trace scatter trace0916a2\" style=\"stroke-miterlimit: 2; opacity: 1;\"><g class=\"fills\"/><g class=\"errorbars\"/><g class=\"lines\"><path class=\"js-line\" d=\"M0.62,16.75L3.11,18.6L4.43,19.52L8.12,24.12L8.82,25.04L11.3,30.56L13.09,31.49L13.7,33.33L14.31,34.25L14.92,35.17L17.44,36.09L21.13,42.53L22.71,43.45L24.26,46.22L25.7,47.14L30.47,50.82L30.6,51.74L34.89,55.42L35.05,56.34L37.46,59.1L37.58,60.03L38.96,60.95L41.73,61.87L44.75,66.47L44.79,67.39L49.71,69.23L50.58,70.15L50.6,71.07L51.58,71.99L51.76,72.91L52.96,73.84L54.86,75.68L56.05,76.6L57.44,79.36L58.46,80.28L58.55,81.2L59.75,82.12L59.82,83.04L61.06,83.96L62.88,85.8L63.12,86.72L64.16,90.41L65.48,91.33L67.25,93.17L67.37,94.09L70.76,100.53L70.77,101.46L73.01,104.22L73.08,105.14L74.6,109.74L74.83,110.66L75.96,112.5L75.99,113.42L76.73,118.95L77.64,119.87L78.42,121.71L79.1,122.63L82.98,128.15L83.29,129.07L84.48,131.84L87.8,132.76L87.98,133.68L89.16,134.6L89.57,136.44L90.87,137.36L92.18,141.04L93.45,141.96L97.66,144.73L98.24,145.65L99.61,147.49L99.65,148.41L100.91,150.25L102.26,151.17L102.65,153.01L103.74,153.93L105.85,154.85L106.01,155.77L107.66,157.62L108.6,158.54L109.61,162.22L110.9,163.14L113.45,168.66L113.53,169.58L114.86,172.35L115.06,173.27L119.43,174.19L119.53,175.11L121.31,176.95L122.16,177.87L123.25,179.71L125.53,180.63L126.73,184.31L127.28,185.24L129.27,188.92L130.33,189.84L132.67,194.44L133.91,195.36L134.49,197.2L137.79,198.12L139.49,201.81L140.86,202.73L142.56,204.57L146.4,205.49L148.07,206.41L148.16,207.33L151.11,214.7L153.04,215.62L156.2,219.3L157.55,220.22L159.76,222.06L159.97,222.98L166.9,227.59L167.46,228.51L170.32,231.27L173.43,232.19L179.4,236.79L181.25,237.71L181.81,238.63L184.33,239.55L185.16,241.4L185.59,242.32L189.9,244.16L190.43,245.08L199.73,252.44L200,253.36L201.79,257.97L204.11,258.89L204.2,259.81L206.67,260.73L209.28,262.57L209.41,263.49L210.06,264.41L213.83,265.33L216.25,267.17L217.98,268.09L220.15,271.78L222.01,272.7L226.29,275.46L227.24,276.38L232.07,282.82L233.47,283.75L234.01,285.59L235.81,286.51L238.55,289.27L241.43,290.19L242.42,292.03L242.86,292.95L247.73,294.79L248.14,295.71L248.47,296.63L255.17,297.56L260.33,299.4L261.84,300.32L287.3,304\" style=\"vector-effect: non-scaling-stroke; fill: none; stroke: rgb(171, 99, 250); stroke-opacity: 1; stroke-width: 2px; opacity: 1;\"/></g><g class=\"points\"/><g class=\"text\"/></g><g class=\"trace scatter tracea2f596\" style=\"stroke-miterlimit: 2; opacity: 1;\"><g class=\"fills\"/><g class=\"errorbars\"/><g class=\"lines\"><path class=\"js-line\" d=\"M0,16.03L0.62,16.58L0.62,17.7L1.86,19.37L1.87,21.04L2.59,26.61L3.11,27.72L3.78,31.62L4.35,32.18L5,35.52L5.59,36.08L6.27,39.98L6.84,40.54L7.52,43.88L8.08,44.43L8.74,47.22L9.36,47.78L10.03,52.79L10.58,53.35L11.24,56.69L11.83,57.25L12.5,61.14L13.07,61.7L13.8,63.93L14.34,64.49L14.93,65.04L14.94,66.16L15.57,68.94L16.18,69.5L16.82,70.61L16.82,71.17L17.58,73.4L18.05,74.51L18.82,77.86L19.27,78.41L20.01,82.31L21.15,82.87L21.77,86.21L22.43,86.77L23.11,89L23.65,89.55L24.27,91.78L25.52,92.34L26.23,96.24L26.76,96.79L28.04,98.46L28.11,99.02L28.7,100.69L29.28,101.25L29.95,102.92L30.09,103.48L36.19,110.16L37.57,110.72L40.47,113.5L40.48,114.06L41.12,115.17L41.62,115.73L42.45,117.4L43.19,117.96L43.85,120.19L44.43,120.74L44.85,121.3L46.66,121.86L47.72,124.64L47.98,125.2L49.3,126.31L51.34,126.87L52.95,129.1L53.53,129.66L55.38,133L56.35,133.56L59.09,136.34L59.76,136.9L60.32,138.01L61.13,138.57L61.48,139.68L62.1,140.24L62.89,141.91L64.64,142.47L65.01,143.58L65.99,144.14L69.65,148.04L70,148.59L72.75,150.27L72.84,150.82L73.64,153.61L74.09,154.17L77.42,156.39L77.94,156.95L79.45,159.74L79.49,160.29L79.74,160.85L81.5,161.41L81.64,161.96L83.19,162.52L86.66,168.65L88.26,169.2L91.58,172.55L91.95,173.1L92.29,174.22L93.86,174.77L95.84,177.56L95.92,178.12L98.47,180.34L98.85,180.9L99.26,182.02L100.26,182.57L102.45,184.24L103.95,184.8L108.75,187.59L109.1,188.14L109.34,189.26L110.94,189.81L111.22,190.93L112.31,191.48L117.13,193.71L118.6,194.27L120.36,196.5L121.59,197.05L124.62,199.84L125.16,200.4L128.81,202.62L128.87,203.18L130,205.41L132.3,205.97L135.15,208.19L135.21,208.75L139.59,212.65L141.24,213.21L144.48,217.66L146.29,218.22L148.15,220.45L149.06,221.01L151.22,222.12L151.27,222.68L154.97,224.9L155.5,225.46L156.32,228.8L157.72,229.36L161.95,232.15L162.2,232.7L162.29,233.82L163.12,234.37L168.32,238.83L168.36,239.39L168.94,240.5L171.39,241.06L173.98,244.96L174.63,245.51L175.67,248.3L175.68,248.86L176.36,251.08L176.99,251.64L178.78,252.76L178.9,253.31L181.55,256.1L183.65,256.65L190.9,262.22L190.96,262.78L192.31,264.45L192.6,265.01L195.56,266.68L196.11,267.24L197.87,268.35L198.16,268.91L199.25,272.81L200.38,273.36L203.07,277.26L205.07,277.82L208.79,278.93L209.95,279.49L216.99,282.83L217.32,283.39L218.19,285.62L219.85,286.18L221.37,287.85L221.95,288.4L226.02,292.86L227.4,293.42L238.07,296.2L238.08,296.76L238.21,297.32L240.13,297.87L249.42,298.99L250.51,299.54L262.96,302.33L264.17,302.89L265.43,303.44L272.86,304\" style=\"vector-effect: non-scaling-stroke; fill: none; stroke: rgb(255, 161, 90); stroke-opacity: 1; stroke-width: 2px; opacity: 1;\"/></g><g class=\"points\"/><g class=\"text\"/></g></g></g><g class=\"overplot\"/><path class=\"xlines-above crisp\" d=\"M0,0\" style=\"fill: none;\"/><path class=\"ylines-above crisp\" d=\"M0,0\" style=\"fill: none;\"/><g class=\"overlines-above\"/><g class=\"xaxislayer-above\"><g class=\"xtick\"><text text-anchor=\"middle\" x=\"0\" y=\"433\" transform=\"translate(80,0)\" style=\"font-family: 'Open Sans', verdana, arial, sans-serif; font-size: 12px; fill: rgb(42, 63, 95); fill-opacity: 1; white-space: pre; opacity: 1;\">0</text></g><g class=\"xtick\"><text text-anchor=\"middle\" x=\"0\" y=\"433\" style=\"font-family: 'Open Sans', verdana, arial, sans-serif; font-size: 12px; fill: rgb(42, 63, 95); fill-opacity: 1; white-space: pre; opacity: 1;\" transform=\"translate(190,0)\">6</text></g><g class=\"xtick\"><text text-anchor=\"middle\" x=\"0\" y=\"433\" style=\"font-family: 'Open Sans', verdana, arial, sans-serif; font-size: 12px; fill: rgb(42, 63, 95); fill-opacity: 1; white-space: pre; opacity: 1;\" transform=\"translate(300,0)\">12</text></g><g class=\"xtick\"><text text-anchor=\"middle\" x=\"0\" y=\"433\" style=\"font-family: 'Open Sans', verdana, arial, sans-serif; font-size: 12px; fill: rgb(42, 63, 95); fill-opacity: 1; white-space: pre; opacity: 1;\" transform=\"translate(410,0)\">18</text></g></g><g class=\"yaxislayer-above\"><g class=\"ytick\"><text text-anchor=\"end\" x=\"79\" y=\"4.199999999999999\" transform=\"translate(0,404)\" style=\"font-family: 'Open Sans', verdana, arial, sans-serif; font-size: 12px; fill: rgb(42, 63, 95); fill-opacity: 1; white-space: pre; opacity: 1;\">0</text></g><g class=\"ytick\"><text text-anchor=\"end\" x=\"79\" y=\"4.199999999999999\" style=\"font-family: 'Open Sans', verdana, arial, sans-serif; font-size: 12px; fill: rgb(42, 63, 95); fill-opacity: 1; white-space: pre; opacity: 1;\" transform=\"translate(0,375.09)\">0.1</text></g><g class=\"ytick\"><text text-anchor=\"end\" x=\"79\" y=\"4.199999999999999\" style=\"font-family: 'Open Sans', verdana, arial, sans-serif; font-size: 12px; fill: rgb(42, 63, 95); fill-opacity: 1; white-space: pre; opacity: 1;\" transform=\"translate(0,346.18)\">0.2</text></g><g class=\"ytick\"><text text-anchor=\"end\" x=\"79\" y=\"4.199999999999999\" style=\"font-family: 'Open Sans', verdana, arial, sans-serif; font-size: 12px; fill: rgb(42, 63, 95); fill-opacity: 1; white-space: pre; opacity: 1;\" transform=\"translate(0,317.27)\">0.3</text></g><g class=\"ytick\"><text text-anchor=\"end\" x=\"79\" y=\"4.199999999999999\" style=\"font-family: 'Open Sans', verdana, arial, sans-serif; font-size: 12px; fill: rgb(42, 63, 95); fill-opacity: 1; white-space: pre; opacity: 1;\" transform=\"translate(0,288.37)\">0.4</text></g><g class=\"ytick\"><text text-anchor=\"end\" x=\"79\" y=\"4.199999999999999\" style=\"font-family: 'Open Sans', verdana, arial, sans-serif; font-size: 12px; fill: rgb(42, 63, 95); fill-opacity: 1; white-space: pre; opacity: 1;\" transform=\"translate(0,259.46000000000004)\">0.5</text></g><g class=\"ytick\"><text text-anchor=\"end\" x=\"79\" y=\"4.199999999999999\" style=\"font-family: 'Open Sans', verdana, arial, sans-serif; font-size: 12px; fill: rgb(42, 63, 95); fill-opacity: 1; white-space: pre; opacity: 1;\" transform=\"translate(0,230.55)\">0.6</text></g><g class=\"ytick\"><text text-anchor=\"end\" x=\"79\" y=\"4.199999999999999\" style=\"font-family: 'Open Sans', verdana, arial, sans-serif; font-size: 12px; fill: rgb(42, 63, 95); fill-opacity: 1; white-space: pre; opacity: 1;\" transform=\"translate(0,201.64)\">0.7</text></g><g class=\"ytick\"><text text-anchor=\"end\" x=\"79\" y=\"4.199999999999999\" style=\"font-family: 'Open Sans', verdana, arial, sans-serif; font-size: 12px; fill: rgb(42, 63, 95); fill-opacity: 1; white-space: pre; opacity: 1;\" transform=\"translate(0,172.73000000000002)\">0.8</text></g><g class=\"ytick\"><text text-anchor=\"end\" x=\"79\" y=\"4.199999999999999\" style=\"font-family: 'Open Sans', verdana, arial, sans-serif; font-size: 12px; fill: rgb(42, 63, 95); fill-opacity: 1; white-space: pre; opacity: 1;\" transform=\"translate(0,143.82)\">0.9</text></g><g class=\"ytick\"><text text-anchor=\"end\" x=\"79\" y=\"4.199999999999999\" style=\"font-family: 'Open Sans', verdana, arial, sans-serif; font-size: 12px; fill: rgb(42, 63, 95); fill-opacity: 1; white-space: pre; opacity: 1;\" transform=\"translate(0,114.91)\">1</text></g></g><g class=\"overaxes-above\"/></g></g><g class=\"polarlayer\"/><g class=\"smithlayer\"/><g class=\"ternarylayer\"/><g class=\"geolayer\"/><g class=\"funnelarealayer\"/><g class=\"pielayer\"/><g class=\"iciclelayer\"/><g class=\"treemaplayer\"/><g class=\"sunburstlayer\"/><g class=\"glimages\"/><defs id=\"topdefs-14685b\"><g class=\"clips\"/><clipPath id=\"legend14685b\"><rect width=\"159\" height=\"105\" x=\"0\" y=\"0\"/></clipPath></defs><g class=\"layer-above\"><g class=\"imagelayer\"/><g class=\"shapelayer\"/></g><g class=\"infolayer\"><g class=\"legend\" pointer-events=\"all\" transform=\"translate(528.8,100)\"><rect class=\"bg\" shape-rendering=\"crispEdges\" width=\"159\" height=\"105\" x=\"0\" y=\"0\" style=\"stroke: rgb(68, 68, 68); stroke-opacity: 1; fill: rgb(255, 255, 255); fill-opacity: 1; stroke-width: 0px;\"/><g class=\"scrollbox\" transform=\"\" clip-path=\"url(#legend14685b)\"><g class=\"groups\"><g class=\"traces\" transform=\"translate(0,14.5)\" style=\"opacity: 1;\"><text class=\"legendtext\" text-anchor=\"start\" x=\"40\" y=\"4.680000000000001\" style=\"font-family: 'Open Sans', verdana, arial, sans-serif; font-size: 12px; fill: rgb(42, 63, 95); fill-opacity: 1; white-space: pre;\">r/mildlyinfuriating</text><g class=\"layers\" style=\"opacity: 1;\"><g class=\"legendfill\"/><g class=\"legendlines\"><path class=\"js-line\" d=\"M5,0h30\" style=\"fill: none; stroke: rgb(99, 110, 250); stroke-opacity: 1; stroke-width: 2px;\"/></g><g class=\"legendsymbols\"><g class=\"legendpoints\"/></g></g><rect class=\"legendtoggle\" x=\"0\" y=\"-9.5\" width=\"153.859375\" height=\"19\" style=\"fill: rgb(0, 0, 0); fill-opacity: 0;\"/></g><g class=\"traces\" transform=\"translate(0,33.5)\" style=\"opacity: 1;\"><text class=\"legendtext\" text-anchor=\"start\" x=\"40\" y=\"4.680000000000001\" style=\"font-family: 'Open Sans', verdana, arial, sans-serif; font-size: 12px; fill: rgb(42, 63, 95); fill-opacity: 1; white-space: pre;\">r/HumansBeingBros</text><g class=\"layers\" style=\"opacity: 1;\"><g class=\"legendfill\"/><g class=\"legendlines\"><path class=\"js-line\" d=\"M5,0h30\" style=\"fill: none; stroke: rgb(239, 85, 59); stroke-opacity: 1; stroke-width: 2px;\"/></g><g class=\"legendsymbols\"><g class=\"legendpoints\"/></g></g><rect class=\"legendtoggle\" x=\"0\" y=\"-9.5\" width=\"153.859375\" height=\"19\" style=\"fill: rgb(0, 0, 0); fill-opacity: 0;\"/></g><g class=\"traces\" transform=\"translate(0,52.5)\" style=\"opacity: 1;\"><text class=\"legendtext\" text-anchor=\"start\" x=\"40\" y=\"4.680000000000001\" style=\"font-family: 'Open Sans', verdana, arial, sans-serif; font-size: 12px; fill: rgb(42, 63, 95); fill-opacity: 1; white-space: pre;\">r/worldnews</text><g class=\"layers\" style=\"opacity: 1;\"><g class=\"legendfill\"/><g class=\"legendlines\"><path class=\"js-line\" d=\"M5,0h30\" style=\"fill: none; stroke: rgb(0, 204, 150); stroke-opacity: 1; stroke-width: 2px;\"/></g><g class=\"legendsymbols\"><g class=\"legendpoints\"/></g></g><rect class=\"legendtoggle\" x=\"0\" y=\"-9.5\" width=\"153.859375\" height=\"19\" style=\"fill: rgb(0, 0, 0); fill-opacity: 0;\"/></g><g class=\"traces\" transform=\"translate(0,71.5)\" style=\"opacity: 1;\"><text class=\"legendtext\" text-anchor=\"start\" x=\"40\" y=\"4.680000000000001\" style=\"font-family: 'Open Sans', verdana, arial, sans-serif; font-size: 12px; fill: rgb(42, 63, 95); fill-opacity: 1; white-space: pre;\">r/aww</text><g class=\"layers\" style=\"opacity: 1;\"><g class=\"legendfill\"/><g class=\"legendlines\"><path class=\"js-line\" d=\"M5,0h30\" style=\"fill: none; stroke: rgb(171, 99, 250); stroke-opacity: 1; stroke-width: 2px;\"/></g><g class=\"legendsymbols\"><g class=\"legendpoints\"/></g></g><rect class=\"legendtoggle\" x=\"0\" y=\"-9.5\" width=\"153.859375\" height=\"19\" style=\"fill: rgb(0, 0, 0); fill-opacity: 0;\"/></g><g class=\"traces\" transform=\"translate(0,90.5)\" style=\"opacity: 1;\"><text class=\"legendtext\" text-anchor=\"start\" x=\"40\" y=\"4.680000000000001\" style=\"font-family: 'Open Sans', verdana, arial, sans-serif; font-size: 12px; fill: rgb(42, 63, 95); fill-opacity: 1; white-space: pre;\">r/interestingasfuck</text><g class=\"layers\" style=\"opacity: 1;\"><g class=\"legendfill\"/><g class=\"legendlines\"><path class=\"js-line\" d=\"M5,0h30\" style=\"fill: none; stroke: rgb(255, 161, 90); stroke-opacity: 1; stroke-width: 2px;\"/></g><g class=\"legendsymbols\"><g class=\"legendpoints\"/></g></g><rect class=\"legendtoggle\" x=\"0\" y=\"-9.5\" width=\"153.859375\" height=\"19\" style=\"fill: rgb(0, 0, 0); fill-opacity: 0;\"/></g></g></g><rect class=\"scrollbar\" rx=\"20\" ry=\"3\" width=\"0\" height=\"0\" x=\"0\" y=\"0\" style=\"fill: rgb(128, 139, 164); fill-opacity: 1;\"/></g><g class=\"g-gtitle\"><text class=\"gtitle\" x=\"35\" y=\"50\" text-anchor=\"start\" dy=\"0em\" style=\"font-family: 'Open Sans', verdana, arial, sans-serif; font-size: 17px; fill: rgb(42, 63, 95); opacity: 1; font-weight: normal; white-space: pre;\">Popular Window Survival for Sampled Subreddits's r/popular Threads</text></g><g class=\"g-xtitle\"><text class=\"xtitle\" x=\"300\" y=\"461.8\" text-anchor=\"middle\" style=\"font-family: 'Open Sans', verdana, arial, sans-serif; font-size: 14px; fill: rgb(42, 63, 95); opacity: 1; font-weight: normal; white-space: pre;\">#hours</text></g><g class=\"g-ytitle\"><text class=\"ytitle\" transform=\"rotate(-90,37.278125,260)\" x=\"37.278125\" y=\"260\" text-anchor=\"middle\" style=\"font-family: 'Open Sans', verdana, arial, sans-serif; font-size: 14px; fill: rgb(42, 63, 95); opacity: 1; font-weight: normal; white-space: pre;\">%survival</text></g></g></svg>"
      ]
     },
     "metadata": {},
     "output_type": "display_data"
    }
   ],
   "source": [
    "def display_subreddit_survival(feature, \n",
    "                               save=False,\n",
    "                               subreddits=None,\n",
    "                               n=5,\n",
    "                               threshold=200,\n",
    "                               seed=None):\n",
    "    \n",
    "    assert feature in ['popular_window', 'active_window']\n",
    "    \n",
    "    if subreddits is not None:\n",
    "        sample_subreddits = subreddits\n",
    "    elif seed is None:\n",
    "        counts = list_popular_subreddits()\n",
    "        sample_subreddits = counts[counts['num_threads'] > threshold].sample(n=n) \\\n",
    "            .index.to_list()\n",
    "    else:\n",
    "        counts = list_popular_subreddits()\n",
    "        sample_subreddits = counts[counts['num_threads'] > threshold] \\\n",
    "            .sample(n=n, random_state=seed) \\\n",
    "            .index.to_list()\n",
    "        \n",
    "    threads = get_popular_threads(\n",
    "        filter={'subreddit': {'$in': sample_subreddits},\n",
    "                feature: {'$ne': None}},\n",
    "        columns=[feature] + ['subreddit']\n",
    "    )\n",
    "    \n",
    "    fig = go.Figure()\n",
    "    \n",
    "    if feature == 'popular_window':\n",
    "        title = '#hours'\n",
    "        denominator = int(dt.timedelta(hours=1).total_seconds())\n",
    "        x_range = [0, 24]\n",
    "        tickvals = [i for i in range(0, 24, 6)]\n",
    "    else:\n",
    "        title = '#weeks'\n",
    "        denominator = int(dt.timedelta(days=7).total_seconds()),\n",
    "        x_range = None # autorange\n",
    "        tickvals = None # autorange\n",
    "    \n",
    "    \n",
    "    for subreddit in sample_subreddits:\n",
    "        \n",
    "        subreddit_threads = threads[threads['subreddit'] == subreddit]\n",
    "        \n",
    "        time, survival_probability = kme(\n",
    "            np.ones(len(subreddit_threads)).astype(bool),\n",
    "            subreddit_threads[feature] / denominator\n",
    "        )\n",
    "        \n",
    "        fig.add_trace(\n",
    "            go.Scatter(\n",
    "                x=time, \n",
    "                y=survival_probability, \n",
    "                name=f'r/{subreddit}'\n",
    "            )\n",
    "        )\n",
    "    \n",
    "    fig.update_xaxes(title=title,\n",
    "                     range=x_range,\n",
    "                     tickvals=tickvals)\n",
    "    fig.update_yaxes(title='%survival', tickvals=[i / 10 for i in range(11)])\n",
    "    \n",
    "    feature = feature.replace('_', ' ').title()\n",
    "    \n",
    "    fig.update_layout(\n",
    "        template='plotly_white',\n",
    "        title=f'{feature} Survival for Sampled Subreddits\\'s r/popular Threads' \n",
    "    )\n",
    "    \n",
    "    if save:\n",
    "        fig.write_image('figs/subreddit_survival.png', scale=3)\n",
    "        \n",
    "    fig.show('svg')\n",
    "    \n",
    "    return\n",
    "\n",
    "seed = 1\n",
    "display_subreddit_survival('active_window', seed=seed)\n",
    "display_subreddit_survival('popular_window', seed=seed)"
   ]
  },
  {
   "cell_type": "code",
   "execution_count": 664,
   "id": "8e7834a4",
   "metadata": {
    "ExecuteTime": {
     "end_time": "2022-06-09T01:32:16.947981Z",
     "start_time": "2022-06-09T01:32:14.301853Z"
    },
    "code_folding": [
     0
    ]
   },
   "outputs": [
    {
     "data": {
      "image/svg+xml": [
       "<svg class=\"main-svg\" xmlns=\"http://www.w3.org/2000/svg\" xmlns:xlink=\"http://www.w3.org/1999/xlink\" width=\"700\" height=\"500\" style=\"\" viewBox=\"0 0 700 500\"><rect x=\"0\" y=\"0\" width=\"700\" height=\"500\" style=\"fill: rgb(255, 255, 255); fill-opacity: 1;\"/><defs id=\"defs-ca595c\"><g class=\"clips\"><clipPath id=\"clipca595cxyplot\" class=\"plotclip\"><rect width=\"506\" height=\"320\"/></clipPath><clipPath class=\"axesclip\" id=\"clipca595cx\"><rect x=\"80\" y=\"0\" width=\"506\" height=\"500\"/></clipPath><clipPath class=\"axesclip\" id=\"clipca595cy\"><rect x=\"0\" y=\"100\" width=\"700\" height=\"320\"/></clipPath><clipPath class=\"axesclip\" id=\"clipca595cxy\"><rect x=\"80\" y=\"100\" width=\"506\" height=\"320\"/></clipPath></g><g class=\"gradients\"/><g class=\"patterns\"/></defs><g class=\"bglayer\"/><g class=\"layer-below\"><g class=\"imagelayer\"/><g class=\"shapelayer\"/></g><g class=\"cartesianlayer\"><g class=\"subplot xy\"><g class=\"layer-subplot\"><g class=\"shapelayer\"/><g class=\"imagelayer\"/></g><g class=\"gridlayer\"><g class=\"x\"><path class=\"xgrid crisp\" transform=\"translate(206.5,0)\" d=\"M0,100v320\" style=\"stroke: rgb(235, 240, 248); stroke-opacity: 1; stroke-width: 1px;\"/><path class=\"xgrid crisp\" transform=\"translate(333,0)\" d=\"M0,100v320\" style=\"stroke: rgb(235, 240, 248); stroke-opacity: 1; stroke-width: 1px;\"/><path class=\"xgrid crisp\" transform=\"translate(459.5,0)\" d=\"M0,100v320\" style=\"stroke: rgb(235, 240, 248); stroke-opacity: 1; stroke-width: 1px;\"/></g><g class=\"y\"><path class=\"ygrid crisp\" transform=\"translate(0,375.05)\" d=\"M80,0h506\" style=\"stroke: rgb(235, 240, 248); stroke-opacity: 1; stroke-width: 1px;\"/><path class=\"ygrid crisp\" transform=\"translate(0,346.11)\" d=\"M80,0h506\" style=\"stroke: rgb(235, 240, 248); stroke-opacity: 1; stroke-width: 1px;\"/><path class=\"ygrid crisp\" transform=\"translate(0,317.15999999999997)\" d=\"M80,0h506\" style=\"stroke: rgb(235, 240, 248); stroke-opacity: 1; stroke-width: 1px;\"/><path class=\"ygrid crisp\" transform=\"translate(0,288.21000000000004)\" d=\"M80,0h506\" style=\"stroke: rgb(235, 240, 248); stroke-opacity: 1; stroke-width: 1px;\"/><path class=\"ygrid crisp\" transform=\"translate(0,259.27)\" d=\"M80,0h506\" style=\"stroke: rgb(235, 240, 248); stroke-opacity: 1; stroke-width: 1px;\"/><path class=\"ygrid crisp\" transform=\"translate(0,230.32)\" d=\"M80,0h506\" style=\"stroke: rgb(235, 240, 248); stroke-opacity: 1; stroke-width: 1px;\"/><path class=\"ygrid crisp\" transform=\"translate(0,201.37)\" d=\"M80,0h506\" style=\"stroke: rgb(235, 240, 248); stroke-opacity: 1; stroke-width: 1px;\"/><path class=\"ygrid crisp\" transform=\"translate(0,172.43)\" d=\"M80,0h506\" style=\"stroke: rgb(235, 240, 248); stroke-opacity: 1; stroke-width: 1px;\"/><path class=\"ygrid crisp\" transform=\"translate(0,143.48)\" d=\"M80,0h506\" style=\"stroke: rgb(235, 240, 248); stroke-opacity: 1; stroke-width: 1px;\"/><path class=\"ygrid crisp\" transform=\"translate(0,114.53)\" d=\"M80,0h506\" style=\"stroke: rgb(235, 240, 248); stroke-opacity: 1; stroke-width: 1px;\"/></g></g><g class=\"zerolinelayer\"><path class=\"xzl zl crisp\" transform=\"translate(80,0)\" d=\"M0,100v320\" style=\"stroke: rgb(235, 240, 248); stroke-opacity: 1; stroke-width: 2px;\"/><path class=\"yzl zl crisp\" transform=\"translate(0,404)\" d=\"M80,0h506\" style=\"stroke: rgb(235, 240, 248); stroke-opacity: 1; stroke-width: 2px;\"/></g><path class=\"xlines-below\"/><path class=\"ylines-below\"/><g class=\"overlines-below\"/><g class=\"xaxislayer-below\"/><g class=\"yaxislayer-below\"/><g class=\"overaxes-below\"/><g class=\"plot\" transform=\"translate(80,100)\" clip-path=\"url(#clipca595cxyplot)\"><g class=\"scatterlayer mlayer\"><g class=\"trace scatter trace1bdbe5\" style=\"stroke-miterlimit: 2; opacity: 1;\"><g class=\"fills\"/><g class=\"errorbars\"/><g class=\"lines\"><path class=\"js-line\" d=\"M0,16.9L0.71,16.96L0.71,17.84L1.5,19.99L2.14,20.15L2.89,26.59L2.9,26.62L3.64,28.08L4.28,28.11L5.08,31.05L5.71,31.08L6.52,34.77L7.14,34.8L8,38.11L8.24,38.12L8.59,38.67L8.6,38.95L9.44,41.87L10,41.92L10.85,45.24L10.91,45.26L11.49,46.02L11.5,46.09L13.03,48.93L13.58,48.98L14.44,51.08L14.48,51.1L15.12,51.85L15.12,51.9L15.9,53.36L16.42,53.37L17.35,55.73L17.86,55.74L18.9,57.71L19.28,57.73L20.33,59.77L20.73,59.79L21.73,62.05L21.93,62.06L22.31,62.86L22.32,62.88L22.97,63.74L22.97,63.77L25.31,66.95L25.7,66.97L27.02,69.3L27.14,69.32L28.19,71.35L28.58,71.36L29.58,73.44L29.99,73.46L31.88,76.5L32.08,76.51L34.42,79.65L34.42,79.68L37.15,82.6L37.18,82.62L38.4,84.39L38.61,84.42L39.7,86.48L40,86.49L42.66,90.65L42.86,90.68L44.2,92.69L44.33,92.72L46.24,95.06L46.41,95.07L48.48,97.63L48.61,97.66L49.96,99.46L50.01,99.47L63.91,117.09L63.92,117.11L65.28,118.72L65.28,118.74L67.05,120.8L67.14,120.81L70.31,125.04L70.32,125.06L74.52,130.3L74.53,130.35L77.76,133.88L77.8,133.9L79.53,136L79.53,136.02L87.03,144.4L87.15,144.41L90.32,148.07L90.34,148.12L92.44,150.44L92.45,150.46L97.24,155.07L97.31,155.09L102.76,161L102.79,161.02L114.86,173.52L114.98,173.54L117.48,176.07L117.5,176.09L118.94,177.66L118.95,177.69L125.08,183.28L125.11,183.3L140.67,196.12L140.77,196.14L143.09,197.86L143.1,197.88L144.76,199.21L144.81,199.23L154.45,205.98L154.48,205.99L158.48,208.67L158.56,208.69L160.8,209.98L160.81,210.01L163.42,211.31L163.58,211.33L166.27,213.07L166.28,213.08L172.23,216.56L172.29,216.57L175.68,218.56L175.69,218.57L178.91,220.06L178.92,220.09L183.4,222.31L183.47,222.32L185.71,223.29L185.73,223.31L188.68,224.86L188.73,224.88L204.69,231.64L204.76,231.66L236.05,244.53L236.06,244.54L238.76,245.59L238.8,245.6L253.55,251.88L253.56,251.89L257.12,253.21L257.22,253.23L267.96,257.57L267.98,257.6L271.58,259.16L271.73,259.18L276.57,261.33L276.72,261.35L299.79,271.57L299.99,271.59L302.68,272.91L302.7,272.93L330.16,284.6L330.28,284.61L348.4,290.3L348.62,290.32L358.35,293.07L358.48,293.08L365.11,294.41L365.25,294.42L375.31,296.76L375.33,296.77L379.34,297.59L379.52,297.6L399.76,300.43L400.64,300.45L409.39,301.46L409.43,301.48L456.66,303.65L457.58,303.66L10626,303.76465802705707L10626,304\" style=\"vector-effect: non-scaling-stroke; fill: none; stroke: rgb(99, 110, 250); stroke-opacity: 1; stroke-width: 2px; opacity: 1;\"/></g><g class=\"points\"/><g class=\"text\"/></g><g class=\"trace scatter trace952a3c\" style=\"stroke-miterlimit: 2; opacity: 1;\"><g class=\"fills\"/><g class=\"errorbars\"/><g class=\"lines\"><path class=\"js-line\" d=\"M0,16L0.71,16.06L0.71,16.9L1.46,18.42L2.14,19.74L2.93,24.28L2.96,24.31L3.58,25.12L3.58,25.42L4.42,27.09L5,27.21L5.75,30.17L5.76,30.32L6.53,32.3L7.14,32.39L7.96,35.85L8.56,35.88L9.47,39.35L10,39.38L10.83,42.19L11.44,42.22L12.31,44.82L12.86,44.85L13.76,47.9L14.3,47.96L15.16,50.74L15.73,50.8L16.67,53.64L16.89,53.67L17.22,54.42L17.24,54.51L18.77,56.96L19.3,56.99L20.12,58.58L20.15,58.64L20.94,59.98L21.43,60.01L22.34,62.26L22.89,62.32L23.71,64.35L23.75,64.38L24.53,65.75L24.91,65.78L25.25,66.92L25.25,66.95L26.46,67.85L26.47,67.88L27.47,69.61L27.74,69.64L28.64,70.84L28.66,70.87L29.53,72.69L29.55,72.72L30.38,74.1L30.76,74.16L31.78,75.98L32.13,76.01L33.97,78.43L34.32,78.46L35.34,80.52L35.37,80.55L35.97,81.39L35.98,81.42L36.78,82.26L37.12,82.29L40.42,87.34L40.72,87.37L43.96,91.98L44.3,92.01L46.18,94.1L46.29,94.13L47.22,95.39L47.23,95.42L48.29,96.79L48.36,96.82L49.35,97.96L49.37,97.99L50.98,100.53L51.02,100.56L55.41,106.51L55.42,106.57L59.47,111.23L59.48,111.26L60.51,112.58L60.61,112.61L61.16,113.45L61.26,113.48L62.99,115.33L63.01,115.39L64.06,116.67L64.24,116.7L65.31,117.96L65.31,117.99L66.64,119.31L66.77,119.34L67.89,120.47L67.92,120.5L70.44,123.07L70.56,123.1L75.88,129.26L75.95,129.29L78.75,132.22L78.78,132.25L82.06,135.48L82.17,135.51L83.95,137.43L83.95,137.46L87.23,140.5L87.24,140.53L88.93,142.54L88.97,142.57L90.04,143.5L90.1,143.52L92.12,145.68L92.21,145.71L100.29,153.87L100.56,153.93L102.47,156.26L102.48,156.29L105.32,159.04L105.35,159.1L120.37,173.75L120.37,173.78L128.53,181.41L128.55,181.44L131.2,183.98L131.23,184.01L140.32,192.08L140.44,192.11L143.06,194.12L143.23,194.15L147.29,197.55L147.47,197.58L150.7,200.01L150.8,200.07L153.44,202.04L153.63,202.07L155.96,203.92L155.98,203.95L182.5,221.06L182.62,221.09L223.27,246.53L223.38,246.56L225.43,247.88L225.59,247.91L227.09,249.13L227.11,249.16L231.76,251.73L231.8,251.79L260.3,269.38L260.33,269.41L262.37,270.33L262.39,270.36L265.69,272.31L265.69,272.34L268.22,274.25L268.5,274.31L275.38,278.29L275.55,278.32L280.94,281.43L280.94,281.46L295.93,289.02L296.14,289.05L320.27,297.06L320.54,297.09L329.79,299.1L330.26,299.13L355.18,302.36L355.69,302.39L369.5,303.31L372.14,303.34L410.41,303.88L424.02,303.91L10626,303.9568146804371L10626,304\" style=\"vector-effect: non-scaling-stroke; fill: none; stroke: rgb(239, 85, 59); stroke-opacity: 1; stroke-width: 2px; opacity: 1;\"/></g><g class=\"points\"/><g class=\"text\"/></g><g class=\"trace scatter trace01b226\" style=\"stroke-miterlimit: 2; opacity: 1;\"><g class=\"fills\"/><g class=\"errorbars\"/><g class=\"lines\"><path class=\"js-line\" d=\"M0,16.46L0.71,16.7L0.71,18.13L1.48,20.99L2.14,21.09L2.89,27.35L2.9,27.54L3.65,29.76L4.09,29.81L4.31,31.09L4.32,31.49L5.08,34.49L5.46,34.54L5.73,35.58L5.73,35.72L6.51,39.72L7.15,39.96L7.99,44.1L8.57,44.15L9.44,48.04L10.01,48.14L10.85,52.28L10.92,52.33L11.47,53.12L11.47,53.22L12.3,55.49L12.87,55.54L13.7,58.59L13.73,58.64L14.34,59.63L14.35,59.67L15.23,62.24L15.72,62.29L16.59,65.79L17.14,65.83L18.14,69.04L18.38,69.09L18.65,69.92L18.66,69.97L19.46,72.14L20.03,72.24L20.95,74.75L21.44,74.8L22.37,78.3L22.88,78.35L23.82,81.16L24.32,81.21L25.22,83.48L25.25,83.53L25.79,84.26L25.8,84.46L27.44,88.31L27.89,88.35L28.74,90.42L28.81,90.47L31.03,94.32L31.44,94.37L33.24,98.6L33.52,98.65L35.29,102.6L35.31,102.7L36.85,104.96L37.15,105.01L38.9,108.26L39.29,108.31L40.53,110.04L40.78,110.09L41.87,112.01L42.21,112.06L43.38,113.68L43.57,113.73L45.37,116.39L45.5,116.44L46.51,117.58L46.54,117.63L47.65,119.01L47.82,119.06L52.32,125.36L52.35,125.41L58.76,133.05L58.77,133.1L62.61,137.54L62.63,137.63L70.93,147.93L70.93,147.98L74.15,150.94L74.31,150.99L79.67,157.99L79.77,158.04L80.94,159.02L80.95,159.07L85.01,164.49L85.13,164.54L86.21,165.38L86.3,165.43L87.5,166.86L87.51,166.91L89.03,168.73L89.04,168.78L89.98,169.42L90.18,169.47L92.34,171.88L92.57,171.93L94.39,173.76L94.41,173.85L99.17,179.37L99.45,179.42L115.57,193.42L115.72,193.47L116.92,194.99L117.35,195.04L122.59,199.18L122.65,199.23L128.17,204.26L128.18,204.31L129.15,205.24L129.28,205.29L132.37,207.66L132.39,207.71L133.83,208.99L133.98,209.04L135.94,210.17L135.96,210.22L138.85,212.69L138.86,212.74L143.34,216.04L143.36,216.14L144.66,217.27L144.67,217.32L150.39,222.25L150.4,222.34L152.07,223.58L152.14,223.63L153.43,224.91L153.46,224.96L156.3,226.29L156.31,226.34L157.53,227.47L157.57,227.52L162.53,231.26L162.53,231.31L165.77,233.97L165.91,234.02L167.01,234.81L167.16,234.86L168.8,235.99L168.97,236.04L169.8,236.68L169.92,236.73L171.41,237.72L171.47,237.77L172.7,238.75L172.71,238.9L174.76,240.33L174.76,240.38L175.6,241.22L175.72,241.27L179.03,243.78L179.04,243.83L184.02,247.77L184.17,247.82L187.76,249.79L187.81,249.84L197.99,257.43L198.01,257.48L202.21,260.49L202.25,260.54L206.55,264.18L206.7,264.23L211.49,267.34L211.59,267.39L214.04,269.16L214.12,269.21L215,269.85L215.28,269.9L224.77,275.91L224.89,275.96L232.63,280.35L232.63,280.4L236.43,282.17L236.81,282.22L239.18,283.3L239.19,283.35L244.05,285.72L244.06,285.82L251.33,289.71L251.33,289.76L254.05,290.79L254.08,290.84L263.81,294.19L264.23,294.24L269.81,295.82L270.14,295.87L278.51,298.14L279.14,298.19L295.48,301.34L296.64,301.39L318.16,303.36L320.81,303.41L328.84,303.9L346.15,303.95L10626,303.9709334201635L10626,304\" style=\"vector-effect: non-scaling-stroke; fill: none; stroke: rgb(0, 204, 150); stroke-opacity: 1; stroke-width: 2px; opacity: 1;\"/></g><g class=\"points\"/><g class=\"text\"/></g></g></g><g class=\"overplot\"/><path class=\"xlines-above crisp\" d=\"M0,0\" style=\"fill: none;\"/><path class=\"ylines-above crisp\" d=\"M0,0\" style=\"fill: none;\"/><g class=\"overlines-above\"/><g class=\"xaxislayer-above\"><g class=\"xtick\"><text text-anchor=\"middle\" x=\"0\" y=\"433\" transform=\"translate(80,0)\" style=\"font-family: 'Open Sans', verdana, arial, sans-serif; font-size: 12px; fill: rgb(42, 63, 95); fill-opacity: 1; white-space: pre; opacity: 1;\">0</text></g><g class=\"xtick\"><text text-anchor=\"middle\" x=\"0\" y=\"433\" style=\"font-family: 'Open Sans', verdana, arial, sans-serif; font-size: 12px; fill: rgb(42, 63, 95); fill-opacity: 1; white-space: pre; opacity: 1;\" transform=\"translate(206.5,0)\">6</text></g><g class=\"xtick\"><text text-anchor=\"middle\" x=\"0\" y=\"433\" style=\"font-family: 'Open Sans', verdana, arial, sans-serif; font-size: 12px; fill: rgb(42, 63, 95); fill-opacity: 1; white-space: pre; opacity: 1;\" transform=\"translate(333,0)\">12</text></g><g class=\"xtick\"><text text-anchor=\"middle\" x=\"0\" y=\"433\" style=\"font-family: 'Open Sans', verdana, arial, sans-serif; font-size: 12px; fill: rgb(42, 63, 95); fill-opacity: 1; white-space: pre; opacity: 1;\" transform=\"translate(459.5,0)\">18</text></g></g><g class=\"yaxislayer-above\"><g class=\"ytick\"><text text-anchor=\"end\" x=\"79\" y=\"4.199999999999999\" transform=\"translate(0,404)\" style=\"font-family: 'Open Sans', verdana, arial, sans-serif; font-size: 12px; fill: rgb(42, 63, 95); fill-opacity: 1; white-space: pre; opacity: 1;\">0</text></g><g class=\"ytick\"><text text-anchor=\"end\" x=\"79\" y=\"4.199999999999999\" style=\"font-family: 'Open Sans', verdana, arial, sans-serif; font-size: 12px; fill: rgb(42, 63, 95); fill-opacity: 1; white-space: pre; opacity: 1;\" transform=\"translate(0,375.05)\">0.1</text></g><g class=\"ytick\"><text text-anchor=\"end\" x=\"79\" y=\"4.199999999999999\" style=\"font-family: 'Open Sans', verdana, arial, sans-serif; font-size: 12px; fill: rgb(42, 63, 95); fill-opacity: 1; white-space: pre; opacity: 1;\" transform=\"translate(0,346.11)\">0.2</text></g><g class=\"ytick\"><text text-anchor=\"end\" x=\"79\" y=\"4.199999999999999\" style=\"font-family: 'Open Sans', verdana, arial, sans-serif; font-size: 12px; fill: rgb(42, 63, 95); fill-opacity: 1; white-space: pre; opacity: 1;\" transform=\"translate(0,317.15999999999997)\">0.3</text></g><g class=\"ytick\"><text text-anchor=\"end\" x=\"79\" y=\"4.199999999999999\" style=\"font-family: 'Open Sans', verdana, arial, sans-serif; font-size: 12px; fill: rgb(42, 63, 95); fill-opacity: 1; white-space: pre; opacity: 1;\" transform=\"translate(0,288.21000000000004)\">0.4</text></g><g class=\"ytick\"><text text-anchor=\"end\" x=\"79\" y=\"4.199999999999999\" style=\"font-family: 'Open Sans', verdana, arial, sans-serif; font-size: 12px; fill: rgb(42, 63, 95); fill-opacity: 1; white-space: pre; opacity: 1;\" transform=\"translate(0,259.27)\">0.5</text></g><g class=\"ytick\"><text text-anchor=\"end\" x=\"79\" y=\"4.199999999999999\" style=\"font-family: 'Open Sans', verdana, arial, sans-serif; font-size: 12px; fill: rgb(42, 63, 95); fill-opacity: 1; white-space: pre; opacity: 1;\" transform=\"translate(0,230.32)\">0.6</text></g><g class=\"ytick\"><text text-anchor=\"end\" x=\"79\" y=\"4.199999999999999\" style=\"font-family: 'Open Sans', verdana, arial, sans-serif; font-size: 12px; fill: rgb(42, 63, 95); fill-opacity: 1; white-space: pre; opacity: 1;\" transform=\"translate(0,201.37)\">0.7</text></g><g class=\"ytick\"><text text-anchor=\"end\" x=\"79\" y=\"4.199999999999999\" style=\"font-family: 'Open Sans', verdana, arial, sans-serif; font-size: 12px; fill: rgb(42, 63, 95); fill-opacity: 1; white-space: pre; opacity: 1;\" transform=\"translate(0,172.43)\">0.8</text></g><g class=\"ytick\"><text text-anchor=\"end\" x=\"79\" y=\"4.199999999999999\" style=\"font-family: 'Open Sans', verdana, arial, sans-serif; font-size: 12px; fill: rgb(42, 63, 95); fill-opacity: 1; white-space: pre; opacity: 1;\" transform=\"translate(0,143.48)\">0.9</text></g><g class=\"ytick\"><text text-anchor=\"end\" x=\"79\" y=\"4.199999999999999\" style=\"font-family: 'Open Sans', verdana, arial, sans-serif; font-size: 12px; fill: rgb(42, 63, 95); fill-opacity: 1; white-space: pre; opacity: 1;\" transform=\"translate(0,114.53)\">1</text></g></g><g class=\"overaxes-above\"/></g></g><g class=\"polarlayer\"/><g class=\"smithlayer\"/><g class=\"ternarylayer\"/><g class=\"geolayer\"/><g class=\"funnelarealayer\"/><g class=\"pielayer\"/><g class=\"iciclelayer\"/><g class=\"treemaplayer\"/><g class=\"sunburstlayer\"/><g class=\"glimages\"/><defs id=\"topdefs-ca595c\"><g class=\"clips\"/><clipPath id=\"legendca595c\"><rect width=\"92\" height=\"67\" x=\"0\" y=\"0\"/></clipPath></defs><g class=\"layer-above\"><g class=\"imagelayer\"/><g class=\"shapelayer\"/></g><g class=\"infolayer\"><g class=\"legend\" pointer-events=\"all\" transform=\"translate(596.12,100)\"><rect class=\"bg\" shape-rendering=\"crispEdges\" width=\"92\" height=\"67\" x=\"0\" y=\"0\" style=\"stroke: rgb(68, 68, 68); stroke-opacity: 1; fill: rgb(255, 255, 255); fill-opacity: 1; stroke-width: 0px;\"/><g class=\"scrollbox\" transform=\"\" clip-path=\"url(#legendca595c)\"><g class=\"groups\"><g class=\"traces\" transform=\"translate(0,14.5)\" style=\"opacity: 1;\"><text class=\"legendtext\" text-anchor=\"start\" x=\"40\" y=\"4.680000000000001\" style=\"font-family: 'Open Sans', verdana, arial, sans-serif; font-size: 12px; fill: rgb(42, 63, 95); fill-opacity: 1; white-space: pre;\">Small</text><g class=\"layers\" style=\"opacity: 1;\"><g class=\"legendfill\"/><g class=\"legendlines\"><path class=\"js-line\" d=\"M5,0h30\" style=\"fill: none; stroke: rgb(99, 110, 250); stroke-opacity: 1; stroke-width: 2px;\"/></g><g class=\"legendsymbols\"><g class=\"legendpoints\"/></g></g><rect class=\"legendtoggle\" x=\"0\" y=\"-9.5\" width=\"86.484375\" height=\"19\" style=\"fill: rgb(0, 0, 0); fill-opacity: 0;\"/></g><g class=\"traces\" transform=\"translate(0,33.5)\" style=\"opacity: 1;\"><text class=\"legendtext\" text-anchor=\"start\" x=\"40\" y=\"4.680000000000001\" style=\"font-family: 'Open Sans', verdana, arial, sans-serif; font-size: 12px; fill: rgb(42, 63, 95); fill-opacity: 1; white-space: pre;\">Medium</text><g class=\"layers\" style=\"opacity: 1;\"><g class=\"legendfill\"/><g class=\"legendlines\"><path class=\"js-line\" d=\"M5,0h30\" style=\"fill: none; stroke: rgb(239, 85, 59); stroke-opacity: 1; stroke-width: 2px;\"/></g><g class=\"legendsymbols\"><g class=\"legendpoints\"/></g></g><rect class=\"legendtoggle\" x=\"0\" y=\"-9.5\" width=\"86.484375\" height=\"19\" style=\"fill: rgb(0, 0, 0); fill-opacity: 0;\"/></g><g class=\"traces\" transform=\"translate(0,52.5)\" style=\"opacity: 1;\"><text class=\"legendtext\" text-anchor=\"start\" x=\"40\" y=\"4.680000000000001\" style=\"font-family: 'Open Sans', verdana, arial, sans-serif; font-size: 12px; fill: rgb(42, 63, 95); fill-opacity: 1; white-space: pre;\">Large</text><g class=\"layers\" style=\"opacity: 1;\"><g class=\"legendfill\"/><g class=\"legendlines\"><path class=\"js-line\" d=\"M5,0h30\" style=\"fill: none; stroke: rgb(0, 204, 150); stroke-opacity: 1; stroke-width: 2px;\"/></g><g class=\"legendsymbols\"><g class=\"legendpoints\"/></g></g><rect class=\"legendtoggle\" x=\"0\" y=\"-9.5\" width=\"86.484375\" height=\"19\" style=\"fill: rgb(0, 0, 0); fill-opacity: 0;\"/></g></g></g><rect class=\"scrollbar\" rx=\"20\" ry=\"3\" width=\"0\" height=\"0\" x=\"0\" y=\"0\" style=\"fill: rgb(128, 139, 164); fill-opacity: 1;\"/></g><g class=\"g-gtitle\"><text class=\"gtitle\" x=\"35\" y=\"50\" text-anchor=\"start\" dy=\"0em\" style=\"font-family: 'Open Sans', verdana, arial, sans-serif; font-size: 17px; fill: rgb(42, 63, 95); opacity: 1; font-weight: normal; white-space: pre;\"><tspan class=\"line\" dy=\"0em\" x=\"35\" y=\"50\">Popular Window Survival for Three Tiers of Subreddits</tspan><tspan class=\"line\" dy=\"1.3em\" x=\"35\" y=\"50\">Based on Frequency on r/popular</tspan></text></g><g class=\"g-xtitle\"><text class=\"xtitle\" x=\"333\" y=\"461.8\" text-anchor=\"middle\" style=\"font-family: 'Open Sans', verdana, arial, sans-serif; font-size: 14px; fill: rgb(42, 63, 95); opacity: 1; font-weight: normal; white-space: pre;\">#hours</text></g><g class=\"g-ytitle\"><text class=\"ytitle\" transform=\"rotate(-90,37.278125,260)\" x=\"37.278125\" y=\"260\" text-anchor=\"middle\" style=\"font-family: 'Open Sans', verdana, arial, sans-serif; font-size: 14px; fill: rgb(42, 63, 95); opacity: 1; font-weight: normal; white-space: pre;\">%survival</text></g></g></svg>"
      ]
     },
     "metadata": {},
     "output_type": "display_data"
    },
    {
     "data": {
      "image/svg+xml": [
       "<svg class=\"main-svg\" xmlns=\"http://www.w3.org/2000/svg\" xmlns:xlink=\"http://www.w3.org/1999/xlink\" width=\"700\" height=\"500\" style=\"\" viewBox=\"0 0 700 500\"><rect x=\"0\" y=\"0\" width=\"700\" height=\"500\" style=\"fill: rgb(255, 255, 255); fill-opacity: 1;\"/><defs id=\"defs-55ef6d\"><g class=\"clips\"><clipPath id=\"clip55ef6dxyplot\" class=\"plotclip\"><rect width=\"506\" height=\"320\"/></clipPath><clipPath class=\"axesclip\" id=\"clip55ef6dx\"><rect x=\"80\" y=\"0\" width=\"506\" height=\"500\"/></clipPath><clipPath class=\"axesclip\" id=\"clip55ef6dy\"><rect x=\"0\" y=\"100\" width=\"700\" height=\"320\"/></clipPath><clipPath class=\"axesclip\" id=\"clip55ef6dxy\"><rect x=\"80\" y=\"100\" width=\"506\" height=\"320\"/></clipPath></g><g class=\"gradients\"/><g class=\"patterns\"/></defs><g class=\"bglayer\"/><g class=\"layer-below\"><g class=\"imagelayer\"/><g class=\"shapelayer\"/></g><g class=\"cartesianlayer\"><g class=\"subplot xy\"><g class=\"layer-subplot\"><g class=\"shapelayer\"/><g class=\"imagelayer\"/></g><g class=\"gridlayer\"><g class=\"x\"><path class=\"xgrid crisp\" transform=\"translate(174.29000000000002,0)\" d=\"M0,100v320\" style=\"stroke: rgb(235, 240, 248); stroke-opacity: 1; stroke-width: 1px;\"/><path class=\"xgrid crisp\" transform=\"translate(268.58000000000004,0)\" d=\"M0,100v320\" style=\"stroke: rgb(235, 240, 248); stroke-opacity: 1; stroke-width: 1px;\"/><path class=\"xgrid crisp\" transform=\"translate(362.87,0)\" d=\"M0,100v320\" style=\"stroke: rgb(235, 240, 248); stroke-opacity: 1; stroke-width: 1px;\"/><path class=\"xgrid crisp\" transform=\"translate(457.16,0)\" d=\"M0,100v320\" style=\"stroke: rgb(235, 240, 248); stroke-opacity: 1; stroke-width: 1px;\"/><path class=\"xgrid crisp\" transform=\"translate(551.44,0)\" d=\"M0,100v320\" style=\"stroke: rgb(235, 240, 248); stroke-opacity: 1; stroke-width: 1px;\"/></g><g class=\"y\"><path class=\"ygrid crisp\" transform=\"translate(0,375.2)\" d=\"M80,0h506\" style=\"stroke: rgb(235, 240, 248); stroke-opacity: 1; stroke-width: 1px;\"/><path class=\"ygrid crisp\" transform=\"translate(0,346.39)\" d=\"M80,0h506\" style=\"stroke: rgb(235, 240, 248); stroke-opacity: 1; stroke-width: 1px;\"/><path class=\"ygrid crisp\" transform=\"translate(0,317.59000000000003)\" d=\"M80,0h506\" style=\"stroke: rgb(235, 240, 248); stroke-opacity: 1; stroke-width: 1px;\"/><path class=\"ygrid crisp\" transform=\"translate(0,288.78999999999996)\" d=\"M80,0h506\" style=\"stroke: rgb(235, 240, 248); stroke-opacity: 1; stroke-width: 1px;\"/><path class=\"ygrid crisp\" transform=\"translate(0,259.98)\" d=\"M80,0h506\" style=\"stroke: rgb(235, 240, 248); stroke-opacity: 1; stroke-width: 1px;\"/><path class=\"ygrid crisp\" transform=\"translate(0,231.18)\" d=\"M80,0h506\" style=\"stroke: rgb(235, 240, 248); stroke-opacity: 1; stroke-width: 1px;\"/><path class=\"ygrid crisp\" transform=\"translate(0,202.38)\" d=\"M80,0h506\" style=\"stroke: rgb(235, 240, 248); stroke-opacity: 1; stroke-width: 1px;\"/><path class=\"ygrid crisp\" transform=\"translate(0,173.57999999999998)\" d=\"M80,0h506\" style=\"stroke: rgb(235, 240, 248); stroke-opacity: 1; stroke-width: 1px;\"/><path class=\"ygrid crisp\" transform=\"translate(0,144.77)\" d=\"M80,0h506\" style=\"stroke: rgb(235, 240, 248); stroke-opacity: 1; stroke-width: 1px;\"/><path class=\"ygrid crisp\" transform=\"translate(0,115.97)\" d=\"M80,0h506\" style=\"stroke: rgb(235, 240, 248); stroke-opacity: 1; stroke-width: 1px;\"/></g></g><g class=\"zerolinelayer\"><path class=\"xzl zl crisp\" transform=\"translate(80,0)\" d=\"M0,100v320\" style=\"stroke: rgb(235, 240, 248); stroke-opacity: 1; stroke-width: 2px;\"/><path class=\"yzl zl crisp\" transform=\"translate(0,404)\" d=\"M80,0h506\" style=\"stroke: rgb(235, 240, 248); stroke-opacity: 1; stroke-width: 2px;\"/></g><path class=\"xlines-below\"/><path class=\"ylines-below\"/><g class=\"overlines-below\"/><g class=\"xaxislayer-below\"/><g class=\"yaxislayer-below\"/><g class=\"overaxes-below\"/><g class=\"plot\" transform=\"translate(80,100)\" clip-path=\"url(#clip55ef6dxyplot)\"><g class=\"scatterlayer mlayer\"><g class=\"trace scatter trace6f6658\" style=\"stroke-miterlimit: 2; opacity: 1;\"><g class=\"fills\"/><g class=\"errorbars\"/><g class=\"lines\"><path class=\"js-line\" d=\"M0,16.25L0.72,17.52L0.72,17.54L2.27,29.08L2.27,29.09L4.71,42.69L4.73,42.7L7.33,57.5L7.34,57.52L9.9,71.11L9.91,71.12L15.96,92.7L15.97,92.71L17.7,96.95L17.71,96.97L24.52,113.06L24.53,113.08L44.29,147.39L44.31,147.4L51.77,156.96L51.82,156.97L53.57,158.52L53.57,158.54L54.82,159.89L54.82,159.91L57.37,162.89L57.39,162.9L62.52,167.98L62.52,168L67.3,172.22L67.3,172.24L85.97,187.51L86.03,187.52L106.15,201.07L106.21,201.08L119.34,209.55L119.38,209.56L127.13,214.36L127.22,214.38L128.96,215.51L129.01,215.53L130.59,216.48L130.69,216.49L132.68,217.45L132.74,217.47L136.67,219.83L136.67,219.85L176.94,243.21L176.94,243.22L181.16,245.83L181.21,245.85L184.19,247.84L184.19,247.85L186.56,249.12L186.59,249.14L188.91,250.65L188.91,250.66L195.05,254.89L195.11,254.9L207.02,263.41L207.1,263.43L222.74,268.06L222.84,268.07L245.87,273.81L246.06,273.82L302.93,284.91L303.18,284.93L313.35,286.57L313.38,286.59L315.3,286.98L315.42,286.99L347.72,291.99L348.03,292.01L358.17,293.19L358.28,293.21L369.24,294.37L369.31,294.39L379.48,295.64L379.6,295.66L391.14,296.87L391.45,296.89L406.89,298.41L407.02,298.42L427.8,300.21L429.03,300.23L487.22,303.58L488.69,303.6L506,304\" style=\"vector-effect: non-scaling-stroke; fill: none; stroke: rgb(99, 110, 250); stroke-opacity: 1; stroke-width: 2px; opacity: 1;\"/></g><g class=\"points\"/><g class=\"text\"/></g><g class=\"trace scatter traceab0292\" style=\"stroke-miterlimit: 2; opacity: 1;\"><g class=\"fills\"/><g class=\"errorbars\"/><g class=\"lines\"><path class=\"js-line\" d=\"M0.21,16L0.65,16.94L0.65,16.97L4.29,38.69L4.3,38.72L6.64,54.22L6.64,54.25L10.6,78.93L10.62,78.96L18.79,107.99L18.83,108.02L20.79,113.28L20.8,113.31L24.38,121.74L24.45,121.77L28.08,130.17L28.09,130.2L30.02,134.58L30.04,134.61L34.15,142.89L34.15,142.92L38.99,151.86L39.02,151.89L41.2,156.09L41.23,156.12L43.61,160.95L43.64,160.98L45.05,162.98L45.05,163.01L47.03,166L47.03,166.03L49.58,169.8L49.61,169.83L54.2,173.79L54.21,173.82L61,180.56L61.01,180.59L62.99,182.34L63.01,182.37L64.99,184.06L65.03,184.09L66.8,185.54L66.81,185.57L68.54,187.48L68.55,187.51L69.84,188.75L69.89,188.78L84.43,198.9L84.52,198.93L86.35,200.17L86.44,200.2L89.04,201.68L89.05,201.71L92.73,204.27L92.89,204.3L94.8,205.27L94.85,205.3L115.69,218.23L115.8,218.26L119.1,220.29L119.14,220.32L121.16,221.46L121.24,221.49L129.78,225.63L129.83,225.66L134.38,227.81L134.41,227.84L137.46,229.56L137.46,229.59L140.49,230.68L140.54,230.71L162.73,241.71L162.87,241.74L165.81,243.34L165.81,243.37L172.8,247.05L173.01,247.08L175.5,248.38L175.66,248.41L178.17,249.8L178.33,249.83L187.47,254.91L187.76,254.94L190.17,256.42L190.51,256.45L192.53,258.11L192.72,258.14L199.52,262.37L199.56,262.4L203.43,264.67L203.44,264.7L204.86,265.39L205,265.42L206.44,266.09L206.71,266.12L214.73,267.99L214.74,268.02L216.02,268.44L216.11,268.47L232.23,272.82L232.3,272.85L241.55,274.7L241.62,274.73L262.47,278.86L262.52,278.89L268.73,280.25L268.82,280.28L274.4,281.46L274.43,281.49L277.34,282.04L277.81,282.07L288.55,283.97L289.28,284L297.45,285.18L297.59,285.21L361.1,293.67L361.42,293.7L364.92,294.33L365.29,294.36L376.87,295.75L376.99,295.78L391.97,297.17L393.14,297.2L399.7,297.87L400.63,297.9L408.43,298.74L409.46,298.77L427.12,300.28L427.97,300.31L429.74,300.56L429.95,300.59L462.98,302.64L465.04,302.67L504.67,304\" style=\"vector-effect: non-scaling-stroke; fill: none; stroke: rgb(239, 85, 59); stroke-opacity: 1; stroke-width: 2px; opacity: 1;\"/></g><g class=\"points\"/><g class=\"text\"/></g><g class=\"trace scatter trace5cbc32\" style=\"stroke-miterlimit: 2; opacity: 1;\"><g class=\"fills\"/><g class=\"errorbars\"/><g class=\"lines\"><path class=\"js-line\" d=\"M0,16.02L0.53,16.86L0.53,16.91L1.07,21.82L1.07,21.87L1.39,25.2L1.39,25.25L4.83,48.32L4.87,48.37L8.88,73.08L8.91,73.13L10.46,79.33L10.51,79.38L11.9,84.19L11.94,84.24L13.64,88.96L13.68,89.01L15.39,96.4L15.49,96.45L19.08,105.08L19.11,105.13L20.79,109L20.82,109.05L24.5,116.54L24.64,116.59L29.32,124.93L29.37,124.98L31.42,128.5L31.61,128.55L33,130.98L33.01,131.03L34.73,134.66L34.8,134.7L36.38,137.73L36.4,137.78L39.05,142.54L39.15,142.59L47.04,156.78L47.16,156.83L48.28,158.37L48.28,158.42L49.19,159.61L49.24,159.66L50.59,160.85L50.73,160.9L53.43,163.63L53.44,163.68L56.23,166.36L56.45,166.41L61.48,171.07L61.51,171.12L62.71,172.22L62.76,172.27L63.75,173.26L63.78,173.31L72.25,180.35L72.26,180.4L75.3,183.18L75.33,183.23L80.02,186.41L80.06,186.46L83.5,189.63L83.51,189.68L85.34,190.97L85.37,191.02L90.83,194.69L90.84,194.74L104.13,204.32L104.29,204.37L117.18,211.96L117.39,212.01L120.41,213.15L120.42,213.2L141.37,224.31L141.39,224.36L154.16,231.96L154.53,232L160.4,234.73L160.43,234.78L165.91,237.51L166.47,237.56L169.02,238.65L169.04,238.7L171.98,239.65L171.98,239.7L175.8,241.18L175.87,241.23L177.14,241.93L177.22,241.98L178.44,242.52L178.76,242.57L180.56,243.12L180.94,243.17L205.47,256.27L205.68,256.32L239.55,267.33L240.17,267.38L243.45,268.42L243.81,268.47L253.67,271.15L254.49,271.2L265.12,273.34L265.14,273.39L308.07,281.87L308.81,281.92L315.29,283.11L315.32,283.16L344.36,288.22L344.86,288.27L356.06,290.31L356.33,290.36L362.39,291.3L363.02,291.35L367,291.99L367.88,292.04L394.44,295.81L394.45,295.86L404.09,297.3L406.73,297.35L409.51,297.6L411,297.65L426.31,299.48L427.14,299.53L438.69,300.38L441.16,300.43L455,301.57L457.1,301.62L489.65,303.7L494.6,303.75L504.89,304\" style=\"vector-effect: non-scaling-stroke; fill: none; stroke: rgb(0, 204, 150); stroke-opacity: 1; stroke-width: 2px; opacity: 1;\"/></g><g class=\"points\"/><g class=\"text\"/></g></g></g><g class=\"overplot\"/><path class=\"xlines-above crisp\" d=\"M0,0\" style=\"fill: none;\"/><path class=\"ylines-above crisp\" d=\"M0,0\" style=\"fill: none;\"/><g class=\"overlines-above\"/><g class=\"xaxislayer-above\"><g class=\"xtick\"><text text-anchor=\"middle\" x=\"0\" y=\"433\" transform=\"translate(80,0)\" style=\"font-family: 'Open Sans', verdana, arial, sans-serif; font-size: 12px; fill: rgb(42, 63, 95); fill-opacity: 1; white-space: pre; opacity: 1;\">0</text></g><g class=\"xtick\"><text text-anchor=\"middle\" x=\"0\" y=\"433\" style=\"font-family: 'Open Sans', verdana, arial, sans-serif; font-size: 12px; fill: rgb(42, 63, 95); fill-opacity: 1; white-space: pre; opacity: 1;\" transform=\"translate(174.29000000000002,0)\">2</text></g><g class=\"xtick\"><text text-anchor=\"middle\" x=\"0\" y=\"433\" style=\"font-family: 'Open Sans', verdana, arial, sans-serif; font-size: 12px; fill: rgb(42, 63, 95); fill-opacity: 1; white-space: pre; opacity: 1;\" transform=\"translate(268.58000000000004,0)\">4</text></g><g class=\"xtick\"><text text-anchor=\"middle\" x=\"0\" y=\"433\" style=\"font-family: 'Open Sans', verdana, arial, sans-serif; font-size: 12px; fill: rgb(42, 63, 95); fill-opacity: 1; white-space: pre; opacity: 1;\" transform=\"translate(362.87,0)\">6</text></g><g class=\"xtick\"><text text-anchor=\"middle\" x=\"0\" y=\"433\" style=\"font-family: 'Open Sans', verdana, arial, sans-serif; font-size: 12px; fill: rgb(42, 63, 95); fill-opacity: 1; white-space: pre; opacity: 1;\" transform=\"translate(457.16,0)\">8</text></g><g class=\"xtick\"><text text-anchor=\"middle\" x=\"0\" y=\"433\" style=\"font-family: 'Open Sans', verdana, arial, sans-serif; font-size: 12px; fill: rgb(42, 63, 95); fill-opacity: 1; white-space: pre; opacity: 1;\" transform=\"translate(551.44,0)\">10</text></g></g><g class=\"yaxislayer-above\"><g class=\"ytick\"><text text-anchor=\"end\" x=\"79\" y=\"4.199999999999999\" transform=\"translate(0,404)\" style=\"font-family: 'Open Sans', verdana, arial, sans-serif; font-size: 12px; fill: rgb(42, 63, 95); fill-opacity: 1; white-space: pre; opacity: 1;\">0</text></g><g class=\"ytick\"><text text-anchor=\"end\" x=\"79\" y=\"4.199999999999999\" style=\"font-family: 'Open Sans', verdana, arial, sans-serif; font-size: 12px; fill: rgb(42, 63, 95); fill-opacity: 1; white-space: pre; opacity: 1;\" transform=\"translate(0,375.2)\">0.1</text></g><g class=\"ytick\"><text text-anchor=\"end\" x=\"79\" y=\"4.199999999999999\" style=\"font-family: 'Open Sans', verdana, arial, sans-serif; font-size: 12px; fill: rgb(42, 63, 95); fill-opacity: 1; white-space: pre; opacity: 1;\" transform=\"translate(0,346.39)\">0.2</text></g><g class=\"ytick\"><text text-anchor=\"end\" x=\"79\" y=\"4.199999999999999\" style=\"font-family: 'Open Sans', verdana, arial, sans-serif; font-size: 12px; fill: rgb(42, 63, 95); fill-opacity: 1; white-space: pre; opacity: 1;\" transform=\"translate(0,317.59000000000003)\">0.3</text></g><g class=\"ytick\"><text text-anchor=\"end\" x=\"79\" y=\"4.199999999999999\" style=\"font-family: 'Open Sans', verdana, arial, sans-serif; font-size: 12px; fill: rgb(42, 63, 95); fill-opacity: 1; white-space: pre; opacity: 1;\" transform=\"translate(0,288.78999999999996)\">0.4</text></g><g class=\"ytick\"><text text-anchor=\"end\" x=\"79\" y=\"4.199999999999999\" style=\"font-family: 'Open Sans', verdana, arial, sans-serif; font-size: 12px; fill: rgb(42, 63, 95); fill-opacity: 1; white-space: pre; opacity: 1;\" transform=\"translate(0,259.98)\">0.5</text></g><g class=\"ytick\"><text text-anchor=\"end\" x=\"79\" y=\"4.199999999999999\" style=\"font-family: 'Open Sans', verdana, arial, sans-serif; font-size: 12px; fill: rgb(42, 63, 95); fill-opacity: 1; white-space: pre; opacity: 1;\" transform=\"translate(0,231.18)\">0.6</text></g><g class=\"ytick\"><text text-anchor=\"end\" x=\"79\" y=\"4.199999999999999\" style=\"font-family: 'Open Sans', verdana, arial, sans-serif; font-size: 12px; fill: rgb(42, 63, 95); fill-opacity: 1; white-space: pre; opacity: 1;\" transform=\"translate(0,202.38)\">0.7</text></g><g class=\"ytick\"><text text-anchor=\"end\" x=\"79\" y=\"4.199999999999999\" style=\"font-family: 'Open Sans', verdana, arial, sans-serif; font-size: 12px; fill: rgb(42, 63, 95); fill-opacity: 1; white-space: pre; opacity: 1;\" transform=\"translate(0,173.57999999999998)\">0.8</text></g><g class=\"ytick\"><text text-anchor=\"end\" x=\"79\" y=\"4.199999999999999\" style=\"font-family: 'Open Sans', verdana, arial, sans-serif; font-size: 12px; fill: rgb(42, 63, 95); fill-opacity: 1; white-space: pre; opacity: 1;\" transform=\"translate(0,144.77)\">0.9</text></g><g class=\"ytick\"><text text-anchor=\"end\" x=\"79\" y=\"4.199999999999999\" style=\"font-family: 'Open Sans', verdana, arial, sans-serif; font-size: 12px; fill: rgb(42, 63, 95); fill-opacity: 1; white-space: pre; opacity: 1;\" transform=\"translate(0,115.97)\">1</text></g></g><g class=\"overaxes-above\"/></g></g><g class=\"polarlayer\"/><g class=\"smithlayer\"/><g class=\"ternarylayer\"/><g class=\"geolayer\"/><g class=\"funnelarealayer\"/><g class=\"pielayer\"/><g class=\"iciclelayer\"/><g class=\"treemaplayer\"/><g class=\"sunburstlayer\"/><g class=\"glimages\"/><defs id=\"topdefs-55ef6d\"><g class=\"clips\"/><clipPath id=\"legend55ef6d\"><rect width=\"92\" height=\"67\" x=\"0\" y=\"0\"/></clipPath></defs><g class=\"layer-above\"><g class=\"imagelayer\"/><g class=\"shapelayer\"/></g><g class=\"infolayer\"><g class=\"legend\" pointer-events=\"all\" transform=\"translate(596.12,100)\"><rect class=\"bg\" shape-rendering=\"crispEdges\" width=\"92\" height=\"67\" x=\"0\" y=\"0\" style=\"stroke: rgb(68, 68, 68); stroke-opacity: 1; fill: rgb(255, 255, 255); fill-opacity: 1; stroke-width: 0px;\"/><g class=\"scrollbox\" transform=\"\" clip-path=\"url(#legend55ef6d)\"><g class=\"groups\"><g class=\"traces\" transform=\"translate(0,14.5)\" style=\"opacity: 1;\"><text class=\"legendtext\" text-anchor=\"start\" x=\"40\" y=\"4.680000000000001\" style=\"font-family: 'Open Sans', verdana, arial, sans-serif; font-size: 12px; fill: rgb(42, 63, 95); fill-opacity: 1; white-space: pre;\">Small</text><g class=\"layers\" style=\"opacity: 1;\"><g class=\"legendfill\"/><g class=\"legendlines\"><path class=\"js-line\" d=\"M5,0h30\" style=\"fill: none; stroke: rgb(99, 110, 250); stroke-opacity: 1; stroke-width: 2px;\"/></g><g class=\"legendsymbols\"><g class=\"legendpoints\"/></g></g><rect class=\"legendtoggle\" x=\"0\" y=\"-9.5\" width=\"86.484375\" height=\"19\" style=\"fill: rgb(0, 0, 0); fill-opacity: 0;\"/></g><g class=\"traces\" transform=\"translate(0,33.5)\" style=\"opacity: 1;\"><text class=\"legendtext\" text-anchor=\"start\" x=\"40\" y=\"4.680000000000001\" style=\"font-family: 'Open Sans', verdana, arial, sans-serif; font-size: 12px; fill: rgb(42, 63, 95); fill-opacity: 1; white-space: pre;\">Medium</text><g class=\"layers\" style=\"opacity: 1;\"><g class=\"legendfill\"/><g class=\"legendlines\"><path class=\"js-line\" d=\"M5,0h30\" style=\"fill: none; stroke: rgb(239, 85, 59); stroke-opacity: 1; stroke-width: 2px;\"/></g><g class=\"legendsymbols\"><g class=\"legendpoints\"/></g></g><rect class=\"legendtoggle\" x=\"0\" y=\"-9.5\" width=\"86.484375\" height=\"19\" style=\"fill: rgb(0, 0, 0); fill-opacity: 0;\"/></g><g class=\"traces\" transform=\"translate(0,52.5)\" style=\"opacity: 1;\"><text class=\"legendtext\" text-anchor=\"start\" x=\"40\" y=\"4.680000000000001\" style=\"font-family: 'Open Sans', verdana, arial, sans-serif; font-size: 12px; fill: rgb(42, 63, 95); fill-opacity: 1; white-space: pre;\">Large</text><g class=\"layers\" style=\"opacity: 1;\"><g class=\"legendfill\"/><g class=\"legendlines\"><path class=\"js-line\" d=\"M5,0h30\" style=\"fill: none; stroke: rgb(0, 204, 150); stroke-opacity: 1; stroke-width: 2px;\"/></g><g class=\"legendsymbols\"><g class=\"legendpoints\"/></g></g><rect class=\"legendtoggle\" x=\"0\" y=\"-9.5\" width=\"86.484375\" height=\"19\" style=\"fill: rgb(0, 0, 0); fill-opacity: 0;\"/></g></g></g><rect class=\"scrollbar\" rx=\"20\" ry=\"3\" width=\"0\" height=\"0\" x=\"0\" y=\"0\" style=\"fill: rgb(128, 139, 164); fill-opacity: 1;\"/></g><g class=\"g-gtitle\"><text class=\"gtitle\" x=\"35\" y=\"50\" text-anchor=\"start\" dy=\"0em\" style=\"font-family: 'Open Sans', verdana, arial, sans-serif; font-size: 17px; fill: rgb(42, 63, 95); opacity: 1; font-weight: normal; white-space: pre;\"><tspan class=\"line\" dy=\"0em\" x=\"35\" y=\"50\">Active Window Survival for Three Tiers of Subreddits</tspan><tspan class=\"line\" dy=\"1.3em\" x=\"35\" y=\"50\">Based on Frequency on r/popular</tspan></text></g><g class=\"g-xtitle\"><text class=\"xtitle\" x=\"333\" y=\"461.8\" text-anchor=\"middle\" style=\"font-family: 'Open Sans', verdana, arial, sans-serif; font-size: 14px; fill: rgb(42, 63, 95); opacity: 1; font-weight: normal; white-space: pre;\">#weeks</text></g><g class=\"g-ytitle\"><text class=\"ytitle\" transform=\"rotate(-90,37.278125,260)\" x=\"37.278125\" y=\"260\" text-anchor=\"middle\" style=\"font-family: 'Open Sans', verdana, arial, sans-serif; font-size: 14px; fill: rgb(42, 63, 95); opacity: 1; font-weight: normal; white-space: pre;\">%survival</text></g></g></svg>"
      ]
     },
     "metadata": {},
     "output_type": "display_data"
    }
   ],
   "source": [
    "def display_tier_survival(feature, save=False):\n",
    "    \n",
    "    assert feature in ['popular_window', 'active_window']\n",
    "    \n",
    "    threads = get_popular_threads(\n",
    "        filter={feature: {'$ne': None}},\n",
    "        columns=[feature] + ['subreddit']\n",
    "    )\n",
    "    \n",
    "    labels = pd.cut(\n",
    "        list_popular_subreddits()['num_threads'], \n",
    "        bins=3, labels=['small', 'medium', 'large']\n",
    "    ).to_frame().rename(columns={'num_threads': 'label'})\n",
    "    \n",
    "    threads = threads.join(labels, on='subreddit')\n",
    "    \n",
    "    if feature == 'popular_window':\n",
    "        title = '#hours'\n",
    "        denominator = int(dt.timedelta(hours=1).total_seconds())\n",
    "        x_range = [0, 24]\n",
    "        tickvals = [i for i in range(0, 24, 6)]\n",
    "    else:\n",
    "        title = '#weeks'\n",
    "        denominator = int(dt.timedelta(days=7).total_seconds()),\n",
    "        x_range = None # autorange\n",
    "        tickvals = None # autorange\n",
    "    \n",
    "    fig = go.Figure()\n",
    "    \n",
    "    for label in ['small', 'medium', 'large']:\n",
    "        \n",
    "        label_threads = threads[threads['label'] == label]\n",
    "        \n",
    "        time, survival_probability = kme(\n",
    "            np.ones(len(label_threads)).astype(bool),\n",
    "            label_threads[feature] / denominator\n",
    "        )\n",
    "        \n",
    "        fig.add_trace(\n",
    "            go.Scatter(\n",
    "                x=time,\n",
    "                y=survival_probability,\n",
    "                name=f'{label.title()}'\n",
    "            )\n",
    "        )\n",
    "    \n",
    "    feature_title = feature.replace('_', ' ').title()\n",
    "    \n",
    "    fig.update_layout(\n",
    "        template='plotly_white',\n",
    "        title=f'{feature_title} Survival for Three Tiers of Subreddits<br>Based on Frequency on r/popular'\n",
    "    )\n",
    "    \n",
    "    fig.update_xaxes(title=title, range=x_range, tickvals=tickvals)\n",
    "    fig.update_yaxes(title='%survival', tickvals=[i / 10 for i in range(11)])\n",
    "    \n",
    "    if save:\n",
    "        fig.write_image(f'figs/subreddit_survival_tiers_{feature}.png', scale=3)\n",
    "        \n",
    "    fig.show('svg')\n",
    "\n",
    "display_tier_survival('popular_window', save=True)\n",
    "display_tier_survival('active_window', save=True)"
   ]
  },
  {
   "cell_type": "code",
   "execution_count": 693,
   "id": "1950dfbf",
   "metadata": {
    "ExecuteTime": {
     "end_time": "2022-06-09T02:23:00.015192Z",
     "start_time": "2022-06-09T02:22:57.800035Z"
    },
    "code_folding": [],
    "scrolled": false
   },
   "outputs": [
    {
     "data": {
      "image/svg+xml": [
       "<svg class=\"main-svg\" xmlns=\"http://www.w3.org/2000/svg\" xmlns:xlink=\"http://www.w3.org/1999/xlink\" width=\"700\" height=\"500\" style=\"\" viewBox=\"0 0 700 500\"><rect x=\"0\" y=\"0\" width=\"700\" height=\"500\" style=\"fill: rgb(255, 255, 255); fill-opacity: 1;\"/><defs id=\"defs-89dcac\"><g class=\"clips\"><clipPath id=\"clip89dcacxyplot\" class=\"plotclip\"><rect width=\"540\" height=\"360\"/></clipPath><clipPath class=\"axesclip\" id=\"clip89dcacx\"><rect x=\"80\" y=\"0\" width=\"540\" height=\"500\"/></clipPath><clipPath class=\"axesclip\" id=\"clip89dcacy\"><rect x=\"0\" y=\"60\" width=\"700\" height=\"360\"/></clipPath><clipPath class=\"axesclip\" id=\"clip89dcacxy\"><rect x=\"80\" y=\"60\" width=\"540\" height=\"360\"/></clipPath></g><g class=\"gradients\"/><g class=\"patterns\"/></defs><g class=\"bglayer\"/><g class=\"layer-below\"><g class=\"imagelayer\"/><g class=\"shapelayer\"/></g><g class=\"cartesianlayer\"><g class=\"subplot xy\"><g class=\"layer-subplot\"><g class=\"shapelayer\"/><g class=\"imagelayer\"/></g><g class=\"gridlayer\"><g class=\"x\"><path class=\"xgrid crisp\" transform=\"translate(215,0)\" d=\"M0,60v360\" style=\"stroke: rgb(235, 240, 248); stroke-opacity: 1; stroke-width: 1px;\"/><path class=\"xgrid crisp\" transform=\"translate(350,0)\" d=\"M0,60v360\" style=\"stroke: rgb(235, 240, 248); stroke-opacity: 1; stroke-width: 1px;\"/><path class=\"xgrid crisp\" transform=\"translate(485,0)\" d=\"M0,60v360\" style=\"stroke: rgb(235, 240, 248); stroke-opacity: 1; stroke-width: 1px;\"/></g><g class=\"y\"><path class=\"ygrid crisp\" transform=\"translate(0,369.37)\" d=\"M80,0h540\" style=\"stroke: rgb(235, 240, 248); stroke-opacity: 1; stroke-width: 1px;\"/><path class=\"ygrid crisp\" transform=\"translate(0,336.74)\" d=\"M80,0h540\" style=\"stroke: rgb(235, 240, 248); stroke-opacity: 1; stroke-width: 1px;\"/><path class=\"ygrid crisp\" transform=\"translate(0,304.11)\" d=\"M80,0h540\" style=\"stroke: rgb(235, 240, 248); stroke-opacity: 1; stroke-width: 1px;\"/><path class=\"ygrid crisp\" transform=\"translate(0,271.48)\" d=\"M80,0h540\" style=\"stroke: rgb(235, 240, 248); stroke-opacity: 1; stroke-width: 1px;\"/><path class=\"ygrid crisp\" transform=\"translate(0,238.85)\" d=\"M80,0h540\" style=\"stroke: rgb(235, 240, 248); stroke-opacity: 1; stroke-width: 1px;\"/><path class=\"ygrid crisp\" transform=\"translate(0,206.22)\" d=\"M80,0h540\" style=\"stroke: rgb(235, 240, 248); stroke-opacity: 1; stroke-width: 1px;\"/><path class=\"ygrid crisp\" transform=\"translate(0,173.59)\" d=\"M80,0h540\" style=\"stroke: rgb(235, 240, 248); stroke-opacity: 1; stroke-width: 1px;\"/><path class=\"ygrid crisp\" transform=\"translate(0,140.95999999999998)\" d=\"M80,0h540\" style=\"stroke: rgb(235, 240, 248); stroke-opacity: 1; stroke-width: 1px;\"/><path class=\"ygrid crisp\" transform=\"translate(0,108.33)\" d=\"M80,0h540\" style=\"stroke: rgb(235, 240, 248); stroke-opacity: 1; stroke-width: 1px;\"/><path class=\"ygrid crisp\" transform=\"translate(0,75.7)\" d=\"M80,0h540\" style=\"stroke: rgb(235, 240, 248); stroke-opacity: 1; stroke-width: 1px;\"/></g></g><g class=\"zerolinelayer\"><path class=\"xzl zl crisp\" transform=\"translate(80,0)\" d=\"M0,60v360\" style=\"stroke: rgb(235, 240, 248); stroke-opacity: 1; stroke-width: 2px;\"/><path class=\"yzl zl crisp\" transform=\"translate(0,402)\" d=\"M80,0h540\" style=\"stroke: rgb(235, 240, 248); stroke-opacity: 1; stroke-width: 2px;\"/></g><path class=\"xlines-below\"/><path class=\"ylines-below\"/><g class=\"overlines-below\"/><g class=\"xaxislayer-below\"/><g class=\"yaxislayer-below\"/><g class=\"overaxes-below\"/><g class=\"plot\" transform=\"translate(80,60)\" clip-path=\"url(#clip89dcacxyplot)\"/><g class=\"overplot\"/><path class=\"xlines-above crisp\" d=\"M0,0\" style=\"fill: none;\"/><path class=\"ylines-above crisp\" d=\"M0,0\" style=\"fill: none;\"/><g class=\"overlines-above\"/><g class=\"xaxislayer-above\"><g class=\"xtick\"><text text-anchor=\"middle\" x=\"0\" y=\"433\" transform=\"translate(80,0)\" style=\"font-family: 'Open Sans', verdana, arial, sans-serif; font-size: 12px; fill: rgb(42, 63, 95); fill-opacity: 1; white-space: pre; opacity: 1;\">0</text></g><g class=\"xtick\"><text text-anchor=\"middle\" x=\"0\" y=\"433\" style=\"font-family: 'Open Sans', verdana, arial, sans-serif; font-size: 12px; fill: rgb(42, 63, 95); fill-opacity: 1; white-space: pre; opacity: 1;\" transform=\"translate(215,0)\">6</text></g><g class=\"xtick\"><text text-anchor=\"middle\" x=\"0\" y=\"433\" style=\"font-family: 'Open Sans', verdana, arial, sans-serif; font-size: 12px; fill: rgb(42, 63, 95); fill-opacity: 1; white-space: pre; opacity: 1;\" transform=\"translate(350,0)\">12</text></g><g class=\"xtick\"><text text-anchor=\"middle\" x=\"0\" y=\"433\" style=\"font-family: 'Open Sans', verdana, arial, sans-serif; font-size: 12px; fill: rgb(42, 63, 95); fill-opacity: 1; white-space: pre; opacity: 1;\" transform=\"translate(485,0)\">18</text></g></g><g class=\"yaxislayer-above\"><g class=\"ytick\"><text text-anchor=\"end\" x=\"79\" y=\"4.199999999999999\" transform=\"translate(0,402)\" style=\"font-family: 'Open Sans', verdana, arial, sans-serif; font-size: 12px; fill: rgb(42, 63, 95); fill-opacity: 1; white-space: pre; opacity: 1;\">0</text></g><g class=\"ytick\"><text text-anchor=\"end\" x=\"79\" y=\"4.199999999999999\" style=\"font-family: 'Open Sans', verdana, arial, sans-serif; font-size: 12px; fill: rgb(42, 63, 95); fill-opacity: 1; white-space: pre; opacity: 1;\" transform=\"translate(0,369.37)\">0.1</text></g><g class=\"ytick\"><text text-anchor=\"end\" x=\"79\" y=\"4.199999999999999\" style=\"font-family: 'Open Sans', verdana, arial, sans-serif; font-size: 12px; fill: rgb(42, 63, 95); fill-opacity: 1; white-space: pre; opacity: 1;\" transform=\"translate(0,336.74)\">0.2</text></g><g class=\"ytick\"><text text-anchor=\"end\" x=\"79\" y=\"4.199999999999999\" style=\"font-family: 'Open Sans', verdana, arial, sans-serif; font-size: 12px; fill: rgb(42, 63, 95); fill-opacity: 1; white-space: pre; opacity: 1;\" transform=\"translate(0,304.11)\">0.3</text></g><g class=\"ytick\"><text text-anchor=\"end\" x=\"79\" y=\"4.199999999999999\" style=\"font-family: 'Open Sans', verdana, arial, sans-serif; font-size: 12px; fill: rgb(42, 63, 95); fill-opacity: 1; white-space: pre; opacity: 1;\" transform=\"translate(0,271.48)\">0.4</text></g><g class=\"ytick\"><text text-anchor=\"end\" x=\"79\" y=\"4.199999999999999\" style=\"font-family: 'Open Sans', verdana, arial, sans-serif; font-size: 12px; fill: rgb(42, 63, 95); fill-opacity: 1; white-space: pre; opacity: 1;\" transform=\"translate(0,238.85)\">0.5</text></g><g class=\"ytick\"><text text-anchor=\"end\" x=\"79\" y=\"4.199999999999999\" style=\"font-family: 'Open Sans', verdana, arial, sans-serif; font-size: 12px; fill: rgb(42, 63, 95); fill-opacity: 1; white-space: pre; opacity: 1;\" transform=\"translate(0,206.22)\">0.6</text></g><g class=\"ytick\"><text text-anchor=\"end\" x=\"79\" y=\"4.199999999999999\" style=\"font-family: 'Open Sans', verdana, arial, sans-serif; font-size: 12px; fill: rgb(42, 63, 95); fill-opacity: 1; white-space: pre; opacity: 1;\" transform=\"translate(0,173.59)\">0.7</text></g><g class=\"ytick\"><text text-anchor=\"end\" x=\"79\" y=\"4.199999999999999\" style=\"font-family: 'Open Sans', verdana, arial, sans-serif; font-size: 12px; fill: rgb(42, 63, 95); fill-opacity: 1; white-space: pre; opacity: 1;\" transform=\"translate(0,140.95999999999998)\">0.8</text></g><g class=\"ytick\"><text text-anchor=\"end\" x=\"79\" y=\"4.199999999999999\" style=\"font-family: 'Open Sans', verdana, arial, sans-serif; font-size: 12px; fill: rgb(42, 63, 95); fill-opacity: 1; white-space: pre; opacity: 1;\" transform=\"translate(0,108.33)\">0.9</text></g><g class=\"ytick\"><text text-anchor=\"end\" x=\"79\" y=\"4.199999999999999\" style=\"font-family: 'Open Sans', verdana, arial, sans-serif; font-size: 12px; fill: rgb(42, 63, 95); fill-opacity: 1; white-space: pre; opacity: 1;\" transform=\"translate(0,75.7)\">1</text></g></g><g class=\"overaxes-above\"/></g></g><g class=\"polarlayer\"/><g class=\"smithlayer\"/><g class=\"ternarylayer\"/><g class=\"geolayer\"/><g class=\"funnelarealayer\"/><g class=\"pielayer\"/><g class=\"iciclelayer\"/><g class=\"treemaplayer\"/><g class=\"sunburstlayer\"/><g class=\"glimages\"><image xmlns=\"http://www.w3.org/2000/svg\" xlink:href=\"data:image/png;base64,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\" preserveAspectRatio=\"none\" x=\"0\" y=\"0\" width=\"700px\" height=\"500px\"/><image xmlns=\"http://www.w3.org/2000/svg\" xlink:href=\"data:image/png;base64,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\" preserveAspectRatio=\"none\" x=\"0\" y=\"0\" width=\"700px\" height=\"500px\"/></g><defs id=\"topdefs-89dcac\"><g class=\"clips\"/></defs><g class=\"layer-above\"><g class=\"imagelayer\"/><g class=\"shapelayer\"/></g><g class=\"infolayer\"><g class=\"g-gtitle\"><text class=\"gtitle\" x=\"35\" y=\"30\" text-anchor=\"start\" dy=\"0em\" style=\"font-family: 'Open Sans', verdana, arial, sans-serif; font-size: 17px; fill: rgb(42, 63, 95); opacity: 1; font-weight: normal; white-space: pre;\">Popular Window Survival for All r/popular Threads</text></g><g class=\"g-xtitle\"><text class=\"xtitle\" x=\"350\" y=\"461.8\" text-anchor=\"middle\" style=\"font-family: 'Open Sans', verdana, arial, sans-serif; font-size: 14px; fill: rgb(42, 63, 95); opacity: 1; font-weight: normal; white-space: pre;\">#hours</text></g><g class=\"g-ytitle\"><text class=\"ytitle\" transform=\"rotate(-90,37.278125,240)\" x=\"37.278125\" y=\"240\" text-anchor=\"middle\" style=\"font-family: 'Open Sans', verdana, arial, sans-serif; font-size: 14px; fill: rgb(42, 63, 95); opacity: 1; font-weight: normal; white-space: pre;\">%survival</text></g></g></svg>"
      ]
     },
     "metadata": {},
     "output_type": "display_data"
    }
   ],
   "source": [
    "def display_all_survival(feature, save=False):\n",
    "    \n",
    "    threads = get_popular_threads(\n",
    "        filter={feature: {'$ne': None}},\n",
    "        columns=[feature]\n",
    "    )    \n",
    "    \n",
    "    if feature == 'popular_window':\n",
    "        title = '#hours'\n",
    "        denominator = int(dt.timedelta(hours=1).total_seconds())\n",
    "        x_range = [0, 24]\n",
    "        tickvals = [i for i in range(0, 24, 6)]\n",
    "    else:\n",
    "        title = '#weeks'\n",
    "        denominator = int(dt.timedelta(days=7).total_seconds()),\n",
    "        x_range = None # autorange\n",
    "        tickvals = None # autorange\n",
    "        \n",
    "    time, survival_probability = kme(\n",
    "        np.ones(len(threads)).astype(bool),\n",
    "        threads[feature] / denominator\n",
    "    )\n",
    "    \n",
    "    fig = px.line(x=time, y=survival_probability)\n",
    "    \n",
    "    feature_title = feature.replace('_', ' ').title()\n",
    "    \n",
    "    fig.update_layout(\n",
    "        template='plotly_white',\n",
    "        showlegend=False,\n",
    "        title=f'{feature_title} Survival for All r/popular Threads'\n",
    "    )\n",
    "    \n",
    "    \n",
    "    \n",
    "    fig.update_xaxes(title=title, range=x_range, tickvals=tickvals)\n",
    "    fig.update_yaxes(title='%survival', tickvals=[i / 10 for i in range(11)])\n",
    "    \n",
    "#     halfway_indice = np.where(survival_probability > 0.5)[0][-1]\n",
    "    \n",
    "#     fig.add_shape(\n",
    "#         type='line',\n",
    "#         x0=time[halfway_indice], \n",
    "#         x1=time[halfway_indice],\n",
    "#         y0=0, y1=1\n",
    "#     )\n",
    "    \n",
    "#     fig.add_annotation(\n",
    "#         x=time[halfway_indice], y=1.05,\n",
    "#         showarrow=False,\n",
    "#         text=f'{time[halfway_indice]:.2f}'\n",
    "#     )\n",
    "    \n",
    "#     ninety_indice = np.where(survival_probability > 0.1)[0][-1]\n",
    "    \n",
    "#     fig.add_shape(\n",
    "#         type='line',\n",
    "#         x0=time[ninety_indice], \n",
    "#         x1=time[ninety_indice],\n",
    "#         y0=0, y1=1\n",
    "#     )\n",
    "    \n",
    "#     fig.add_annotation(\n",
    "#         x=time[ninety_indice], y=1.05,\n",
    "#         showarrow=False,\n",
    "#         text=f'{time[ninety_indice]:.2f}'\n",
    "#     )\n",
    "    \n",
    "    if save:\n",
    "        fig.write_image(f'figs/all_survival_{feature}.png', scale=3)\n",
    "    \n",
    "    fig.show('svg')\n",
    "\n",
    "display_all_survival('popular_window', save=False)\n",
    "# display_all_survival('active_window', save=False)"
   ]
  },
  {
   "cell_type": "code",
   "execution_count": 686,
   "id": "5ac78a1e",
   "metadata": {
    "ExecuteTime": {
     "end_time": "2022-06-09T01:59:59.622024Z",
     "start_time": "2022-06-09T01:59:59.484078Z"
    }
   },
   "outputs": [
    {
     "data": {
      "text/html": [
       "<div>\n",
       "<style scoped>\n",
       "    .dataframe tbody tr th:only-of-type {\n",
       "        vertical-align: middle;\n",
       "    }\n",
       "\n",
       "    .dataframe tbody tr th {\n",
       "        vertical-align: top;\n",
       "    }\n",
       "\n",
       "    .dataframe thead th {\n",
       "        text-align: right;\n",
       "    }\n",
       "</style>\n",
       "<table border=\"1\" class=\"dataframe\">\n",
       "  <thead>\n",
       "    <tr style=\"text-align: right;\">\n",
       "      <th></th>\n",
       "      <th>subreddit</th>\n",
       "      <th>active_window</th>\n",
       "      <th>popular_window</th>\n",
       "      <th>num_comments</th>\n",
       "      <th>is_self</th>\n",
       "    </tr>\n",
       "    <tr>\n",
       "      <th>id</th>\n",
       "      <th></th>\n",
       "      <th></th>\n",
       "      <th></th>\n",
       "      <th></th>\n",
       "      <th></th>\n",
       "    </tr>\n",
       "  </thead>\n",
       "  <tbody>\n",
       "    <tr>\n",
       "      <th>tkwdrr</th>\n",
       "      <td>antiwork</td>\n",
       "      <td>3641622.0</td>\n",
       "      <td>11484</td>\n",
       "      <td>1023.0</td>\n",
       "      <td>False</td>\n",
       "    </tr>\n",
       "    <tr>\n",
       "      <th>tkv6er</th>\n",
       "      <td>AbsoluteUnits</td>\n",
       "      <td>2154054.0</td>\n",
       "      <td>37270</td>\n",
       "      <td>1019.0</td>\n",
       "      <td>False</td>\n",
       "    </tr>\n",
       "    <tr>\n",
       "      <th>tktn2q</th>\n",
       "      <td>books</td>\n",
       "      <td>4023190.0</td>\n",
       "      <td>15031</td>\n",
       "      <td>1344.0</td>\n",
       "      <td>True</td>\n",
       "    </tr>\n",
       "    <tr>\n",
       "      <th>tktx7r</th>\n",
       "      <td>WhitePeopleTwitter</td>\n",
       "      <td>1884868.0</td>\n",
       "      <td>10874</td>\n",
       "      <td>470.0</td>\n",
       "      <td>False</td>\n",
       "    </tr>\n",
       "    <tr>\n",
       "      <th>tl5hed</th>\n",
       "      <td>cats</td>\n",
       "      <td>706208.0</td>\n",
       "      <td>16985</td>\n",
       "      <td>331.0</td>\n",
       "      <td>False</td>\n",
       "    </tr>\n",
       "    <tr>\n",
       "      <th>...</th>\n",
       "      <td>...</td>\n",
       "      <td>...</td>\n",
       "      <td>...</td>\n",
       "      <td>...</td>\n",
       "      <td>...</td>\n",
       "    </tr>\n",
       "    <tr>\n",
       "      <th>v6vf9h</th>\n",
       "      <td>todayilearned</td>\n",
       "      <td>17931.0</td>\n",
       "      <td>45031</td>\n",
       "      <td>130.0</td>\n",
       "      <td>False</td>\n",
       "    </tr>\n",
       "    <tr>\n",
       "      <th>v6wrzs</th>\n",
       "      <td>rarepuppers</td>\n",
       "      <td>14410.0</td>\n",
       "      <td>13073</td>\n",
       "      <td>31.0</td>\n",
       "      <td>False</td>\n",
       "    </tr>\n",
       "    <tr>\n",
       "      <th>v6ygln</th>\n",
       "      <td>gaming</td>\n",
       "      <td>11344.0</td>\n",
       "      <td>60809</td>\n",
       "      <td>551.0</td>\n",
       "      <td>False</td>\n",
       "    </tr>\n",
       "    <tr>\n",
       "      <th>v6yoei</th>\n",
       "      <td>WhitePeopleTwitter</td>\n",
       "      <td>5269.0</td>\n",
       "      <td>30836</td>\n",
       "      <td>56.0</td>\n",
       "      <td>False</td>\n",
       "    </tr>\n",
       "    <tr>\n",
       "      <th>v71aqp</th>\n",
       "      <td>formula1</td>\n",
       "      <td>5550.0</td>\n",
       "      <td>60575</td>\n",
       "      <td>373.0</td>\n",
       "      <td>False</td>\n",
       "    </tr>\n",
       "  </tbody>\n",
       "</table>\n",
       "<p>6057 rows × 5 columns</p>\n",
       "</div>"
      ],
      "text/plain": [
       "                 subreddit  active_window  popular_window  num_comments  \\\n",
       "id                                                                        \n",
       "tkwdrr            antiwork      3641622.0           11484        1023.0   \n",
       "tkv6er       AbsoluteUnits      2154054.0           37270        1019.0   \n",
       "tktn2q               books      4023190.0           15031        1344.0   \n",
       "tktx7r  WhitePeopleTwitter      1884868.0           10874         470.0   \n",
       "tl5hed                cats       706208.0           16985         331.0   \n",
       "...                    ...            ...             ...           ...   \n",
       "v6vf9h       todayilearned        17931.0           45031         130.0   \n",
       "v6wrzs         rarepuppers        14410.0           13073          31.0   \n",
       "v6ygln              gaming        11344.0           60809         551.0   \n",
       "v6yoei  WhitePeopleTwitter         5269.0           30836          56.0   \n",
       "v71aqp            formula1         5550.0           60575         373.0   \n",
       "\n",
       "        is_self  \n",
       "id               \n",
       "tkwdrr    False  \n",
       "tkv6er    False  \n",
       "tktn2q     True  \n",
       "tktx7r    False  \n",
       "tl5hed    False  \n",
       "...         ...  \n",
       "v6vf9h    False  \n",
       "v6wrzs    False  \n",
       "v6ygln    False  \n",
       "v6yoei    False  \n",
       "v71aqp    False  \n",
       "\n",
       "[6057 rows x 5 columns]"
      ]
     },
     "execution_count": 686,
     "metadata": {},
     "output_type": "execute_result"
    }
   ],
   "source": [
    "def newcomer_cox():\n",
    "    \n",
    "    threads = get_popular_threads(\n",
    "        filter={'newcomer_utc': {'$ne': None}},\n",
    "        columns=[\n",
    "            'subreddit', \n",
    "            'active_window', \n",
    "            'popular_window',\n",
    "            'num_comments',\n",
    "            'is_self'\n",
    "        ]\n",
    "    )\n",
    "    \n",
    "    return threads\n",
    "\n",
    "newcomer_cox()"
   ]
  }
 ],
 "metadata": {
  "kernelspec": {
   "display_name": "Python 3",
   "language": "python",
   "name": "python3"
  },
  "language_info": {
   "codemirror_mode": {
    "name": "ipython",
    "version": 3
   },
   "file_extension": ".py",
   "mimetype": "text/x-python",
   "name": "python",
   "nbconvert_exporter": "python",
   "pygments_lexer": "ipython3",
   "version": "3.6.8"
  }
 },
 "nbformat": 4,
 "nbformat_minor": 5
}
