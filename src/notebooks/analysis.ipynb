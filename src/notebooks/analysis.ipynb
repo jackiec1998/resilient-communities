{
 "cells": [
  {
   "cell_type": "code",
   "execution_count": 320,
   "id": "cd2b971c",
   "metadata": {
    "ExecuteTime": {
     "end_time": "2022-03-24T01:34:15.000902Z",
     "start_time": "2022-03-24T01:34:14.984438Z"
    }
   },
   "outputs": [],
   "source": [
    "%config Completer.use_jedi = False\n",
    "from pymongo import MongoClient\n",
    "import pandas as pd\n",
    "import datetime as dt\n",
    "from collections import defaultdict\n",
    "import matplotlib\n",
    "import matplotlib.pyplot as plt\n",
    "import matplotlib.dates as mdates\n",
    "\n",
    "client = MongoClient('localhost', 27017)\n",
    "db = client.resilient"
   ]
  },
  {
   "cell_type": "markdown",
   "id": "eb7c04ae",
   "metadata": {},
   "source": [
    "# r/all Analysis"
   ]
  },
  {
   "cell_type": "markdown",
   "id": "0fe98e73",
   "metadata": {},
   "source": [
    "## Connecting to the r/all comment collection."
   ]
  },
  {
   "cell_type": "code",
   "execution_count": 459,
   "id": "e95b334b",
   "metadata": {
    "ExecuteTime": {
     "end_time": "2022-03-24T03:20:53.533680Z",
     "start_time": "2022-03-24T03:20:53.531137Z"
    }
   },
   "outputs": [],
   "source": [
    "all_comments = db.all"
   ]
  },
  {
   "cell_type": "markdown",
   "id": "fd48aefc",
   "metadata": {},
   "source": [
    "## Getting the number of comments in the collection."
   ]
  },
  {
   "cell_type": "code",
   "execution_count": 460,
   "id": "a81b384c",
   "metadata": {
    "ExecuteTime": {
     "end_time": "2022-03-24T03:20:54.611546Z",
     "start_time": "2022-03-24T03:20:54.608092Z"
    }
   },
   "outputs": [
    {
     "name": "stdout",
     "output_type": "stream",
     "text": [
      "There are 1,500,000 r/all comments.\n"
     ]
    }
   ],
   "source": [
    "print(f'There are {all_comments.estimated_document_count():,} r/all comments.')"
   ]
  },
  {
   "cell_type": "markdown",
   "id": "3eadc2e9",
   "metadata": {},
   "source": [
    "## Counting the number of comments for each author."
   ]
  },
  {
   "cell_type": "code",
   "execution_count": 478,
   "id": "01e63108",
   "metadata": {
    "ExecuteTime": {
     "end_time": "2022-03-24T03:28:22.822648Z",
     "start_time": "2022-03-24T03:28:15.613727Z"
    }
   },
   "outputs": [
    {
     "name": "stdout",
     "output_type": "stream",
     "text": [
      "                  _id  num_comments\n",
      "0       AutoModerator         47893\n",
      "1              FMKBot          3446\n",
      "2         Countletics           763\n",
      "3  KickOpenTheDoorBot           738\n",
      "4          Ezekiel134           708\n",
      "\n",
      "(592896, 2)\n",
      "\n",
      "--- Number of comments per author. ---\n"
     ]
    }
   ],
   "source": [
    "all_comments_per_author = pd.DataFrame(all_comments.aggregate([\n",
    "    {'$project': {'_id': 1, 'author': 1}}, # Only using author field.\n",
    "    {'$group': {'_id': '$author', 'num_comments': {'$sum': 1}}},\n",
    "    {'$sort': {'num_comments': -1}} # Sort descending.\n",
    "], allowDiskUse=True))\n",
    "\n",
    "print(\n",
    "    all_comments_per_author.head(),\n",
    "    all_comments_per_author.shape,\n",
    "    '--- Number of comments per author. ---',\n",
    "    sep='\\n\\n'\n",
    ")"
   ]
  },
  {
   "cell_type": "markdown",
   "id": "7ff5b84d",
   "metadata": {},
   "source": [
    "## Counting the number of comments in each subreddit."
   ]
  },
  {
   "cell_type": "code",
   "execution_count": 477,
   "id": "61fe9f2f",
   "metadata": {
    "ExecuteTime": {
     "end_time": "2022-03-24T03:28:09.821061Z",
     "start_time": "2022-03-24T03:28:07.525541Z"
    }
   },
   "outputs": [
    {
     "name": "stdout",
     "output_type": "stream",
     "text": [
      "             _id  num_comments\n",
      "0      AskReddit         44068\n",
      "1      worldnews         16849\n",
      "2  AmItheAsshole         16847\n",
      "3      teenagers         16639\n",
      "4      Eldenring         16286\n",
      "\n",
      "(41418, 2)\n",
      "\n",
      "--- Number of comments per subreddit. ---\n"
     ]
    }
   ],
   "source": [
    "all_comments_per_subreddit = pd.DataFrame(all_comments.aggregate([\n",
    "    {'$project': {'_id': 1, 'subreddit': 1}},\n",
    "    {'$group': {'_id': '$subreddit', 'num_comments': {'$sum': 1}}},\n",
    "    {'$sort': {'num_comments': -1}}\n",
    "], allowDiskUse=True))\n",
    "\n",
    "print(\n",
    "    all_comments_per_subreddit.head(),\n",
    "    all_comments_per_subreddit.shape,\n",
    "    '--- Number of comments per subreddit. ---',\n",
    "    sep='\\n\\n'\n",
    ")"
   ]
  },
  {
   "cell_type": "markdown",
   "id": "416ad1d8",
   "metadata": {},
   "source": [
    "## Counting the number of comments per hour for a specific subreddit."
   ]
  },
  {
   "cell_type": "code",
   "execution_count": 463,
   "id": "19afef7b",
   "metadata": {
    "ExecuteTime": {
     "end_time": "2022-03-24T03:21:13.983995Z",
     "start_time": "2022-03-24T03:21:07.923669Z"
    }
   },
   "outputs": [
    {
     "data": {
      "image/png": "[encoded data removed]",
      "text/plain": [
       "<Figure size 648x288 with 1 Axes>"
      ]
     },
     "metadata": {
      "needs_background": "light"
     },
     "output_type": "display_data"
    }
   ],
   "source": [
    "subreddit = 'AskReddit'\n",
    "\n",
    "selected_comments = pd.DataFrame(all_comments.find({'subreddit': {'$eq': subreddit}}))\n",
    "\n",
    "daily = pd.to_datetime(selected_comments['created_utc'], unit='s') \\\n",
    "    .dt.tz_localize('UTC') \\\n",
    "    .dt.tz_convert('US/Central') \\\n",
    "    .round('H') \\\n",
    "    .value_counts()\n",
    "\n",
    "daily = daily.sort_index()\n",
    "\n",
    "start = daily.index[0]\n",
    "end = daily.index[-1]\n",
    "\n",
    "daily = pd.DataFrame(daily) \\\n",
    "    .reindex(pd.date_range(start, end, freq='H'), fill_value=0)\n",
    "\n",
    "# Graph code.\n",
    "plt.figure(figsize=(9, 4))\n",
    "plt.suptitle(f'The number of comments captured from r/{subreddit}.', fontsize=16)\n",
    "plt.xlabel('Hour', fontsize=10)\n",
    "plt.ylabel('Number of Comments', fontsize=10)\n",
    "plt.plot(daily)\n",
    "ax = plt.gca()\n",
    "matplotlib.rcParams['timezone'] = 'US/Central'\n",
    "ax.xaxis.set_major_locator(mdates.HourLocator(interval=1))\n",
    "ax.xaxis.set_major_formatter(mdates.DateFormatter('%m-%d %I%p'))\n",
    "plt.show()"
   ]
  },
  {
   "cell_type": "markdown",
   "id": "dc38f392",
   "metadata": {
    "ExecuteTime": {
     "end_time": "2022-03-23T19:54:57.534572Z",
     "start_time": "2022-03-23T19:54:57.531535Z"
    }
   },
   "source": [
    "# r/popular Analysis"
   ]
  },
  {
   "cell_type": "markdown",
   "id": "d84e06cf",
   "metadata": {},
   "source": [
    "## Connecting to r/popular snapshots collection."
   ]
  },
  {
   "cell_type": "code",
   "execution_count": 466,
   "id": "bd1e36de",
   "metadata": {
    "ExecuteTime": {
     "end_time": "2022-03-24T03:24:53.053076Z",
     "start_time": "2022-03-24T03:24:53.049926Z"
    }
   },
   "outputs": [],
   "source": [
    "popular_snapshots = db.popular"
   ]
  },
  {
   "cell_type": "markdown",
   "id": "4b0c673b",
   "metadata": {},
   "source": [
    "## Grouping r/popular thread IDs, identifying their subreddit, and listing their snapshots (along with snapshot attributes).\n",
    "\n",
    "Each thread should come with their first timestamp (`min_utc`), last timestamp (`max_utc`), and the number of seconds in between known as the thread's lifespan (`lifespan`)."
   ]
  },
  {
   "cell_type": "code",
   "execution_count": 473,
   "id": "6fcfd329",
   "metadata": {
    "ExecuteTime": {
     "end_time": "2022-03-24T03:27:01.887277Z",
     "start_time": "2022-03-24T03:27:01.766570Z"
    }
   },
   "outputs": [
    {
     "name": "stdout",
     "output_type": "stream",
     "text": [
      "       id       subreddit  num_snapshots\n",
      "0  tkvuns          gaming            135\n",
      "1  tldlqk  wallstreetbets            135\n",
      "2  tkv2c3        facepalm            135\n",
      "3  tl8li5          videos            135\n",
      "4  tkubl7          canada            135\n",
      "\n",
      "(174, 11)\n",
      "\n",
      "id                                   object\n",
      "subreddit                            object\n",
      "created_utc                         float64\n",
      "num_snapshots                         int64\n",
      "max_utc                               int64\n",
      "min_utc                               int64\n",
      "snapshots                            object\n",
      "datetime         datetime64[ns, US/Central]\n",
      "max_datetime     datetime64[ns, US/Central]\n",
      "min_datetime     datetime64[ns, US/Central]\n",
      "lifespan                              int64\n",
      "dtype: object\n",
      "\n",
      "--- Snapshots grouped by threads. ---\n"
     ]
    }
   ],
   "source": [
    "# pt: r/popular threads with their subreddit and associated snapshots.\n",
    "popular_threads = pd.DataFrame(popular_snapshots.aggregate([\n",
    "    {'$sort': {'retrieved_utc': 1}},\n",
    "    {'$group': {'_id': '$id',\n",
    "                'subreddit': {'$first': '$subreddit'},\n",
    "                'created_utc': {'$first': '$created_utc'},\n",
    "                'num_snapshots': {'$sum': 1},\n",
    "                'max_utc': {'$max': '$retrieved_utc'},\n",
    "                'min_utc': {'$min': '$retrieved_utc'},\n",
    "                'snapshots': {'$push': \n",
    "                              {'retrieved_utc': '$retrieved_utc',\n",
    "                               'rank': '$rank',\n",
    "                               'score': '$score',\n",
    "                               'upvote_ratio': '$upvote_ratio',\n",
    "                               'num_comments': '$num_comments'}}}},\n",
    "    {'$sort': {'num_snapshots': -1}}\n",
    "], allowDiskUse=True)).rename(columns={'_id': 'id'})\n",
    "\n",
    "popular_threads['datetime'] = \\\n",
    "    pd.to_datetime(popular_threads['created_utc'], unit='s') \\\n",
    "    .dt.tz_localize('UTC') \\\n",
    "    .dt.tz_convert('US/Central')\n",
    "\n",
    "popular_threads['max_datetime'] = \\\n",
    "    pd.to_datetime(popular_threads['max_utc'], unit='s') \\\n",
    "    .dt.tz_localize('UTC') \\\n",
    "    .dt.tz_convert('US/Central')\n",
    "\n",
    "popular_threads['min_datetime'] = \\\n",
    "    pd.to_datetime(popular_threads['min_utc'], unit='s') \\\n",
    "    .dt.tz_localize('UTC') \\\n",
    "    .dt.tz_convert('US/Central')\n",
    "\n",
    "popular_threads['lifespan'] = popular_threads['max_utc'] - popular_threads['min_utc']\n",
    "\n",
    "print(\n",
    "    popular_threads[['id', 'subreddit', 'num_snapshots']].head(),\n",
    "    popular_threads.shape,\n",
    "    popular_threads.dtypes,\n",
    "    '--- Snapshots grouped by threads. ---',\n",
    "    sep='\\n\\n'\n",
    ")"
   ]
  },
  {
   "cell_type": "markdown",
   "id": "acbcaf3f",
   "metadata": {},
   "source": [
    "## Aggregating r/popular threads per subreddit to provide descriptive measures."
   ]
  },
  {
   "cell_type": "code",
   "execution_count": 475,
   "id": "c0989d52",
   "metadata": {
    "ExecuteTime": {
     "end_time": "2022-03-24T03:27:18.998171Z",
     "start_time": "2022-03-24T03:27:18.987252Z"
    },
    "scrolled": true
   },
   "outputs": [
    {
     "name": "stdout",
     "output_type": "stream",
     "text": [
      "                    average_lifespan  num_threads  num_snapshots\n",
      "subreddit                                                       \n",
      "interestingasfuck               7111            5            296\n",
      "worldnews                       9939            3            247\n",
      "Cringetopia                     7576            3            151\n",
      "shitposting                     5376            3            135\n",
      "memes                           5377            3            116\n",
      "PublicFreakout                 10468            3            200\n",
      "WhitePeopleTwitter             11730            3            270\n",
      "ukraine                         8675            3            212\n",
      "antiwork                        8227            3            205\n",
      "AskReddit                       9287            3            231\n",
      "\n",
      "(119, 3)\n",
      "\n",
      "--- Description of r/popular threads per subreddit.\n"
     ]
    }
   ],
   "source": [
    "popular_describe_subreddits = popular_threads.groupby('subreddit') \\\n",
    "    .agg({'lifespan': 'mean',\n",
    "          'id': 'count',\n",
    "          'num_snapshots': 'sum'}) \\\n",
    "    .rename(columns={'id': 'num_threads', 'lifespan': 'average_lifespan'}) \\\n",
    "    .astype(int) \\\n",
    "    .sort_values(by='num_threads', ascending=False)\n",
    "\n",
    "print(\n",
    "    popular_describe_subreddits.head(10),\n",
    "    popular_describe_subreddits.shape,\n",
    "    '--- Description of r/popular threads per subreddit.',\n",
    "    sep='\\n\\n'\n",
    ")"
   ]
  },
  {
   "cell_type": "markdown",
   "id": "b62567c2",
   "metadata": {},
   "source": [
    "## For a specific r/popular thread, graph it's rank trajectory."
   ]
  },
  {
   "cell_type": "code",
   "execution_count": 482,
   "id": "9ef0721a",
   "metadata": {
    "ExecuteTime": {
     "end_time": "2022-03-24T03:34:11.462262Z",
     "start_time": "2022-03-24T03:34:11.000951Z"
    }
   },
   "outputs": [
    {
     "data": {
      "image/png": "[encoded data removed]",
      "text/plain": [
       "<Figure size 648x720 with 4 Axes>"
      ]
     },
     "metadata": {
      "needs_background": "light"
     },
     "output_type": "display_data"
    }
   ],
   "source": [
    "# Get a random r/popular thread.\n",
    "thread = popular_threads.sample(n=1)\n",
    "thread_id = thread['id'].values[0]\n",
    "subreddit = thread['subreddit'].values[0]\n",
    "\n",
    "snapshots = popular_threads[popular_threads['id'] == thread_id]['snapshots'].values[0]\n",
    "\n",
    "snapshots = pd.DataFrame(snapshots).sort_values(by='retrieved_utc')\n",
    "\n",
    "snapshots['datetime'] = pd.to_datetime(snapshots['retrieved_utc'], unit='s') \\\n",
    "    .dt.tz_localize('UTC') \\\n",
    "    .dt.tz_convert('US/Central')\n",
    "\n",
    "# Graph code.\n",
    "fig, ax = plt.subplots(4, 1, figsize=(9, 10))\n",
    "fig.suptitle(f'Thread attributes for thread ID {thread_id} on r/{subreddit}.', fontsize=16)\n",
    "\n",
    "fig.subplots_adjust(hspace=1)\n",
    "\n",
    "ax[0].plot(snapshots['datetime'], snapshots['rank'], color='tab:blue')\n",
    "ax[0].title.set_text('r/popular Rank')\n",
    "ax[0].set_xlabel('Timestamp')\n",
    "ax[0].set_ylabel('r/popular Rank')\n",
    "\n",
    "\n",
    "ax[1].plot(snapshots['datetime'], snapshots['score'], color='tab:orange')\n",
    "ax[1].title.set_text('Number of Upvotes')\n",
    "ax[1].set_xlabel('Timestamp')\n",
    "ax[1].set_ylabel('Number of Upvotes')\n",
    "\n",
    "ax[2].plot(snapshots['datetime'], snapshots['upvote_ratio'], color='tab:green')\n",
    "ax[1].title.set_text('Upvote Ratio')\n",
    "ax[2].set_xlabel('Timestamp')\n",
    "ax[2].set_ylabel('Upvote Ratio')\n",
    "\n",
    "ax[3].plot(snapshots['datetime'], snapshots['num_comments'], color='tab:red')\n",
    "ax[3].title.set_text('Number of Comments on Thread')\n",
    "ax[3].set_xlabel('Timestamp')\n",
    "ax[3].set_ylabel('Number of Comments')\n",
    "\n",
    "plt.show()"
   ]
  },
  {
   "cell_type": "markdown",
   "id": "283e69ba",
   "metadata": {},
   "source": [
    "## Number of r/popular threads on the feed for a specific subreddit."
   ]
  },
  {
   "cell_type": "code",
   "execution_count": 510,
   "id": "e6a30e9a",
   "metadata": {
    "ExecuteTime": {
     "end_time": "2022-03-24T03:49:19.693624Z",
     "start_time": "2022-03-24T03:49:19.673281Z"
    }
   },
   "outputs": [
    {
     "data": {
      "text/html": [
       "<div>\n",
       "<style scoped>\n",
       "    .dataframe tbody tr th:only-of-type {\n",
       "        vertical-align: middle;\n",
       "    }\n",
       "\n",
       "    .dataframe tbody tr th {\n",
       "        vertical-align: top;\n",
       "    }\n",
       "\n",
       "    .dataframe thead th {\n",
       "        text-align: right;\n",
       "    }\n",
       "</style>\n",
       "<table border=\"1\" class=\"dataframe\">\n",
       "  <thead>\n",
       "    <tr style=\"text-align: right;\">\n",
       "      <th></th>\n",
       "      <th>num_popular</th>\n",
       "    </tr>\n",
       "  </thead>\n",
       "  <tbody>\n",
       "    <tr>\n",
       "      <th>2022-03-23 18:00:00-05:00</th>\n",
       "      <td>2</td>\n",
       "    </tr>\n",
       "    <tr>\n",
       "      <th>2022-03-23 19:00:00-05:00</th>\n",
       "      <td>2</td>\n",
       "    </tr>\n",
       "    <tr>\n",
       "      <th>2022-03-23 20:00:00-05:00</th>\n",
       "      <td>2</td>\n",
       "    </tr>\n",
       "    <tr>\n",
       "      <th>2022-03-23 21:00:00-05:00</th>\n",
       "      <td>2</td>\n",
       "    </tr>\n",
       "    <tr>\n",
       "      <th>2022-03-23 22:00:00-05:00</th>\n",
       "      <td>2</td>\n",
       "    </tr>\n",
       "  </tbody>\n",
       "</table>\n",
       "</div>"
      ],
      "text/plain": [
       "                           num_popular\n",
       "2022-03-23 18:00:00-05:00            2\n",
       "2022-03-23 19:00:00-05:00            2\n",
       "2022-03-23 20:00:00-05:00            2\n",
       "2022-03-23 21:00:00-05:00            2\n",
       "2022-03-23 22:00:00-05:00            2"
      ]
     },
     "execution_count": 510,
     "metadata": {},
     "output_type": "execute_result"
    }
   ],
   "source": [
    "subreddit = 'AskReddit'\n",
    "\n",
    "popular_ranges = popular_threads[popular_threads['subreddit'] == subreddit][['min_datetime', 'max_datetime']]\n",
    "popular_ranges['start_hour'] = popular_ranges['min_datetime'].dt.round('H')\n",
    "popular_ranges['end_hour'] = popular_ranges['max_datetime'].dt.round('H')\n",
    "\n",
    "\n",
    "start = popular_ranges['start_hour'].min()\n",
    "end = popular_ranges['end_hour'].max()\n",
    "\n",
    "date_index = pd.date_range(start, end, freq='H')\n",
    "\n",
    "popular_feed_count = pd.DataFrame(index=date_index,\n",
    "                                  columns=['num_popular'],\n",
    "                                  data=[0 for _ in range(len(date_index))])\n",
    "\n",
    "for row in popular_ranges.itertuples():\n",
    "    for hour in pd.date_range(row.start_hour, row.end_hour, freq='H'):\n",
    "        popular_feed_count.loc[hour] += 1\n",
    "        \n",
    "popular_feed_count"
   ]
  }
 ],
 "metadata": {
  "kernelspec": {
   "display_name": "Python 3",
   "language": "python",
   "name": "python3"
  },
  "language_info": {
   "codemirror_mode": {
    "name": "ipython",
    "version": 3
   },
   "file_extension": ".py",
   "mimetype": "text/x-python",
   "name": "python",
   "nbconvert_exporter": "python",
   "pygments_lexer": "ipython3",
   "version": "3.6.8"
  }
 },
 "nbformat": 4,
 "nbformat_minor": 5
}
