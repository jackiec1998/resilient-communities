{
 "cells": [
  {
   "cell_type": "code",
   "execution_count": 71,
   "id": "cd2b971c",
   "metadata": {
    "ExecuteTime": {
     "end_time": "2022-03-22T06:15:00.239222Z",
     "start_time": "2022-03-22T06:15:00.235768Z"
    }
   },
   "outputs": [
    {
     "data": {
      "text/plain": [
       "datetime.date(2022, 3, 22)"
      ]
     },
     "execution_count": 71,
     "metadata": {},
     "output_type": "execute_result"
    }
   ],
   "source": [
    "from datetime import date\n",
    "\n",
    "date.today()"
   ]
  },
  {
   "cell_type": "code",
   "execution_count": 72,
   "id": "92cbe20e",
   "metadata": {
    "ExecuteTime": {
     "end_time": "2022-03-22T06:15:13.860753Z",
     "start_time": "2022-03-22T06:15:13.856486Z"
    }
   },
   "outputs": [
    {
     "data": {
      "text/plain": [
       "True"
      ]
     },
     "execution_count": 72,
     "metadata": {},
     "output_type": "execute_result"
    }
   ],
   "source": [
    "dt.datetime.today().strftime('%x %p') == date.today().strftime('%x %p')"
   ]
  }
 ],
 "metadata": {
  "kernelspec": {
   "display_name": "Python 3",
   "language": "python",
   "name": "python3"
  },
  "language_info": {
   "codemirror_mode": {
    "name": "ipython",
    "version": 3
   },
   "file_extension": ".py",
   "mimetype": "text/x-python",
   "name": "python",
   "nbconvert_exporter": "python",
   "pygments_lexer": "ipython3",
   "version": "3.6.8"
  }
 },
 "nbformat": 4,
 "nbformat_minor": 5
}
