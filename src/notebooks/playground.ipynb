{
 "cells": [
  {
   "cell_type": "code",
   "execution_count": 73,
   "id": "cd2b971c",
   "metadata": {
    "ExecuteTime": {
     "end_time": "2022-03-22T06:39:51.498984Z",
     "start_time": "2022-03-22T06:39:51.494838Z"
    }
   },
   "outputs": [
    {
     "data": {
      "text/plain": [
       "'03/22/22 AM'"
      ]
     },
     "execution_count": 73,
     "metadata": {},
     "output_type": "execute_result"
    }
   ],
   "source": [
    "from datetime import date\n",
    "\n",
    "date.today().strftime('%x %p')"
   ]
  },
  {
   "cell_type": "code",
   "execution_count": 76,
   "id": "ff543b6c",
   "metadata": {
    "ExecuteTime": {
     "end_time": "2022-03-22T18:58:39.955326Z",
     "start_time": "2022-03-22T18:58:39.789860Z"
    }
   },
   "outputs": [
    {
     "data": {
      "text/plain": [
       "<slack_sdk.web.slack_response.SlackResponse at 0x7fb0ac283cf8>"
      ]
     },
     "execution_count": 76,
     "metadata": {},
     "output_type": "execute_result"
    }
   ],
   "source": [
    "from slack_sdk import WebClient\n",
    "from dotenv import load_dotenv\n",
    "\n",
    "load_dotenv()\n",
    "\n",
    "slack = WebClient(token=os.environ.get('SLACK_BOT_TOKEN'))\n",
    "\n",
    "slack.chat_postMessage(\n",
    "    channel='bot-notifications',\n",
    "    text=f'*R/ALL COMMENT REPORT*\\nThere are currently {3242432:,} r/all comments in the database.'\n",
    ")"
   ]
  },
  {
   "cell_type": "code",
   "execution_count": 80,
   "id": "525a5983",
   "metadata": {
    "ExecuteTime": {
     "end_time": "2022-03-22T20:38:59.745116Z",
     "start_time": "2022-03-22T20:38:59.398330Z"
    }
   },
   "outputs": [
    {
     "name": "stdout",
     "output_type": "stream",
     "text": [
      "Neha Malik\n",
      "Scarlett Johansson in Under the Skin\n",
      "Anya Taylor Joy\n",
      "Judith Pronk (a.k.a. Alice Deejay)\n",
      "Kristen Bell\n",
      "Megan Fox\n"
     ]
    },
    {
     "name": "stderr",
     "output_type": "stream",
     "text": [
      "/home/jackiec3/.local/lib/python3.6/site-packages/psaw/PushshiftAPI.py:252: UserWarning: Not all PushShift shards are active. Query results may be incomplete\n",
      "  warnings.warn(shards_down_message)\n"
     ]
    }
   ],
   "source": [
    "from psaw import PushshiftAPI\n",
    "\n",
    "psaw = PushshiftAPI()\n",
    "\n",
    "subreddit = 'celebs'\n",
    "\n",
    "queries = psaw.search_submissions(subreddit='celebs')\n",
    "\n",
    "for i, thread in enumerate(queries):\n",
    "    \n",
    "    print(thread.title)\n",
    "    \n",
    "    if i == 5:\n",
    "        break"
   ]
  },
  {
   "cell_type": "code",
   "execution_count": 79,
   "id": "29855109",
   "metadata": {
    "ExecuteTime": {
     "end_time": "2022-03-22T19:43:52.862056Z",
     "start_time": "2022-03-22T19:43:52.051327Z"
    }
   },
   "outputs": [
    {
     "data": {
      "text/plain": [
       "False"
      ]
     },
     "execution_count": 79,
     "metadata": {},
     "output_type": "execute_result"
    }
   ],
   "source": [
    "import praw\n",
    "\n",
    "reddit = praw.Reddit(\n",
    "    client_id = os.environ.get('REDDIT_CLIENT_ID'),\n",
    "    client_secret = os.environ.get('REDDIT_CLIENT_SECRET'),\n",
    "    user_agent = os.environ.get('REDDIT_USER_AGENT'),\n",
    "    username = os.environ.get('REDDIT_USERNAME'),\n",
    "    password = os.environ.get('REDDIT_PASSWORD')\n",
    ")\n",
    "\n",
    "reddit.user.me()\n",
    "\n",
    "reddit.read_only"
   ]
  }
 ],
 "metadata": {
  "kernelspec": {
   "display_name": "Python 3",
   "language": "python",
   "name": "python3"
  },
  "language_info": {
   "codemirror_mode": {
    "name": "ipython",
    "version": 3
   },
   "file_extension": ".py",
   "mimetype": "text/x-python",
   "name": "python",
   "nbconvert_exporter": "python",
   "pygments_lexer": "ipython3",
   "version": "3.6.8"
  }
 },
 "nbformat": 4,
 "nbformat_minor": 5
}
