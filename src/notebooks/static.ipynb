{
 "cells": [
  {
   "cell_type": "code",
   "execution_count": 692,
   "id": "b2b4d014",
   "metadata": {
    "ExecuteTime": {
     "end_time": "2022-06-09T02:22:53.749310Z",
     "start_time": "2022-06-09T02:22:53.710664Z"
    }
   },
   "outputs": [
    {
     "data": {
      "text/html": [
       "        <script type=\"text/javascript\">\n",
       "        window.PlotlyConfig = {MathJaxConfig: 'local'};\n",
       "        if (window.MathJax) {MathJax.Hub.Config({SVG: {font: \"STIX-Web\"}});}\n",
       "        if (typeof require !== 'undefined') {\n",
       "        require.undef(\"plotly\");\n",
       "        requirejs.config({\n",
       "            paths: {\n",
       "                'plotly': ['https://cdn.plot.ly/plotly-2.6.3.min']\n",
       "            }\n",
       "        });\n",
       "        require(['plotly'], function(Plotly) {\n",
       "            window._Plotly = Plotly;\n",
       "        });\n",
       "        }\n",
       "        </script>\n",
       "        "
      ]
     },
     "metadata": {},
     "output_type": "display_data"
    }
   ],
   "source": [
    "import os\n",
    "import glob\n",
    "import time\n",
    "\n",
    "from tqdm import tqdm\n",
    "from dotenv import load_dotenv\n",
    "\n",
    "from pymongo import MongoClient\n",
    "import praw\n",
    "\n",
    "import datetime as dt\n",
    "import numpy as np\n",
    "import pandas as pd\n",
    "\n",
    "import plotly.figure_factory as ff\n",
    "import plotly.graph_objects as go\n",
    "import plotly.express as px\n",
    "from plotly.offline import plot, iplot, init_notebook_mode\n",
    "from plotly.subplots import make_subplots\n",
    "init_notebook_mode(connected=True)\n",
    "\n",
    "from sksurv.nonparametric import kaplan_meier_estimator as kme\n",
    "from sksurv.preprocessing import OneHotEncoder as ohe\n",
    "from sksurv.linear_model import CoxPHSurvivalAnalysis as cox\n",
    "\n",
    "%config Completer.use_jedi = False\n",
    "\n",
    "os.chdir('/shared/jackie/resilient-communities')\n",
    "\n",
    "load_dotenv()\n",
    "\n",
    "reddit = praw.Reddit(\n",
    "    client_id=os.environ.get('REDDIT_CLIENT_ID_2'),\n",
    "    client_secret=os.environ.get('REDDIT_CLIENT_SECRET_2'),\n",
    "    user_agent=os.environ.get('REDDIT_USER_AGENT_2'),\n",
    "    username=os.environ.get('REDDIT_USERNAME_2'),\n",
    "    password=os.environ.get('REDDIT_PASSWORD_2')\n",
    ")\n",
    "\n",
    "client = MongoClient('localhost', 27017)\n",
    "all_comments = client.resilient.all\n",
    "popular_threads = client.resilient.popular_threads\n",
    "pushshift_comments = client.pushshift_comments\n",
    "pushshift_threads = client.pushshift_comments"
   ]
  },
  {
   "cell_type": "markdown",
   "id": "07621b0e",
   "metadata": {},
   "source": [
    "# Get the total number of comments from PRAW stream.\n",
    "\n",
    "We stream all comments into a single MongoDB collection."
   ]
  },
  {
   "cell_type": "code",
   "execution_count": 287,
   "id": "a4267165",
   "metadata": {
    "ExecuteTime": {
     "end_time": "2022-06-08T21:21:49.246753Z",
     "start_time": "2022-06-08T21:21:49.238575Z"
    }
   },
   "outputs": [
    {
     "data": {
      "text/html": [
       "<style  type=\"text/css\" >\n",
       "</style><table id=\"T_01fedace_e771_11ec_8828_70b5e8d10544\" ><thead>    <tr>        <th class=\"blank level0\" ></th>        <th class=\"col_heading level0 col0\" >N</th>    </tr></thead><tbody>\n",
       "                <tr>\n",
       "                        <th id=\"T_01fedace_e771_11ec_8828_70b5e8d10544level0_row0\" class=\"row_heading level0 row0\" >Comments</th>\n",
       "                        <td id=\"T_01fedace_e771_11ec_8828_70b5e8d10544row0_col0\" class=\"data row0 col0\" >525,300,000</td>\n",
       "            </tr>\n",
       "    </tbody></table>"
      ],
      "text/plain": [
       "<pandas.io.formats.style.Styler at 0x7f8a67e01780>"
      ]
     },
     "execution_count": 287,
     "metadata": {},
     "output_type": "execute_result"
    }
   ],
   "source": [
    "pd.DataFrame.from_dict({\n",
    "    'Comments': all_comments.estimated_document_count()\n",
    "}, orient='index').rename(columns={0: 'N'}).style.format('{:,}')"
   ]
  },
  {
   "cell_type": "markdown",
   "id": "12cced12",
   "metadata": {},
   "source": [
    "# Get r/popular threads stored in the collection.\n",
    "\n",
    "Each r/popular thread and it's respective features are stored statically in a MongoDB collection. There are other collections (e.g., a collection for all Reddit comments and a collection for r/popular snapshots), but calculations should be ran on the r/popular collection. We derive features from those other collections in scripts. The scripts include: `store-popular-threads.py`, `generate-praw-features.py`, and `requery-comments.py`."
   ]
  },
  {
   "cell_type": "code",
   "execution_count": 291,
   "id": "ca65acbc",
   "metadata": {
    "ExecuteTime": {
     "end_time": "2022-06-08T21:25:22.325170Z",
     "start_time": "2022-06-08T21:25:21.920536Z"
    },
    "code_folding": [
     0
    ]
   },
   "outputs": [
    {
     "data": {
      "text/html": [
       "<div>\n",
       "<style scoped>\n",
       "    .dataframe tbody tr th:only-of-type {\n",
       "        vertical-align: middle;\n",
       "    }\n",
       "\n",
       "    .dataframe tbody tr th {\n",
       "        vertical-align: top;\n",
       "    }\n",
       "\n",
       "    .dataframe thead th {\n",
       "        text-align: right;\n",
       "    }\n",
       "</style>\n",
       "<table border=\"1\" class=\"dataframe\">\n",
       "  <thead>\n",
       "    <tr style=\"text-align: right;\">\n",
       "      <th></th>\n",
       "      <th>author</th>\n",
       "      <th>title</th>\n",
       "      <th>subreddit</th>\n",
       "      <th>created_utc</th>\n",
       "    </tr>\n",
       "    <tr>\n",
       "      <th>id</th>\n",
       "      <th></th>\n",
       "      <th></th>\n",
       "      <th></th>\n",
       "      <th></th>\n",
       "    </tr>\n",
       "  </thead>\n",
       "  <tbody>\n",
       "    <tr>\n",
       "      <th>tkwdrr</th>\n",
       "      <td>No-Gap240</td>\n",
       "      <td>Thanks a latte!</td>\n",
       "      <td>antiwork</td>\n",
       "      <td>1.648049e+09</td>\n",
       "    </tr>\n",
       "    <tr>\n",
       "      <th>tkl164</th>\n",
       "      <td>BrokenShutters</td>\n",
       "      <td>A truly awful aged like milk</td>\n",
       "      <td>agedlikemilk</td>\n",
       "      <td>1.648007e+09</td>\n",
       "    </tr>\n",
       "    <tr>\n",
       "      <th>tl0bmh</th>\n",
       "      <td>BolaSquirrel</td>\n",
       "      <td>PSA to invaders</td>\n",
       "      <td>Eldenring</td>\n",
       "      <td>1.648054e+09</td>\n",
       "    </tr>\n",
       "    <tr>\n",
       "      <th>tl4kfi</th>\n",
       "      <td>Ok_Inevitable_9461</td>\n",
       "      <td>...and they call the left snowflakes</td>\n",
       "      <td>PoliticalHumor</td>\n",
       "      <td>1.648059e+09</td>\n",
       "    </tr>\n",
       "    <tr>\n",
       "      <th>tkv6er</th>\n",
       "      <td>Father-TedCrilly</td>\n",
       "      <td>Worlds fattest man around the 1900’s.</td>\n",
       "      <td>AbsoluteUnits</td>\n",
       "      <td>1.648046e+09</td>\n",
       "    </tr>\n",
       "    <tr>\n",
       "      <th>...</th>\n",
       "      <td>...</td>\n",
       "      <td>...</td>\n",
       "      <td>...</td>\n",
       "      <td>...</td>\n",
       "    </tr>\n",
       "    <tr>\n",
       "      <th>v7vbxz</th>\n",
       "      <td>MrMoonchild_</td>\n",
       "      <td>Not everyone is a sport illustrator swimsuit m...</td>\n",
       "      <td>JoeRogan</td>\n",
       "      <td>1.654710e+09</td>\n",
       "    </tr>\n",
       "    <tr>\n",
       "      <th>v7vc22</th>\n",
       "      <td>beerbellybegone</td>\n",
       "      <td>Don't disrespect Grandma</td>\n",
       "      <td>quityourbullshit</td>\n",
       "      <td>1.654710e+09</td>\n",
       "    </tr>\n",
       "    <tr>\n",
       "      <th>v7vdbm</th>\n",
       "      <td>beerbellybegone</td>\n",
       "      <td>Preacher speaking God's word</td>\n",
       "      <td>MurderedByWords</td>\n",
       "      <td>1.654710e+09</td>\n",
       "    </tr>\n",
       "    <tr>\n",
       "      <th>v7wym2</th>\n",
       "      <td>SnooCupcakes8607</td>\n",
       "      <td>You bullied the wrong student my guy</td>\n",
       "      <td>instant_regret</td>\n",
       "      <td>1.654714e+09</td>\n",
       "    </tr>\n",
       "    <tr>\n",
       "      <th>v7x39u</th>\n",
       "      <td>JediWithAnM4</td>\n",
       "      <td>Man stops to rescue kitten, gets ambushed by p...</td>\n",
       "      <td>aww</td>\n",
       "      <td>1.654715e+09</td>\n",
       "    </tr>\n",
       "  </tbody>\n",
       "</table>\n",
       "<p>34381 rows × 4 columns</p>\n",
       "</div>"
      ],
      "text/plain": [
       "                    author                                              title  \\\n",
       "id                                                                              \n",
       "tkwdrr           No-Gap240                                    Thanks a latte!   \n",
       "tkl164      BrokenShutters                       A truly awful aged like milk   \n",
       "tl0bmh        BolaSquirrel                                    PSA to invaders   \n",
       "tl4kfi  Ok_Inevitable_9461               ...and they call the left snowflakes   \n",
       "tkv6er    Father-TedCrilly              Worlds fattest man around the 1900’s.   \n",
       "...                    ...                                                ...   \n",
       "v7vbxz        MrMoonchild_  Not everyone is a sport illustrator swimsuit m...   \n",
       "v7vc22     beerbellybegone                           Don't disrespect Grandma   \n",
       "v7vdbm     beerbellybegone                       Preacher speaking God's word   \n",
       "v7wym2    SnooCupcakes8607               You bullied the wrong student my guy   \n",
       "v7x39u        JediWithAnM4  Man stops to rescue kitten, gets ambushed by p...   \n",
       "\n",
       "               subreddit   created_utc  \n",
       "id                                      \n",
       "tkwdrr          antiwork  1.648049e+09  \n",
       "tkl164      agedlikemilk  1.648007e+09  \n",
       "tl0bmh         Eldenring  1.648054e+09  \n",
       "tl4kfi    PoliticalHumor  1.648059e+09  \n",
       "tkv6er     AbsoluteUnits  1.648046e+09  \n",
       "...                  ...           ...  \n",
       "v7vbxz          JoeRogan  1.654710e+09  \n",
       "v7vc22  quityourbullshit  1.654710e+09  \n",
       "v7vdbm   MurderedByWords  1.654710e+09  \n",
       "v7wym2    instant_regret  1.654714e+09  \n",
       "v7x39u               aww  1.654715e+09  \n",
       "\n",
       "[34381 rows x 4 columns]"
      ]
     },
     "execution_count": 291,
     "metadata": {},
     "output_type": "execute_result"
    }
   ],
   "source": [
    "def get_popular_threads(filter={}, columns=[], n=None):\n",
    "    \n",
    "    # Adding index to the query projection.\n",
    "    fields = {field: 1 for field in ['id'] + columns}\n",
    "    \n",
    "    cursor = popular_threads.find(filter, fields)\n",
    "    \n",
    "    if n is not None:\n",
    "        cursor = cursor.limit(n)\n",
    "    \n",
    "    df = pd.DataFrame(cursor)\n",
    "    \n",
    "    if len(df) == 0:\n",
    "        return df\n",
    "    \n",
    "    return df.set_index('id') \\\n",
    "        .drop(columns=['_id'])[columns]\n",
    "\n",
    "get_popular_threads(\n",
    "    columns=['author', 'title', 'subreddit', 'created_utc']\n",
    ")"
   ]
  },
  {
   "cell_type": "markdown",
   "id": "5d0dd6f4",
   "metadata": {},
   "source": [
    "# Get r/popular date range."
   ]
  },
  {
   "cell_type": "code",
   "execution_count": 387,
   "id": "e059ef2c",
   "metadata": {
    "ExecuteTime": {
     "end_time": "2022-06-08T22:47:38.449901Z",
     "start_time": "2022-06-08T22:47:38.137278Z"
    },
    "code_folding": [
     0
    ]
   },
   "outputs": [
    {
     "name": "stdout",
     "output_type": "stream",
     "text": [
      "Not local time, but UTC.\n"
     ]
    },
    {
     "data": {
      "text/html": [
       "<div>\n",
       "<style scoped>\n",
       "    .dataframe tbody tr th:only-of-type {\n",
       "        vertical-align: middle;\n",
       "    }\n",
       "\n",
       "    .dataframe tbody tr th {\n",
       "        vertical-align: top;\n",
       "    }\n",
       "\n",
       "    .dataframe thead th {\n",
       "        text-align: right;\n",
       "    }\n",
       "</style>\n",
       "<table border=\"1\" class=\"dataframe\">\n",
       "  <thead>\n",
       "    <tr style=\"text-align: right;\">\n",
       "      <th></th>\n",
       "      <th>Earliest</th>\n",
       "      <th>Latest</th>\n",
       "    </tr>\n",
       "  </thead>\n",
       "  <tbody>\n",
       "    <tr>\n",
       "      <th>Creation</th>\n",
       "      <td>2022-03-22 22:35:31</td>\n",
       "      <td>2022-06-08 13:58:40</td>\n",
       "    </tr>\n",
       "    <tr>\n",
       "      <th>Retrieval</th>\n",
       "      <td>2022-03-23 17:53:48</td>\n",
       "      <td>2022-06-08 16:13:54</td>\n",
       "    </tr>\n",
       "  </tbody>\n",
       "</table>\n",
       "</div>"
      ],
      "text/plain": [
       "                     Earliest              Latest\n",
       "Creation  2022-03-22 22:35:31 2022-06-08 13:58:40\n",
       "Retrieval 2022-03-23 17:53:48 2022-06-08 16:13:54"
      ]
     },
     "execution_count": 387,
     "metadata": {},
     "output_type": "execute_result"
    }
   ],
   "source": [
    "def get_popular_date_range():\n",
    "    \n",
    "    threads = get_popular_threads(columns=['created_utc', 'min_utc', 'max_utc'])\n",
    "    \n",
    "    print('Not local time, but UTC.')\n",
    "    \n",
    "    return pd.DataFrame.from_dict({\n",
    "        'Earliest': {\n",
    "            'Creation': dt.datetime.fromtimestamp(threads['created_utc'].min()),\n",
    "            'Retrieval': dt.datetime.fromtimestamp(threads['min_utc'].min())\n",
    "        },\n",
    "        'Latest': {\n",
    "            'Creation': dt.datetime.fromtimestamp(threads['created_utc'].max()),\n",
    "            'Retrieval': dt.datetime.fromtimestamp(threads['max_utc'].max())\n",
    "        }\n",
    "    })\n",
    "\n",
    "get_popular_date_range()"
   ]
  },
  {
   "cell_type": "markdown",
   "id": "2610ca56",
   "metadata": {},
   "source": [
    "# What's the feature coverage look like?\n",
    "\n",
    "Answers: how many r/popular threads have comment, removed, and newcomer features?"
   ]
  },
  {
   "cell_type": "code",
   "execution_count": 663,
   "id": "f2109a09",
   "metadata": {
    "ExecuteTime": {
     "end_time": "2022-06-09T01:28:43.753370Z",
     "start_time": "2022-06-09T01:28:43.162797Z"
    },
    "code_folding": [
     0
    ]
   },
   "outputs": [
    {
     "data": {
      "text/html": [
       "<style  type=\"text/css\" >\n",
       "</style><table id=\"T_8020d3e0_e793_11ec_8828_70b5e8d10544\" ><thead>    <tr>        <th class=\"blank level0\" ></th>        <th class=\"col_heading level0 col0\" >N</th>        <th class=\"col_heading level0 col1\" >Percentage</th>    </tr></thead><tbody>\n",
       "                <tr>\n",
       "                        <th id=\"T_8020d3e0_e793_11ec_8828_70b5e8d10544level0_row0\" class=\"row_heading level0 row0\" >Total</th>\n",
       "                        <td id=\"T_8020d3e0_e793_11ec_8828_70b5e8d10544row0_col0\" class=\"data row0 col0\" >34,381</td>\n",
       "                        <td id=\"T_8020d3e0_e793_11ec_8828_70b5e8d10544row0_col1\" class=\"data row0 col1\" >1.00</td>\n",
       "            </tr>\n",
       "            <tr>\n",
       "                        <th id=\"T_8020d3e0_e793_11ec_8828_70b5e8d10544level0_row1\" class=\"row_heading level0 row1\" >Comment</th>\n",
       "                        <td id=\"T_8020d3e0_e793_11ec_8828_70b5e8d10544row1_col0\" class=\"data row1 col0\" >33,883</td>\n",
       "                        <td id=\"T_8020d3e0_e793_11ec_8828_70b5e8d10544row1_col1\" class=\"data row1 col1\" >0.99</td>\n",
       "            </tr>\n",
       "            <tr>\n",
       "                        <th id=\"T_8020d3e0_e793_11ec_8828_70b5e8d10544level0_row2\" class=\"row_heading level0 row2\" >Removed</th>\n",
       "                        <td id=\"T_8020d3e0_e793_11ec_8828_70b5e8d10544row2_col0\" class=\"data row2 col0\" >15,853</td>\n",
       "                        <td id=\"T_8020d3e0_e793_11ec_8828_70b5e8d10544row2_col1\" class=\"data row2 col1\" >0.46</td>\n",
       "            </tr>\n",
       "            <tr>\n",
       "                        <th id=\"T_8020d3e0_e793_11ec_8828_70b5e8d10544level0_row3\" class=\"row_heading level0 row3\" >Newcomer</th>\n",
       "                        <td id=\"T_8020d3e0_e793_11ec_8828_70b5e8d10544row3_col0\" class=\"data row3 col0\" >6,057</td>\n",
       "                        <td id=\"T_8020d3e0_e793_11ec_8828_70b5e8d10544row3_col1\" class=\"data row3 col1\" >0.18</td>\n",
       "            </tr>\n",
       "    </tbody></table>"
      ],
      "text/plain": [
       "<pandas.io.formats.style.Styler at 0x7f8978a4a7f0>"
      ]
     },
     "execution_count": 663,
     "metadata": {},
     "output_type": "execute_result"
    }
   ],
   "source": [
    "def display_popular_thread_coverage():\n",
    "    \n",
    "    total_threads = popular_threads.estimated_document_count()\n",
    "    comment_coverage = len(get_popular_threads(filter={'praw_utc': {'$ne': None}}))\n",
    "    removed_coverage = len(get_popular_threads(filter={'requery_utc': {'$ne': None}}))\n",
    "    newcomer_coverage = len(get_popular_threads(filter={'newcomer_utc': {'$ne': None}}))\n",
    "    \n",
    "    return pd.DataFrame.from_dict({\n",
    "        'Total': {'N': total_threads, 'Percentage': total_threads / total_threads},\n",
    "        'Comment': {'N': comment_coverage, 'Percentage': comment_coverage / total_threads},\n",
    "        'Removed': {'N': removed_coverage, 'Percentage': removed_coverage / total_threads},\n",
    "        'Newcomer': {'N': newcomer_coverage, 'Percentage': newcomer_coverage / total_threads}\n",
    "    }, orient='index').style.format({'N': '{:,}', 'Percentage': '{:.2f}'})\n",
    "\n",
    "display_popular_thread_coverage()"
   ]
  },
  {
   "cell_type": "markdown",
   "id": "f28c54cc",
   "metadata": {},
   "source": [
    "# Describe distribution of features."
   ]
  },
  {
   "cell_type": "code",
   "execution_count": 680,
   "id": "e76dfeda",
   "metadata": {
    "ExecuteTime": {
     "end_time": "2022-06-09T01:50:48.410513Z",
     "start_time": "2022-06-09T01:50:47.976458Z"
    },
    "code_folding": [
     0
    ]
   },
   "outputs": [
    {
     "data": {
      "text/html": [
       "<style  type=\"text/css\" >\n",
       "</style><table id=\"T_95af40fe_e796_11ec_8828_70b5e8d10544\" ><thead>    <tr>        <th class=\"blank level0\" ></th>        <th class=\"col_heading level0 col0\" >25%</th>        <th class=\"col_heading level0 col1\" >50%</th>        <th class=\"col_heading level0 col2\" >75%</th>        <th class=\"col_heading level0 col3\" >min</th>        <th class=\"col_heading level0 col4\" >mean</th>        <th class=\"col_heading level0 col5\" >max</th>        <th class=\"col_heading level0 col6\" >count</th>    </tr></thead><tbody>\n",
       "                <tr>\n",
       "                        <th id=\"T_95af40fe_e796_11ec_8828_70b5e8d10544level0_row0\" class=\"row_heading level0 row0\" >Created To Popular (hours)</th>\n",
       "                        <td id=\"T_95af40fe_e796_11ec_8828_70b5e8d10544row0_col0\" class=\"data row0 col0\" >3.09</td>\n",
       "                        <td id=\"T_95af40fe_e796_11ec_8828_70b5e8d10544row0_col1\" class=\"data row0 col1\" >4.40</td>\n",
       "                        <td id=\"T_95af40fe_e796_11ec_8828_70b5e8d10544row0_col2\" class=\"data row0 col2\" >6.57</td>\n",
       "                        <td id=\"T_95af40fe_e796_11ec_8828_70b5e8d10544row0_col3\" class=\"data row0 col3\" >0.17</td>\n",
       "                        <td id=\"T_95af40fe_e796_11ec_8828_70b5e8d10544row0_col4\" class=\"data row0 col4\" >5.48</td>\n",
       "                        <td id=\"T_95af40fe_e796_11ec_8828_70b5e8d10544row0_col5\" class=\"data row0 col5\" >24.22</td>\n",
       "                        <td id=\"T_95af40fe_e796_11ec_8828_70b5e8d10544row0_col6\" class=\"data row0 col6\" >34,381</td>\n",
       "            </tr>\n",
       "            <tr>\n",
       "                        <th id=\"T_95af40fe_e796_11ec_8828_70b5e8d10544level0_row1\" class=\"row_heading level0 row1\" >Popular Window (hours)</th>\n",
       "                        <td id=\"T_95af40fe_e796_11ec_8828_70b5e8d10544row1_col0\" class=\"data row1 col0\" >1.77</td>\n",
       "                        <td id=\"T_95af40fe_e796_11ec_8828_70b5e8d10544row1_col1\" class=\"data row1 col1\" >4.68</td>\n",
       "                        <td id=\"T_95af40fe_e796_11ec_8828_70b5e8d10544row1_col2\" class=\"data row1 col2\" >9.16</td>\n",
       "                        <td id=\"T_95af40fe_e796_11ec_8828_70b5e8d10544row1_col3\" class=\"data row1 col3\" >0.00</td>\n",
       "                        <td id=\"T_95af40fe_e796_11ec_8828_70b5e8d10544row1_col4\" class=\"data row1 col4\" >6.19</td>\n",
       "                        <td id=\"T_95af40fe_e796_11ec_8828_70b5e8d10544row1_col5\" class=\"data row1 col5\" >1588.53</td>\n",
       "                        <td id=\"T_95af40fe_e796_11ec_8828_70b5e8d10544row1_col6\" class=\"data row1 col6\" >34,381</td>\n",
       "            </tr>\n",
       "            <tr>\n",
       "                        <th id=\"T_95af40fe_e796_11ec_8828_70b5e8d10544level0_row2\" class=\"row_heading level0 row2\" >Active Window (days)</th>\n",
       "                        <td id=\"T_95af40fe_e796_11ec_8828_70b5e8d10544row2_col0\" class=\"data row2 col0\" >2.05</td>\n",
       "                        <td id=\"T_95af40fe_e796_11ec_8828_70b5e8d10544row2_col1\" class=\"data row2 col1\" >7.37</td>\n",
       "                        <td id=\"T_95af40fe_e796_11ec_8828_70b5e8d10544row2_col2\" class=\"data row2 col2\" >22.72</td>\n",
       "                        <td id=\"T_95af40fe_e796_11ec_8828_70b5e8d10544row2_col3\" class=\"data row2 col3\" >0.00</td>\n",
       "                        <td id=\"T_95af40fe_e796_11ec_8828_70b5e8d10544row2_col4\" class=\"data row2 col4\" >14.33</td>\n",
       "                        <td id=\"T_95af40fe_e796_11ec_8828_70b5e8d10544row2_col5\" class=\"data row2 col5\" >75.13</td>\n",
       "                        <td id=\"T_95af40fe_e796_11ec_8828_70b5e8d10544row2_col6\" class=\"data row2 col6\" >33,883</td>\n",
       "            </tr>\n",
       "            <tr>\n",
       "                        <th id=\"T_95af40fe_e796_11ec_8828_70b5e8d10544level0_row3\" class=\"row_heading level0 row3\" >Number Of Comments </th>\n",
       "                        <td id=\"T_95af40fe_e796_11ec_8828_70b5e8d10544row3_col0\" class=\"data row3 col0\" >287.00</td>\n",
       "                        <td id=\"T_95af40fe_e796_11ec_8828_70b5e8d10544row3_col1\" class=\"data row3 col1\" >657.00</td>\n",
       "                        <td id=\"T_95af40fe_e796_11ec_8828_70b5e8d10544row3_col2\" class=\"data row3 col2\" >1212.00</td>\n",
       "                        <td id=\"T_95af40fe_e796_11ec_8828_70b5e8d10544row3_col3\" class=\"data row3 col3\" >1.00</td>\n",
       "                        <td id=\"T_95af40fe_e796_11ec_8828_70b5e8d10544row3_col4\" class=\"data row3 col4\" >1120.88</td>\n",
       "                        <td id=\"T_95af40fe_e796_11ec_8828_70b5e8d10544row3_col5\" class=\"data row3 col5\" >85811.00</td>\n",
       "                        <td id=\"T_95af40fe_e796_11ec_8828_70b5e8d10544row3_col6\" class=\"data row3 col6\" >33,883</td>\n",
       "            </tr>\n",
       "            <tr>\n",
       "                        <th id=\"T_95af40fe_e796_11ec_8828_70b5e8d10544level0_row4\" class=\"row_heading level0 row4\" >Number Of Authors </th>\n",
       "                        <td id=\"T_95af40fe_e796_11ec_8828_70b5e8d10544row4_col0\" class=\"data row4 col0\" >221.00</td>\n",
       "                        <td id=\"T_95af40fe_e796_11ec_8828_70b5e8d10544row4_col1\" class=\"data row4 col1\" >455.00</td>\n",
       "                        <td id=\"T_95af40fe_e796_11ec_8828_70b5e8d10544row4_col2\" class=\"data row4 col2\" >843.00</td>\n",
       "                        <td id=\"T_95af40fe_e796_11ec_8828_70b5e8d10544row4_col3\" class=\"data row4 col3\" >1.00</td>\n",
       "                        <td id=\"T_95af40fe_e796_11ec_8828_70b5e8d10544row4_col4\" class=\"data row4 col4\" >783.45</td>\n",
       "                        <td id=\"T_95af40fe_e796_11ec_8828_70b5e8d10544row4_col5\" class=\"data row4 col5\" >81439.00</td>\n",
       "                        <td id=\"T_95af40fe_e796_11ec_8828_70b5e8d10544row4_col6\" class=\"data row4 col6\" >33,883</td>\n",
       "            </tr>\n",
       "            <tr>\n",
       "                        <th id=\"T_95af40fe_e796_11ec_8828_70b5e8d10544level0_row5\" class=\"row_heading level0 row5\" >Number Of Removed </th>\n",
       "                        <td id=\"T_95af40fe_e796_11ec_8828_70b5e8d10544row5_col0\" class=\"data row5 col0\" >2.00</td>\n",
       "                        <td id=\"T_95af40fe_e796_11ec_8828_70b5e8d10544row5_col1\" class=\"data row5 col1\" >5.00</td>\n",
       "                        <td id=\"T_95af40fe_e796_11ec_8828_70b5e8d10544row5_col2\" class=\"data row5 col2\" >14.00</td>\n",
       "                        <td id=\"T_95af40fe_e796_11ec_8828_70b5e8d10544row5_col3\" class=\"data row5 col3\" >0.00</td>\n",
       "                        <td id=\"T_95af40fe_e796_11ec_8828_70b5e8d10544row5_col4\" class=\"data row5 col4\" >19.86</td>\n",
       "                        <td id=\"T_95af40fe_e796_11ec_8828_70b5e8d10544row5_col5\" class=\"data row5 col5\" >13009.00</td>\n",
       "                        <td id=\"T_95af40fe_e796_11ec_8828_70b5e8d10544row5_col6\" class=\"data row5 col6\" >15,963</td>\n",
       "            </tr>\n",
       "            <tr>\n",
       "                        <th id=\"T_95af40fe_e796_11ec_8828_70b5e8d10544level0_row6\" class=\"row_heading level0 row6\" >Number Of Newcomers </th>\n",
       "                        <td id=\"T_95af40fe_e796_11ec_8828_70b5e8d10544row6_col0\" class=\"data row6 col0\" >37.00</td>\n",
       "                        <td id=\"T_95af40fe_e796_11ec_8828_70b5e8d10544row6_col1\" class=\"data row6 col1\" >86.00</td>\n",
       "                        <td id=\"T_95af40fe_e796_11ec_8828_70b5e8d10544row6_col2\" class=\"data row6 col2\" >195.00</td>\n",
       "                        <td id=\"T_95af40fe_e796_11ec_8828_70b5e8d10544row6_col3\" class=\"data row6 col3\" >0.00</td>\n",
       "                        <td id=\"T_95af40fe_e796_11ec_8828_70b5e8d10544row6_col4\" class=\"data row6 col4\" >173.19</td>\n",
       "                        <td id=\"T_95af40fe_e796_11ec_8828_70b5e8d10544row6_col5\" class=\"data row6 col5\" >25417.00</td>\n",
       "                        <td id=\"T_95af40fe_e796_11ec_8828_70b5e8d10544row6_col6\" class=\"data row6 col6\" >6,057</td>\n",
       "            </tr>\n",
       "    </tbody></table>"
      ],
      "text/plain": [
       "<pandas.io.formats.style.Styler at 0x7f896ecb94a8>"
      ]
     },
     "execution_count": 680,
     "metadata": {},
     "output_type": "execute_result"
    }
   ],
   "source": [
    "def describe_features(to_latex=False):\n",
    "    \n",
    "    threads = get_popular_threads(columns=[\n",
    "        'created_to_popular',\n",
    "        'popular_window',\n",
    "        'active_window',\n",
    "        'num_removed',\n",
    "        'num_authors',\n",
    "        'num_comments',\n",
    "        'num_newcomers'\n",
    "    ])\n",
    "    \n",
    "    table = pd.DataFrame()\n",
    "    \n",
    "    hour = int(dt.timedelta(hours=1).total_seconds())\n",
    "    day = int(dt.timedelta(days=1).total_seconds())\n",
    "    week = int(dt.timedelta(days=7).total_seconds())\n",
    "    \n",
    "    units = ['(hours)', '(hours)', '(days)', '', '', '', '']\n",
    "    \n",
    "    table = table.append((threads['created_to_popular'] / hour).describe())\n",
    "    table = table.append((threads['popular_window'] / hour).describe())\n",
    "    table = table.append((threads['active_window'] / day).describe())\n",
    "    table = table.append((threads['num_comments']).describe())\n",
    "    table = table.append((threads['num_authors']).describe())\n",
    "    table = table.append((threads['num_removed'].describe()))\n",
    "    table = table.append((threads['num_newcomers'].describe()))\n",
    "    \n",
    "    styles = {\n",
    "        field: '{:.2f}' for field in ['25%', '50%', '75%', 'min', 'mean', 'max']\n",
    "    }\n",
    "    styles['count'] = '{:,.0f}'\n",
    "    \n",
    "    table.index = [indice.replace('_', ' ').replace('num', 'number of').title() + f' {unit}' \n",
    "                   for indice, unit in zip(table.index, units)]\n",
    "    \n",
    "    if to_latex:\n",
    "        \n",
    "        for column in table.columns:\n",
    "            if column == 'count':\n",
    "                table[column] = table[column].apply(lambda x: f'{x:,.0f}')\n",
    "            else:\n",
    "                table[column] = table[column].apply(lambda x: f'{x:.2f}')\n",
    "        \n",
    "        latex_table = table[['25%', '50%', '75%', 'min', 'mean', 'max', 'count']] \\\n",
    "            .to_latex(bold_rows=True, column_format='lrrrrrrr')\n",
    "        \n",
    "        for column in table.columns:\n",
    "            if '%' in column:\n",
    "                column = column.replace('%', '\\%')\n",
    "\n",
    "            latex_table = latex_table.replace(column, f'\\\\textbf{{{column.title()}}}')\n",
    "        \n",
    "        for rule in ['\\\\toprule', '\\\\midrule', '\\\\bottomrule']:\n",
    "            latex_table = latex_table.replace(rule, '\\hline')\n",
    "            \n",
    "        print(latex_table)\n",
    "        \n",
    "        return\n",
    "        \n",
    "    return table[['25%', '50%', '75%', 'min', 'mean', 'max', 'count']] \\\n",
    "        .style.format(styles)\n",
    "\n",
    "describe_features(to_latex=False)"
   ]
  },
  {
   "cell_type": "markdown",
   "id": "7b090074",
   "metadata": {},
   "source": [
    "# List subreddits that reach r/popular in dataset and the number of threads that reached."
   ]
  },
  {
   "cell_type": "code",
   "execution_count": 400,
   "id": "25e6718e",
   "metadata": {
    "ExecuteTime": {
     "end_time": "2022-06-08T22:58:40.657324Z",
     "start_time": "2022-06-08T22:58:40.376693Z"
    },
    "code_folding": [
     0
    ]
   },
   "outputs": [
    {
     "data": {
      "text/html": [
       "<div>\n",
       "<style scoped>\n",
       "    .dataframe tbody tr th:only-of-type {\n",
       "        vertical-align: middle;\n",
       "    }\n",
       "\n",
       "    .dataframe tbody tr th {\n",
       "        vertical-align: top;\n",
       "    }\n",
       "\n",
       "    .dataframe thead th {\n",
       "        text-align: right;\n",
       "    }\n",
       "</style>\n",
       "<table border=\"1\" class=\"dataframe\">\n",
       "  <thead>\n",
       "    <tr style=\"text-align: right;\">\n",
       "      <th></th>\n",
       "      <th>num_threads</th>\n",
       "    </tr>\n",
       "  </thead>\n",
       "  <tbody>\n",
       "    <tr>\n",
       "      <th>memes</th>\n",
       "      <td>615</td>\n",
       "    </tr>\n",
       "    <tr>\n",
       "      <th>MadeMeSmile</th>\n",
       "      <td>539</td>\n",
       "    </tr>\n",
       "    <tr>\n",
       "      <th>worldnews</th>\n",
       "      <td>532</td>\n",
       "    </tr>\n",
       "    <tr>\n",
       "      <th>interestingasfuck</th>\n",
       "      <td>519</td>\n",
       "    </tr>\n",
       "    <tr>\n",
       "      <th>funny</th>\n",
       "      <td>501</td>\n",
       "    </tr>\n",
       "    <tr>\n",
       "      <th>...</th>\n",
       "      <td>...</td>\n",
       "    </tr>\n",
       "    <tr>\n",
       "      <th>law</th>\n",
       "      <td>1</td>\n",
       "    </tr>\n",
       "    <tr>\n",
       "      <th>BMW</th>\n",
       "      <td>1</td>\n",
       "    </tr>\n",
       "    <tr>\n",
       "      <th>britishcolumbia</th>\n",
       "      <td>1</td>\n",
       "    </tr>\n",
       "    <tr>\n",
       "      <th>trans</th>\n",
       "      <td>1</td>\n",
       "    </tr>\n",
       "    <tr>\n",
       "      <th>barstoolsports</th>\n",
       "      <td>1</td>\n",
       "    </tr>\n",
       "  </tbody>\n",
       "</table>\n",
       "<p>891 rows × 1 columns</p>\n",
       "</div>"
      ],
      "text/plain": [
       "                   num_threads\n",
       "memes                      615\n",
       "MadeMeSmile                539\n",
       "worldnews                  532\n",
       "interestingasfuck          519\n",
       "funny                      501\n",
       "...                        ...\n",
       "law                          1\n",
       "BMW                          1\n",
       "britishcolumbia              1\n",
       "trans                        1\n",
       "barstoolsports               1\n",
       "\n",
       "[891 rows x 1 columns]"
      ]
     },
     "execution_count": 400,
     "metadata": {},
     "output_type": "execute_result"
    }
   ],
   "source": [
    "def list_popular_subreddits():\n",
    "    \n",
    "    popular_subreddits = get_popular_threads(columns=['subreddit'])\n",
    "    \n",
    "    return popular_subreddits['subreddit'] \\\n",
    "        .value_counts() \\\n",
    "        .to_frame() \\\n",
    "        .rename(columns={'subreddit': 'num_threads'})\n",
    "\n",
    "list_popular_subreddits()"
   ]
  },
  {
   "cell_type": "markdown",
   "id": "81212121",
   "metadata": {},
   "source": [
    "# Display the cumulative sum of the subreddits with the most r/popular threads to least."
   ]
  },
  {
   "cell_type": "code",
   "execution_count": 401,
   "id": "5d676503",
   "metadata": {
    "ExecuteTime": {
     "end_time": "2022-06-08T22:58:55.110019Z",
     "start_time": "2022-06-08T22:58:54.669804Z"
    },
    "code_folding": [
     0
    ]
   },
   "outputs": [
    {
     "data": {
      "image/svg+xml": [
       "<svg class=\"main-svg\" xmlns=\"http://www.w3.org/2000/svg\" xmlns:xlink=\"http://www.w3.org/1999/xlink\" width=\"700\" height=\"300\" style=\"\" viewBox=\"0 0 700 300\"><rect x=\"0\" y=\"0\" width=\"700\" height=\"300\" style=\"fill: rgb(255, 255, 255); fill-opacity: 1;\"/><defs id=\"defs-2507c8\"><g class=\"clips\"><clipPath id=\"clip2507c8xyplot\" class=\"plotclip\"><rect width=\"540\" height=\"160\"/></clipPath><clipPath class=\"axesclip\" id=\"clip2507c8x\"><rect x=\"80\" y=\"0\" width=\"540\" height=\"300\"/></clipPath><clipPath class=\"axesclip\" id=\"clip2507c8y\"><rect x=\"0\" y=\"60\" width=\"700\" height=\"160\"/></clipPath><clipPath class=\"axesclip\" id=\"clip2507c8xy\"><rect x=\"80\" y=\"60\" width=\"540\" height=\"160\"/></clipPath></g><g class=\"gradients\"/><g class=\"patterns\"/></defs><g class=\"bglayer\"/><g class=\"layer-below\"><g class=\"imagelayer\"/><g class=\"shapelayer\"/></g><g class=\"cartesianlayer\"><g class=\"subplot xy\"><g class=\"layer-subplot\"><g class=\"shapelayer\"/><g class=\"imagelayer\"/></g><g class=\"gridlayer\"><g class=\"x\"><path class=\"xgrid crisp\" transform=\"translate(201.35,0)\" d=\"M0,60v160\" style=\"stroke: rgb(235, 240, 248); stroke-opacity: 1; stroke-width: 1px;\"/><path class=\"xgrid crisp\" transform=\"translate(322.7,0)\" d=\"M0,60v160\" style=\"stroke: rgb(235, 240, 248); stroke-opacity: 1; stroke-width: 1px;\"/><path class=\"xgrid crisp\" transform=\"translate(444.04,0)\" d=\"M0,60v160\" style=\"stroke: rgb(235, 240, 248); stroke-opacity: 1; stroke-width: 1px;\"/><path class=\"xgrid crisp\" transform=\"translate(565.39,0)\" d=\"M0,60v160\" style=\"stroke: rgb(235, 240, 248); stroke-opacity: 1; stroke-width: 1px;\"/></g><g class=\"y\"><path class=\"ygrid crisp\" transform=\"translate(0,175.79000000000002)\" d=\"M80,0h540\" style=\"stroke: rgb(235, 240, 248); stroke-opacity: 1; stroke-width: 1px;\"/><path class=\"ygrid crisp\" transform=\"translate(0,131.57999999999998)\" d=\"M80,0h540\" style=\"stroke: rgb(235, 240, 248); stroke-opacity: 1; stroke-width: 1px;\"/><path class=\"ygrid crisp\" transform=\"translate(0,87.37)\" d=\"M80,0h540\" style=\"stroke: rgb(235, 240, 248); stroke-opacity: 1; stroke-width: 1px;\"/></g></g><g class=\"zerolinelayer\"><path class=\"xzl zl crisp\" transform=\"translate(80,0)\" d=\"M0,60v160\" style=\"stroke: rgb(235, 240, 248); stroke-opacity: 1; stroke-width: 2px;\"/><path class=\"yzl zl crisp\" transform=\"translate(0,220)\" d=\"M80,0h540\" style=\"stroke: rgb(235, 240, 248); stroke-opacity: 1; stroke-width: 2px;\"/></g><path class=\"xlines-below\"/><path class=\"ylines-below\"/><g class=\"overlines-below\"/><g class=\"xaxislayer-below\"/><g class=\"yaxislayer-below\"/><g class=\"overaxes-below\"/><g class=\"plot\" transform=\"translate(80,60)\" clip-path=\"url(#clip2507c8xyplot)\"><g class=\"scatterlayer mlayer\"><g class=\"trace scatter tracefb1a15\" style=\"stroke-miterlimit: 2;\"><g class=\"fills\"><g><path class=\"js-fill\" d=\"M540,160L0,160L0,157.28L6.67,134.03L7.28,132.27L13.96,115.5L14.56,114.19L23.06,97.86L23.66,96.86L31.55,85.24L32.16,84.43L40.65,74L41.26,73.32L52.18,62.5L52.79,61.96L62.49,54.28L63.1,53.86L78.27,44.06L78.88,43.7L91.01,37.45L91.62,37.17L106.18,31.44L106.79,31.24L123.78,26.35L124.38,26.2L144.4,22.04L145.01,21.94L166.85,18.76L167.46,18.68L205.08,15.08L205.69,15.03L263.33,11.89L263.93,11.87L350.09,9.75L350.7,9.74L468.4,8.52L469.01,8.52L540,8\" style=\"fill: rgb(99, 110, 250); fill-opacity: 0.5; stroke-width: 0;\"/></g></g><g class=\"errorbars\"/><g class=\"lines\"><path class=\"js-line\" d=\"M0,157.28L6.67,134.03L7.28,132.27L13.96,115.5L14.56,114.19L23.06,97.86L23.66,96.86L31.55,85.24L32.16,84.43L40.65,74L41.26,73.32L52.18,62.5L52.79,61.96L62.49,54.28L63.1,53.86L78.27,44.06L78.88,43.7L91.01,37.45L91.62,37.17L106.18,31.44L106.79,31.24L123.78,26.35L124.38,26.2L144.4,22.04L145.01,21.94L166.85,18.76L167.46,18.68L205.08,15.08L205.69,15.03L263.33,11.89L263.93,11.87L350.09,9.75L350.7,9.74L468.4,8.52L469.01,8.52L540,8\" style=\"vector-effect: non-scaling-stroke; fill: none; stroke: rgb(99, 110, 250); stroke-opacity: 1; stroke-width: 2px; opacity: 1;\"/></g><g class=\"points\"/><g class=\"text\"/></g></g></g><g class=\"overplot\"/><path class=\"xlines-above crisp\" d=\"M0,0\" style=\"fill: none;\"/><path class=\"ylines-above crisp\" d=\"M0,0\" style=\"fill: none;\"/><g class=\"overlines-above\"/><g class=\"xaxislayer-above\"><g class=\"xtick\"><text text-anchor=\"middle\" x=\"0\" y=\"233\" transform=\"translate(80,0)\" style=\"font-family: 'Open Sans', verdana, arial, sans-serif; font-size: 12px; fill: rgb(42, 63, 95); fill-opacity: 1; white-space: pre; opacity: 1;\">0</text></g><g class=\"xtick\"><text text-anchor=\"middle\" x=\"0\" y=\"233\" style=\"font-family: 'Open Sans', verdana, arial, sans-serif; font-size: 12px; fill: rgb(42, 63, 95); fill-opacity: 1; white-space: pre; opacity: 1;\" transform=\"translate(201.35,0)\">200</text></g><g class=\"xtick\"><text text-anchor=\"middle\" x=\"0\" y=\"233\" style=\"font-family: 'Open Sans', verdana, arial, sans-serif; font-size: 12px; fill: rgb(42, 63, 95); fill-opacity: 1; white-space: pre; opacity: 1;\" transform=\"translate(322.7,0)\">400</text></g><g class=\"xtick\"><text text-anchor=\"middle\" x=\"0\" y=\"233\" style=\"font-family: 'Open Sans', verdana, arial, sans-serif; font-size: 12px; fill: rgb(42, 63, 95); fill-opacity: 1; white-space: pre; opacity: 1;\" transform=\"translate(444.04,0)\">600</text></g><g class=\"xtick\"><text text-anchor=\"middle\" x=\"0\" y=\"233\" style=\"font-family: 'Open Sans', verdana, arial, sans-serif; font-size: 12px; fill: rgb(42, 63, 95); fill-opacity: 1; white-space: pre; opacity: 1;\" transform=\"translate(565.39,0)\">800</text></g></g><g class=\"yaxislayer-above\"><g class=\"ytick\"><text text-anchor=\"end\" x=\"79\" y=\"4.199999999999999\" transform=\"translate(0,220)\" style=\"font-family: 'Open Sans', verdana, arial, sans-serif; font-size: 12px; fill: rgb(42, 63, 95); fill-opacity: 1; white-space: pre; opacity: 1;\">0</text></g><g class=\"ytick\"><text text-anchor=\"end\" x=\"79\" y=\"4.199999999999999\" style=\"font-family: 'Open Sans', verdana, arial, sans-serif; font-size: 12px; fill: rgb(42, 63, 95); fill-opacity: 1; white-space: pre; opacity: 1;\" transform=\"translate(0,175.79000000000002)\">10k</text></g><g class=\"ytick\"><text text-anchor=\"end\" x=\"79\" y=\"4.199999999999999\" style=\"font-family: 'Open Sans', verdana, arial, sans-serif; font-size: 12px; fill: rgb(42, 63, 95); fill-opacity: 1; white-space: pre; opacity: 1;\" transform=\"translate(0,131.57999999999998)\">20k</text></g><g class=\"ytick\"><text text-anchor=\"end\" x=\"79\" y=\"4.199999999999999\" style=\"font-family: 'Open Sans', verdana, arial, sans-serif; font-size: 12px; fill: rgb(42, 63, 95); fill-opacity: 1; white-space: pre; opacity: 1;\" transform=\"translate(0,87.37)\">30k</text></g></g><g class=\"overaxes-above\"/></g></g><g class=\"polarlayer\"/><g class=\"smithlayer\"/><g class=\"ternarylayer\"/><g class=\"geolayer\"/><g class=\"funnelarealayer\"/><g class=\"pielayer\"/><g class=\"iciclelayer\"/><g class=\"treemaplayer\"/><g class=\"sunburstlayer\"/><g class=\"glimages\"/><defs id=\"topdefs-2507c8\"><g class=\"clips\"/></defs><g class=\"layer-above\"><g class=\"imagelayer\"/><g class=\"shapelayer\"/></g><g class=\"infolayer\"><g class=\"g-gtitle\"><text class=\"gtitle\" x=\"35\" y=\"30\" text-anchor=\"start\" dy=\"0em\" style=\"font-family: 'Open Sans', verdana, arial, sans-serif; font-size: 17px; fill: rgb(42, 63, 95); opacity: 1; font-weight: normal; white-space: pre;\">Cumulative Sum of r/popular Threads by Subreddit</text></g><g class=\"g-xtitle\"><text class=\"xtitle\" x=\"350\" y=\"261.8\" text-anchor=\"middle\" style=\"font-family: 'Open Sans', verdana, arial, sans-serif; font-size: 14px; fill: rgb(42, 63, 95); opacity: 1; font-weight: normal; white-space: pre;\">#subreddit</text></g><g class=\"g-ytitle\"><text class=\"ytitle\" transform=\"rotate(-90,34.16875,140)\" x=\"34.16875\" y=\"140\" text-anchor=\"middle\" style=\"font-family: 'Open Sans', verdana, arial, sans-serif; font-size: 14px; fill: rgb(42, 63, 95); opacity: 1; font-weight: normal; white-space: pre;\">#threads</text></g></g></svg>"
      ]
     },
     "metadata": {},
     "output_type": "display_data"
    }
   ],
   "source": [
    "def display_cumulative_sum(save=False):\n",
    "    \n",
    "    counts = list_popular_subreddits()['num_threads'] \\\n",
    "        .cumsum().reset_index()\n",
    "    \n",
    "    fig = px.area(counts['num_threads'])\n",
    "    \n",
    "    fig.update_layout(\n",
    "        template='plotly_white',\n",
    "        showlegend=False,\n",
    "        xaxis_title='#subreddit',\n",
    "        yaxis_title='#threads',\n",
    "        title='Cumulative Sum of r/popular Threads by Subreddit',\n",
    "        height=300\n",
    "    )\n",
    "    \n",
    "    fig.update_xaxes(showgrid=True)\n",
    "    fig.update_yaxes(showgrid=True)\n",
    "    \n",
    "    fig.show('svg')\n",
    "    \n",
    "    if save:\n",
    "        fig.write_image('figs/cumulative_sum.png', scale=3)\n",
    "\n",
    "display_cumulative_sum(save=True)"
   ]
  },
  {
   "cell_type": "markdown",
   "id": "be6b4229",
   "metadata": {},
   "source": [
    "# Display Pushshift collections for popular subreddits, i.e., the subreddits that reach r/popular."
   ]
  },
  {
   "cell_type": "code",
   "execution_count": 687,
   "id": "b2d0d967",
   "metadata": {
    "ExecuteTime": {
     "end_time": "2022-06-09T02:18:27.117085Z",
     "start_time": "2022-06-09T02:16:17.906066Z"
    },
    "code_folding": [
     0
    ],
    "scrolled": false
   },
   "outputs": [
    {
     "name": "stderr",
     "output_type": "stream",
     "text": [
      " 21%|██        | 22/105 [02:08<08:06,  5.86s/it]\n"
     ]
    },
    {
     "ename": "KeyboardInterrupt",
     "evalue": "",
     "output_type": "error",
     "traceback": [
      "\u001b[0;31m---------------------------------------------------------------------------\u001b[0m",
      "\u001b[0;31mKeyboardInterrupt\u001b[0m                         Traceback (most recent call last)",
      "\u001b[0;32m<ipython-input-687-b1738034a895>\u001b[0m in \u001b[0;36m<module>\u001b[0;34m\u001b[0m\n\u001b[1;32m     30\u001b[0m         \u001b[0;34m.\u001b[0m\u001b[0mstyle\u001b[0m\u001b[0;34m.\u001b[0m\u001b[0mformat\u001b[0m\u001b[0;34m(\u001b[0m\u001b[0mformatter\u001b[0m\u001b[0;34m=\u001b[0m\u001b[0;34m'{:,}'\u001b[0m\u001b[0;34m,\u001b[0m \u001b[0msubset\u001b[0m\u001b[0;34m=\u001b[0m\u001b[0;34m[\u001b[0m\u001b[0;34m'N'\u001b[0m\u001b[0;34m]\u001b[0m\u001b[0;34m)\u001b[0m\u001b[0;34m\u001b[0m\u001b[0;34m\u001b[0m\u001b[0m\n\u001b[1;32m     31\u001b[0m \u001b[0;34m\u001b[0m\u001b[0m\n\u001b[0;32m---> 32\u001b[0;31m \u001b[0mdisplay_pushshift_coverage\u001b[0m\u001b[0;34m(\u001b[0m\u001b[0;34m)\u001b[0m\u001b[0;34m\u001b[0m\u001b[0;34m\u001b[0m\u001b[0m\n\u001b[0m",
      "\u001b[0;32m<ipython-input-687-b1738034a895>\u001b[0m in \u001b[0;36mdisplay_pushshift_coverage\u001b[0;34m()\u001b[0m\n\u001b[1;32m     16\u001b[0m                        \u001b[0;34m'min_utc'\u001b[0m\u001b[0;34m:\u001b[0m \u001b[0;34m{\u001b[0m\u001b[0;34m'$min'\u001b[0m\u001b[0;34m:\u001b[0m \u001b[0;34m'$created_utc'\u001b[0m\u001b[0;34m}\u001b[0m\u001b[0;34m,\u001b[0m\u001b[0;34m\u001b[0m\u001b[0;34m\u001b[0m\u001b[0m\n\u001b[1;32m     17\u001b[0m                        'max_utc': {'$max': '$created_utc'}}}\n\u001b[0;32m---> 18\u001b[0;31m         ], allowDiskUse=True))\n\u001b[0m\u001b[1;32m     19\u001b[0m \u001b[0;34m\u001b[0m\u001b[0m\n\u001b[1;32m     20\u001b[0m         table[subreddit] = {\n",
      "\u001b[0;32m~/.local/lib/python3.6/site-packages/pymongo/collection.py\u001b[0m in \u001b[0;36maggregate\u001b[0;34m(self, pipeline, session, **kwargs)\u001b[0m\n\u001b[1;32m   2505\u001b[0m                                    \u001b[0msession\u001b[0m\u001b[0;34m=\u001b[0m\u001b[0ms\u001b[0m\u001b[0;34m,\u001b[0m\u001b[0;34m\u001b[0m\u001b[0;34m\u001b[0m\u001b[0m\n\u001b[1;32m   2506\u001b[0m                                    \u001b[0mexplicit_session\u001b[0m\u001b[0;34m=\u001b[0m\u001b[0msession\u001b[0m \u001b[0;32mis\u001b[0m \u001b[0;32mnot\u001b[0m \u001b[0;32mNone\u001b[0m\u001b[0;34m,\u001b[0m\u001b[0;34m\u001b[0m\u001b[0;34m\u001b[0m\u001b[0m\n\u001b[0;32m-> 2507\u001b[0;31m                                    **kwargs)\n\u001b[0m\u001b[1;32m   2508\u001b[0m \u001b[0;34m\u001b[0m\u001b[0m\n\u001b[1;32m   2509\u001b[0m     \u001b[0;32mdef\u001b[0m \u001b[0maggregate_raw_batches\u001b[0m\u001b[0;34m(\u001b[0m\u001b[0mself\u001b[0m\u001b[0;34m,\u001b[0m \u001b[0mpipeline\u001b[0m\u001b[0;34m,\u001b[0m \u001b[0msession\u001b[0m\u001b[0;34m=\u001b[0m\u001b[0;32mNone\u001b[0m\u001b[0;34m,\u001b[0m \u001b[0;34m**\u001b[0m\u001b[0mkwargs\u001b[0m\u001b[0;34m)\u001b[0m\u001b[0;34m:\u001b[0m\u001b[0;34m\u001b[0m\u001b[0;34m\u001b[0m\u001b[0m\n",
      "\u001b[0;32m~/.local/lib/python3.6/site-packages/pymongo/collection.py\u001b[0m in \u001b[0;36m_aggregate\u001b[0;34m(self, aggregation_command, pipeline, cursor_class, session, explicit_session, **kwargs)\u001b[0m\n\u001b[1;32m   2419\u001b[0m         return self.__database.client._retryable_read(\n\u001b[1;32m   2420\u001b[0m             \u001b[0mcmd\u001b[0m\u001b[0;34m.\u001b[0m\u001b[0mget_cursor\u001b[0m\u001b[0;34m,\u001b[0m \u001b[0mcmd\u001b[0m\u001b[0;34m.\u001b[0m\u001b[0mget_read_preference\u001b[0m\u001b[0;34m(\u001b[0m\u001b[0msession\u001b[0m\u001b[0;34m)\u001b[0m\u001b[0;34m,\u001b[0m \u001b[0msession\u001b[0m\u001b[0;34m,\u001b[0m\u001b[0;34m\u001b[0m\u001b[0;34m\u001b[0m\u001b[0m\n\u001b[0;32m-> 2421\u001b[0;31m             retryable=not cmd._performs_write)\n\u001b[0m\u001b[1;32m   2422\u001b[0m \u001b[0;34m\u001b[0m\u001b[0m\n\u001b[1;32m   2423\u001b[0m     \u001b[0;32mdef\u001b[0m \u001b[0maggregate\u001b[0m\u001b[0;34m(\u001b[0m\u001b[0mself\u001b[0m\u001b[0;34m,\u001b[0m \u001b[0mpipeline\u001b[0m\u001b[0;34m,\u001b[0m \u001b[0msession\u001b[0m\u001b[0;34m=\u001b[0m\u001b[0;32mNone\u001b[0m\u001b[0;34m,\u001b[0m \u001b[0;34m**\u001b[0m\u001b[0mkwargs\u001b[0m\u001b[0;34m)\u001b[0m\u001b[0;34m:\u001b[0m\u001b[0;34m\u001b[0m\u001b[0;34m\u001b[0m\u001b[0m\n",
      "\u001b[0;32m~/.local/lib/python3.6/site-packages/pymongo/mongo_client.py\u001b[0m in \u001b[0;36m_retryable_read\u001b[0;34m(self, func, read_pref, session, address, retryable)\u001b[0m\n\u001b[1;32m   1523\u001b[0m                         \u001b[0;31m# not support retryable reads, raise the last error.\u001b[0m\u001b[0;34m\u001b[0m\u001b[0;34m\u001b[0m\u001b[0;34m\u001b[0m\u001b[0m\n\u001b[1;32m   1524\u001b[0m                         \u001b[0;32mraise\u001b[0m \u001b[0mlast_error\u001b[0m\u001b[0;34m\u001b[0m\u001b[0;34m\u001b[0m\u001b[0m\n\u001b[0;32m-> 1525\u001b[0;31m                     \u001b[0;32mreturn\u001b[0m \u001b[0mfunc\u001b[0m\u001b[0;34m(\u001b[0m\u001b[0msession\u001b[0m\u001b[0;34m,\u001b[0m \u001b[0mserver\u001b[0m\u001b[0;34m,\u001b[0m \u001b[0msock_info\u001b[0m\u001b[0;34m,\u001b[0m \u001b[0msecondary_ok\u001b[0m\u001b[0;34m)\u001b[0m\u001b[0;34m\u001b[0m\u001b[0;34m\u001b[0m\u001b[0m\n\u001b[0m\u001b[1;32m   1526\u001b[0m             \u001b[0;32mexcept\u001b[0m \u001b[0mServerSelectionTimeoutError\u001b[0m\u001b[0;34m:\u001b[0m\u001b[0;34m\u001b[0m\u001b[0;34m\u001b[0m\u001b[0m\n\u001b[1;32m   1527\u001b[0m                 \u001b[0;32mif\u001b[0m \u001b[0mretrying\u001b[0m\u001b[0;34m:\u001b[0m\u001b[0;34m\u001b[0m\u001b[0;34m\u001b[0m\u001b[0m\n",
      "\u001b[0;32m~/.local/lib/python3.6/site-packages/pymongo/aggregation.py\u001b[0m in \u001b[0;36mget_cursor\u001b[0;34m(self, session, server, sock_info, secondary_ok)\u001b[0m\n\u001b[1;32m    147\u001b[0m             \u001b[0msession\u001b[0m\u001b[0;34m=\u001b[0m\u001b[0msession\u001b[0m\u001b[0;34m,\u001b[0m\u001b[0;34m\u001b[0m\u001b[0;34m\u001b[0m\u001b[0m\n\u001b[1;32m    148\u001b[0m             \u001b[0mclient\u001b[0m\u001b[0;34m=\u001b[0m\u001b[0mself\u001b[0m\u001b[0;34m.\u001b[0m\u001b[0m_database\u001b[0m\u001b[0;34m.\u001b[0m\u001b[0mclient\u001b[0m\u001b[0;34m,\u001b[0m\u001b[0;34m\u001b[0m\u001b[0;34m\u001b[0m\u001b[0m\n\u001b[0;32m--> 149\u001b[0;31m             user_fields=self._user_fields)\n\u001b[0m\u001b[1;32m    150\u001b[0m \u001b[0;34m\u001b[0m\u001b[0m\n\u001b[1;32m    151\u001b[0m         \u001b[0mself\u001b[0m\u001b[0;34m.\u001b[0m\u001b[0m_process_result\u001b[0m\u001b[0;34m(\u001b[0m\u001b[0mresult\u001b[0m\u001b[0;34m,\u001b[0m \u001b[0msession\u001b[0m\u001b[0;34m,\u001b[0m \u001b[0mserver\u001b[0m\u001b[0;34m,\u001b[0m \u001b[0msock_info\u001b[0m\u001b[0;34m,\u001b[0m \u001b[0msecondary_ok\u001b[0m\u001b[0;34m)\u001b[0m\u001b[0;34m\u001b[0m\u001b[0;34m\u001b[0m\u001b[0m\n",
      "\u001b[0;32m~/.local/lib/python3.6/site-packages/pymongo/pool.py\u001b[0m in \u001b[0;36mcommand\u001b[0;34m(self, dbname, spec, secondary_ok, read_preference, codec_options, check, allowable_errors, check_keys, read_concern, write_concern, parse_write_concern_error, collation, session, client, retryable_write, publish_events, user_fields, exhaust_allowed)\u001b[0m\n\u001b[1;32m    724\u001b[0m         \u001b[0;31m# Catch socket.error, KeyboardInterrupt, etc. and close ourselves.\u001b[0m\u001b[0;34m\u001b[0m\u001b[0;34m\u001b[0m\u001b[0;34m\u001b[0m\u001b[0m\n\u001b[1;32m    725\u001b[0m         \u001b[0;32mexcept\u001b[0m \u001b[0mBaseException\u001b[0m \u001b[0;32mas\u001b[0m \u001b[0merror\u001b[0m\u001b[0;34m:\u001b[0m\u001b[0;34m\u001b[0m\u001b[0;34m\u001b[0m\u001b[0m\n\u001b[0;32m--> 726\u001b[0;31m             \u001b[0mself\u001b[0m\u001b[0;34m.\u001b[0m\u001b[0m_raise_connection_failure\u001b[0m\u001b[0;34m(\u001b[0m\u001b[0merror\u001b[0m\u001b[0;34m)\u001b[0m\u001b[0;34m\u001b[0m\u001b[0;34m\u001b[0m\u001b[0m\n\u001b[0m\u001b[1;32m    727\u001b[0m \u001b[0;34m\u001b[0m\u001b[0m\n\u001b[1;32m    728\u001b[0m     \u001b[0;32mdef\u001b[0m \u001b[0msend_message\u001b[0m\u001b[0;34m(\u001b[0m\u001b[0mself\u001b[0m\u001b[0;34m,\u001b[0m \u001b[0mmessage\u001b[0m\u001b[0;34m,\u001b[0m \u001b[0mmax_doc_size\u001b[0m\u001b[0;34m)\u001b[0m\u001b[0;34m:\u001b[0m\u001b[0;34m\u001b[0m\u001b[0;34m\u001b[0m\u001b[0m\n",
      "\u001b[0;32m~/.local/lib/python3.6/site-packages/pymongo/pool.py\u001b[0m in \u001b[0;36mcommand\u001b[0;34m(self, dbname, spec, secondary_ok, read_preference, codec_options, check, allowable_errors, check_keys, read_concern, write_concern, parse_write_concern_error, collation, session, client, retryable_write, publish_events, user_fields, exhaust_allowed)\u001b[0m\n\u001b[1;32m    719\u001b[0m                            \u001b[0munacknowledged\u001b[0m\u001b[0;34m=\u001b[0m\u001b[0munacknowledged\u001b[0m\u001b[0;34m,\u001b[0m\u001b[0;34m\u001b[0m\u001b[0;34m\u001b[0m\u001b[0m\n\u001b[1;32m    720\u001b[0m                            \u001b[0muser_fields\u001b[0m\u001b[0;34m=\u001b[0m\u001b[0muser_fields\u001b[0m\u001b[0;34m,\u001b[0m\u001b[0;34m\u001b[0m\u001b[0;34m\u001b[0m\u001b[0m\n\u001b[0;32m--> 721\u001b[0;31m                            exhaust_allowed=exhaust_allowed)\n\u001b[0m\u001b[1;32m    722\u001b[0m         \u001b[0;32mexcept\u001b[0m \u001b[0;34m(\u001b[0m\u001b[0mOperationFailure\u001b[0m\u001b[0;34m,\u001b[0m \u001b[0mNotPrimaryError\u001b[0m\u001b[0;34m)\u001b[0m\u001b[0;34m:\u001b[0m\u001b[0;34m\u001b[0m\u001b[0;34m\u001b[0m\u001b[0m\n\u001b[1;32m    723\u001b[0m             \u001b[0;32mraise\u001b[0m\u001b[0;34m\u001b[0m\u001b[0;34m\u001b[0m\u001b[0m\n",
      "\u001b[0;32m~/.local/lib/python3.6/site-packages/pymongo/network.py\u001b[0m in \u001b[0;36mcommand\u001b[0;34m(sock_info, dbname, spec, secondary_ok, is_mongos, read_preference, codec_options, session, client, check, allowable_errors, address, check_keys, listeners, max_bson_size, read_concern, parse_write_concern_error, collation, compression_ctx, use_op_msg, unacknowledged, user_fields, exhaust_allowed)\u001b[0m\n\u001b[1;32m    150\u001b[0m             \u001b[0mresponse_doc\u001b[0m \u001b[0;34m=\u001b[0m \u001b[0;34m{\u001b[0m\u001b[0;34m\"ok\"\u001b[0m\u001b[0;34m:\u001b[0m \u001b[0;36m1\u001b[0m\u001b[0;34m}\u001b[0m\u001b[0;34m\u001b[0m\u001b[0;34m\u001b[0m\u001b[0m\n\u001b[1;32m    151\u001b[0m         \u001b[0;32melse\u001b[0m\u001b[0;34m:\u001b[0m\u001b[0;34m\u001b[0m\u001b[0;34m\u001b[0m\u001b[0m\n\u001b[0;32m--> 152\u001b[0;31m             \u001b[0mreply\u001b[0m \u001b[0;34m=\u001b[0m \u001b[0mreceive_message\u001b[0m\u001b[0;34m(\u001b[0m\u001b[0msock_info\u001b[0m\u001b[0;34m,\u001b[0m \u001b[0mrequest_id\u001b[0m\u001b[0;34m)\u001b[0m\u001b[0;34m\u001b[0m\u001b[0;34m\u001b[0m\u001b[0m\n\u001b[0m\u001b[1;32m    153\u001b[0m             \u001b[0msock_info\u001b[0m\u001b[0;34m.\u001b[0m\u001b[0mmore_to_come\u001b[0m \u001b[0;34m=\u001b[0m \u001b[0mreply\u001b[0m\u001b[0;34m.\u001b[0m\u001b[0mmore_to_come\u001b[0m\u001b[0;34m\u001b[0m\u001b[0;34m\u001b[0m\u001b[0m\n\u001b[1;32m    154\u001b[0m             unpacked_docs = reply.unpack_response(\n",
      "\u001b[0;32m~/.local/lib/python3.6/site-packages/pymongo/network.py\u001b[0m in \u001b[0;36mreceive_message\u001b[0;34m(sock_info, request_id, max_message_size)\u001b[0m\n\u001b[1;32m    198\u001b[0m     \u001b[0;31m# Ignore the response's request id.\u001b[0m\u001b[0;34m\u001b[0m\u001b[0;34m\u001b[0m\u001b[0;34m\u001b[0m\u001b[0m\n\u001b[1;32m    199\u001b[0m     length, _, response_to, op_code = _UNPACK_HEADER(\n\u001b[0;32m--> 200\u001b[0;31m         _receive_data_on_socket(sock_info, 16, deadline))\n\u001b[0m\u001b[1;32m    201\u001b[0m     \u001b[0;31m# No request_id for exhaust cursor \"getMore\".\u001b[0m\u001b[0;34m\u001b[0m\u001b[0;34m\u001b[0m\u001b[0;34m\u001b[0m\u001b[0m\n\u001b[1;32m    202\u001b[0m     \u001b[0;32mif\u001b[0m \u001b[0mrequest_id\u001b[0m \u001b[0;32mis\u001b[0m \u001b[0;32mnot\u001b[0m \u001b[0;32mNone\u001b[0m\u001b[0;34m:\u001b[0m\u001b[0;34m\u001b[0m\u001b[0;34m\u001b[0m\u001b[0m\n",
      "\u001b[0;32m~/.local/lib/python3.6/site-packages/pymongo/network.py\u001b[0m in \u001b[0;36m_receive_data_on_socket\u001b[0;34m(sock_info, length, deadline)\u001b[0m\n\u001b[1;32m    289\u001b[0m             \u001b[0;32mtry\u001b[0m\u001b[0;34m:\u001b[0m\u001b[0;34m\u001b[0m\u001b[0;34m\u001b[0m\u001b[0m\n\u001b[1;32m    290\u001b[0m                 \u001b[0mwait_for_read\u001b[0m\u001b[0;34m(\u001b[0m\u001b[0msock_info\u001b[0m\u001b[0;34m,\u001b[0m \u001b[0mdeadline\u001b[0m\u001b[0;34m)\u001b[0m\u001b[0;34m\u001b[0m\u001b[0;34m\u001b[0m\u001b[0m\n\u001b[0;32m--> 291\u001b[0;31m                 \u001b[0mchunk_length\u001b[0m \u001b[0;34m=\u001b[0m \u001b[0msock_info\u001b[0m\u001b[0;34m.\u001b[0m\u001b[0msock\u001b[0m\u001b[0;34m.\u001b[0m\u001b[0mrecv_into\u001b[0m\u001b[0;34m(\u001b[0m\u001b[0mmv\u001b[0m\u001b[0;34m[\u001b[0m\u001b[0mbytes_read\u001b[0m\u001b[0;34m:\u001b[0m\u001b[0;34m]\u001b[0m\u001b[0;34m)\u001b[0m\u001b[0;34m\u001b[0m\u001b[0;34m\u001b[0m\u001b[0m\n\u001b[0m\u001b[1;32m    292\u001b[0m             \u001b[0;32mexcept\u001b[0m \u001b[0;34m(\u001b[0m\u001b[0mIOError\u001b[0m\u001b[0;34m,\u001b[0m \u001b[0mOSError\u001b[0m\u001b[0;34m)\u001b[0m \u001b[0;32mas\u001b[0m \u001b[0mexc\u001b[0m\u001b[0;34m:\u001b[0m\u001b[0;34m\u001b[0m\u001b[0;34m\u001b[0m\u001b[0m\n\u001b[1;32m    293\u001b[0m                 \u001b[0;32mif\u001b[0m \u001b[0m_errno_from_exception\u001b[0m\u001b[0;34m(\u001b[0m\u001b[0mexc\u001b[0m\u001b[0;34m)\u001b[0m \u001b[0;34m==\u001b[0m \u001b[0merrno\u001b[0m\u001b[0;34m.\u001b[0m\u001b[0mEINTR\u001b[0m\u001b[0;34m:\u001b[0m\u001b[0;34m\u001b[0m\u001b[0;34m\u001b[0m\u001b[0m\n",
      "\u001b[0;31mKeyboardInterrupt\u001b[0m: "
     ]
    }
   ],
   "source": [
    "def display_pushshift_coverage():\n",
    "    \n",
    "    popular_subreddits = get_popular_threads(columns=['subreddit'])['subreddit'] \\\n",
    "        .unique().tolist()\n",
    "    \n",
    "    collection_subreddits = set(pushshift_comments.list_collection_names()) \\\n",
    "        .intersection(set(popular_subreddits))\n",
    "    \n",
    "    table = {}\n",
    "    \n",
    "    for subreddit in tqdm(collection_subreddits):\n",
    "        \n",
    "        date_range = pd.DataFrame(pushshift_comments[subreddit].aggregate([\n",
    "            {'$project': {'created_utc': 1}},\n",
    "            {'$group': {'_id': None,\n",
    "                       'min_utc': {'$min': '$created_utc'},\n",
    "                       'max_utc': {'$max': '$created_utc'}}}\n",
    "        ], allowDiskUse=True))\n",
    "        \n",
    "        table[subreddit] = {\n",
    "            'N': pushshift_comments[subreddit].estimated_document_count(),\n",
    "            'Start': dt.datetime.fromtimestamp(date_range['min_utc'].values[0]),\n",
    "            'End': dt.datetime.fromtimestamp(date_range['max_utc'].values[0])\n",
    "        }\n",
    "        \n",
    "    print(f'{len(collection_subreddits):,} subreddits in collection. ' \\\n",
    "          f'{len(popular_subreddits) - len(collection_subreddits):,} subreddits remaining.')\n",
    "        \n",
    "    return pd.DataFrame.from_dict(table, orient='index').sort_values(by='N', desc=False) \\\n",
    "        .style.format(formatter='{:,}', subset=['N'])\n",
    "\n",
    "display_pushshift_coverage()"
   ]
  },
  {
   "cell_type": "code",
   "execution_count": 556,
   "id": "d107b009",
   "metadata": {
    "ExecuteTime": {
     "end_time": "2022-06-09T00:34:33.031356Z",
     "start_time": "2022-06-09T00:34:32.184346Z"
    },
    "code_folding": [
     0
    ]
   },
   "outputs": [
    {
     "data": {
      "image/svg+xml": [
       "<svg class=\"main-svg\" xmlns=\"http://www.w3.org/2000/svg\" xmlns:xlink=\"http://www.w3.org/1999/xlink\" width=\"700\" height=\"500\" style=\"\" viewBox=\"0 0 700 500\"><rect x=\"0\" y=\"0\" width=\"700\" height=\"500\" style=\"fill: rgb(255, 255, 255); fill-opacity: 1;\"/><defs id=\"defs-cf97ef\"><g class=\"clips\"><clipPath id=\"clipcf97efxyplot\" class=\"plotclip\"><rect width=\"440\" height=\"320\"/></clipPath><clipPath class=\"axesclip\" id=\"clipcf97efx\"><rect x=\"80\" y=\"0\" width=\"440\" height=\"500\"/></clipPath><clipPath class=\"axesclip\" id=\"clipcf97efy\"><rect x=\"0\" y=\"100\" width=\"700\" height=\"320\"/></clipPath><clipPath class=\"axesclip\" id=\"clipcf97efxy\"><rect x=\"80\" y=\"100\" width=\"440\" height=\"320\"/></clipPath></g><g class=\"gradients\"/><g class=\"patterns\"/></defs><g class=\"bglayer\"/><g class=\"layer-below\"><g class=\"imagelayer\"/><g class=\"shapelayer\"/></g><g class=\"cartesianlayer\"><g class=\"subplot xy\"><g class=\"layer-subplot\"><g class=\"shapelayer\"/><g class=\"imagelayer\"/></g><g class=\"gridlayer\"><g class=\"x\"><path class=\"xgrid crisp\" transform=\"translate(161.97,0)\" d=\"M0,100v320\" style=\"stroke: rgb(235, 240, 248); stroke-opacity: 1; stroke-width: 1px;\"/><path class=\"xgrid crisp\" transform=\"translate(244.19,0)\" d=\"M0,100v320\" style=\"stroke: rgb(235, 240, 248); stroke-opacity: 1; stroke-width: 1px;\"/><path class=\"xgrid crisp\" transform=\"translate(326.4,0)\" d=\"M0,100v320\" style=\"stroke: rgb(235, 240, 248); stroke-opacity: 1; stroke-width: 1px;\"/><path class=\"xgrid crisp\" transform=\"translate(408.62,0)\" d=\"M0,100v320\" style=\"stroke: rgb(235, 240, 248); stroke-opacity: 1; stroke-width: 1px;\"/><path class=\"xgrid crisp\" transform=\"translate(490.83,0)\" d=\"M0,100v320\" style=\"stroke: rgb(235, 240, 248); stroke-opacity: 1; stroke-width: 1px;\"/></g><g class=\"y\"><path class=\"ygrid crisp\" transform=\"translate(0,375.15)\" d=\"M80,0h440\" style=\"stroke: rgb(235, 240, 248); stroke-opacity: 1; stroke-width: 1px;\"/><path class=\"ygrid crisp\" transform=\"translate(0,346.28999999999996)\" d=\"M80,0h440\" style=\"stroke: rgb(235, 240, 248); stroke-opacity: 1; stroke-width: 1px;\"/><path class=\"ygrid crisp\" transform=\"translate(0,317.44)\" d=\"M80,0h440\" style=\"stroke: rgb(235, 240, 248); stroke-opacity: 1; stroke-width: 1px;\"/><path class=\"ygrid crisp\" transform=\"translate(0,288.58000000000004)\" d=\"M80,0h440\" style=\"stroke: rgb(235, 240, 248); stroke-opacity: 1; stroke-width: 1px;\"/><path class=\"ygrid crisp\" transform=\"translate(0,259.73)\" d=\"M80,0h440\" style=\"stroke: rgb(235, 240, 248); stroke-opacity: 1; stroke-width: 1px;\"/><path class=\"ygrid crisp\" transform=\"translate(0,230.87)\" d=\"M80,0h440\" style=\"stroke: rgb(235, 240, 248); stroke-opacity: 1; stroke-width: 1px;\"/><path class=\"ygrid crisp\" transform=\"translate(0,202.01999999999998)\" d=\"M80,0h440\" style=\"stroke: rgb(235, 240, 248); stroke-opacity: 1; stroke-width: 1px;\"/><path class=\"ygrid crisp\" transform=\"translate(0,173.16)\" d=\"M80,0h440\" style=\"stroke: rgb(235, 240, 248); stroke-opacity: 1; stroke-width: 1px;\"/><path class=\"ygrid crisp\" transform=\"translate(0,144.31)\" d=\"M80,0h440\" style=\"stroke: rgb(235, 240, 248); stroke-opacity: 1; stroke-width: 1px;\"/><path class=\"ygrid crisp\" transform=\"translate(0,115.45)\" d=\"M80,0h440\" style=\"stroke: rgb(235, 240, 248); stroke-opacity: 1; stroke-width: 1px;\"/></g></g><g class=\"zerolinelayer\"><path class=\"yzl zl crisp\" transform=\"translate(0,404)\" d=\"M80,0h440\" style=\"stroke: rgb(235, 240, 248); stroke-opacity: 1; stroke-width: 2px;\"/></g><path class=\"xlines-below\"/><path class=\"ylines-below\"/><g class=\"overlines-below\"/><g class=\"xaxislayer-below\"/><g class=\"yaxislayer-below\"/><g class=\"overaxes-below\"/><g class=\"plot\" transform=\"translate(80,100)\" clip-path=\"url(#clipcf97efxyplot)\"><g class=\"scatterlayer mlayer\"><g class=\"trace scatter traceb1cf04\" style=\"stroke-miterlimit: 2; opacity: 1;\"><g class=\"fills\"/><g class=\"errorbars\"/><g class=\"lines\"><path class=\"js-line\" d=\"M0.2,16.59L1.4,23.4L1.41,24.54L2.06,30.22L2.81,31.36L4.21,39.31L4.59,40.44L5.57,48.4L6.14,49.53L8.02,57.48L8.29,58.62L9.12,63.16L9.51,64.3L11.36,68.84L11.61,69.98L12.65,72.25L13.26,73.39L14.21,76.8L14.94,77.93L15.84,81.34L16.28,82.48L18.9,88.16L20.83,89.29L22.79,96.11L25.13,97.24L26.76,101.79L27.03,102.92L28.03,106.33L29.38,107.47L29.54,109.74L31.63,110.88L35.75,112.01L36.3,113.15L36.89,115.42L37.58,116.56L39.25,117.69L39.49,118.83L40.16,119.97L42.75,121.1L44.7,124.51L47.98,125.65L50.4,132.46L52.79,133.6L53.66,135.87L54.6,137.01L57.15,141.55L60.8,142.69L61.55,143.82L64.28,144.96L70.7,149.5L71.41,150.64L73.65,151.77L73.72,152.91L77.44,154.05L78.19,155.18L80,157.45L80.18,158.59L83.7,160.86L88.78,162L89.62,163.13L91.61,164.27L95.66,166.54L97.08,167.68L100.92,168.81L102.08,169.95L102.35,171.09L104.74,172.22L110.66,173.36L110.7,174.49L116.75,177.9L117.54,179.04L122.69,182.45L123.01,183.58L125.88,184.72L126.63,185.85L127.72,188.13L130.14,189.26L130.24,190.4L132.16,191.53L134.78,196.08L136.36,197.21L137.19,198.35L141.77,199.49L143.02,201.76L143.77,202.89L145.63,204.03L149.2,205.17L149.75,207.44L152.03,208.57L155.09,211.98L156.13,213.12L158.5,215.39L158.82,216.53L164.34,219.93L164.79,221.07L164.89,222.21L167.29,223.34L168.04,225.61L169.92,226.75L170.22,227.89L171.7,229.02L172.01,231.29L173.43,232.43L173.72,233.57L174.9,234.7L175.39,236.97L177.98,238.11L181.99,240.38L182.08,241.52L184.43,242.66L188.69,243.79L189.81,246.06L197.65,247.2L200.08,249.47L204.27,250.61L208.45,251.74L208.86,252.88L210.44,255.15L215.79,256.29L217.68,257.42L226.72,258.56L229.03,260.83L230.04,261.97L253.73,264.24L259.12,265.38L262.9,267.65L268.01,268.78L271.72,272.19L272.77,273.33L272.83,274.46L274.36,275.6L281.1,277.87L287.63,279.01L288.18,280.14L294.32,281.28L307.08,283.55L309.07,284.69L310.03,285.82L315.47,286.96L316.61,289.23L325.72,290.37L328.22,291.5L328.28,292.64L328.67,293.78L347.65,294.91L352.95,296.05L354.37,297.18L354.93,298.32L365.33,299.46L386.1,300.59L386.63,301.73L388.81,302.86L418.2,304\" style=\"vector-effect: non-scaling-stroke; fill: none; stroke: rgb(99, 110, 250); stroke-opacity: 1; stroke-width: 2px; opacity: 1;\"/></g><g class=\"points\"/><g class=\"text\"/></g><g class=\"trace scatter tracea8d2d9\" style=\"stroke-miterlimit: 2; opacity: 1;\"><g class=\"fills\"/><g class=\"errorbars\"/><g class=\"lines\"><path class=\"js-line\" d=\"M0,16.87L0.31,31.09L0.32,32.51L1.82,146.22L1.88,147.64L2.25,154.75L2.28,156.17L2.93,160.44L2.97,161.86L6.32,193.13L6.95,194.55L9.09,198.81L10.86,200.24L11.27,204.5L12.64,205.92L14.1,208.76L18.43,210.19L20.41,213.03L21.35,214.45L22.38,215.87L27.17,217.29L28.72,218.71L29.03,220.14L29.21,221.56L30.17,222.98L30.39,224.4L31.77,225.82L45.53,230.09L47.02,231.51L49.36,234.35L53.64,235.77L59.21,237.19L68.66,238.61L77.57,241.46L77.96,242.88L80.83,244.3L89.05,245.72L90,248.56L91.56,249.99L92.25,251.41L94.08,252.83L94.74,254.25L98.57,255.67L104.55,257.09L116.21,258.51L116.38,259.94L120.01,261.36L130.29,264.2L147.84,265.62L150.43,267.04L150.72,268.46L160.41,271.31L164.97,272.73L165.43,274.15L169.82,275.57L189.82,276.99L190.21,278.41L190.81,279.84L195.81,281.26L197.14,282.68L219.14,284.1L294.13,286.94L307.37,288.36L311.22,289.79L317.66,291.21L330.07,292.63L333.82,294.05L381.12,295.47L386.3,296.89L408.29,301.16L408.39,302.58L415.54,304\" style=\"vector-effect: non-scaling-stroke; fill: none; stroke: rgb(239, 85, 59); stroke-opacity: 1; stroke-width: 2px; opacity: 1;\"/></g><g class=\"points\"/><g class=\"text\"/></g><g class=\"trace scatter trace99add3\" style=\"stroke-miterlimit: 2; opacity: 1;\"><g class=\"fills\"/><g class=\"errorbars\"/><g class=\"lines\"><path class=\"js-line\" d=\"M0.15,16L1.06,22.03L1.17,22.58L1.87,27.52L2.15,28.07L3.19,33.55L3.43,34.1L4.54,38.49L4.65,39.04L5.6,43.43L5.76,43.98L13.34,65.92L13.74,66.47L16.21,73.6L16.51,74.15L17.41,76.89L17.88,77.44L18.75,80.73L18.93,81.28L19.8,85.12L19.93,85.67L22.64,91.15L22.7,91.7L23.55,94.99L23.88,95.54L25,101.03L25.43,101.58L26.17,104.32L26.35,104.87L28.87,111.45L28.92,112L29.6,115.29L29.92,115.84L30.96,119.13L31.4,119.68L32.8,122.97L32.9,123.52L34.46,127.36L34.56,127.91L35.5,130.65L35.53,131.2L38.05,140.53L38.27,141.07L39,142.72L39.37,143.27L40.62,146.01L41.33,146.56L41.91,150.4L42.37,150.95L44.33,154.79L45.5,155.34L48.22,160.82L49.37,161.37L50.49,163.02L50.86,163.57L52.72,167.41L54.09,167.95L57.68,171.79L57.92,172.34L59.5,175.09L59.58,175.63L61.64,178.93L61.67,179.47L63.57,181.67L65.31,182.22L65.89,184.41L66.23,184.96L69.49,187.15L70.03,187.7L75.41,192.64L75.88,193.19L76.3,194.83L77.83,195.38L79.8,198.67L80.7,199.22L83.16,204.16L83.8,204.71L84.57,206.9L86.14,207.45L88.13,209.1L88.51,209.65L89.11,210.74L89.12,211.29L89.6,211.84L91.12,212.39L96.21,215.68L96.31,216.23L96.44,216.78L97.68,217.33L97.73,217.87L98.82,218.42L101.73,220.62L104.54,221.17L112.51,224.46L112.68,225.01L113.6,226.65L114.56,227.2L118.68,228.85L118.84,229.39L119.74,230.49L123.77,231.04L128.24,233.78L128.26,234.33L130.19,238.17L131.54,238.72L133.12,239.82L133.26,240.37L133.85,242.01L134.79,242.56L134.93,243.11L136.16,243.66L137.53,245.3L139.09,245.85L141.72,247.5L146.36,248.05L147.76,249.69L149.94,250.24L153.24,251.89L153.37,252.43L158.2,254.63L162.94,255.18L169.14,257.37L170.16,257.92L175.53,260.11L176.21,260.66L177.15,261.76L179.82,262.31L180.42,263.95L182.44,264.5L194.55,268.89L195.22,269.44L203.25,270.54L203.45,271.09L204.45,272.73L206.08,273.28L208.11,274.38L212.83,274.93L213.05,275.47L215.33,276.02L218.09,278.22L219.11,278.77L231.25,280.41L243.36,280.96L246.25,282.06L252.6,282.61L260.35,286.45L265.29,286.99L266.93,287.54L272.09,288.09L274.04,289.74L274.2,290.29L285.48,291.38L287.15,291.93L288.19,293.58L291.05,294.13L318.84,296.87L323.84,297.42L330.67,298.51L342.08,299.06L365.45,300.71L366.25,301.26L369.82,301.81L385.98,302.35L412.82,303.45L416.14,304\" style=\"vector-effect: non-scaling-stroke; fill: none; stroke: rgb(0, 204, 150); stroke-opacity: 1; stroke-width: 2px; opacity: 1;\"/></g><g class=\"points\"/><g class=\"text\"/></g><g class=\"trace scatter trace9cc56c\" style=\"stroke-miterlimit: 2; opacity: 1;\"><g class=\"fills\"/><g class=\"errorbars\"/><g class=\"lines\"><path class=\"js-line\" d=\"M0.54,16.38L2.89,30.34L3.41,31.28L4.6,33.14L4.65,34.07L5.05,37.79L5.76,38.72L7.95,58.27L7.98,59.2L8.74,61.99L9.16,62.92L11.62,78.75L12.62,79.68L13.45,84.33L13.81,85.26L14.18,88.05L14.72,88.98L15.85,95.5L16.37,96.43L16.88,99.22L17.86,100.15L19.4,103.88L19.47,104.81L19.86,106.67L21.16,107.6L24.83,124.36L25.49,125.29L26.44,129.01L26.56,129.94L27.31,131.8L28.18,132.73L29.62,137.39L30.92,138.32L32.62,141.11L34.66,142.04L34.8,142.97L35.87,143.9L36.75,145.76L37.04,146.69L39.75,155.07L40.56,156L41.07,157.86L41.67,158.79L42.13,163.45L43.53,164.38L45.16,169.96L45.2,170.9L49.47,172.76L49.5,173.69L51.5,175.55L53.13,176.48L55.15,180.2L57.62,181.13L61.77,183L64.54,183.93L66.91,186.72L66.99,187.65L69.6,188.58L69.8,189.51L69.98,190.44L72.06,191.37L72.3,192.3L74.16,193.23L76.5,196.03L77.22,196.96L78.6,199.75L79.39,200.68L81.58,202.54L82.68,203.47L87.12,205.34L87.16,206.27L88.6,209.99L89.8,210.92L90.94,212.78L92.52,213.71L92.54,214.64L93.74,215.57L94.47,217.44L97.25,218.37L101.16,221.16L101.45,222.09L108.48,223.95L108.64,224.88L109.3,225.81L111.43,226.74L125.35,233.26L125.7,234.19L127.36,236.05L130.84,236.98L132.03,237.91L135.68,238.84L143.02,242.57L143.62,243.5L143.76,244.43L145.36,245.36L154.09,250.01L155.31,250.94L156.23,252.81L158.44,253.74L161.18,255.6L161.35,256.53L167.87,261.18L168.23,262.11L168.77,263.04L172.12,263.98L176.58,265.84L177.69,266.77L179.56,268.63L184.27,269.56L187.58,270.49L187.99,271.42L192.22,274.21L192.83,275.15L196.84,277.94L201.11,278.87L202.25,280.73L202.31,281.66L221.72,283.52L222.63,284.45L226.5,285.38L226.71,286.31L232.76,287.25L232.86,288.18L233.34,289.11L237.45,290.04L241.99,290.97L242.32,291.9L243.21,292.83L250.95,293.76L257.93,294.69L258.41,295.62L293.97,297.48L296.41,298.42L311.54,300.28L335.41,301.21L372.18,303.07L407.84,304\" style=\"vector-effect: non-scaling-stroke; fill: none; stroke: rgb(171, 99, 250); stroke-opacity: 1; stroke-width: 2px; opacity: 1;\"/></g><g class=\"points\"/><g class=\"text\"/></g><g class=\"trace scatter trace0e4e8a\" style=\"stroke-miterlimit: 2; opacity: 1;\"><g class=\"fills\"/><g class=\"errorbars\"/><g class=\"lines\"><path class=\"js-line\" d=\"M0.8,16.02L2.17,18.27L2.21,18.83L5.91,36.3L5.92,36.87L7.74,44.76L7.93,45.32L8.75,50.96L8.97,51.52L10.13,57.16L10.47,57.72L13.48,72.37L13.72,72.94L14.59,74.63L14.62,75.19L15.89,79.7L16.54,80.26L18.09,83.64L18.3,84.21L20.03,90.41L20.4,90.97L22.74,94.35L23.06,94.92L23.79,100.55L24.04,101.11L25.08,102.24L25.36,102.81L26.58,104.5L27.45,105.06L28.46,107.88L28.7,108.44L30.27,114.64L30.67,115.2L31.4,116.89L31.45,117.46L32.47,119.71L32.56,120.28L37.72,134.37L38.41,134.93L39.55,138.31L39.59,138.87L42,143.95L44.06,144.51L44.6,146.2L45.16,146.76L46.29,150.71L47.1,151.27L48.34,152.4L48.52,152.96L49.3,154.09L50.81,154.65L53.13,158.6L53.19,159.16L53.93,160.85L54.32,161.42L55.48,163.67L56.12,164.23L57.48,165.36L58.12,165.93L58.82,167.05L59.77,167.62L61.5,168.74L61.62,169.31L63.84,172.12L64.4,172.69L65.13,174.38L65.44,174.94L72.38,180.58L72.47,181.14L72.84,181.71L74.17,182.27L75.11,183.96L77.52,184.52L81.89,189.03L81.92,189.6L84.71,190.72L85.45,191.29L85.86,192.41L87.05,192.98L91.78,196.36L92.2,196.92L93.64,198.61L93.75,199.18L95.86,200.3L99.94,200.87L101.93,203.12L105.08,203.68L105.66,204.81L107.61,205.38L107.82,205.94L109.94,206.5L110.54,207.07L113.59,207.63L113.79,208.19L114.92,208.76L115.38,209.32L117.56,209.88L124.11,213.83L124.16,214.39L125.6,215.52L126.06,216.08L126.24,216.65L129.69,217.21L130.52,218.34L133.82,218.9L137.49,220.03L138.18,220.59L140.8,223.41L140.89,223.97L141.65,224.54L145.5,225.1L148.99,226.23L149.71,226.79L152.07,227.92L153.15,228.48L154.28,229.61L155.69,230.17L155.81,230.74L160.45,231.3L160.54,232.43L161.64,232.99L162.5,235.81L164.24,236.37L166.11,238.06L167.59,238.63L171.95,240.88L172.08,241.44L185.2,246.52L188.35,247.08L191.65,248.77L191.66,249.33L197.99,253.84L198.22,254.41L199.18,255.53L205.52,256.1L208,257.22L212.35,257.79L212.72,258.35L214.76,258.91L216.89,260.61L220.45,261.17L220.94,261.73L223.06,262.3L223.27,262.86L225.12,263.42L230.22,264.55L231.89,265.11L250.77,268.5L251.39,269.06L251.71,269.62L254.36,270.19L259.52,271.31L260.24,271.88L260.36,272.44L263.97,273L265.88,274.13L270.23,274.69L270.91,275.26L275.05,275.82L283.95,278.64L284.46,279.2L285.81,280.33L287.95,280.89L288.61,281.46L292.87,282.02L305.83,283.71L306.69,284.27L307.86,285.4L310.22,285.97L324.13,287.66L325.06,288.22L325.69,288.78L332.51,289.35L354.41,291.04L355.08,291.6L382.28,296.67L393.71,297.24L394.92,297.8L402.45,298.36L407.35,299.49L409.77,300.06L410.28,300.62L414.41,301.18L440,304\" style=\"vector-effect: non-scaling-stroke; fill: none; stroke: rgb(255, 161, 90); stroke-opacity: 1; stroke-width: 2px; opacity: 1;\"/></g><g class=\"points\"/><g class=\"text\"/></g></g></g><g class=\"overplot\"/><path class=\"xlines-above crisp\" d=\"M0,0\" style=\"fill: none;\"/><path class=\"ylines-above crisp\" d=\"M0,0\" style=\"fill: none;\"/><g class=\"overlines-above\"/><g class=\"xaxislayer-above\"><g class=\"xtick\"><text text-anchor=\"middle\" x=\"0\" y=\"433\" transform=\"translate(161.97,0)\" style=\"font-family: 'Open Sans', verdana, arial, sans-serif; font-size: 12px; fill: rgb(42, 63, 95); fill-opacity: 1; white-space: pre; opacity: 1;\">2</text></g><g class=\"xtick\"><text text-anchor=\"middle\" x=\"0\" y=\"433\" style=\"font-family: 'Open Sans', verdana, arial, sans-serif; font-size: 12px; fill: rgb(42, 63, 95); fill-opacity: 1; white-space: pre; opacity: 1;\" transform=\"translate(244.19,0)\">4</text></g><g class=\"xtick\"><text text-anchor=\"middle\" x=\"0\" y=\"433\" style=\"font-family: 'Open Sans', verdana, arial, sans-serif; font-size: 12px; fill: rgb(42, 63, 95); fill-opacity: 1; white-space: pre; opacity: 1;\" transform=\"translate(326.4,0)\">6</text></g><g class=\"xtick\"><text text-anchor=\"middle\" x=\"0\" y=\"433\" style=\"font-family: 'Open Sans', verdana, arial, sans-serif; font-size: 12px; fill: rgb(42, 63, 95); fill-opacity: 1; white-space: pre; opacity: 1;\" transform=\"translate(408.62,0)\">8</text></g><g class=\"xtick\"><text text-anchor=\"middle\" x=\"0\" y=\"433\" style=\"font-family: 'Open Sans', verdana, arial, sans-serif; font-size: 12px; fill: rgb(42, 63, 95); fill-opacity: 1; white-space: pre; opacity: 1;\" transform=\"translate(490.83,0)\">10</text></g></g><g class=\"yaxislayer-above\"><g class=\"ytick\"><text text-anchor=\"end\" x=\"79\" y=\"4.199999999999999\" transform=\"translate(0,404)\" style=\"font-family: 'Open Sans', verdana, arial, sans-serif; font-size: 12px; fill: rgb(42, 63, 95); fill-opacity: 1; white-space: pre; opacity: 1;\">0</text></g><g class=\"ytick\"><text text-anchor=\"end\" x=\"79\" y=\"4.199999999999999\" style=\"font-family: 'Open Sans', verdana, arial, sans-serif; font-size: 12px; fill: rgb(42, 63, 95); fill-opacity: 1; white-space: pre; opacity: 1;\" transform=\"translate(0,375.15)\">0.1</text></g><g class=\"ytick\"><text text-anchor=\"end\" x=\"79\" y=\"4.199999999999999\" style=\"font-family: 'Open Sans', verdana, arial, sans-serif; font-size: 12px; fill: rgb(42, 63, 95); fill-opacity: 1; white-space: pre; opacity: 1;\" transform=\"translate(0,346.28999999999996)\">0.2</text></g><g class=\"ytick\"><text text-anchor=\"end\" x=\"79\" y=\"4.199999999999999\" style=\"font-family: 'Open Sans', verdana, arial, sans-serif; font-size: 12px; fill: rgb(42, 63, 95); fill-opacity: 1; white-space: pre; opacity: 1;\" transform=\"translate(0,317.44)\">0.3</text></g><g class=\"ytick\"><text text-anchor=\"end\" x=\"79\" y=\"4.199999999999999\" style=\"font-family: 'Open Sans', verdana, arial, sans-serif; font-size: 12px; fill: rgb(42, 63, 95); fill-opacity: 1; white-space: pre; opacity: 1;\" transform=\"translate(0,288.58000000000004)\">0.4</text></g><g class=\"ytick\"><text text-anchor=\"end\" x=\"79\" y=\"4.199999999999999\" style=\"font-family: 'Open Sans', verdana, arial, sans-serif; font-size: 12px; fill: rgb(42, 63, 95); fill-opacity: 1; white-space: pre; opacity: 1;\" transform=\"translate(0,259.73)\">0.5</text></g><g class=\"ytick\"><text text-anchor=\"end\" x=\"79\" y=\"4.199999999999999\" style=\"font-family: 'Open Sans', verdana, arial, sans-serif; font-size: 12px; fill: rgb(42, 63, 95); fill-opacity: 1; white-space: pre; opacity: 1;\" transform=\"translate(0,230.87)\">0.6</text></g><g class=\"ytick\"><text text-anchor=\"end\" x=\"79\" y=\"4.199999999999999\" style=\"font-family: 'Open Sans', verdana, arial, sans-serif; font-size: 12px; fill: rgb(42, 63, 95); fill-opacity: 1; white-space: pre; opacity: 1;\" transform=\"translate(0,202.01999999999998)\">0.7</text></g><g class=\"ytick\"><text text-anchor=\"end\" x=\"79\" y=\"4.199999999999999\" style=\"font-family: 'Open Sans', verdana, arial, sans-serif; font-size: 12px; fill: rgb(42, 63, 95); fill-opacity: 1; white-space: pre; opacity: 1;\" transform=\"translate(0,173.16)\">0.8</text></g><g class=\"ytick\"><text text-anchor=\"end\" x=\"79\" y=\"4.199999999999999\" style=\"font-family: 'Open Sans', verdana, arial, sans-serif; font-size: 12px; fill: rgb(42, 63, 95); fill-opacity: 1; white-space: pre; opacity: 1;\" transform=\"translate(0,144.31)\">0.9</text></g><g class=\"ytick\"><text text-anchor=\"end\" x=\"79\" y=\"4.199999999999999\" style=\"font-family: 'Open Sans', verdana, arial, sans-serif; font-size: 12px; fill: rgb(42, 63, 95); fill-opacity: 1; white-space: pre; opacity: 1;\" transform=\"translate(0,115.45)\">1</text></g></g><g class=\"overaxes-above\"/></g></g><g class=\"polarlayer\"/><g class=\"smithlayer\"/><g class=\"ternarylayer\"/><g class=\"geolayer\"/><g class=\"funnelarealayer\"/><g class=\"pielayer\"/><g class=\"iciclelayer\"/><g class=\"treemaplayer\"/><g class=\"sunburstlayer\"/><g class=\"glimages\"/><defs id=\"topdefs-cf97ef\"><g class=\"clips\"/><clipPath id=\"legendcf97ef\"><rect width=\"159\" height=\"105\" x=\"0\" y=\"0\"/></clipPath></defs><g class=\"layer-above\"><g class=\"imagelayer\"/><g class=\"shapelayer\"/></g><g class=\"infolayer\"><g class=\"legend\" pointer-events=\"all\" transform=\"translate(528.8,100)\"><rect class=\"bg\" shape-rendering=\"crispEdges\" width=\"159\" height=\"105\" x=\"0\" y=\"0\" style=\"stroke: rgb(68, 68, 68); stroke-opacity: 1; fill: rgb(255, 255, 255); fill-opacity: 1; stroke-width: 0px;\"/><g class=\"scrollbox\" transform=\"\" clip-path=\"url(#legendcf97ef)\"><g class=\"groups\"><g class=\"traces\" transform=\"translate(0,14.5)\" style=\"opacity: 1;\"><text class=\"legendtext\" text-anchor=\"start\" x=\"40\" y=\"4.680000000000001\" style=\"font-family: 'Open Sans', verdana, arial, sans-serif; font-size: 12px; fill: rgb(42, 63, 95); fill-opacity: 1; white-space: pre;\">r/mildlyinfuriating</text><g class=\"layers\" style=\"opacity: 1;\"><g class=\"legendfill\"/><g class=\"legendlines\"><path class=\"js-line\" d=\"M5,0h30\" style=\"fill: none; stroke: rgb(99, 110, 250); stroke-opacity: 1; stroke-width: 2px;\"/></g><g class=\"legendsymbols\"><g class=\"legendpoints\"/></g></g><rect class=\"legendtoggle\" x=\"0\" y=\"-9.5\" width=\"153.859375\" height=\"19\" style=\"fill: rgb(0, 0, 0); fill-opacity: 0;\"/></g><g class=\"traces\" transform=\"translate(0,33.5)\" style=\"opacity: 1;\"><text class=\"legendtext\" text-anchor=\"start\" x=\"40\" y=\"4.680000000000001\" style=\"font-family: 'Open Sans', verdana, arial, sans-serif; font-size: 12px; fill: rgb(42, 63, 95); fill-opacity: 1; white-space: pre;\">r/HumansBeingBros</text><g class=\"layers\" style=\"opacity: 1;\"><g class=\"legendfill\"/><g class=\"legendlines\"><path class=\"js-line\" d=\"M5,0h30\" style=\"fill: none; stroke: rgb(239, 85, 59); stroke-opacity: 1; stroke-width: 2px;\"/></g><g class=\"legendsymbols\"><g class=\"legendpoints\"/></g></g><rect class=\"legendtoggle\" x=\"0\" y=\"-9.5\" width=\"153.859375\" height=\"19\" style=\"fill: rgb(0, 0, 0); fill-opacity: 0;\"/></g><g class=\"traces\" transform=\"translate(0,52.5)\" style=\"opacity: 1;\"><text class=\"legendtext\" text-anchor=\"start\" x=\"40\" y=\"4.680000000000001\" style=\"font-family: 'Open Sans', verdana, arial, sans-serif; font-size: 12px; fill: rgb(42, 63, 95); fill-opacity: 1; white-space: pre;\">r/worldnews</text><g class=\"layers\" style=\"opacity: 1;\"><g class=\"legendfill\"/><g class=\"legendlines\"><path class=\"js-line\" d=\"M5,0h30\" style=\"fill: none; stroke: rgb(0, 204, 150); stroke-opacity: 1; stroke-width: 2px;\"/></g><g class=\"legendsymbols\"><g class=\"legendpoints\"/></g></g><rect class=\"legendtoggle\" x=\"0\" y=\"-9.5\" width=\"153.859375\" height=\"19\" style=\"fill: rgb(0, 0, 0); fill-opacity: 0;\"/></g><g class=\"traces\" transform=\"translate(0,71.5)\" style=\"opacity: 1;\"><text class=\"legendtext\" text-anchor=\"start\" x=\"40\" y=\"4.680000000000001\" style=\"font-family: 'Open Sans', verdana, arial, sans-serif; font-size: 12px; fill: rgb(42, 63, 95); fill-opacity: 1; white-space: pre;\">r/aww</text><g class=\"layers\" style=\"opacity: 1;\"><g class=\"legendfill\"/><g class=\"legendlines\"><path class=\"js-line\" d=\"M5,0h30\" style=\"fill: none; stroke: rgb(171, 99, 250); stroke-opacity: 1; stroke-width: 2px;\"/></g><g class=\"legendsymbols\"><g class=\"legendpoints\"/></g></g><rect class=\"legendtoggle\" x=\"0\" y=\"-9.5\" width=\"153.859375\" height=\"19\" style=\"fill: rgb(0, 0, 0); fill-opacity: 0;\"/></g><g class=\"traces\" transform=\"translate(0,90.5)\" style=\"opacity: 1;\"><text class=\"legendtext\" text-anchor=\"start\" x=\"40\" y=\"4.680000000000001\" style=\"font-family: 'Open Sans', verdana, arial, sans-serif; font-size: 12px; fill: rgb(42, 63, 95); fill-opacity: 1; white-space: pre;\">r/interestingasfuck</text><g class=\"layers\" style=\"opacity: 1;\"><g class=\"legendfill\"/><g class=\"legendlines\"><path class=\"js-line\" d=\"M5,0h30\" style=\"fill: none; stroke: rgb(255, 161, 90); stroke-opacity: 1; stroke-width: 2px;\"/></g><g class=\"legendsymbols\"><g class=\"legendpoints\"/></g></g><rect class=\"legendtoggle\" x=\"0\" y=\"-9.5\" width=\"153.859375\" height=\"19\" style=\"fill: rgb(0, 0, 0); fill-opacity: 0;\"/></g></g></g><rect class=\"scrollbar\" rx=\"20\" ry=\"3\" width=\"0\" height=\"0\" x=\"0\" y=\"0\" style=\"fill: rgb(128, 139, 164); fill-opacity: 1;\"/></g><g class=\"g-gtitle\"><text class=\"gtitle\" x=\"35\" y=\"50\" text-anchor=\"start\" dy=\"0em\" style=\"font-family: 'Open Sans', verdana, arial, sans-serif; font-size: 17px; fill: rgb(42, 63, 95); opacity: 1; font-weight: normal; white-space: pre;\">Active Window Survival for Sampled Subreddits's r/popular Threads</text></g><g class=\"g-xtitle\"><text class=\"xtitle\" x=\"300\" y=\"461.8\" text-anchor=\"middle\" style=\"font-family: 'Open Sans', verdana, arial, sans-serif; font-size: 14px; fill: rgb(42, 63, 95); opacity: 1; font-weight: normal; white-space: pre;\">#weeks</text></g><g class=\"g-ytitle\"><text class=\"ytitle\" transform=\"rotate(-90,37.278125,260)\" x=\"37.278125\" y=\"260\" text-anchor=\"middle\" style=\"font-family: 'Open Sans', verdana, arial, sans-serif; font-size: 14px; fill: rgb(42, 63, 95); opacity: 1; font-weight: normal; white-space: pre;\">%survival</text></g></g></svg>"
      ]
     },
     "metadata": {},
     "output_type": "display_data"
    },
    {
     "data": {
      "image/svg+xml": [
       "<svg class=\"main-svg\" xmlns=\"http://www.w3.org/2000/svg\" xmlns:xlink=\"http://www.w3.org/1999/xlink\" width=\"700\" height=\"500\" style=\"\" viewBox=\"0 0 700 500\"><rect x=\"0\" y=\"0\" width=\"700\" height=\"500\" style=\"fill: rgb(255, 255, 255); fill-opacity: 1;\"/><defs id=\"defs-14685b\"><g class=\"clips\"><clipPath id=\"clip14685bxyplot\" class=\"plotclip\"><rect width=\"440\" height=\"320\"/></clipPath><clipPath class=\"axesclip\" id=\"clip14685bx\"><rect x=\"80\" y=\"0\" width=\"440\" height=\"500\"/></clipPath><clipPath class=\"axesclip\" id=\"clip14685by\"><rect x=\"0\" y=\"100\" width=\"700\" height=\"320\"/></clipPath><clipPath class=\"axesclip\" id=\"clip14685bxy\"><rect x=\"80\" y=\"100\" width=\"440\" height=\"320\"/></clipPath></g><g class=\"gradients\"/><g class=\"patterns\"/></defs><g class=\"bglayer\"/><g class=\"layer-below\"><g class=\"imagelayer\"/><g class=\"shapelayer\"/></g><g class=\"cartesianlayer\"><g class=\"subplot xy\"><g class=\"layer-subplot\"><g class=\"shapelayer\"/><g class=\"imagelayer\"/></g><g class=\"gridlayer\"><g class=\"x\"><path class=\"xgrid crisp\" transform=\"translate(190,0)\" d=\"M0,100v320\" style=\"stroke: rgb(235, 240, 248); stroke-opacity: 1; stroke-width: 1px;\"/><path class=\"xgrid crisp\" transform=\"translate(300,0)\" d=\"M0,100v320\" style=\"stroke: rgb(235, 240, 248); stroke-opacity: 1; stroke-width: 1px;\"/><path class=\"xgrid crisp\" transform=\"translate(410,0)\" d=\"M0,100v320\" style=\"stroke: rgb(235, 240, 248); stroke-opacity: 1; stroke-width: 1px;\"/></g><g class=\"y\"><path class=\"ygrid crisp\" transform=\"translate(0,375.09)\" d=\"M80,0h440\" style=\"stroke: rgb(235, 240, 248); stroke-opacity: 1; stroke-width: 1px;\"/><path class=\"ygrid crisp\" transform=\"translate(0,346.18)\" d=\"M80,0h440\" style=\"stroke: rgb(235, 240, 248); stroke-opacity: 1; stroke-width: 1px;\"/><path class=\"ygrid crisp\" transform=\"translate(0,317.27)\" d=\"M80,0h440\" style=\"stroke: rgb(235, 240, 248); stroke-opacity: 1; stroke-width: 1px;\"/><path class=\"ygrid crisp\" transform=\"translate(0,288.37)\" d=\"M80,0h440\" style=\"stroke: rgb(235, 240, 248); stroke-opacity: 1; stroke-width: 1px;\"/><path class=\"ygrid crisp\" transform=\"translate(0,259.46000000000004)\" d=\"M80,0h440\" style=\"stroke: rgb(235, 240, 248); stroke-opacity: 1; stroke-width: 1px;\"/><path class=\"ygrid crisp\" transform=\"translate(0,230.55)\" d=\"M80,0h440\" style=\"stroke: rgb(235, 240, 248); stroke-opacity: 1; stroke-width: 1px;\"/><path class=\"ygrid crisp\" transform=\"translate(0,201.64)\" d=\"M80,0h440\" style=\"stroke: rgb(235, 240, 248); stroke-opacity: 1; stroke-width: 1px;\"/><path class=\"ygrid crisp\" transform=\"translate(0,172.73000000000002)\" d=\"M80,0h440\" style=\"stroke: rgb(235, 240, 248); stroke-opacity: 1; stroke-width: 1px;\"/><path class=\"ygrid crisp\" transform=\"translate(0,143.82)\" d=\"M80,0h440\" style=\"stroke: rgb(235, 240, 248); stroke-opacity: 1; stroke-width: 1px;\"/><path class=\"ygrid crisp\" transform=\"translate(0,114.91)\" d=\"M80,0h440\" style=\"stroke: rgb(235, 240, 248); stroke-opacity: 1; stroke-width: 1px;\"/></g></g><g class=\"zerolinelayer\"><path class=\"xzl zl crisp\" transform=\"translate(80,0)\" d=\"M0,100v320\" style=\"stroke: rgb(235, 240, 248); stroke-opacity: 1; stroke-width: 2px;\"/><path class=\"yzl zl crisp\" transform=\"translate(0,404)\" d=\"M80,0h440\" style=\"stroke: rgb(235, 240, 248); stroke-opacity: 1; stroke-width: 2px;\"/></g><path class=\"xlines-below\"/><path class=\"ylines-below\"/><g class=\"overlines-below\"/><g class=\"xaxislayer-below\"/><g class=\"yaxislayer-below\"/><g class=\"overaxes-below\"/><g class=\"plot\" transform=\"translate(80,100)\" clip-path=\"url(#clip14685bxyplot)\"><g class=\"scatterlayer mlayer\"><g class=\"trace scatter trace4a54d8\" style=\"stroke-miterlimit: 2; opacity: 1;\"><g class=\"fills\"/><g class=\"errorbars\"/><g class=\"lines\"><path class=\"js-line\" d=\"M0,18.3L1.86,22.82L1.87,23.95L3.11,31.85L3.73,32.98L3.77,35.24L4.97,36.37L7.47,39.76L7.48,42.02L8.71,45.4L8.72,46.53L13.07,55.57L13.15,56.7L16.23,58.95L16.29,60.08L17.49,62.34L18.68,63.47L18.76,64.6L19.93,65.73L20.51,67.99L20.56,69.12L21.27,72.5L22.43,73.63L24.99,75.89L25.6,77.02L29.89,78.15L29.9,79.28L31.78,81.54L34.22,82.67L34.45,83.8L36.09,84.93L38.01,87.18L38.07,88.31L42.36,90.57L42.75,91.7L47.4,92.83L47.47,93.96L47.54,95.09L49.23,96.22L50.15,98.48L51.81,99.61L53.61,102.99L54.68,104.12L54.84,105.25L56.06,106.38L56.83,107.51L63.03,108.64L65.08,110.9L65.27,112.03L70.68,116.55L73.46,117.67L76.11,119.93L76.55,121.06L84.07,124.45L89.83,125.58L90.93,127.84L90.97,128.97L95.83,132.35L98.58,133.48L99.73,134.61L102.43,135.74L106.5,138L106.5,139.13L107.07,140.26L110.35,141.39L111.45,142.52L113.62,143.65L114.25,144.78L118.88,145.91L119.51,147.03L121.04,148.16L123.88,149.29L132.51,150.42L134,153.81L135.62,154.94L137.72,158.33L139.97,159.46L142.16,160.59L142.27,161.72L145.74,162.84L146.29,163.97L146.33,165.1L147.34,166.23L152.89,168.49L153.15,169.62L154.18,174.14L155.77,175.27L156.62,176.4L158.93,177.52L162.15,179.78L163.4,180.91L171.17,183.17L172.65,184.3L174.36,186.56L176.18,187.69L176.75,189.95L178.07,191.08L179.42,194.46L181.27,195.59L183,197.85L183.38,198.98L184.42,200.11L187.61,201.24L189.09,203.5L189.77,204.63L191.85,208.01L195.7,209.14L196.68,211.4L196.72,212.53L196.86,213.66L198.53,214.79L202.22,217.05L203.65,218.18L206.44,221.57L209.51,222.69L209.72,223.82L211.32,224.95L214.08,228.34L214.14,229.47L216.97,231.73L217.01,232.86L217.07,233.99L218.16,235.12L218.7,236.25L220.31,237.37L222.98,240.76L223.31,241.89L225.63,244.15L226.14,245.28L231.26,248.67L231.51,249.8L232.51,252.05L235.83,253.18L238.44,254.31L239.09,255.44L240.39,256.57L240.44,257.7L242.41,261.09L244.49,262.22L245.17,264.48L246.52,265.61L247.9,270.12L252.72,271.25L255.54,272.38L255.91,273.51L256.31,274.64L258.58,275.77L260.95,276.9L261.26,278.03L262.4,280.29L263.89,281.42L265.4,284.8L267.25,285.93L271.34,288.19L277.86,289.32L280.78,290.45L280.93,291.58L285.04,292.71L285.64,293.84L289.19,298.35L291.12,299.48L298.56,301.74L305.01,302.87L9240,303.4598020798527L9240,304\" style=\"vector-effect: non-scaling-stroke; fill: none; stroke: rgb(99, 110, 250); stroke-opacity: 1; stroke-width: 2px; opacity: 1;\"/></g><g class=\"points\"/><g class=\"text\"/></g><g class=\"trace scatter tracea1eabf\" style=\"stroke-miterlimit: 2; opacity: 1;\"><g class=\"fills\"/><g class=\"errorbars\"/><g class=\"lines\"><path class=\"js-line\" d=\"M0,19.08L0.62,20.47L0.62,23.25L3.11,37.15L3.14,38.54L4.99,44.1L5.01,45.49L6.23,49.66L6.24,51.05L6.84,53.83L6.86,56.61L7.49,64.95L8.11,66.34L11.2,73.29L11.22,74.68L11.85,81.63L12.43,83.02L13.15,89.96L13.71,91.35L14.37,99.69L14.97,101.08L15.54,103.86L15.57,105.25L16.31,109.42L17.42,110.81L18.1,113.59L20.52,114.98L23.11,120.54L23.17,121.93L25.49,126.1L26.97,127.49L28.68,130.27L28.68,131.66L29.4,133.05L31.12,134.44L34.27,142.78L37.44,144.17L39.33,148.34L40.01,149.73L44.33,152.51L44.96,153.9L48.58,160.85L50.54,162.24L55.01,165.02L57.25,166.41L57.42,167.8L59.33,169.19L59.72,170.58L63.31,171.97L64.16,177.52L67.76,178.91L69.49,180.3L73.43,181.69L74.82,183.08L79,184.47L79.7,187.25L79.98,188.64L83.39,190.03L84.45,191.42L85.31,194.2L87.89,195.59L88.28,196.98L91.96,198.37L94.06,201.15L98.97,202.54L102.09,205.32L105.58,206.71L105.89,209.49L111.4,210.88L114.2,212.27L121.17,213.66L122.4,215.05L125.73,216.44L131.54,217.83L132.7,219.22L135.17,220.61L135.79,222L139.25,223.39L140.34,224.78L142.08,226.17L142.44,227.56L143.12,230.34L147.25,231.73L148.83,234.51L151.71,235.9L162.65,240.07L172.51,241.46L176.85,242.85L191.17,244.24L207.3,245.63L208.55,247.02L227.05,249.8L229.21,251.19L232.87,252.58L239.32,253.97L243.32,255.36L243.64,256.75L253.19,259.53L255.83,260.91L256.55,262.3L259.26,263.69L262.46,265.08L263.35,266.47L264.57,269.25L266.71,270.64L267.07,272.03L271.11,273.42L278.22,276.2L278.49,277.59L282.28,280.37L282.58,281.76L294.81,283.15L300.24,284.54L308,288.71L308.85,290.1L312.16,292.88L312.62,294.27L315.11,295.66L324.44,297.05L356.6,299.83L356.88,301.22L387.69,304\" style=\"vector-effect: non-scaling-stroke; fill: none; stroke: rgb(239, 85, 59); stroke-opacity: 1; stroke-width: 2px; opacity: 1;\"/></g><g class=\"points\"/><g class=\"text\"/></g><g class=\"trace scatter trace485ede\" style=\"stroke-miterlimit: 2; opacity: 1;\"><g class=\"fills\"/><g class=\"errorbars\"/><g class=\"lines\"><path class=\"js-line\" d=\"M0,16L2.49,23.61L2.49,25.24L3.16,27.95L3.73,28.5L4.4,32.85L4.98,33.39L5.6,35.56L6.23,36.11L6.84,37.19L6.85,37.74L7.53,38.82L8.11,39.37L8.75,40.45L8.76,41L9.98,42.63L10.01,43.71L11.21,45.34L11.25,45.89L12.45,48.06L12.47,49.15L13.24,52.41L13.67,52.95L14.34,59.47L14.93,60.02L15.58,64.36L16.21,64.91L16.92,66.54L17.43,67.08L17.54,67.62L18.64,68.17L19.33,71.97L19.91,72.51L20.58,75.23L21.3,75.77L22.47,79.58L23.04,80.12L23.74,82.84L24.27,83.38L25.54,86.64L26.16,87.18L26.73,88.82L27.42,89.36L28.01,91.53L28.66,92.08L29.27,94.79L30.11,95.34L31.11,96.97L31.14,97.51L34.28,99.68L34.38,100.23L36.23,101.86L36.33,102.4L37.53,103.49L37.96,104.03L39.91,105.66L40.45,106.2L40.67,107.29L41.71,107.83L42.4,108.92L42.87,109.46L44.96,111.64L45.15,112.18L47.89,115.44L48.62,115.98L50.07,118.7L50.5,119.25L54.13,120.88L54.34,121.42L54.78,122.51L56.08,123.05L57.9,126.85L59.8,127.4L62.3,129.03L63.5,129.57L64.88,131.2L64.93,131.74L65.01,132.83L65.9,133.37L68.75,137.18L68.81,137.72L68.82,138.26L71.57,138.81L72.57,139.89L72.84,140.44L75.3,142.61L75.34,143.15L77.81,145.33L78.98,145.87L79.93,148.05L80.92,148.59L81.46,150.22L82.1,150.76L83.34,153.48L84.18,154.02L88.69,157.28L89.28,157.83L90.91,158.91L91.32,159.46L96.04,163.26L96.42,163.8L97.28,165.98L97.65,166.52L100.09,168.15L102.6,168.69L103.51,169.78L103.62,170.32L107.66,171.41L107.77,171.95L108.91,173.04L108.91,173.58L109.65,174.67L110.06,175.76L112.01,176.85L112.05,177.39L115.09,179.02L115.13,179.56L115.33,180.65L117.62,181.19L120.19,182.82L120.41,183.37L120.47,183.91L121.48,184.45L124.55,186.63L124.69,187.17L126.16,188.8L127.03,189.34L127.61,190.43L128.29,190.97L128.47,191.52L129.69,192.06L131.39,193.69L131.99,194.23L133.17,195.86L133.42,196.41L134.99,199.12L137.32,199.67L139.53,200.75L139.93,201.3L140.04,202.38L141.14,202.93L142.08,205.1L142.29,205.65L145.11,207.28L145.23,207.82L146.22,209.99L147.02,210.54L149.52,213.25L149.59,213.8L150.19,215.43L151.42,215.97L154.06,218.69L154.11,219.23L155.68,220.86L155.76,221.4L156.77,223.58L157.07,224.12L158.66,227.38L159.77,227.92L159.82,228.47L160.74,229.01L160.89,229.55L161.83,230.1L162.14,230.64L163.34,231.18L165.17,234.99L166.52,235.53L169.11,239.34L169.5,239.88L170.94,243.14L171.37,243.68L173.17,245.86L173.62,246.4L175.98,249.12L176.2,249.66L180.38,252.38L182.39,252.92L183.85,255.09L183.99,255.64L185.01,256.72L185.2,257.27L186.67,259.44L188.45,259.98L189.32,262.16L190.52,262.7L193.55,264.88L193.98,265.42L194.32,266.51L195.57,267.05L200.56,271.4L200.61,271.94L204.35,276.29L205.33,276.83L205.59,277.37L206.84,277.92L208.19,279.55L211.63,280.09L212.68,281.72L212.83,282.26L215.97,283.89L215.98,284.44L217.44,285.52L217.55,286.07L219.3,287.7L219.47,288.24L225.14,289.33L225.75,289.87L225.88,290.42L228.6,290.96L229.4,292.05L230.73,292.59L231.65,293.68L232.32,294.76L234.1,296.39L236.75,296.94L243.67,299.65L244.39,300.2L247.64,301.28L248.37,301.83L256.06,302.37L285.13,302.91L285.73,304\" style=\"vector-effect: non-scaling-stroke; fill: none; stroke: rgb(0, 204, 150); stroke-opacity: 1; stroke-width: 2px; opacity: 1;\"/></g><g class=\"points\"/><g class=\"text\"/></g><g class=\"trace scatter trace0916a2\" style=\"stroke-miterlimit: 2; opacity: 1;\"><g class=\"fills\"/><g class=\"errorbars\"/><g class=\"lines\"><path class=\"js-line\" d=\"M0.62,16.75L3.11,18.6L4.43,19.52L8.12,24.12L8.82,25.04L11.3,30.56L13.09,31.49L13.7,33.33L14.31,34.25L14.92,35.17L17.44,36.09L21.13,42.53L22.71,43.45L24.26,46.22L25.7,47.14L30.47,50.82L30.6,51.74L34.89,55.42L35.05,56.34L37.46,59.1L37.58,60.03L38.96,60.95L41.73,61.87L44.75,66.47L44.79,67.39L49.71,69.23L50.58,70.15L50.6,71.07L51.58,71.99L51.76,72.91L52.96,73.84L54.86,75.68L56.05,76.6L57.44,79.36L58.46,80.28L58.55,81.2L59.75,82.12L59.82,83.04L61.06,83.96L62.88,85.8L63.12,86.72L64.16,90.41L65.48,91.33L67.25,93.17L67.37,94.09L70.76,100.53L70.77,101.46L73.01,104.22L73.08,105.14L74.6,109.74L74.83,110.66L75.96,112.5L75.99,113.42L76.73,118.95L77.64,119.87L78.42,121.71L79.1,122.63L82.98,128.15L83.29,129.07L84.48,131.84L87.8,132.76L87.98,133.68L89.16,134.6L89.57,136.44L90.87,137.36L92.18,141.04L93.45,141.96L97.66,144.73L98.24,145.65L99.61,147.49L99.65,148.41L100.91,150.25L102.26,151.17L102.65,153.01L103.74,153.93L105.85,154.85L106.01,155.77L107.66,157.62L108.6,158.54L109.61,162.22L110.9,163.14L113.45,168.66L113.53,169.58L114.86,172.35L115.06,173.27L119.43,174.19L119.53,175.11L121.31,176.95L122.16,177.87L123.25,179.71L125.53,180.63L126.73,184.31L127.28,185.24L129.27,188.92L130.33,189.84L132.67,194.44L133.91,195.36L134.49,197.2L137.79,198.12L139.49,201.81L140.86,202.73L142.56,204.57L146.4,205.49L148.07,206.41L148.16,207.33L151.11,214.7L153.04,215.62L156.2,219.3L157.55,220.22L159.76,222.06L159.97,222.98L166.9,227.59L167.46,228.51L170.32,231.27L173.43,232.19L179.4,236.79L181.25,237.71L181.81,238.63L184.33,239.55L185.16,241.4L185.59,242.32L189.9,244.16L190.43,245.08L199.73,252.44L200,253.36L201.79,257.97L204.11,258.89L204.2,259.81L206.67,260.73L209.28,262.57L209.41,263.49L210.06,264.41L213.83,265.33L216.25,267.17L217.98,268.09L220.15,271.78L222.01,272.7L226.29,275.46L227.24,276.38L232.07,282.82L233.47,283.75L234.01,285.59L235.81,286.51L238.55,289.27L241.43,290.19L242.42,292.03L242.86,292.95L247.73,294.79L248.14,295.71L248.47,296.63L255.17,297.56L260.33,299.4L261.84,300.32L287.3,304\" style=\"vector-effect: non-scaling-stroke; fill: none; stroke: rgb(171, 99, 250); stroke-opacity: 1; stroke-width: 2px; opacity: 1;\"/></g><g class=\"points\"/><g class=\"text\"/></g><g class=\"trace scatter tracea2f596\" style=\"stroke-miterlimit: 2; opacity: 1;\"><g class=\"fills\"/><g class=\"errorbars\"/><g class=\"lines\"><path class=\"js-line\" d=\"M0,16.03L0.62,16.58L0.62,17.7L1.86,19.37L1.87,21.04L2.59,26.61L3.11,27.72L3.78,31.62L4.35,32.18L5,35.52L5.59,36.08L6.27,39.98L6.84,40.54L7.52,43.88L8.08,44.43L8.74,47.22L9.36,47.78L10.03,52.79L10.58,53.35L11.24,56.69L11.83,57.25L12.5,61.14L13.07,61.7L13.8,63.93L14.34,64.49L14.93,65.04L14.94,66.16L15.57,68.94L16.18,69.5L16.82,70.61L16.82,71.17L17.58,73.4L18.05,74.51L18.82,77.86L19.27,78.41L20.01,82.31L21.15,82.87L21.77,86.21L22.43,86.77L23.11,89L23.65,89.55L24.27,91.78L25.52,92.34L26.23,96.24L26.76,96.79L28.04,98.46L28.11,99.02L28.7,100.69L29.28,101.25L29.95,102.92L30.09,103.48L36.19,110.16L37.57,110.72L40.47,113.5L40.48,114.06L41.12,115.17L41.62,115.73L42.45,117.4L43.19,117.96L43.85,120.19L44.43,120.74L44.85,121.3L46.66,121.86L47.72,124.64L47.98,125.2L49.3,126.31L51.34,126.87L52.95,129.1L53.53,129.66L55.38,133L56.35,133.56L59.09,136.34L59.76,136.9L60.32,138.01L61.13,138.57L61.48,139.68L62.1,140.24L62.89,141.91L64.64,142.47L65.01,143.58L65.99,144.14L69.65,148.04L70,148.59L72.75,150.27L72.84,150.82L73.64,153.61L74.09,154.17L77.42,156.39L77.94,156.95L79.45,159.74L79.49,160.29L79.74,160.85L81.5,161.41L81.64,161.96L83.19,162.52L86.66,168.65L88.26,169.2L91.58,172.55L91.95,173.1L92.29,174.22L93.86,174.77L95.84,177.56L95.92,178.12L98.47,180.34L98.85,180.9L99.26,182.02L100.26,182.57L102.45,184.24L103.95,184.8L108.75,187.59L109.1,188.14L109.34,189.26L110.94,189.81L111.22,190.93L112.31,191.48L117.13,193.71L118.6,194.27L120.36,196.5L121.59,197.05L124.62,199.84L125.16,200.4L128.81,202.62L128.87,203.18L130,205.41L132.3,205.97L135.15,208.19L135.21,208.75L139.59,212.65L141.24,213.21L144.48,217.66L146.29,218.22L148.15,220.45L149.06,221.01L151.22,222.12L151.27,222.68L154.97,224.9L155.5,225.46L156.32,228.8L157.72,229.36L161.95,232.15L162.2,232.7L162.29,233.82L163.12,234.37L168.32,238.83L168.36,239.39L168.94,240.5L171.39,241.06L173.98,244.96L174.63,245.51L175.67,248.3L175.68,248.86L176.36,251.08L176.99,251.64L178.78,252.76L178.9,253.31L181.55,256.1L183.65,256.65L190.9,262.22L190.96,262.78L192.31,264.45L192.6,265.01L195.56,266.68L196.11,267.24L197.87,268.35L198.16,268.91L199.25,272.81L200.38,273.36L203.07,277.26L205.07,277.82L208.79,278.93L209.95,279.49L216.99,282.83L217.32,283.39L218.19,285.62L219.85,286.18L221.37,287.85L221.95,288.4L226.02,292.86L227.4,293.42L238.07,296.2L238.08,296.76L238.21,297.32L240.13,297.87L249.42,298.99L250.51,299.54L262.96,302.33L264.17,302.89L265.43,303.44L272.86,304\" style=\"vector-effect: non-scaling-stroke; fill: none; stroke: rgb(255, 161, 90); stroke-opacity: 1; stroke-width: 2px; opacity: 1;\"/></g><g class=\"points\"/><g class=\"text\"/></g></g></g><g class=\"overplot\"/><path class=\"xlines-above crisp\" d=\"M0,0\" style=\"fill: none;\"/><path class=\"ylines-above crisp\" d=\"M0,0\" style=\"fill: none;\"/><g class=\"overlines-above\"/><g class=\"xaxislayer-above\"><g class=\"xtick\"><text text-anchor=\"middle\" x=\"0\" y=\"433\" transform=\"translate(80,0)\" style=\"font-family: 'Open Sans', verdana, arial, sans-serif; font-size: 12px; fill: rgb(42, 63, 95); fill-opacity: 1; white-space: pre; opacity: 1;\">0</text></g><g class=\"xtick\"><text text-anchor=\"middle\" x=\"0\" y=\"433\" style=\"font-family: 'Open Sans', verdana, arial, sans-serif; font-size: 12px; fill: rgb(42, 63, 95); fill-opacity: 1; white-space: pre; opacity: 1;\" transform=\"translate(190,0)\">6</text></g><g class=\"xtick\"><text text-anchor=\"middle\" x=\"0\" y=\"433\" style=\"font-family: 'Open Sans', verdana, arial, sans-serif; font-size: 12px; fill: rgb(42, 63, 95); fill-opacity: 1; white-space: pre; opacity: 1;\" transform=\"translate(300,0)\">12</text></g><g class=\"xtick\"><text text-anchor=\"middle\" x=\"0\" y=\"433\" style=\"font-family: 'Open Sans', verdana, arial, sans-serif; font-size: 12px; fill: rgb(42, 63, 95); fill-opacity: 1; white-space: pre; opacity: 1;\" transform=\"translate(410,0)\">18</text></g></g><g class=\"yaxislayer-above\"><g class=\"ytick\"><text text-anchor=\"end\" x=\"79\" y=\"4.199999999999999\" transform=\"translate(0,404)\" style=\"font-family: 'Open Sans', verdana, arial, sans-serif; font-size: 12px; fill: rgb(42, 63, 95); fill-opacity: 1; white-space: pre; opacity: 1;\">0</text></g><g class=\"ytick\"><text text-anchor=\"end\" x=\"79\" y=\"4.199999999999999\" style=\"font-family: 'Open Sans', verdana, arial, sans-serif; font-size: 12px; fill: rgb(42, 63, 95); fill-opacity: 1; white-space: pre; opacity: 1;\" transform=\"translate(0,375.09)\">0.1</text></g><g class=\"ytick\"><text text-anchor=\"end\" x=\"79\" y=\"4.199999999999999\" style=\"font-family: 'Open Sans', verdana, arial, sans-serif; font-size: 12px; fill: rgb(42, 63, 95); fill-opacity: 1; white-space: pre; opacity: 1;\" transform=\"translate(0,346.18)\">0.2</text></g><g class=\"ytick\"><text text-anchor=\"end\" x=\"79\" y=\"4.199999999999999\" style=\"font-family: 'Open Sans', verdana, arial, sans-serif; font-size: 12px; fill: rgb(42, 63, 95); fill-opacity: 1; white-space: pre; opacity: 1;\" transform=\"translate(0,317.27)\">0.3</text></g><g class=\"ytick\"><text text-anchor=\"end\" x=\"79\" y=\"4.199999999999999\" style=\"font-family: 'Open Sans', verdana, arial, sans-serif; font-size: 12px; fill: rgb(42, 63, 95); fill-opacity: 1; white-space: pre; opacity: 1;\" transform=\"translate(0,288.37)\">0.4</text></g><g class=\"ytick\"><text text-anchor=\"end\" x=\"79\" y=\"4.199999999999999\" style=\"font-family: 'Open Sans', verdana, arial, sans-serif; font-size: 12px; fill: rgb(42, 63, 95); fill-opacity: 1; white-space: pre; opacity: 1;\" transform=\"translate(0,259.46000000000004)\">0.5</text></g><g class=\"ytick\"><text text-anchor=\"end\" x=\"79\" y=\"4.199999999999999\" style=\"font-family: 'Open Sans', verdana, arial, sans-serif; font-size: 12px; fill: rgb(42, 63, 95); fill-opacity: 1; white-space: pre; opacity: 1;\" transform=\"translate(0,230.55)\">0.6</text></g><g class=\"ytick\"><text text-anchor=\"end\" x=\"79\" y=\"4.199999999999999\" style=\"font-family: 'Open Sans', verdana, arial, sans-serif; font-size: 12px; fill: rgb(42, 63, 95); fill-opacity: 1; white-space: pre; opacity: 1;\" transform=\"translate(0,201.64)\">0.7</text></g><g class=\"ytick\"><text text-anchor=\"end\" x=\"79\" y=\"4.199999999999999\" style=\"font-family: 'Open Sans', verdana, arial, sans-serif; font-size: 12px; fill: rgb(42, 63, 95); fill-opacity: 1; white-space: pre; opacity: 1;\" transform=\"translate(0,172.73000000000002)\">0.8</text></g><g class=\"ytick\"><text text-anchor=\"end\" x=\"79\" y=\"4.199999999999999\" style=\"font-family: 'Open Sans', verdana, arial, sans-serif; font-size: 12px; fill: rgb(42, 63, 95); fill-opacity: 1; white-space: pre; opacity: 1;\" transform=\"translate(0,143.82)\">0.9</text></g><g class=\"ytick\"><text text-anchor=\"end\" x=\"79\" y=\"4.199999999999999\" style=\"font-family: 'Open Sans', verdana, arial, sans-serif; font-size: 12px; fill: rgb(42, 63, 95); fill-opacity: 1; white-space: pre; opacity: 1;\" transform=\"translate(0,114.91)\">1</text></g></g><g class=\"overaxes-above\"/></g></g><g class=\"polarlayer\"/><g class=\"smithlayer\"/><g class=\"ternarylayer\"/><g class=\"geolayer\"/><g class=\"funnelarealayer\"/><g class=\"pielayer\"/><g class=\"iciclelayer\"/><g class=\"treemaplayer\"/><g class=\"sunburstlayer\"/><g class=\"glimages\"/><defs id=\"topdefs-14685b\"><g class=\"clips\"/><clipPath id=\"legend14685b\"><rect width=\"159\" height=\"105\" x=\"0\" y=\"0\"/></clipPath></defs><g class=\"layer-above\"><g class=\"imagelayer\"/><g class=\"shapelayer\"/></g><g class=\"infolayer\"><g class=\"legend\" pointer-events=\"all\" transform=\"translate(528.8,100)\"><rect class=\"bg\" shape-rendering=\"crispEdges\" width=\"159\" height=\"105\" x=\"0\" y=\"0\" style=\"stroke: rgb(68, 68, 68); stroke-opacity: 1; fill: rgb(255, 255, 255); fill-opacity: 1; stroke-width: 0px;\"/><g class=\"scrollbox\" transform=\"\" clip-path=\"url(#legend14685b)\"><g class=\"groups\"><g class=\"traces\" transform=\"translate(0,14.5)\" style=\"opacity: 1;\"><text class=\"legendtext\" text-anchor=\"start\" x=\"40\" y=\"4.680000000000001\" style=\"font-family: 'Open Sans', verdana, arial, sans-serif; font-size: 12px; fill: rgb(42, 63, 95); fill-opacity: 1; white-space: pre;\">r/mildlyinfuriating</text><g class=\"layers\" style=\"opacity: 1;\"><g class=\"legendfill\"/><g class=\"legendlines\"><path class=\"js-line\" d=\"M5,0h30\" style=\"fill: none; stroke: rgb(99, 110, 250); stroke-opacity: 1; stroke-width: 2px;\"/></g><g class=\"legendsymbols\"><g class=\"legendpoints\"/></g></g><rect class=\"legendtoggle\" x=\"0\" y=\"-9.5\" width=\"153.859375\" height=\"19\" style=\"fill: rgb(0, 0, 0); fill-opacity: 0;\"/></g><g class=\"traces\" transform=\"translate(0,33.5)\" style=\"opacity: 1;\"><text class=\"legendtext\" text-anchor=\"start\" x=\"40\" y=\"4.680000000000001\" style=\"font-family: 'Open Sans', verdana, arial, sans-serif; font-size: 12px; fill: rgb(42, 63, 95); fill-opacity: 1; white-space: pre;\">r/HumansBeingBros</text><g class=\"layers\" style=\"opacity: 1;\"><g class=\"legendfill\"/><g class=\"legendlines\"><path class=\"js-line\" d=\"M5,0h30\" style=\"fill: none; stroke: rgb(239, 85, 59); stroke-opacity: 1; stroke-width: 2px;\"/></g><g class=\"legendsymbols\"><g class=\"legendpoints\"/></g></g><rect class=\"legendtoggle\" x=\"0\" y=\"-9.5\" width=\"153.859375\" height=\"19\" style=\"fill: rgb(0, 0, 0); fill-opacity: 0;\"/></g><g class=\"traces\" transform=\"translate(0,52.5)\" style=\"opacity: 1;\"><text class=\"legendtext\" text-anchor=\"start\" x=\"40\" y=\"4.680000000000001\" style=\"font-family: 'Open Sans', verdana, arial, sans-serif; font-size: 12px; fill: rgb(42, 63, 95); fill-opacity: 1; white-space: pre;\">r/worldnews</text><g class=\"layers\" style=\"opacity: 1;\"><g class=\"legendfill\"/><g class=\"legendlines\"><path class=\"js-line\" d=\"M5,0h30\" style=\"fill: none; stroke: rgb(0, 204, 150); stroke-opacity: 1; stroke-width: 2px;\"/></g><g class=\"legendsymbols\"><g class=\"legendpoints\"/></g></g><rect class=\"legendtoggle\" x=\"0\" y=\"-9.5\" width=\"153.859375\" height=\"19\" style=\"fill: rgb(0, 0, 0); fill-opacity: 0;\"/></g><g class=\"traces\" transform=\"translate(0,71.5)\" style=\"opacity: 1;\"><text class=\"legendtext\" text-anchor=\"start\" x=\"40\" y=\"4.680000000000001\" style=\"font-family: 'Open Sans', verdana, arial, sans-serif; font-size: 12px; fill: rgb(42, 63, 95); fill-opacity: 1; white-space: pre;\">r/aww</text><g class=\"layers\" style=\"opacity: 1;\"><g class=\"legendfill\"/><g class=\"legendlines\"><path class=\"js-line\" d=\"M5,0h30\" style=\"fill: none; stroke: rgb(171, 99, 250); stroke-opacity: 1; stroke-width: 2px;\"/></g><g class=\"legendsymbols\"><g class=\"legendpoints\"/></g></g><rect class=\"legendtoggle\" x=\"0\" y=\"-9.5\" width=\"153.859375\" height=\"19\" style=\"fill: rgb(0, 0, 0); fill-opacity: 0;\"/></g><g class=\"traces\" transform=\"translate(0,90.5)\" style=\"opacity: 1;\"><text class=\"legendtext\" text-anchor=\"start\" x=\"40\" y=\"4.680000000000001\" style=\"font-family: 'Open Sans', verdana, arial, sans-serif; font-size: 12px; fill: rgb(42, 63, 95); fill-opacity: 1; white-space: pre;\">r/interestingasfuck</text><g class=\"layers\" style=\"opacity: 1;\"><g class=\"legendfill\"/><g class=\"legendlines\"><path class=\"js-line\" d=\"M5,0h30\" style=\"fill: none; stroke: rgb(255, 161, 90); stroke-opacity: 1; stroke-width: 2px;\"/></g><g class=\"legendsymbols\"><g class=\"legendpoints\"/></g></g><rect class=\"legendtoggle\" x=\"0\" y=\"-9.5\" width=\"153.859375\" height=\"19\" style=\"fill: rgb(0, 0, 0); fill-opacity: 0;\"/></g></g></g><rect class=\"scrollbar\" rx=\"20\" ry=\"3\" width=\"0\" height=\"0\" x=\"0\" y=\"0\" style=\"fill: rgb(128, 139, 164); fill-opacity: 1;\"/></g><g class=\"g-gtitle\"><text class=\"gtitle\" x=\"35\" y=\"50\" text-anchor=\"start\" dy=\"0em\" style=\"font-family: 'Open Sans', verdana, arial, sans-serif; font-size: 17px; fill: rgb(42, 63, 95); opacity: 1; font-weight: normal; white-space: pre;\">Popular Window Survival for Sampled Subreddits's r/popular Threads</text></g><g class=\"g-xtitle\"><text class=\"xtitle\" x=\"300\" y=\"461.8\" text-anchor=\"middle\" style=\"font-family: 'Open Sans', verdana, arial, sans-serif; font-size: 14px; fill: rgb(42, 63, 95); opacity: 1; font-weight: normal; white-space: pre;\">#hours</text></g><g class=\"g-ytitle\"><text class=\"ytitle\" transform=\"rotate(-90,37.278125,260)\" x=\"37.278125\" y=\"260\" text-anchor=\"middle\" style=\"font-family: 'Open Sans', verdana, arial, sans-serif; font-size: 14px; fill: rgb(42, 63, 95); opacity: 1; font-weight: normal; white-space: pre;\">%survival</text></g></g></svg>"
      ]
     },
     "metadata": {},
     "output_type": "display_data"
    }
   ],
   "source": [
    "def display_subreddit_survival(feature, \n",
    "                               save=False,\n",
    "                               subreddits=None,\n",
    "                               n=5,\n",
    "                               threshold=200,\n",
    "                               seed=None):\n",
    "    \n",
    "    assert feature in ['popular_window', 'active_window']\n",
    "    \n",
    "    if subreddits is not None:\n",
    "        sample_subreddits = subreddits\n",
    "    elif seed is None:\n",
    "        counts = list_popular_subreddits()\n",
    "        sample_subreddits = counts[counts['num_threads'] > threshold].sample(n=n) \\\n",
    "            .index.to_list()\n",
    "    else:\n",
    "        counts = list_popular_subreddits()\n",
    "        sample_subreddits = counts[counts['num_threads'] > threshold] \\\n",
    "            .sample(n=n, random_state=seed) \\\n",
    "            .index.to_list()\n",
    "        \n",
    "    threads = get_popular_threads(\n",
    "        filter={'subreddit': {'$in': sample_subreddits},\n",
    "                feature: {'$ne': None}},\n",
    "        columns=[feature] + ['subreddit']\n",
    "    )\n",
    "    \n",
    "    fig = go.Figure()\n",
    "    \n",
    "    if feature == 'popular_window':\n",
    "        title = '#hours'\n",
    "        denominator = int(dt.timedelta(hours=1).total_seconds())\n",
    "        x_range = [0, 24]\n",
    "        tickvals = [i for i in range(0, 24, 6)]\n",
    "    else:\n",
    "        title = '#weeks'\n",
    "        denominator = int(dt.timedelta(days=7).total_seconds()),\n",
    "        x_range = None # autorange\n",
    "        tickvals = None # autorange\n",
    "    \n",
    "    \n",
    "    for subreddit in sample_subreddits:\n",
    "        \n",
    "        subreddit_threads = threads[threads['subreddit'] == subreddit]\n",
    "        \n",
    "        time, survival_probability = kme(\n",
    "            np.ones(len(subreddit_threads)).astype(bool),\n",
    "            subreddit_threads[feature] / denominator\n",
    "        )\n",
    "        \n",
    "        fig.add_trace(\n",
    "            go.Scatter(\n",
    "                x=time, \n",
    "                y=survival_probability, \n",
    "                name=f'r/{subreddit}'\n",
    "            )\n",
    "        )\n",
    "    \n",
    "    fig.update_xaxes(title=title,\n",
    "                     range=x_range,\n",
    "                     tickvals=tickvals)\n",
    "    fig.update_yaxes(title='%survival', tickvals=[i / 10 for i in range(11)])\n",
    "    \n",
    "    feature = feature.replace('_', ' ').title()\n",
    "    \n",
    "    fig.update_layout(\n",
    "        template='plotly_white',\n",
    "        title=f'{feature} Survival for Sampled Subreddits\\'s r/popular Threads' \n",
    "    )\n",
    "    \n",
    "    if save:\n",
    "        fig.write_image('figs/subreddit_survival.png', scale=3)\n",
    "        \n",
    "    fig.show('svg')\n",
    "    \n",
    "    return\n",
    "\n",
    "seed = 1\n",
    "display_subreddit_survival('active_window', seed=seed)\n",
    "display_subreddit_survival('popular_window', seed=seed)"
   ]
  },
  {
   "cell_type": "code",
   "execution_count": 664,
   "id": "c1392963",
   "metadata": {
    "ExecuteTime": {
     "end_time": "2022-06-09T01:32:16.947981Z",
     "start_time": "2022-06-09T01:32:14.301853Z"
    },
    "code_folding": [
     0
    ]
   },
   "outputs": [
    {
     "data": {
      "image/svg+xml": [
       "<svg class=\"main-svg\" xmlns=\"http://www.w3.org/2000/svg\" xmlns:xlink=\"http://www.w3.org/1999/xlink\" width=\"700\" height=\"500\" style=\"\" viewBox=\"0 0 700 500\"><rect x=\"0\" y=\"0\" width=\"700\" height=\"500\" style=\"fill: rgb(255, 255, 255); fill-opacity: 1;\"/><defs id=\"defs-ca595c\"><g class=\"clips\"><clipPath id=\"clipca595cxyplot\" class=\"plotclip\"><rect width=\"506\" height=\"320\"/></clipPath><clipPath class=\"axesclip\" id=\"clipca595cx\"><rect x=\"80\" y=\"0\" width=\"506\" height=\"500\"/></clipPath><clipPath class=\"axesclip\" id=\"clipca595cy\"><rect x=\"0\" y=\"100\" width=\"700\" height=\"320\"/></clipPath><clipPath class=\"axesclip\" id=\"clipca595cxy\"><rect x=\"80\" y=\"100\" width=\"506\" height=\"320\"/></clipPath></g><g class=\"gradients\"/><g class=\"patterns\"/></defs><g class=\"bglayer\"/><g class=\"layer-below\"><g class=\"imagelayer\"/><g class=\"shapelayer\"/></g><g class=\"cartesianlayer\"><g class=\"subplot xy\"><g class=\"layer-subplot\"><g class=\"shapelayer\"/><g class=\"imagelayer\"/></g><g class=\"gridlayer\"><g class=\"x\"><path class=\"xgrid crisp\" transform=\"translate(206.5,0)\" d=\"M0,100v320\" style=\"stroke: rgb(235, 240, 248); stroke-opacity: 1; stroke-width: 1px;\"/><path class=\"xgrid crisp\" transform=\"translate(333,0)\" d=\"M0,100v320\" style=\"stroke: rgb(235, 240, 248); stroke-opacity: 1; stroke-width: 1px;\"/><path class=\"xgrid crisp\" transform=\"translate(459.5,0)\" d=\"M0,100v320\" style=\"stroke: rgb(235, 240, 248); stroke-opacity: 1; stroke-width: 1px;\"/></g><g class=\"y\"><path class=\"ygrid crisp\" transform=\"translate(0,375.05)\" d=\"M80,0h506\" style=\"stroke: rgb(235, 240, 248); stroke-opacity: 1; stroke-width: 1px;\"/><path class=\"ygrid crisp\" transform=\"translate(0,346.11)\" d=\"M80,0h506\" style=\"stroke: rgb(235, 240, 248); stroke-opacity: 1; stroke-width: 1px;\"/><path class=\"ygrid crisp\" transform=\"translate(0,317.15999999999997)\" d=\"M80,0h506\" style=\"stroke: rgb(235, 240, 248); stroke-opacity: 1; stroke-width: 1px;\"/><path class=\"ygrid crisp\" transform=\"translate(0,288.21000000000004)\" d=\"M80,0h506\" style=\"stroke: rgb(235, 240, 248); stroke-opacity: 1; stroke-width: 1px;\"/><path class=\"ygrid crisp\" transform=\"translate(0,259.27)\" d=\"M80,0h506\" style=\"stroke: rgb(235, 240, 248); stroke-opacity: 1; stroke-width: 1px;\"/><path class=\"ygrid crisp\" transform=\"translate(0,230.32)\" d=\"M80,0h506\" style=\"stroke: rgb(235, 240, 248); stroke-opacity: 1; stroke-width: 1px;\"/><path class=\"ygrid crisp\" transform=\"translate(0,201.37)\" d=\"M80,0h506\" style=\"stroke: rgb(235, 240, 248); stroke-opacity: 1; stroke-width: 1px;\"/><path class=\"ygrid crisp\" transform=\"translate(0,172.43)\" d=\"M80,0h506\" style=\"stroke: rgb(235, 240, 248); stroke-opacity: 1; stroke-width: 1px;\"/><path class=\"ygrid crisp\" transform=\"translate(0,143.48)\" d=\"M80,0h506\" style=\"stroke: rgb(235, 240, 248); stroke-opacity: 1; stroke-width: 1px;\"/><path class=\"ygrid crisp\" transform=\"translate(0,114.53)\" d=\"M80,0h506\" style=\"stroke: rgb(235, 240, 248); stroke-opacity: 1; stroke-width: 1px;\"/></g></g><g class=\"zerolinelayer\"><path class=\"xzl zl crisp\" transform=\"translate(80,0)\" d=\"M0,100v320\" style=\"stroke: rgb(235, 240, 248); stroke-opacity: 1; stroke-width: 2px;\"/><path class=\"yzl zl crisp\" transform=\"translate(0,404)\" d=\"M80,0h506\" style=\"stroke: rgb(235, 240, 248); stroke-opacity: 1; stroke-width: 2px;\"/></g><path class=\"xlines-below\"/><path class=\"ylines-below\"/><g class=\"overlines-below\"/><g class=\"xaxislayer-below\"/><g class=\"yaxislayer-below\"/><g class=\"overaxes-below\"/><g class=\"plot\" transform=\"translate(80,100)\" clip-path=\"url(#clipca595cxyplot)\"><g class=\"scatterlayer mlayer\"><g class=\"trace scatter trace1bdbe5\" style=\"stroke-miterlimit: 2; opacity: 1;\"><g class=\"fills\"/><g class=\"errorbars\"/><g class=\"lines\"><path class=\"js-line\" d=\"M0,16.9L0.71,16.96L0.71,17.84L1.5,19.99L2.14,20.15L2.89,26.59L2.9,26.62L3.64,28.08L4.28,28.11L5.08,31.05L5.71,31.08L6.52,34.77L7.14,34.8L8,38.11L8.24,38.12L8.59,38.67L8.6,38.95L9.44,41.87L10,41.92L10.85,45.24L10.91,45.26L11.49,46.02L11.5,46.09L13.03,48.93L13.58,48.98L14.44,51.08L14.48,51.1L15.12,51.85L15.12,51.9L15.9,53.36L16.42,53.37L17.35,55.73L17.86,55.74L18.9,57.71L19.28,57.73L20.33,59.77L20.73,59.79L21.73,62.05L21.93,62.06L22.31,62.86L22.32,62.88L22.97,63.74L22.97,63.77L25.31,66.95L25.7,66.97L27.02,69.3L27.14,69.32L28.19,71.35L28.58,71.36L29.58,73.44L29.99,73.46L31.88,76.5L32.08,76.51L34.42,79.65L34.42,79.68L37.15,82.6L37.18,82.62L38.4,84.39L38.61,84.42L39.7,86.48L40,86.49L42.66,90.65L42.86,90.68L44.2,92.69L44.33,92.72L46.24,95.06L46.41,95.07L48.48,97.63L48.61,97.66L49.96,99.46L50.01,99.47L63.91,117.09L63.92,117.11L65.28,118.72L65.28,118.74L67.05,120.8L67.14,120.81L70.31,125.04L70.32,125.06L74.52,130.3L74.53,130.35L77.76,133.88L77.8,133.9L79.53,136L79.53,136.02L87.03,144.4L87.15,144.41L90.32,148.07L90.34,148.12L92.44,150.44L92.45,150.46L97.24,155.07L97.31,155.09L102.76,161L102.79,161.02L114.86,173.52L114.98,173.54L117.48,176.07L117.5,176.09L118.94,177.66L118.95,177.69L125.08,183.28L125.11,183.3L140.67,196.12L140.77,196.14L143.09,197.86L143.1,197.88L144.76,199.21L144.81,199.23L154.45,205.98L154.48,205.99L158.48,208.67L158.56,208.69L160.8,209.98L160.81,210.01L163.42,211.31L163.58,211.33L166.27,213.07L166.28,213.08L172.23,216.56L172.29,216.57L175.68,218.56L175.69,218.57L178.91,220.06L178.92,220.09L183.4,222.31L183.47,222.32L185.71,223.29L185.73,223.31L188.68,224.86L188.73,224.88L204.69,231.64L204.76,231.66L236.05,244.53L236.06,244.54L238.76,245.59L238.8,245.6L253.55,251.88L253.56,251.89L257.12,253.21L257.22,253.23L267.96,257.57L267.98,257.6L271.58,259.16L271.73,259.18L276.57,261.33L276.72,261.35L299.79,271.57L299.99,271.59L302.68,272.91L302.7,272.93L330.16,284.6L330.28,284.61L348.4,290.3L348.62,290.32L358.35,293.07L358.48,293.08L365.11,294.41L365.25,294.42L375.31,296.76L375.33,296.77L379.34,297.59L379.52,297.6L399.76,300.43L400.64,300.45L409.39,301.46L409.43,301.48L456.66,303.65L457.58,303.66L10626,303.76465802705707L10626,304\" style=\"vector-effect: non-scaling-stroke; fill: none; stroke: rgb(99, 110, 250); stroke-opacity: 1; stroke-width: 2px; opacity: 1;\"/></g><g class=\"points\"/><g class=\"text\"/></g><g class=\"trace scatter trace952a3c\" style=\"stroke-miterlimit: 2; opacity: 1;\"><g class=\"fills\"/><g class=\"errorbars\"/><g class=\"lines\"><path class=\"js-line\" d=\"M0,16L0.71,16.06L0.71,16.9L1.46,18.42L2.14,19.74L2.93,24.28L2.96,24.31L3.58,25.12L3.58,25.42L4.42,27.09L5,27.21L5.75,30.17L5.76,30.32L6.53,32.3L7.14,32.39L7.96,35.85L8.56,35.88L9.47,39.35L10,39.38L10.83,42.19L11.44,42.22L12.31,44.82L12.86,44.85L13.76,47.9L14.3,47.96L15.16,50.74L15.73,50.8L16.67,53.64L16.89,53.67L17.22,54.42L17.24,54.51L18.77,56.96L19.3,56.99L20.12,58.58L20.15,58.64L20.94,59.98L21.43,60.01L22.34,62.26L22.89,62.32L23.71,64.35L23.75,64.38L24.53,65.75L24.91,65.78L25.25,66.92L25.25,66.95L26.46,67.85L26.47,67.88L27.47,69.61L27.74,69.64L28.64,70.84L28.66,70.87L29.53,72.69L29.55,72.72L30.38,74.1L30.76,74.16L31.78,75.98L32.13,76.01L33.97,78.43L34.32,78.46L35.34,80.52L35.37,80.55L35.97,81.39L35.98,81.42L36.78,82.26L37.12,82.29L40.42,87.34L40.72,87.37L43.96,91.98L44.3,92.01L46.18,94.1L46.29,94.13L47.22,95.39L47.23,95.42L48.29,96.79L48.36,96.82L49.35,97.96L49.37,97.99L50.98,100.53L51.02,100.56L55.41,106.51L55.42,106.57L59.47,111.23L59.48,111.26L60.51,112.58L60.61,112.61L61.16,113.45L61.26,113.48L62.99,115.33L63.01,115.39L64.06,116.67L64.24,116.7L65.31,117.96L65.31,117.99L66.64,119.31L66.77,119.34L67.89,120.47L67.92,120.5L70.44,123.07L70.56,123.1L75.88,129.26L75.95,129.29L78.75,132.22L78.78,132.25L82.06,135.48L82.17,135.51L83.95,137.43L83.95,137.46L87.23,140.5L87.24,140.53L88.93,142.54L88.97,142.57L90.04,143.5L90.1,143.52L92.12,145.68L92.21,145.71L100.29,153.87L100.56,153.93L102.47,156.26L102.48,156.29L105.32,159.04L105.35,159.1L120.37,173.75L120.37,173.78L128.53,181.41L128.55,181.44L131.2,183.98L131.23,184.01L140.32,192.08L140.44,192.11L143.06,194.12L143.23,194.15L147.29,197.55L147.47,197.58L150.7,200.01L150.8,200.07L153.44,202.04L153.63,202.07L155.96,203.92L155.98,203.95L182.5,221.06L182.62,221.09L223.27,246.53L223.38,246.56L225.43,247.88L225.59,247.91L227.09,249.13L227.11,249.16L231.76,251.73L231.8,251.79L260.3,269.38L260.33,269.41L262.37,270.33L262.39,270.36L265.69,272.31L265.69,272.34L268.22,274.25L268.5,274.31L275.38,278.29L275.55,278.32L280.94,281.43L280.94,281.46L295.93,289.02L296.14,289.05L320.27,297.06L320.54,297.09L329.79,299.1L330.26,299.13L355.18,302.36L355.69,302.39L369.5,303.31L372.14,303.34L410.41,303.88L424.02,303.91L10626,303.9568146804371L10626,304\" style=\"vector-effect: non-scaling-stroke; fill: none; stroke: rgb(239, 85, 59); stroke-opacity: 1; stroke-width: 2px; opacity: 1;\"/></g><g class=\"points\"/><g class=\"text\"/></g><g class=\"trace scatter trace01b226\" style=\"stroke-miterlimit: 2; opacity: 1;\"><g class=\"fills\"/><g class=\"errorbars\"/><g class=\"lines\"><path class=\"js-line\" d=\"M0,16.46L0.71,16.7L0.71,18.13L1.48,20.99L2.14,21.09L2.89,27.35L2.9,27.54L3.65,29.76L4.09,29.81L4.31,31.09L4.32,31.49L5.08,34.49L5.46,34.54L5.73,35.58L5.73,35.72L6.51,39.72L7.15,39.96L7.99,44.1L8.57,44.15L9.44,48.04L10.01,48.14L10.85,52.28L10.92,52.33L11.47,53.12L11.47,53.22L12.3,55.49L12.87,55.54L13.7,58.59L13.73,58.64L14.34,59.63L14.35,59.67L15.23,62.24L15.72,62.29L16.59,65.79L17.14,65.83L18.14,69.04L18.38,69.09L18.65,69.92L18.66,69.97L19.46,72.14L20.03,72.24L20.95,74.75L21.44,74.8L22.37,78.3L22.88,78.35L23.82,81.16L24.32,81.21L25.22,83.48L25.25,83.53L25.79,84.26L25.8,84.46L27.44,88.31L27.89,88.35L28.74,90.42L28.81,90.47L31.03,94.32L31.44,94.37L33.24,98.6L33.52,98.65L35.29,102.6L35.31,102.7L36.85,104.96L37.15,105.01L38.9,108.26L39.29,108.31L40.53,110.04L40.78,110.09L41.87,112.01L42.21,112.06L43.38,113.68L43.57,113.73L45.37,116.39L45.5,116.44L46.51,117.58L46.54,117.63L47.65,119.01L47.82,119.06L52.32,125.36L52.35,125.41L58.76,133.05L58.77,133.1L62.61,137.54L62.63,137.63L70.93,147.93L70.93,147.98L74.15,150.94L74.31,150.99L79.67,157.99L79.77,158.04L80.94,159.02L80.95,159.07L85.01,164.49L85.13,164.54L86.21,165.38L86.3,165.43L87.5,166.86L87.51,166.91L89.03,168.73L89.04,168.78L89.98,169.42L90.18,169.47L92.34,171.88L92.57,171.93L94.39,173.76L94.41,173.85L99.17,179.37L99.45,179.42L115.57,193.42L115.72,193.47L116.92,194.99L117.35,195.04L122.59,199.18L122.65,199.23L128.17,204.26L128.18,204.31L129.15,205.24L129.28,205.29L132.37,207.66L132.39,207.71L133.83,208.99L133.98,209.04L135.94,210.17L135.96,210.22L138.85,212.69L138.86,212.74L143.34,216.04L143.36,216.14L144.66,217.27L144.67,217.32L150.39,222.25L150.4,222.34L152.07,223.58L152.14,223.63L153.43,224.91L153.46,224.96L156.3,226.29L156.31,226.34L157.53,227.47L157.57,227.52L162.53,231.26L162.53,231.31L165.77,233.97L165.91,234.02L167.01,234.81L167.16,234.86L168.8,235.99L168.97,236.04L169.8,236.68L169.92,236.73L171.41,237.72L171.47,237.77L172.7,238.75L172.71,238.9L174.76,240.33L174.76,240.38L175.6,241.22L175.72,241.27L179.03,243.78L179.04,243.83L184.02,247.77L184.17,247.82L187.76,249.79L187.81,249.84L197.99,257.43L198.01,257.48L202.21,260.49L202.25,260.54L206.55,264.18L206.7,264.23L211.49,267.34L211.59,267.39L214.04,269.16L214.12,269.21L215,269.85L215.28,269.9L224.77,275.91L224.89,275.96L232.63,280.35L232.63,280.4L236.43,282.17L236.81,282.22L239.18,283.3L239.19,283.35L244.05,285.72L244.06,285.82L251.33,289.71L251.33,289.76L254.05,290.79L254.08,290.84L263.81,294.19L264.23,294.24L269.81,295.82L270.14,295.87L278.51,298.14L279.14,298.19L295.48,301.34L296.64,301.39L318.16,303.36L320.81,303.41L328.84,303.9L346.15,303.95L10626,303.9709334201635L10626,304\" style=\"vector-effect: non-scaling-stroke; fill: none; stroke: rgb(0, 204, 150); stroke-opacity: 1; stroke-width: 2px; opacity: 1;\"/></g><g class=\"points\"/><g class=\"text\"/></g></g></g><g class=\"overplot\"/><path class=\"xlines-above crisp\" d=\"M0,0\" style=\"fill: none;\"/><path class=\"ylines-above crisp\" d=\"M0,0\" style=\"fill: none;\"/><g class=\"overlines-above\"/><g class=\"xaxislayer-above\"><g class=\"xtick\"><text text-anchor=\"middle\" x=\"0\" y=\"433\" transform=\"translate(80,0)\" style=\"font-family: 'Open Sans', verdana, arial, sans-serif; font-size: 12px; fill: rgb(42, 63, 95); fill-opacity: 1; white-space: pre; opacity: 1;\">0</text></g><g class=\"xtick\"><text text-anchor=\"middle\" x=\"0\" y=\"433\" style=\"font-family: 'Open Sans', verdana, arial, sans-serif; font-size: 12px; fill: rgb(42, 63, 95); fill-opacity: 1; white-space: pre; opacity: 1;\" transform=\"translate(206.5,0)\">6</text></g><g class=\"xtick\"><text text-anchor=\"middle\" x=\"0\" y=\"433\" style=\"font-family: 'Open Sans', verdana, arial, sans-serif; font-size: 12px; fill: rgb(42, 63, 95); fill-opacity: 1; white-space: pre; opacity: 1;\" transform=\"translate(333,0)\">12</text></g><g class=\"xtick\"><text text-anchor=\"middle\" x=\"0\" y=\"433\" style=\"font-family: 'Open Sans', verdana, arial, sans-serif; font-size: 12px; fill: rgb(42, 63, 95); fill-opacity: 1; white-space: pre; opacity: 1;\" transform=\"translate(459.5,0)\">18</text></g></g><g class=\"yaxislayer-above\"><g class=\"ytick\"><text text-anchor=\"end\" x=\"79\" y=\"4.199999999999999\" transform=\"translate(0,404)\" style=\"font-family: 'Open Sans', verdana, arial, sans-serif; font-size: 12px; fill: rgb(42, 63, 95); fill-opacity: 1; white-space: pre; opacity: 1;\">0</text></g><g class=\"ytick\"><text text-anchor=\"end\" x=\"79\" y=\"4.199999999999999\" style=\"font-family: 'Open Sans', verdana, arial, sans-serif; font-size: 12px; fill: rgb(42, 63, 95); fill-opacity: 1; white-space: pre; opacity: 1;\" transform=\"translate(0,375.05)\">0.1</text></g><g class=\"ytick\"><text text-anchor=\"end\" x=\"79\" y=\"4.199999999999999\" style=\"font-family: 'Open Sans', verdana, arial, sans-serif; font-size: 12px; fill: rgb(42, 63, 95); fill-opacity: 1; white-space: pre; opacity: 1;\" transform=\"translate(0,346.11)\">0.2</text></g><g class=\"ytick\"><text text-anchor=\"end\" x=\"79\" y=\"4.199999999999999\" style=\"font-family: 'Open Sans', verdana, arial, sans-serif; font-size: 12px; fill: rgb(42, 63, 95); fill-opacity: 1; white-space: pre; opacity: 1;\" transform=\"translate(0,317.15999999999997)\">0.3</text></g><g class=\"ytick\"><text text-anchor=\"end\" x=\"79\" y=\"4.199999999999999\" style=\"font-family: 'Open Sans', verdana, arial, sans-serif; font-size: 12px; fill: rgb(42, 63, 95); fill-opacity: 1; white-space: pre; opacity: 1;\" transform=\"translate(0,288.21000000000004)\">0.4</text></g><g class=\"ytick\"><text text-anchor=\"end\" x=\"79\" y=\"4.199999999999999\" style=\"font-family: 'Open Sans', verdana, arial, sans-serif; font-size: 12px; fill: rgb(42, 63, 95); fill-opacity: 1; white-space: pre; opacity: 1;\" transform=\"translate(0,259.27)\">0.5</text></g><g class=\"ytick\"><text text-anchor=\"end\" x=\"79\" y=\"4.199999999999999\" style=\"font-family: 'Open Sans', verdana, arial, sans-serif; font-size: 12px; fill: rgb(42, 63, 95); fill-opacity: 1; white-space: pre; opacity: 1;\" transform=\"translate(0,230.32)\">0.6</text></g><g class=\"ytick\"><text text-anchor=\"end\" x=\"79\" y=\"4.199999999999999\" style=\"font-family: 'Open Sans', verdana, arial, sans-serif; font-size: 12px; fill: rgb(42, 63, 95); fill-opacity: 1; white-space: pre; opacity: 1;\" transform=\"translate(0,201.37)\">0.7</text></g><g class=\"ytick\"><text text-anchor=\"end\" x=\"79\" y=\"4.199999999999999\" style=\"font-family: 'Open Sans', verdana, arial, sans-serif; font-size: 12px; fill: rgb(42, 63, 95); fill-opacity: 1; white-space: pre; opacity: 1;\" transform=\"translate(0,172.43)\">0.8</text></g><g class=\"ytick\"><text text-anchor=\"end\" x=\"79\" y=\"4.199999999999999\" style=\"font-family: 'Open Sans', verdana, arial, sans-serif; font-size: 12px; fill: rgb(42, 63, 95); fill-opacity: 1; white-space: pre; opacity: 1;\" transform=\"translate(0,143.48)\">0.9</text></g><g class=\"ytick\"><text text-anchor=\"end\" x=\"79\" y=\"4.199999999999999\" style=\"font-family: 'Open Sans', verdana, arial, sans-serif; font-size: 12px; fill: rgb(42, 63, 95); fill-opacity: 1; white-space: pre; opacity: 1;\" transform=\"translate(0,114.53)\">1</text></g></g><g class=\"overaxes-above\"/></g></g><g class=\"polarlayer\"/><g class=\"smithlayer\"/><g class=\"ternarylayer\"/><g class=\"geolayer\"/><g class=\"funnelarealayer\"/><g class=\"pielayer\"/><g class=\"iciclelayer\"/><g class=\"treemaplayer\"/><g class=\"sunburstlayer\"/><g class=\"glimages\"/><defs id=\"topdefs-ca595c\"><g class=\"clips\"/><clipPath id=\"legendca595c\"><rect width=\"92\" height=\"67\" x=\"0\" y=\"0\"/></clipPath></defs><g class=\"layer-above\"><g class=\"imagelayer\"/><g class=\"shapelayer\"/></g><g class=\"infolayer\"><g class=\"legend\" pointer-events=\"all\" transform=\"translate(596.12,100)\"><rect class=\"bg\" shape-rendering=\"crispEdges\" width=\"92\" height=\"67\" x=\"0\" y=\"0\" style=\"stroke: rgb(68, 68, 68); stroke-opacity: 1; fill: rgb(255, 255, 255); fill-opacity: 1; stroke-width: 0px;\"/><g class=\"scrollbox\" transform=\"\" clip-path=\"url(#legendca595c)\"><g class=\"groups\"><g class=\"traces\" transform=\"translate(0,14.5)\" style=\"opacity: 1;\"><text class=\"legendtext\" text-anchor=\"start\" x=\"40\" y=\"4.680000000000001\" style=\"font-family: 'Open Sans', verdana, arial, sans-serif; font-size: 12px; fill: rgb(42, 63, 95); fill-opacity: 1; white-space: pre;\">Small</text><g class=\"layers\" style=\"opacity: 1;\"><g class=\"legendfill\"/><g class=\"legendlines\"><path class=\"js-line\" d=\"M5,0h30\" style=\"fill: none; stroke: rgb(99, 110, 250); stroke-opacity: 1; stroke-width: 2px;\"/></g><g class=\"legendsymbols\"><g class=\"legendpoints\"/></g></g><rect class=\"legendtoggle\" x=\"0\" y=\"-9.5\" width=\"86.484375\" height=\"19\" style=\"fill: rgb(0, 0, 0); fill-opacity: 0;\"/></g><g class=\"traces\" transform=\"translate(0,33.5)\" style=\"opacity: 1;\"><text class=\"legendtext\" text-anchor=\"start\" x=\"40\" y=\"4.680000000000001\" style=\"font-family: 'Open Sans', verdana, arial, sans-serif; font-size: 12px; fill: rgb(42, 63, 95); fill-opacity: 1; white-space: pre;\">Medium</text><g class=\"layers\" style=\"opacity: 1;\"><g class=\"legendfill\"/><g class=\"legendlines\"><path class=\"js-line\" d=\"M5,0h30\" style=\"fill: none; stroke: rgb(239, 85, 59); stroke-opacity: 1; stroke-width: 2px;\"/></g><g class=\"legendsymbols\"><g class=\"legendpoints\"/></g></g><rect class=\"legendtoggle\" x=\"0\" y=\"-9.5\" width=\"86.484375\" height=\"19\" style=\"fill: rgb(0, 0, 0); fill-opacity: 0;\"/></g><g class=\"traces\" transform=\"translate(0,52.5)\" style=\"opacity: 1;\"><text class=\"legendtext\" text-anchor=\"start\" x=\"40\" y=\"4.680000000000001\" style=\"font-family: 'Open Sans', verdana, arial, sans-serif; font-size: 12px; fill: rgb(42, 63, 95); fill-opacity: 1; white-space: pre;\">Large</text><g class=\"layers\" style=\"opacity: 1;\"><g class=\"legendfill\"/><g class=\"legendlines\"><path class=\"js-line\" d=\"M5,0h30\" style=\"fill: none; stroke: rgb(0, 204, 150); stroke-opacity: 1; stroke-width: 2px;\"/></g><g class=\"legendsymbols\"><g class=\"legendpoints\"/></g></g><rect class=\"legendtoggle\" x=\"0\" y=\"-9.5\" width=\"86.484375\" height=\"19\" style=\"fill: rgb(0, 0, 0); fill-opacity: 0;\"/></g></g></g><rect class=\"scrollbar\" rx=\"20\" ry=\"3\" width=\"0\" height=\"0\" x=\"0\" y=\"0\" style=\"fill: rgb(128, 139, 164); fill-opacity: 1;\"/></g><g class=\"g-gtitle\"><text class=\"gtitle\" x=\"35\" y=\"50\" text-anchor=\"start\" dy=\"0em\" style=\"font-family: 'Open Sans', verdana, arial, sans-serif; font-size: 17px; fill: rgb(42, 63, 95); opacity: 1; font-weight: normal; white-space: pre;\"><tspan class=\"line\" dy=\"0em\" x=\"35\" y=\"50\">Popular Window Survival for Three Tiers of Subreddits</tspan><tspan class=\"line\" dy=\"1.3em\" x=\"35\" y=\"50\">Based on Frequency on r/popular</tspan></text></g><g class=\"g-xtitle\"><text class=\"xtitle\" x=\"333\" y=\"461.8\" text-anchor=\"middle\" style=\"font-family: 'Open Sans', verdana, arial, sans-serif; font-size: 14px; fill: rgb(42, 63, 95); opacity: 1; font-weight: normal; white-space: pre;\">#hours</text></g><g class=\"g-ytitle\"><text class=\"ytitle\" transform=\"rotate(-90,37.278125,260)\" x=\"37.278125\" y=\"260\" text-anchor=\"middle\" style=\"font-family: 'Open Sans', verdana, arial, sans-serif; font-size: 14px; fill: rgb(42, 63, 95); opacity: 1; font-weight: normal; white-space: pre;\">%survival</text></g></g></svg>"
      ]
     },
     "metadata": {},
     "output_type": "display_data"
    },
    {
     "data": {
      "image/svg+xml": [
       "<svg class=\"main-svg\" xmlns=\"http://www.w3.org/2000/svg\" xmlns:xlink=\"http://www.w3.org/1999/xlink\" width=\"700\" height=\"500\" style=\"\" viewBox=\"0 0 700 500\"><rect x=\"0\" y=\"0\" width=\"700\" height=\"500\" style=\"fill: rgb(255, 255, 255); fill-opacity: 1;\"/><defs id=\"defs-55ef6d\"><g class=\"clips\"><clipPath id=\"clip55ef6dxyplot\" class=\"plotclip\"><rect width=\"506\" height=\"320\"/></clipPath><clipPath class=\"axesclip\" id=\"clip55ef6dx\"><rect x=\"80\" y=\"0\" width=\"506\" height=\"500\"/></clipPath><clipPath class=\"axesclip\" id=\"clip55ef6dy\"><rect x=\"0\" y=\"100\" width=\"700\" height=\"320\"/></clipPath><clipPath class=\"axesclip\" id=\"clip55ef6dxy\"><rect x=\"80\" y=\"100\" width=\"506\" height=\"320\"/></clipPath></g><g class=\"gradients\"/><g class=\"patterns\"/></defs><g class=\"bglayer\"/><g class=\"layer-below\"><g class=\"imagelayer\"/><g class=\"shapelayer\"/></g><g class=\"cartesianlayer\"><g class=\"subplot xy\"><g class=\"layer-subplot\"><g class=\"shapelayer\"/><g class=\"imagelayer\"/></g><g class=\"gridlayer\"><g class=\"x\"><path class=\"xgrid crisp\" transform=\"translate(174.29000000000002,0)\" d=\"M0,100v320\" style=\"stroke: rgb(235, 240, 248); stroke-opacity: 1; stroke-width: 1px;\"/><path class=\"xgrid crisp\" transform=\"translate(268.58000000000004,0)\" d=\"M0,100v320\" style=\"stroke: rgb(235, 240, 248); stroke-opacity: 1; stroke-width: 1px;\"/><path class=\"xgrid crisp\" transform=\"translate(362.87,0)\" d=\"M0,100v320\" style=\"stroke: rgb(235, 240, 248); stroke-opacity: 1; stroke-width: 1px;\"/><path class=\"xgrid crisp\" transform=\"translate(457.16,0)\" d=\"M0,100v320\" style=\"stroke: rgb(235, 240, 248); stroke-opacity: 1; stroke-width: 1px;\"/><path class=\"xgrid crisp\" transform=\"translate(551.44,0)\" d=\"M0,100v320\" style=\"stroke: rgb(235, 240, 248); stroke-opacity: 1; stroke-width: 1px;\"/></g><g class=\"y\"><path class=\"ygrid crisp\" transform=\"translate(0,375.2)\" d=\"M80,0h506\" style=\"stroke: rgb(235, 240, 248); stroke-opacity: 1; stroke-width: 1px;\"/><path class=\"ygrid crisp\" transform=\"translate(0,346.39)\" d=\"M80,0h506\" style=\"stroke: rgb(235, 240, 248); stroke-opacity: 1; stroke-width: 1px;\"/><path class=\"ygrid crisp\" transform=\"translate(0,317.59000000000003)\" d=\"M80,0h506\" style=\"stroke: rgb(235, 240, 248); stroke-opacity: 1; stroke-width: 1px;\"/><path class=\"ygrid crisp\" transform=\"translate(0,288.78999999999996)\" d=\"M80,0h506\" style=\"stroke: rgb(235, 240, 248); stroke-opacity: 1; stroke-width: 1px;\"/><path class=\"ygrid crisp\" transform=\"translate(0,259.98)\" d=\"M80,0h506\" style=\"stroke: rgb(235, 240, 248); stroke-opacity: 1; stroke-width: 1px;\"/><path class=\"ygrid crisp\" transform=\"translate(0,231.18)\" d=\"M80,0h506\" style=\"stroke: rgb(235, 240, 248); stroke-opacity: 1; stroke-width: 1px;\"/><path class=\"ygrid crisp\" transform=\"translate(0,202.38)\" d=\"M80,0h506\" style=\"stroke: rgb(235, 240, 248); stroke-opacity: 1; stroke-width: 1px;\"/><path class=\"ygrid crisp\" transform=\"translate(0,173.57999999999998)\" d=\"M80,0h506\" style=\"stroke: rgb(235, 240, 248); stroke-opacity: 1; stroke-width: 1px;\"/><path class=\"ygrid crisp\" transform=\"translate(0,144.77)\" d=\"M80,0h506\" style=\"stroke: rgb(235, 240, 248); stroke-opacity: 1; stroke-width: 1px;\"/><path class=\"ygrid crisp\" transform=\"translate(0,115.97)\" d=\"M80,0h506\" style=\"stroke: rgb(235, 240, 248); stroke-opacity: 1; stroke-width: 1px;\"/></g></g><g class=\"zerolinelayer\"><path class=\"xzl zl crisp\" transform=\"translate(80,0)\" d=\"M0,100v320\" style=\"stroke: rgb(235, 240, 248); stroke-opacity: 1; stroke-width: 2px;\"/><path class=\"yzl zl crisp\" transform=\"translate(0,404)\" d=\"M80,0h506\" style=\"stroke: rgb(235, 240, 248); stroke-opacity: 1; stroke-width: 2px;\"/></g><path class=\"xlines-below\"/><path class=\"ylines-below\"/><g class=\"overlines-below\"/><g class=\"xaxislayer-below\"/><g class=\"yaxislayer-below\"/><g class=\"overaxes-below\"/><g class=\"plot\" transform=\"translate(80,100)\" clip-path=\"url(#clip55ef6dxyplot)\"><g class=\"scatterlayer mlayer\"><g class=\"trace scatter trace6f6658\" style=\"stroke-miterlimit: 2; opacity: 1;\"><g class=\"fills\"/><g class=\"errorbars\"/><g class=\"lines\"><path class=\"js-line\" d=\"M0,16.25L0.72,17.52L0.72,17.54L2.27,29.08L2.27,29.09L4.71,42.69L4.73,42.7L7.33,57.5L7.34,57.52L9.9,71.11L9.91,71.12L15.96,92.7L15.97,92.71L17.7,96.95L17.71,96.97L24.52,113.06L24.53,113.08L44.29,147.39L44.31,147.4L51.77,156.96L51.82,156.97L53.57,158.52L53.57,158.54L54.82,159.89L54.82,159.91L57.37,162.89L57.39,162.9L62.52,167.98L62.52,168L67.3,172.22L67.3,172.24L85.97,187.51L86.03,187.52L106.15,201.07L106.21,201.08L119.34,209.55L119.38,209.56L127.13,214.36L127.22,214.38L128.96,215.51L129.01,215.53L130.59,216.48L130.69,216.49L132.68,217.45L132.74,217.47L136.67,219.83L136.67,219.85L176.94,243.21L176.94,243.22L181.16,245.83L181.21,245.85L184.19,247.84L184.19,247.85L186.56,249.12L186.59,249.14L188.91,250.65L188.91,250.66L195.05,254.89L195.11,254.9L207.02,263.41L207.1,263.43L222.74,268.06L222.84,268.07L245.87,273.81L246.06,273.82L302.93,284.91L303.18,284.93L313.35,286.57L313.38,286.59L315.3,286.98L315.42,286.99L347.72,291.99L348.03,292.01L358.17,293.19L358.28,293.21L369.24,294.37L369.31,294.39L379.48,295.64L379.6,295.66L391.14,296.87L391.45,296.89L406.89,298.41L407.02,298.42L427.8,300.21L429.03,300.23L487.22,303.58L488.69,303.6L506,304\" style=\"vector-effect: non-scaling-stroke; fill: none; stroke: rgb(99, 110, 250); stroke-opacity: 1; stroke-width: 2px; opacity: 1;\"/></g><g class=\"points\"/><g class=\"text\"/></g><g class=\"trace scatter traceab0292\" style=\"stroke-miterlimit: 2; opacity: 1;\"><g class=\"fills\"/><g class=\"errorbars\"/><g class=\"lines\"><path class=\"js-line\" d=\"M0.21,16L0.65,16.94L0.65,16.97L4.29,38.69L4.3,38.72L6.64,54.22L6.64,54.25L10.6,78.93L10.62,78.96L18.79,107.99L18.83,108.02L20.79,113.28L20.8,113.31L24.38,121.74L24.45,121.77L28.08,130.17L28.09,130.2L30.02,134.58L30.04,134.61L34.15,142.89L34.15,142.92L38.99,151.86L39.02,151.89L41.2,156.09L41.23,156.12L43.61,160.95L43.64,160.98L45.05,162.98L45.05,163.01L47.03,166L47.03,166.03L49.58,169.8L49.61,169.83L54.2,173.79L54.21,173.82L61,180.56L61.01,180.59L62.99,182.34L63.01,182.37L64.99,184.06L65.03,184.09L66.8,185.54L66.81,185.57L68.54,187.48L68.55,187.51L69.84,188.75L69.89,188.78L84.43,198.9L84.52,198.93L86.35,200.17L86.44,200.2L89.04,201.68L89.05,201.71L92.73,204.27L92.89,204.3L94.8,205.27L94.85,205.3L115.69,218.23L115.8,218.26L119.1,220.29L119.14,220.32L121.16,221.46L121.24,221.49L129.78,225.63L129.83,225.66L134.38,227.81L134.41,227.84L137.46,229.56L137.46,229.59L140.49,230.68L140.54,230.71L162.73,241.71L162.87,241.74L165.81,243.34L165.81,243.37L172.8,247.05L173.01,247.08L175.5,248.38L175.66,248.41L178.17,249.8L178.33,249.83L187.47,254.91L187.76,254.94L190.17,256.42L190.51,256.45L192.53,258.11L192.72,258.14L199.52,262.37L199.56,262.4L203.43,264.67L203.44,264.7L204.86,265.39L205,265.42L206.44,266.09L206.71,266.12L214.73,267.99L214.74,268.02L216.02,268.44L216.11,268.47L232.23,272.82L232.3,272.85L241.55,274.7L241.62,274.73L262.47,278.86L262.52,278.89L268.73,280.25L268.82,280.28L274.4,281.46L274.43,281.49L277.34,282.04L277.81,282.07L288.55,283.97L289.28,284L297.45,285.18L297.59,285.21L361.1,293.67L361.42,293.7L364.92,294.33L365.29,294.36L376.87,295.75L376.99,295.78L391.97,297.17L393.14,297.2L399.7,297.87L400.63,297.9L408.43,298.74L409.46,298.77L427.12,300.28L427.97,300.31L429.74,300.56L429.95,300.59L462.98,302.64L465.04,302.67L504.67,304\" style=\"vector-effect: non-scaling-stroke; fill: none; stroke: rgb(239, 85, 59); stroke-opacity: 1; stroke-width: 2px; opacity: 1;\"/></g><g class=\"points\"/><g class=\"text\"/></g><g class=\"trace scatter trace5cbc32\" style=\"stroke-miterlimit: 2; opacity: 1;\"><g class=\"fills\"/><g class=\"errorbars\"/><g class=\"lines\"><path class=\"js-line\" d=\"M0,16.02L0.53,16.86L0.53,16.91L1.07,21.82L1.07,21.87L1.39,25.2L1.39,25.25L4.83,48.32L4.87,48.37L8.88,73.08L8.91,73.13L10.46,79.33L10.51,79.38L11.9,84.19L11.94,84.24L13.64,88.96L13.68,89.01L15.39,96.4L15.49,96.45L19.08,105.08L19.11,105.13L20.79,109L20.82,109.05L24.5,116.54L24.64,116.59L29.32,124.93L29.37,124.98L31.42,128.5L31.61,128.55L33,130.98L33.01,131.03L34.73,134.66L34.8,134.7L36.38,137.73L36.4,137.78L39.05,142.54L39.15,142.59L47.04,156.78L47.16,156.83L48.28,158.37L48.28,158.42L49.19,159.61L49.24,159.66L50.59,160.85L50.73,160.9L53.43,163.63L53.44,163.68L56.23,166.36L56.45,166.41L61.48,171.07L61.51,171.12L62.71,172.22L62.76,172.27L63.75,173.26L63.78,173.31L72.25,180.35L72.26,180.4L75.3,183.18L75.33,183.23L80.02,186.41L80.06,186.46L83.5,189.63L83.51,189.68L85.34,190.97L85.37,191.02L90.83,194.69L90.84,194.74L104.13,204.32L104.29,204.37L117.18,211.96L117.39,212.01L120.41,213.15L120.42,213.2L141.37,224.31L141.39,224.36L154.16,231.96L154.53,232L160.4,234.73L160.43,234.78L165.91,237.51L166.47,237.56L169.02,238.65L169.04,238.7L171.98,239.65L171.98,239.7L175.8,241.18L175.87,241.23L177.14,241.93L177.22,241.98L178.44,242.52L178.76,242.57L180.56,243.12L180.94,243.17L205.47,256.27L205.68,256.32L239.55,267.33L240.17,267.38L243.45,268.42L243.81,268.47L253.67,271.15L254.49,271.2L265.12,273.34L265.14,273.39L308.07,281.87L308.81,281.92L315.29,283.11L315.32,283.16L344.36,288.22L344.86,288.27L356.06,290.31L356.33,290.36L362.39,291.3L363.02,291.35L367,291.99L367.88,292.04L394.44,295.81L394.45,295.86L404.09,297.3L406.73,297.35L409.51,297.6L411,297.65L426.31,299.48L427.14,299.53L438.69,300.38L441.16,300.43L455,301.57L457.1,301.62L489.65,303.7L494.6,303.75L504.89,304\" style=\"vector-effect: non-scaling-stroke; fill: none; stroke: rgb(0, 204, 150); stroke-opacity: 1; stroke-width: 2px; opacity: 1;\"/></g><g class=\"points\"/><g class=\"text\"/></g></g></g><g class=\"overplot\"/><path class=\"xlines-above crisp\" d=\"M0,0\" style=\"fill: none;\"/><path class=\"ylines-above crisp\" d=\"M0,0\" style=\"fill: none;\"/><g class=\"overlines-above\"/><g class=\"xaxislayer-above\"><g class=\"xtick\"><text text-anchor=\"middle\" x=\"0\" y=\"433\" transform=\"translate(80,0)\" style=\"font-family: 'Open Sans', verdana, arial, sans-serif; font-size: 12px; fill: rgb(42, 63, 95); fill-opacity: 1; white-space: pre; opacity: 1;\">0</text></g><g class=\"xtick\"><text text-anchor=\"middle\" x=\"0\" y=\"433\" style=\"font-family: 'Open Sans', verdana, arial, sans-serif; font-size: 12px; fill: rgb(42, 63, 95); fill-opacity: 1; white-space: pre; opacity: 1;\" transform=\"translate(174.29000000000002,0)\">2</text></g><g class=\"xtick\"><text text-anchor=\"middle\" x=\"0\" y=\"433\" style=\"font-family: 'Open Sans', verdana, arial, sans-serif; font-size: 12px; fill: rgb(42, 63, 95); fill-opacity: 1; white-space: pre; opacity: 1;\" transform=\"translate(268.58000000000004,0)\">4</text></g><g class=\"xtick\"><text text-anchor=\"middle\" x=\"0\" y=\"433\" style=\"font-family: 'Open Sans', verdana, arial, sans-serif; font-size: 12px; fill: rgb(42, 63, 95); fill-opacity: 1; white-space: pre; opacity: 1;\" transform=\"translate(362.87,0)\">6</text></g><g class=\"xtick\"><text text-anchor=\"middle\" x=\"0\" y=\"433\" style=\"font-family: 'Open Sans', verdana, arial, sans-serif; font-size: 12px; fill: rgb(42, 63, 95); fill-opacity: 1; white-space: pre; opacity: 1;\" transform=\"translate(457.16,0)\">8</text></g><g class=\"xtick\"><text text-anchor=\"middle\" x=\"0\" y=\"433\" style=\"font-family: 'Open Sans', verdana, arial, sans-serif; font-size: 12px; fill: rgb(42, 63, 95); fill-opacity: 1; white-space: pre; opacity: 1;\" transform=\"translate(551.44,0)\">10</text></g></g><g class=\"yaxislayer-above\"><g class=\"ytick\"><text text-anchor=\"end\" x=\"79\" y=\"4.199999999999999\" transform=\"translate(0,404)\" style=\"font-family: 'Open Sans', verdana, arial, sans-serif; font-size: 12px; fill: rgb(42, 63, 95); fill-opacity: 1; white-space: pre; opacity: 1;\">0</text></g><g class=\"ytick\"><text text-anchor=\"end\" x=\"79\" y=\"4.199999999999999\" style=\"font-family: 'Open Sans', verdana, arial, sans-serif; font-size: 12px; fill: rgb(42, 63, 95); fill-opacity: 1; white-space: pre; opacity: 1;\" transform=\"translate(0,375.2)\">0.1</text></g><g class=\"ytick\"><text text-anchor=\"end\" x=\"79\" y=\"4.199999999999999\" style=\"font-family: 'Open Sans', verdana, arial, sans-serif; font-size: 12px; fill: rgb(42, 63, 95); fill-opacity: 1; white-space: pre; opacity: 1;\" transform=\"translate(0,346.39)\">0.2</text></g><g class=\"ytick\"><text text-anchor=\"end\" x=\"79\" y=\"4.199999999999999\" style=\"font-family: 'Open Sans', verdana, arial, sans-serif; font-size: 12px; fill: rgb(42, 63, 95); fill-opacity: 1; white-space: pre; opacity: 1;\" transform=\"translate(0,317.59000000000003)\">0.3</text></g><g class=\"ytick\"><text text-anchor=\"end\" x=\"79\" y=\"4.199999999999999\" style=\"font-family: 'Open Sans', verdana, arial, sans-serif; font-size: 12px; fill: rgb(42, 63, 95); fill-opacity: 1; white-space: pre; opacity: 1;\" transform=\"translate(0,288.78999999999996)\">0.4</text></g><g class=\"ytick\"><text text-anchor=\"end\" x=\"79\" y=\"4.199999999999999\" style=\"font-family: 'Open Sans', verdana, arial, sans-serif; font-size: 12px; fill: rgb(42, 63, 95); fill-opacity: 1; white-space: pre; opacity: 1;\" transform=\"translate(0,259.98)\">0.5</text></g><g class=\"ytick\"><text text-anchor=\"end\" x=\"79\" y=\"4.199999999999999\" style=\"font-family: 'Open Sans', verdana, arial, sans-serif; font-size: 12px; fill: rgb(42, 63, 95); fill-opacity: 1; white-space: pre; opacity: 1;\" transform=\"translate(0,231.18)\">0.6</text></g><g class=\"ytick\"><text text-anchor=\"end\" x=\"79\" y=\"4.199999999999999\" style=\"font-family: 'Open Sans', verdana, arial, sans-serif; font-size: 12px; fill: rgb(42, 63, 95); fill-opacity: 1; white-space: pre; opacity: 1;\" transform=\"translate(0,202.38)\">0.7</text></g><g class=\"ytick\"><text text-anchor=\"end\" x=\"79\" y=\"4.199999999999999\" style=\"font-family: 'Open Sans', verdana, arial, sans-serif; font-size: 12px; fill: rgb(42, 63, 95); fill-opacity: 1; white-space: pre; opacity: 1;\" transform=\"translate(0,173.57999999999998)\">0.8</text></g><g class=\"ytick\"><text text-anchor=\"end\" x=\"79\" y=\"4.199999999999999\" style=\"font-family: 'Open Sans', verdana, arial, sans-serif; font-size: 12px; fill: rgb(42, 63, 95); fill-opacity: 1; white-space: pre; opacity: 1;\" transform=\"translate(0,144.77)\">0.9</text></g><g class=\"ytick\"><text text-anchor=\"end\" x=\"79\" y=\"4.199999999999999\" style=\"font-family: 'Open Sans', verdana, arial, sans-serif; font-size: 12px; fill: rgb(42, 63, 95); fill-opacity: 1; white-space: pre; opacity: 1;\" transform=\"translate(0,115.97)\">1</text></g></g><g class=\"overaxes-above\"/></g></g><g class=\"polarlayer\"/><g class=\"smithlayer\"/><g class=\"ternarylayer\"/><g class=\"geolayer\"/><g class=\"funnelarealayer\"/><g class=\"pielayer\"/><g class=\"iciclelayer\"/><g class=\"treemaplayer\"/><g class=\"sunburstlayer\"/><g class=\"glimages\"/><defs id=\"topdefs-55ef6d\"><g class=\"clips\"/><clipPath id=\"legend55ef6d\"><rect width=\"92\" height=\"67\" x=\"0\" y=\"0\"/></clipPath></defs><g class=\"layer-above\"><g class=\"imagelayer\"/><g class=\"shapelayer\"/></g><g class=\"infolayer\"><g class=\"legend\" pointer-events=\"all\" transform=\"translate(596.12,100)\"><rect class=\"bg\" shape-rendering=\"crispEdges\" width=\"92\" height=\"67\" x=\"0\" y=\"0\" style=\"stroke: rgb(68, 68, 68); stroke-opacity: 1; fill: rgb(255, 255, 255); fill-opacity: 1; stroke-width: 0px;\"/><g class=\"scrollbox\" transform=\"\" clip-path=\"url(#legend55ef6d)\"><g class=\"groups\"><g class=\"traces\" transform=\"translate(0,14.5)\" style=\"opacity: 1;\"><text class=\"legendtext\" text-anchor=\"start\" x=\"40\" y=\"4.680000000000001\" style=\"font-family: 'Open Sans', verdana, arial, sans-serif; font-size: 12px; fill: rgb(42, 63, 95); fill-opacity: 1; white-space: pre;\">Small</text><g class=\"layers\" style=\"opacity: 1;\"><g class=\"legendfill\"/><g class=\"legendlines\"><path class=\"js-line\" d=\"M5,0h30\" style=\"fill: none; stroke: rgb(99, 110, 250); stroke-opacity: 1; stroke-width: 2px;\"/></g><g class=\"legendsymbols\"><g class=\"legendpoints\"/></g></g><rect class=\"legendtoggle\" x=\"0\" y=\"-9.5\" width=\"86.484375\" height=\"19\" style=\"fill: rgb(0, 0, 0); fill-opacity: 0;\"/></g><g class=\"traces\" transform=\"translate(0,33.5)\" style=\"opacity: 1;\"><text class=\"legendtext\" text-anchor=\"start\" x=\"40\" y=\"4.680000000000001\" style=\"font-family: 'Open Sans', verdana, arial, sans-serif; font-size: 12px; fill: rgb(42, 63, 95); fill-opacity: 1; white-space: pre;\">Medium</text><g class=\"layers\" style=\"opacity: 1;\"><g class=\"legendfill\"/><g class=\"legendlines\"><path class=\"js-line\" d=\"M5,0h30\" style=\"fill: none; stroke: rgb(239, 85, 59); stroke-opacity: 1; stroke-width: 2px;\"/></g><g class=\"legendsymbols\"><g class=\"legendpoints\"/></g></g><rect class=\"legendtoggle\" x=\"0\" y=\"-9.5\" width=\"86.484375\" height=\"19\" style=\"fill: rgb(0, 0, 0); fill-opacity: 0;\"/></g><g class=\"traces\" transform=\"translate(0,52.5)\" style=\"opacity: 1;\"><text class=\"legendtext\" text-anchor=\"start\" x=\"40\" y=\"4.680000000000001\" style=\"font-family: 'Open Sans', verdana, arial, sans-serif; font-size: 12px; fill: rgb(42, 63, 95); fill-opacity: 1; white-space: pre;\">Large</text><g class=\"layers\" style=\"opacity: 1;\"><g class=\"legendfill\"/><g class=\"legendlines\"><path class=\"js-line\" d=\"M5,0h30\" style=\"fill: none; stroke: rgb(0, 204, 150); stroke-opacity: 1; stroke-width: 2px;\"/></g><g class=\"legendsymbols\"><g class=\"legendpoints\"/></g></g><rect class=\"legendtoggle\" x=\"0\" y=\"-9.5\" width=\"86.484375\" height=\"19\" style=\"fill: rgb(0, 0, 0); fill-opacity: 0;\"/></g></g></g><rect class=\"scrollbar\" rx=\"20\" ry=\"3\" width=\"0\" height=\"0\" x=\"0\" y=\"0\" style=\"fill: rgb(128, 139, 164); fill-opacity: 1;\"/></g><g class=\"g-gtitle\"><text class=\"gtitle\" x=\"35\" y=\"50\" text-anchor=\"start\" dy=\"0em\" style=\"font-family: 'Open Sans', verdana, arial, sans-serif; font-size: 17px; fill: rgb(42, 63, 95); opacity: 1; font-weight: normal; white-space: pre;\"><tspan class=\"line\" dy=\"0em\" x=\"35\" y=\"50\">Active Window Survival for Three Tiers of Subreddits</tspan><tspan class=\"line\" dy=\"1.3em\" x=\"35\" y=\"50\">Based on Frequency on r/popular</tspan></text></g><g class=\"g-xtitle\"><text class=\"xtitle\" x=\"333\" y=\"461.8\" text-anchor=\"middle\" style=\"font-family: 'Open Sans', verdana, arial, sans-serif; font-size: 14px; fill: rgb(42, 63, 95); opacity: 1; font-weight: normal; white-space: pre;\">#weeks</text></g><g class=\"g-ytitle\"><text class=\"ytitle\" transform=\"rotate(-90,37.278125,260)\" x=\"37.278125\" y=\"260\" text-anchor=\"middle\" style=\"font-family: 'Open Sans', verdana, arial, sans-serif; font-size: 14px; fill: rgb(42, 63, 95); opacity: 1; font-weight: normal; white-space: pre;\">%survival</text></g></g></svg>"
      ]
     },
     "metadata": {},
     "output_type": "display_data"
    }
   ],
   "source": [
    "def display_tier_survival(feature, save=False):\n",
    "    \n",
    "    assert feature in ['popular_window', 'active_window']\n",
    "    \n",
    "    threads = get_popular_threads(\n",
    "        filter={feature: {'$ne': None}},\n",
    "        columns=[feature] + ['subreddit']\n",
    "    )\n",
    "    \n",
    "    labels = pd.cut(\n",
    "        list_popular_subreddits()['num_threads'], \n",
    "        bins=3, labels=['small', 'medium', 'large']\n",
    "    ).to_frame().rename(columns={'num_threads': 'label'})\n",
    "    \n",
    "    threads = threads.join(labels, on='subreddit')\n",
    "    \n",
    "    if feature == 'popular_window':\n",
    "        title = '#hours'\n",
    "        denominator = int(dt.timedelta(hours=1).total_seconds())\n",
    "        x_range = [0, 24]\n",
    "        tickvals = [i for i in range(0, 24, 6)]\n",
    "    else:\n",
    "        title = '#weeks'\n",
    "        denominator = int(dt.timedelta(days=7).total_seconds()),\n",
    "        x_range = None # autorange\n",
    "        tickvals = None # autorange\n",
    "    \n",
    "    fig = go.Figure()\n",
    "    \n",
    "    for label in ['small', 'medium', 'large']:\n",
    "        \n",
    "        label_threads = threads[threads['label'] == label]\n",
    "        \n",
    "        time, survival_probability = kme(\n",
    "            np.ones(len(label_threads)).astype(bool),\n",
    "            label_threads[feature] / denominator\n",
    "        )\n",
    "        \n",
    "        fig.add_trace(\n",
    "            go.Scatter(\n",
    "                x=time,\n",
    "                y=survival_probability,\n",
    "                name=f'{label.title()}'\n",
    "            )\n",
    "        )\n",
    "    \n",
    "    feature_title = feature.replace('_', ' ').title()\n",
    "    \n",
    "    fig.update_layout(\n",
    "        template='plotly_white',\n",
    "        title=f'{feature_title} Survival for Three Tiers of Subreddits<br>Based on Frequency on r/popular'\n",
    "    )\n",
    "    \n",
    "    fig.update_xaxes(title=title, range=x_range, tickvals=tickvals)\n",
    "    fig.update_yaxes(title='%survival', tickvals=[i / 10 for i in range(11)])\n",
    "    \n",
    "    if save:\n",
    "        fig.write_image(f'figs/subreddit_survival_tiers_{feature}.png', scale=3)\n",
    "        \n",
    "    fig.show('svg')\n",
    "\n",
    "display_tier_survival('popular_window', save=True)\n",
    "display_tier_survival('active_window', save=True)"
   ]
  },
  {
   "cell_type": "code",
   "execution_count": 702,
   "id": "98ec1c2c",
   "metadata": {
    "ExecuteTime": {
     "end_time": "2022-06-09T02:28:47.120438Z",
     "start_time": "2022-06-09T02:28:44.943982Z"
    },
    "code_folding": [],
    "scrolled": false
   },
   "outputs": [
    {
     "name": "stdout",
     "output_type": "stream",
     "text": [
      "34381\n"
     ]
    },
    {
     "data": {
      "image/svg+xml": [
       "<svg class=\"main-svg\" xmlns=\"http://www.w3.org/2000/svg\" xmlns:xlink=\"http://www.w3.org/1999/xlink\" width=\"700\" height=\"500\" style=\"\" viewBox=\"0 0 700 500\"><rect x=\"0\" y=\"0\" width=\"700\" height=\"500\" style=\"fill: rgb(255, 255, 255); fill-opacity: 1;\"/><defs id=\"defs-797b2c\"><g class=\"clips\"><clipPath id=\"clip797b2cxyplot\" class=\"plotclip\"><rect width=\"540\" height=\"320\"/></clipPath><clipPath class=\"axesclip\" id=\"clip797b2cx\"><rect x=\"80\" y=\"0\" width=\"540\" height=\"500\"/></clipPath><clipPath class=\"axesclip\" id=\"clip797b2cy\"><rect x=\"0\" y=\"100\" width=\"700\" height=\"320\"/></clipPath><clipPath class=\"axesclip\" id=\"clip797b2cxy\"><rect x=\"80\" y=\"100\" width=\"540\" height=\"320\"/></clipPath></g><g class=\"gradients\"/><g class=\"patterns\"/></defs><g class=\"bglayer\"/><g class=\"layer-below\"><g class=\"imagelayer\"/><g class=\"shapelayer\"/></g><g class=\"cartesianlayer\"><g class=\"subplot xy\"><g class=\"layer-subplot\"><g class=\"shapelayer\"/><g class=\"imagelayer\"/></g><g class=\"gridlayer\"><g class=\"x\"><path class=\"xgrid crisp\" transform=\"translate(215,0)\" d=\"M0,100v320\" style=\"stroke: rgb(235, 240, 248); stroke-opacity: 1; stroke-width: 1px;\"/><path class=\"xgrid crisp\" transform=\"translate(350,0)\" d=\"M0,100v320\" style=\"stroke: rgb(235, 240, 248); stroke-opacity: 1; stroke-width: 1px;\"/><path class=\"xgrid crisp\" transform=\"translate(485,0)\" d=\"M0,100v320\" style=\"stroke: rgb(235, 240, 248); stroke-opacity: 1; stroke-width: 1px;\"/></g><g class=\"y\"><path class=\"ygrid crisp\" transform=\"translate(0,375)\" d=\"M80,0h540\" style=\"stroke: rgb(235, 240, 248); stroke-opacity: 1; stroke-width: 1px;\"/><path class=\"ygrid crisp\" transform=\"translate(0,345.99)\" d=\"M80,0h540\" style=\"stroke: rgb(235, 240, 248); stroke-opacity: 1; stroke-width: 1px;\"/><path class=\"ygrid crisp\" transform=\"translate(0,316.99)\" d=\"M80,0h540\" style=\"stroke: rgb(235, 240, 248); stroke-opacity: 1; stroke-width: 1px;\"/><path class=\"ygrid crisp\" transform=\"translate(0,287.98)\" d=\"M80,0h540\" style=\"stroke: rgb(235, 240, 248); stroke-opacity: 1; stroke-width: 1px;\"/><path class=\"ygrid crisp\" transform=\"translate(0,258.98)\" d=\"M80,0h540\" style=\"stroke: rgb(235, 240, 248); stroke-opacity: 1; stroke-width: 1px;\"/><path class=\"ygrid crisp\" transform=\"translate(0,229.98)\" d=\"M80,0h540\" style=\"stroke: rgb(235, 240, 248); stroke-opacity: 1; stroke-width: 1px;\"/><path class=\"ygrid crisp\" transform=\"translate(0,200.97)\" d=\"M80,0h540\" style=\"stroke: rgb(235, 240, 248); stroke-opacity: 1; stroke-width: 1px;\"/><path class=\"ygrid crisp\" transform=\"translate(0,171.97)\" d=\"M80,0h540\" style=\"stroke: rgb(235, 240, 248); stroke-opacity: 1; stroke-width: 1px;\"/><path class=\"ygrid crisp\" transform=\"translate(0,142.96)\" d=\"M80,0h540\" style=\"stroke: rgb(235, 240, 248); stroke-opacity: 1; stroke-width: 1px;\"/><path class=\"ygrid crisp\" transform=\"translate(0,113.96000000000001)\" d=\"M80,0h540\" style=\"stroke: rgb(235, 240, 248); stroke-opacity: 1; stroke-width: 1px;\"/></g></g><g class=\"zerolinelayer\"><path class=\"xzl zl crisp\" transform=\"translate(80,0)\" d=\"M0,100v320\" style=\"stroke: rgb(235, 240, 248); stroke-opacity: 1; stroke-width: 2px;\"/><path class=\"yzl zl crisp\" transform=\"translate(0,404)\" d=\"M80,0h540\" style=\"stroke: rgb(235, 240, 248); stroke-opacity: 1; stroke-width: 2px;\"/></g><path class=\"xlines-below\"/><path class=\"ylines-below\"/><g class=\"overlines-below\"/><g class=\"xaxislayer-below\"/><g class=\"yaxislayer-below\"/><g class=\"overaxes-below\"/><g class=\"plot\" transform=\"translate(80,100)\" clip-path=\"url(#clip797b2cxyplot)\"/><g class=\"overplot\"/><path class=\"xlines-above crisp\" d=\"M0,0\" style=\"fill: none;\"/><path class=\"ylines-above crisp\" d=\"M0,0\" style=\"fill: none;\"/><g class=\"overlines-above\"/><g class=\"xaxislayer-above\"><g class=\"xtick\"><text text-anchor=\"middle\" x=\"0\" y=\"433\" transform=\"translate(80,0)\" style=\"font-family: 'Open Sans', verdana, arial, sans-serif; font-size: 12px; fill: rgb(42, 63, 95); fill-opacity: 1; white-space: pre; opacity: 1;\">0</text></g><g class=\"xtick\"><text text-anchor=\"middle\" x=\"0\" y=\"433\" style=\"font-family: 'Open Sans', verdana, arial, sans-serif; font-size: 12px; fill: rgb(42, 63, 95); fill-opacity: 1; white-space: pre; opacity: 1;\" transform=\"translate(215,0)\">6</text></g><g class=\"xtick\"><text text-anchor=\"middle\" x=\"0\" y=\"433\" style=\"font-family: 'Open Sans', verdana, arial, sans-serif; font-size: 12px; fill: rgb(42, 63, 95); fill-opacity: 1; white-space: pre; opacity: 1;\" transform=\"translate(350,0)\">12</text></g><g class=\"xtick\"><text text-anchor=\"middle\" x=\"0\" y=\"433\" style=\"font-family: 'Open Sans', verdana, arial, sans-serif; font-size: 12px; fill: rgb(42, 63, 95); fill-opacity: 1; white-space: pre; opacity: 1;\" transform=\"translate(485,0)\">18</text></g></g><g class=\"yaxislayer-above\"><g class=\"ytick\"><text text-anchor=\"end\" x=\"79\" y=\"4.199999999999999\" transform=\"translate(0,404)\" style=\"font-family: 'Open Sans', verdana, arial, sans-serif; font-size: 12px; fill: rgb(42, 63, 95); fill-opacity: 1; white-space: pre; opacity: 1;\">0</text></g><g class=\"ytick\"><text text-anchor=\"end\" x=\"79\" y=\"4.199999999999999\" style=\"font-family: 'Open Sans', verdana, arial, sans-serif; font-size: 12px; fill: rgb(42, 63, 95); fill-opacity: 1; white-space: pre; opacity: 1;\" transform=\"translate(0,375)\">0.1</text></g><g class=\"ytick\"><text text-anchor=\"end\" x=\"79\" y=\"4.199999999999999\" style=\"font-family: 'Open Sans', verdana, arial, sans-serif; font-size: 12px; fill: rgb(42, 63, 95); fill-opacity: 1; white-space: pre; opacity: 1;\" transform=\"translate(0,345.99)\">0.2</text></g><g class=\"ytick\"><text text-anchor=\"end\" x=\"79\" y=\"4.199999999999999\" style=\"font-family: 'Open Sans', verdana, arial, sans-serif; font-size: 12px; fill: rgb(42, 63, 95); fill-opacity: 1; white-space: pre; opacity: 1;\" transform=\"translate(0,316.99)\">0.3</text></g><g class=\"ytick\"><text text-anchor=\"end\" x=\"79\" y=\"4.199999999999999\" style=\"font-family: 'Open Sans', verdana, arial, sans-serif; font-size: 12px; fill: rgb(42, 63, 95); fill-opacity: 1; white-space: pre; opacity: 1;\" transform=\"translate(0,287.98)\">0.4</text></g><g class=\"ytick\"><text text-anchor=\"end\" x=\"79\" y=\"4.199999999999999\" style=\"font-family: 'Open Sans', verdana, arial, sans-serif; font-size: 12px; fill: rgb(42, 63, 95); fill-opacity: 1; white-space: pre; opacity: 1;\" transform=\"translate(0,258.98)\">0.5</text></g><g class=\"ytick\"><text text-anchor=\"end\" x=\"79\" y=\"4.199999999999999\" style=\"font-family: 'Open Sans', verdana, arial, sans-serif; font-size: 12px; fill: rgb(42, 63, 95); fill-opacity: 1; white-space: pre; opacity: 1;\" transform=\"translate(0,229.98)\">0.6</text></g><g class=\"ytick\"><text text-anchor=\"end\" x=\"79\" y=\"4.199999999999999\" style=\"font-family: 'Open Sans', verdana, arial, sans-serif; font-size: 12px; fill: rgb(42, 63, 95); fill-opacity: 1; white-space: pre; opacity: 1;\" transform=\"translate(0,200.97)\">0.7</text></g><g class=\"ytick\"><text text-anchor=\"end\" x=\"79\" y=\"4.199999999999999\" style=\"font-family: 'Open Sans', verdana, arial, sans-serif; font-size: 12px; fill: rgb(42, 63, 95); fill-opacity: 1; white-space: pre; opacity: 1;\" transform=\"translate(0,171.97)\">0.8</text></g><g class=\"ytick\"><text text-anchor=\"end\" x=\"79\" y=\"4.199999999999999\" style=\"font-family: 'Open Sans', verdana, arial, sans-serif; font-size: 12px; fill: rgb(42, 63, 95); fill-opacity: 1; white-space: pre; opacity: 1;\" transform=\"translate(0,142.96)\">0.9</text></g><g class=\"ytick\"><text text-anchor=\"end\" x=\"79\" y=\"4.199999999999999\" style=\"font-family: 'Open Sans', verdana, arial, sans-serif; font-size: 12px; fill: rgb(42, 63, 95); fill-opacity: 1; white-space: pre; opacity: 1;\" transform=\"translate(0,113.96000000000001)\">1</text></g></g><g class=\"overaxes-above\"/></g></g><g class=\"polarlayer\"/><g class=\"smithlayer\"/><g class=\"ternarylayer\"/><g class=\"geolayer\"/><g class=\"funnelarealayer\"/><g class=\"pielayer\"/><g class=\"iciclelayer\"/><g class=\"treemaplayer\"/><g class=\"sunburstlayer\"/><g class=\"glimages\"><image xmlns=\"http://www.w3.org/2000/svg\" xlink:href=\"data:image/png;base64,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\" preserveAspectRatio=\"none\" x=\"0\" y=\"0\" width=\"700px\" height=\"500px\"/><image xmlns=\"http://www.w3.org/2000/svg\" xlink:href=\"data:image/png;base64,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\" preserveAspectRatio=\"none\" x=\"0\" y=\"0\" width=\"700px\" height=\"500px\"/></g><defs id=\"topdefs-797b2c\"><g class=\"clips\"/></defs><g class=\"layer-above\"><g class=\"imagelayer\"/><g class=\"shapelayer\"/></g><g class=\"infolayer\"><g class=\"g-gtitle\"><text class=\"gtitle\" x=\"35\" y=\"50\" text-anchor=\"start\" dy=\"0em\" style=\"font-family: 'Open Sans', verdana, arial, sans-serif; font-size: 17px; fill: rgb(42, 63, 95); opacity: 1; font-weight: normal; white-space: pre;\">Popular Window Survival for All r/popular Threads</text></g><g class=\"g-xtitle\"><text class=\"xtitle\" x=\"350\" y=\"461.8\" text-anchor=\"middle\" style=\"font-family: 'Open Sans', verdana, arial, sans-serif; font-size: 14px; fill: rgb(42, 63, 95); opacity: 1; font-weight: normal; white-space: pre;\">#hours</text></g><g class=\"g-ytitle\"><text class=\"ytitle\" transform=\"rotate(-90,37.278125,260)\" x=\"37.278125\" y=\"260\" text-anchor=\"middle\" style=\"font-family: 'Open Sans', verdana, arial, sans-serif; font-size: 14px; fill: rgb(42, 63, 95); opacity: 1; font-weight: normal; white-space: pre;\">%survival</text></g></g></svg>"
      ]
     },
     "metadata": {},
     "output_type": "display_data"
    }
   ],
   "source": [
    "def display_all_survival(feature, save=False):\n",
    "    \n",
    "    threads = get_popular_threads(\n",
    "        filter={feature: {'$ne': None}},\n",
    "        columns=[feature]\n",
    "    )\n",
    "    \n",
    "    print(len(threads))\n",
    "    \n",
    "    if feature == 'popular_window':\n",
    "        title = '#hours'\n",
    "        denominator = int(dt.timedelta(hours=1).total_seconds())\n",
    "        x_range = [0, 24]\n",
    "        tickvals = [i for i in range(0, 24, 6)]\n",
    "    else:\n",
    "        title = '#weeks'\n",
    "        denominator = int(dt.timedelta(days=7).total_seconds()),\n",
    "        x_range = None # autorange\n",
    "        tickvals = None # autorange\n",
    "        \n",
    "    time, survival_probability = kme(\n",
    "        np.ones(len(threads)).astype(bool),\n",
    "        threads[feature] / denominator\n",
    "    )\n",
    "    \n",
    "    feature_title = feature.replace('_', ' ').title()\n",
    "    \n",
    "    fig = px.line(x=time, y=survival_probability, \n",
    "                  title=f'{feature_title} Survival for All r/popular Threads')\n",
    "    \n",
    "    fig.update_layout(\n",
    "        template='plotly_white',\n",
    "        showlegend=False\n",
    "    )\n",
    "    \n",
    "    fig.update_xaxes(title=title, range=x_range, tickvals=tickvals)\n",
    "    fig.update_yaxes(title='%survival', tickvals=[i / 10 for i in range(11)])\n",
    "    \n",
    "#     halfway_indice = np.where(survival_probability > 0.5)[0][-1]\n",
    "    \n",
    "#     fig.add_shape(\n",
    "#         type='line',\n",
    "#         x0=time[halfway_indice], \n",
    "#         x1=time[halfway_indice],\n",
    "#         y0=0, y1=1\n",
    "#     )\n",
    "    \n",
    "#     fig.add_annotation(\n",
    "#         x=time[halfway_indice], y=1.05,\n",
    "#         showarrow=False,\n",
    "#         text=f'{time[halfway_indice]:.2f}'\n",
    "#     )\n",
    "    \n",
    "#     ninety_indice = np.where(survival_probability > 0.1)[0][-1]\n",
    "    \n",
    "#     fig.add_shape(\n",
    "#         type='line',\n",
    "#         x0=time[ninety_indice], \n",
    "#         x1=time[ninety_indice],\n",
    "#         y0=0, y1=1\n",
    "#     )\n",
    "    \n",
    "#     fig.add_annotation(\n",
    "#         x=time[ninety_indice], y=1.05,\n",
    "#         showarrow=False,\n",
    "#         text=f'{time[ninety_indice]:.2f}'\n",
    "#     )\n",
    "    \n",
    "    if save:\n",
    "        fig.write_image(f'figs/all_survival_{feature}.png', scale=3)\n",
    "    \n",
    "    fig.show('svg')\n",
    "\n",
    "display_all_survival('popular_window', save=False)\n",
    "# display_all_survival('active_window', save=False)"
   ]
  },
  {
   "cell_type": "code",
   "execution_count": 686,
   "id": "e5529641",
   "metadata": {
    "ExecuteTime": {
     "end_time": "2022-06-09T01:59:59.622024Z",
     "start_time": "2022-06-09T01:59:59.484078Z"
    }
   },
   "outputs": [
    {
     "data": {
      "text/html": [
       "<div>\n",
       "<style scoped>\n",
       "    .dataframe tbody tr th:only-of-type {\n",
       "        vertical-align: middle;\n",
       "    }\n",
       "\n",
       "    .dataframe tbody tr th {\n",
       "        vertical-align: top;\n",
       "    }\n",
       "\n",
       "    .dataframe thead th {\n",
       "        text-align: right;\n",
       "    }\n",
       "</style>\n",
       "<table border=\"1\" class=\"dataframe\">\n",
       "  <thead>\n",
       "    <tr style=\"text-align: right;\">\n",
       "      <th></th>\n",
       "      <th>subreddit</th>\n",
       "      <th>active_window</th>\n",
       "      <th>popular_window</th>\n",
       "      <th>num_comments</th>\n",
       "      <th>is_self</th>\n",
       "    </tr>\n",
       "    <tr>\n",
       "      <th>id</th>\n",
       "      <th></th>\n",
       "      <th></th>\n",
       "      <th></th>\n",
       "      <th></th>\n",
       "      <th></th>\n",
       "    </tr>\n",
       "  </thead>\n",
       "  <tbody>\n",
       "    <tr>\n",
       "      <th>tkwdrr</th>\n",
       "      <td>antiwork</td>\n",
       "      <td>3641622.0</td>\n",
       "      <td>11484</td>\n",
       "      <td>1023.0</td>\n",
       "      <td>False</td>\n",
       "    </tr>\n",
       "    <tr>\n",
       "      <th>tkv6er</th>\n",
       "      <td>AbsoluteUnits</td>\n",
       "      <td>2154054.0</td>\n",
       "      <td>37270</td>\n",
       "      <td>1019.0</td>\n",
       "      <td>False</td>\n",
       "    </tr>\n",
       "    <tr>\n",
       "      <th>tktn2q</th>\n",
       "      <td>books</td>\n",
       "      <td>4023190.0</td>\n",
       "      <td>15031</td>\n",
       "      <td>1344.0</td>\n",
       "      <td>True</td>\n",
       "    </tr>\n",
       "    <tr>\n",
       "      <th>tktx7r</th>\n",
       "      <td>WhitePeopleTwitter</td>\n",
       "      <td>1884868.0</td>\n",
       "      <td>10874</td>\n",
       "      <td>470.0</td>\n",
       "      <td>False</td>\n",
       "    </tr>\n",
       "    <tr>\n",
       "      <th>tl5hed</th>\n",
       "      <td>cats</td>\n",
       "      <td>706208.0</td>\n",
       "      <td>16985</td>\n",
       "      <td>331.0</td>\n",
       "      <td>False</td>\n",
       "    </tr>\n",
       "    <tr>\n",
       "      <th>...</th>\n",
       "      <td>...</td>\n",
       "      <td>...</td>\n",
       "      <td>...</td>\n",
       "      <td>...</td>\n",
       "      <td>...</td>\n",
       "    </tr>\n",
       "    <tr>\n",
       "      <th>v6vf9h</th>\n",
       "      <td>todayilearned</td>\n",
       "      <td>17931.0</td>\n",
       "      <td>45031</td>\n",
       "      <td>130.0</td>\n",
       "      <td>False</td>\n",
       "    </tr>\n",
       "    <tr>\n",
       "      <th>v6wrzs</th>\n",
       "      <td>rarepuppers</td>\n",
       "      <td>14410.0</td>\n",
       "      <td>13073</td>\n",
       "      <td>31.0</td>\n",
       "      <td>False</td>\n",
       "    </tr>\n",
       "    <tr>\n",
       "      <th>v6ygln</th>\n",
       "      <td>gaming</td>\n",
       "      <td>11344.0</td>\n",
       "      <td>60809</td>\n",
       "      <td>551.0</td>\n",
       "      <td>False</td>\n",
       "    </tr>\n",
       "    <tr>\n",
       "      <th>v6yoei</th>\n",
       "      <td>WhitePeopleTwitter</td>\n",
       "      <td>5269.0</td>\n",
       "      <td>30836</td>\n",
       "      <td>56.0</td>\n",
       "      <td>False</td>\n",
       "    </tr>\n",
       "    <tr>\n",
       "      <th>v71aqp</th>\n",
       "      <td>formula1</td>\n",
       "      <td>5550.0</td>\n",
       "      <td>60575</td>\n",
       "      <td>373.0</td>\n",
       "      <td>False</td>\n",
       "    </tr>\n",
       "  </tbody>\n",
       "</table>\n",
       "<p>6057 rows × 5 columns</p>\n",
       "</div>"
      ],
      "text/plain": [
       "                 subreddit  active_window  popular_window  num_comments  \\\n",
       "id                                                                        \n",
       "tkwdrr            antiwork      3641622.0           11484        1023.0   \n",
       "tkv6er       AbsoluteUnits      2154054.0           37270        1019.0   \n",
       "tktn2q               books      4023190.0           15031        1344.0   \n",
       "tktx7r  WhitePeopleTwitter      1884868.0           10874         470.0   \n",
       "tl5hed                cats       706208.0           16985         331.0   \n",
       "...                    ...            ...             ...           ...   \n",
       "v6vf9h       todayilearned        17931.0           45031         130.0   \n",
       "v6wrzs         rarepuppers        14410.0           13073          31.0   \n",
       "v6ygln              gaming        11344.0           60809         551.0   \n",
       "v6yoei  WhitePeopleTwitter         5269.0           30836          56.0   \n",
       "v71aqp            formula1         5550.0           60575         373.0   \n",
       "\n",
       "        is_self  \n",
       "id               \n",
       "tkwdrr    False  \n",
       "tkv6er    False  \n",
       "tktn2q     True  \n",
       "tktx7r    False  \n",
       "tl5hed    False  \n",
       "...         ...  \n",
       "v6vf9h    False  \n",
       "v6wrzs    False  \n",
       "v6ygln    False  \n",
       "v6yoei    False  \n",
       "v71aqp    False  \n",
       "\n",
       "[6057 rows x 5 columns]"
      ]
     },
     "execution_count": 686,
     "metadata": {},
     "output_type": "execute_result"
    }
   ],
   "source": [
    "def newcomer_cox():\n",
    "    \n",
    "    threads = get_popular_threads(\n",
    "        filter={'newcomer_utc': {'$ne': None}},\n",
    "        columns=[\n",
    "            'subreddit', \n",
    "            'active_window', \n",
    "            'popular_window',\n",
    "            'num_comments',\n",
    "            'is_self'\n",
    "        ]\n",
    "    )\n",
    "    \n",
    "    return threads\n",
    "\n",
    "newcomer_cox()"
   ]
  }
 ],
 "metadata": {
  "kernelspec": {
   "display_name": "Python 3",
   "language": "python",
   "name": "python3"
  },
  "language_info": {
   "codemirror_mode": {
    "name": "ipython",
    "version": 3
   },
   "file_extension": ".py",
   "mimetype": "text/x-python",
   "name": "python",
   "nbconvert_exporter": "python",
   "pygments_lexer": "ipython3",
   "version": "3.6.8"
  }
 },
 "nbformat": 4,
 "nbformat_minor": 5
}
