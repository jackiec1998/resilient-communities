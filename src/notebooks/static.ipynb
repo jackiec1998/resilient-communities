{
 "cells": [
  {
   "cell_type": "code",
   "execution_count": 262,
   "id": "b2b4d014",
   "metadata": {
    "ExecuteTime": {
     "end_time": "2022-06-07T22:17:14.713131Z",
     "start_time": "2022-06-07T22:17:14.685677Z"
    }
   },
   "outputs": [],
   "source": [
    "import praw\n",
    "import os\n",
    "import glob\n",
    "import time\n",
    "from tqdm import tqdm\n",
    "from dotenv import load_dotenv\n",
    "from pymongo import MongoClient\n",
    "import datetime as dt\n",
    "import numpy as np\n",
    "import pandas as pd\n",
    "%config Completer.use_jedi = False\n",
    "\n",
    "os.chdir('/shared/jackie/resilient-communities')\n",
    "\n",
    "load_dotenv()\n",
    "\n",
    "reddit = praw.Reddit(\n",
    "    client_id=os.environ.get('REDDIT_CLIENT_ID_2'),\n",
    "    client_secret=os.environ.get('REDDIT_CLIENT_SECRET_2'),\n",
    "    user_agent=os.environ.get('REDDIT_USER_AGENT_2'),\n",
    "    username=os.environ.get('REDDIT_USERNAME_2'),\n",
    "    password=os.environ.get('REDDIT_PASSWORD_2')\n",
    ")\n",
    "\n",
    "client = MongoClient('localhost', 27017)\n",
    "all_comments = client.resilient.all\n",
    "popular_threads = client.resilient.popular_threads\n",
    "pushshift_comments = client.pushshift_comments\n",
    "pushshift_threads = client.pushshift_comments"
   ]
  },
  {
   "cell_type": "markdown",
   "id": "cd70216c",
   "metadata": {},
   "source": [
    "# Get the total number of comments from PRAW stream.\n",
    "\n",
    "We stream all comments into a single MongoDB collection."
   ]
  },
  {
   "cell_type": "code",
   "execution_count": 287,
   "id": "c6f36bcd",
   "metadata": {
    "ExecuteTime": {
     "end_time": "2022-06-08T21:21:49.246753Z",
     "start_time": "2022-06-08T21:21:49.238575Z"
    }
   },
   "outputs": [
    {
     "data": {
      "text/html": [
       "<style  type=\"text/css\" >\n",
       "</style><table id=\"T_01fedace_e771_11ec_8828_70b5e8d10544\" ><thead>    <tr>        <th class=\"blank level0\" ></th>        <th class=\"col_heading level0 col0\" >N</th>    </tr></thead><tbody>\n",
       "                <tr>\n",
       "                        <th id=\"T_01fedace_e771_11ec_8828_70b5e8d10544level0_row0\" class=\"row_heading level0 row0\" >Comments</th>\n",
       "                        <td id=\"T_01fedace_e771_11ec_8828_70b5e8d10544row0_col0\" class=\"data row0 col0\" >525,300,000</td>\n",
       "            </tr>\n",
       "    </tbody></table>"
      ],
      "text/plain": [
       "<pandas.io.formats.style.Styler at 0x7f8a67e01780>"
      ]
     },
     "execution_count": 287,
     "metadata": {},
     "output_type": "execute_result"
    }
   ],
   "source": [
    "pd.DataFrame.from_dict({\n",
    "    'Comments': all_comments.estimated_document_count()\n",
    "}, orient='index').rename(columns={0: 'N'}).style.format('{:,}')"
   ]
  },
  {
   "cell_type": "markdown",
   "id": "12cced12",
   "metadata": {},
   "source": [
    "# Get r/popular threads stored in the collection.\n",
    "\n",
    "Each r/popular thread and it's respective features are stored statically in a MongoDB collection. There are other collections (e.g., a collection for all Reddit comments and a collection for r/popular snapshots), but calculations should be ran on the r/popular collection. We derive features from those other collections in scripts. The scripts include: `store-popular-threads.py`, `generate-praw-features.py`, and `requery-comments.py`."
   ]
  },
  {
   "cell_type": "code",
   "execution_count": 291,
   "id": "ca65acbc",
   "metadata": {
    "ExecuteTime": {
     "end_time": "2022-06-08T21:25:22.325170Z",
     "start_time": "2022-06-08T21:25:21.920536Z"
    }
   },
   "outputs": [
    {
     "data": {
      "text/html": [
       "<div>\n",
       "<style scoped>\n",
       "    .dataframe tbody tr th:only-of-type {\n",
       "        vertical-align: middle;\n",
       "    }\n",
       "\n",
       "    .dataframe tbody tr th {\n",
       "        vertical-align: top;\n",
       "    }\n",
       "\n",
       "    .dataframe thead th {\n",
       "        text-align: right;\n",
       "    }\n",
       "</style>\n",
       "<table border=\"1\" class=\"dataframe\">\n",
       "  <thead>\n",
       "    <tr style=\"text-align: right;\">\n",
       "      <th></th>\n",
       "      <th>author</th>\n",
       "      <th>title</th>\n",
       "      <th>subreddit</th>\n",
       "      <th>created_utc</th>\n",
       "    </tr>\n",
       "    <tr>\n",
       "      <th>id</th>\n",
       "      <th></th>\n",
       "      <th></th>\n",
       "      <th></th>\n",
       "      <th></th>\n",
       "    </tr>\n",
       "  </thead>\n",
       "  <tbody>\n",
       "    <tr>\n",
       "      <th>tkwdrr</th>\n",
       "      <td>No-Gap240</td>\n",
       "      <td>Thanks a latte!</td>\n",
       "      <td>antiwork</td>\n",
       "      <td>1.648049e+09</td>\n",
       "    </tr>\n",
       "    <tr>\n",
       "      <th>tkl164</th>\n",
       "      <td>BrokenShutters</td>\n",
       "      <td>A truly awful aged like milk</td>\n",
       "      <td>agedlikemilk</td>\n",
       "      <td>1.648007e+09</td>\n",
       "    </tr>\n",
       "    <tr>\n",
       "      <th>tl0bmh</th>\n",
       "      <td>BolaSquirrel</td>\n",
       "      <td>PSA to invaders</td>\n",
       "      <td>Eldenring</td>\n",
       "      <td>1.648054e+09</td>\n",
       "    </tr>\n",
       "    <tr>\n",
       "      <th>tl4kfi</th>\n",
       "      <td>Ok_Inevitable_9461</td>\n",
       "      <td>...and they call the left snowflakes</td>\n",
       "      <td>PoliticalHumor</td>\n",
       "      <td>1.648059e+09</td>\n",
       "    </tr>\n",
       "    <tr>\n",
       "      <th>tkv6er</th>\n",
       "      <td>Father-TedCrilly</td>\n",
       "      <td>Worlds fattest man around the 1900’s.</td>\n",
       "      <td>AbsoluteUnits</td>\n",
       "      <td>1.648046e+09</td>\n",
       "    </tr>\n",
       "    <tr>\n",
       "      <th>...</th>\n",
       "      <td>...</td>\n",
       "      <td>...</td>\n",
       "      <td>...</td>\n",
       "      <td>...</td>\n",
       "    </tr>\n",
       "    <tr>\n",
       "      <th>v7vbxz</th>\n",
       "      <td>MrMoonchild_</td>\n",
       "      <td>Not everyone is a sport illustrator swimsuit m...</td>\n",
       "      <td>JoeRogan</td>\n",
       "      <td>1.654710e+09</td>\n",
       "    </tr>\n",
       "    <tr>\n",
       "      <th>v7vc22</th>\n",
       "      <td>beerbellybegone</td>\n",
       "      <td>Don't disrespect Grandma</td>\n",
       "      <td>quityourbullshit</td>\n",
       "      <td>1.654710e+09</td>\n",
       "    </tr>\n",
       "    <tr>\n",
       "      <th>v7vdbm</th>\n",
       "      <td>beerbellybegone</td>\n",
       "      <td>Preacher speaking God's word</td>\n",
       "      <td>MurderedByWords</td>\n",
       "      <td>1.654710e+09</td>\n",
       "    </tr>\n",
       "    <tr>\n",
       "      <th>v7wym2</th>\n",
       "      <td>SnooCupcakes8607</td>\n",
       "      <td>You bullied the wrong student my guy</td>\n",
       "      <td>instant_regret</td>\n",
       "      <td>1.654714e+09</td>\n",
       "    </tr>\n",
       "    <tr>\n",
       "      <th>v7x39u</th>\n",
       "      <td>JediWithAnM4</td>\n",
       "      <td>Man stops to rescue kitten, gets ambushed by p...</td>\n",
       "      <td>aww</td>\n",
       "      <td>1.654715e+09</td>\n",
       "    </tr>\n",
       "  </tbody>\n",
       "</table>\n",
       "<p>34381 rows × 4 columns</p>\n",
       "</div>"
      ],
      "text/plain": [
       "                    author                                              title  \\\n",
       "id                                                                              \n",
       "tkwdrr           No-Gap240                                    Thanks a latte!   \n",
       "tkl164      BrokenShutters                       A truly awful aged like milk   \n",
       "tl0bmh        BolaSquirrel                                    PSA to invaders   \n",
       "tl4kfi  Ok_Inevitable_9461               ...and they call the left snowflakes   \n",
       "tkv6er    Father-TedCrilly              Worlds fattest man around the 1900’s.   \n",
       "...                    ...                                                ...   \n",
       "v7vbxz        MrMoonchild_  Not everyone is a sport illustrator swimsuit m...   \n",
       "v7vc22     beerbellybegone                           Don't disrespect Grandma   \n",
       "v7vdbm     beerbellybegone                       Preacher speaking God's word   \n",
       "v7wym2    SnooCupcakes8607               You bullied the wrong student my guy   \n",
       "v7x39u        JediWithAnM4  Man stops to rescue kitten, gets ambushed by p...   \n",
       "\n",
       "               subreddit   created_utc  \n",
       "id                                      \n",
       "tkwdrr          antiwork  1.648049e+09  \n",
       "tkl164      agedlikemilk  1.648007e+09  \n",
       "tl0bmh         Eldenring  1.648054e+09  \n",
       "tl4kfi    PoliticalHumor  1.648059e+09  \n",
       "tkv6er     AbsoluteUnits  1.648046e+09  \n",
       "...                  ...           ...  \n",
       "v7vbxz          JoeRogan  1.654710e+09  \n",
       "v7vc22  quityourbullshit  1.654710e+09  \n",
       "v7vdbm   MurderedByWords  1.654710e+09  \n",
       "v7wym2    instant_regret  1.654714e+09  \n",
       "v7x39u               aww  1.654715e+09  \n",
       "\n",
       "[34381 rows x 4 columns]"
      ]
     },
     "execution_count": 291,
     "metadata": {},
     "output_type": "execute_result"
    }
   ],
   "source": [
    "def get_popular_threads(filter={}, columns=[], n=None):\n",
    "    \n",
    "    # Adding index to the query projection.\n",
    "    fields = {field: 1 for field in ['id'] + columns}\n",
    "    \n",
    "    cursor = popular_threads.find(filter, fields)\n",
    "    \n",
    "    if n is not None:\n",
    "        cursor = cursor.limit(n)\n",
    "    \n",
    "    df = pd.DataFrame(cursor)\n",
    "    \n",
    "    if len(df) == 0:\n",
    "        return df\n",
    "    \n",
    "    return df.set_index('id') \\\n",
    "        .drop(columns=['_id'])[columns]\n",
    "\n",
    "get_popular_threads(\n",
    "    columns=['author', 'title', 'subreddit', 'created_utc']\n",
    ")"
   ]
  },
  {
   "cell_type": "markdown",
   "id": "2610ca56",
   "metadata": {},
   "source": [
    "# What's the feature coverage look like?\n",
    "\n",
    "Answers: how many r/popular threads have basic, comment, removed, and newcomer features?"
   ]
  },
  {
   "cell_type": "code",
   "execution_count": 292,
   "id": "f2109a09",
   "metadata": {
    "ExecuteTime": {
     "end_time": "2022-06-08T21:25:28.678369Z",
     "start_time": "2022-06-08T21:25:26.198352Z"
    }
   },
   "outputs": [
    {
     "data": {
      "text/html": [
       "<style  type=\"text/css\" >\n",
       "</style><table id=\"T_84c954f2_e771_11ec_8828_70b5e8d10544\" ><thead>    <tr>        <th class=\"blank level0\" ></th>        <th class=\"col_heading level0 col0\" >N</th>        <th class=\"col_heading level0 col1\" >Percentage</th>    </tr></thead><tbody>\n",
       "                <tr>\n",
       "                        <th id=\"T_84c954f2_e771_11ec_8828_70b5e8d10544level0_row0\" class=\"row_heading level0 row0\" >Total</th>\n",
       "                        <td id=\"T_84c954f2_e771_11ec_8828_70b5e8d10544row0_col0\" class=\"data row0 col0\" >34,381</td>\n",
       "                        <td id=\"T_84c954f2_e771_11ec_8828_70b5e8d10544row0_col1\" class=\"data row0 col1\" >1.00</td>\n",
       "            </tr>\n",
       "            <tr>\n",
       "                        <th id=\"T_84c954f2_e771_11ec_8828_70b5e8d10544level0_row1\" class=\"row_heading level0 row1\" >Comment</th>\n",
       "                        <td id=\"T_84c954f2_e771_11ec_8828_70b5e8d10544row1_col0\" class=\"data row1 col0\" >33,883</td>\n",
       "                        <td id=\"T_84c954f2_e771_11ec_8828_70b5e8d10544row1_col1\" class=\"data row1 col1\" >0.99</td>\n",
       "            </tr>\n",
       "            <tr>\n",
       "                        <th id=\"T_84c954f2_e771_11ec_8828_70b5e8d10544level0_row2\" class=\"row_heading level0 row2\" >Removed</th>\n",
       "                        <td id=\"T_84c954f2_e771_11ec_8828_70b5e8d10544row2_col0\" class=\"data row2 col0\" >14,541</td>\n",
       "                        <td id=\"T_84c954f2_e771_11ec_8828_70b5e8d10544row2_col1\" class=\"data row2 col1\" >0.42</td>\n",
       "            </tr>\n",
       "            <tr>\n",
       "                        <th id=\"T_84c954f2_e771_11ec_8828_70b5e8d10544level0_row3\" class=\"row_heading level0 row3\" >Newcomer</th>\n",
       "                        <td id=\"T_84c954f2_e771_11ec_8828_70b5e8d10544row3_col0\" class=\"data row3 col0\" >6,057</td>\n",
       "                        <td id=\"T_84c954f2_e771_11ec_8828_70b5e8d10544row3_col1\" class=\"data row3 col1\" >0.18</td>\n",
       "            </tr>\n",
       "    </tbody></table>"
      ],
      "text/plain": [
       "<pandas.io.formats.style.Styler at 0x7f8a4ce4eb00>"
      ]
     },
     "execution_count": 292,
     "metadata": {},
     "output_type": "execute_result"
    }
   ],
   "source": [
    "def display_popular_thread_coverage():\n",
    "    \n",
    "    total_threads = popular_threads.estimated_document_count()\n",
    "    comment_coverage = len(get_popular_threads(filter={'praw_utc': {'$ne': None}}))\n",
    "    removed_coverage = len(get_popular_threads(filter={'requery_utc': {'$ne': None}}))\n",
    "    newcomer_coverage = len(get_popular_threads(filter={'newcomer_utc': {'$ne': None}}))\n",
    "    \n",
    "    return pd.DataFrame.from_dict({\n",
    "        'Total': {'N': total_threads, 'Percentage': total_threads / total_threads},\n",
    "        'Comment': {'N': comment_coverage, 'Percentage': comment_coverage / total_threads},\n",
    "        'Removed': {'N': removed_coverage, 'Percentage': removed_coverage / total_threads},\n",
    "        'Newcomer': {'N': newcomer_coverage, 'Percentage': newcomer_coverage / total_threads}\n",
    "    }, orient='index').style.format({'N': '{:,}', 'Percentage': '{:.2f}'})\n",
    "\n",
    "display_popular_thread_coverage()"
   ]
  },
  {
   "cell_type": "markdown",
   "id": "93eb0084",
   "metadata": {},
   "source": [
    "# List subreddits that reach r/popular in dataset and the number of threads that reached."
   ]
  },
  {
   "cell_type": "code",
   "execution_count": 293,
   "id": "25e6718e",
   "metadata": {
    "ExecuteTime": {
     "end_time": "2022-06-08T21:25:42.891350Z",
     "start_time": "2022-06-08T21:25:42.585725Z"
    }
   },
   "outputs": [
    {
     "data": {
      "text/html": [
       "<div>\n",
       "<style scoped>\n",
       "    .dataframe tbody tr th:only-of-type {\n",
       "        vertical-align: middle;\n",
       "    }\n",
       "\n",
       "    .dataframe tbody tr th {\n",
       "        vertical-align: top;\n",
       "    }\n",
       "\n",
       "    .dataframe thead th {\n",
       "        text-align: right;\n",
       "    }\n",
       "</style>\n",
       "<table border=\"1\" class=\"dataframe\">\n",
       "  <thead>\n",
       "    <tr style=\"text-align: right;\">\n",
       "      <th></th>\n",
       "      <th>subreddit</th>\n",
       "    </tr>\n",
       "  </thead>\n",
       "  <tbody>\n",
       "    <tr>\n",
       "      <th>memes</th>\n",
       "      <td>615</td>\n",
       "    </tr>\n",
       "    <tr>\n",
       "      <th>MadeMeSmile</th>\n",
       "      <td>539</td>\n",
       "    </tr>\n",
       "    <tr>\n",
       "      <th>worldnews</th>\n",
       "      <td>532</td>\n",
       "    </tr>\n",
       "    <tr>\n",
       "      <th>interestingasfuck</th>\n",
       "      <td>519</td>\n",
       "    </tr>\n",
       "    <tr>\n",
       "      <th>funny</th>\n",
       "      <td>501</td>\n",
       "    </tr>\n",
       "    <tr>\n",
       "      <th>...</th>\n",
       "      <td>...</td>\n",
       "    </tr>\n",
       "    <tr>\n",
       "      <th>law</th>\n",
       "      <td>1</td>\n",
       "    </tr>\n",
       "    <tr>\n",
       "      <th>BMW</th>\n",
       "      <td>1</td>\n",
       "    </tr>\n",
       "    <tr>\n",
       "      <th>britishcolumbia</th>\n",
       "      <td>1</td>\n",
       "    </tr>\n",
       "    <tr>\n",
       "      <th>trans</th>\n",
       "      <td>1</td>\n",
       "    </tr>\n",
       "    <tr>\n",
       "      <th>barstoolsports</th>\n",
       "      <td>1</td>\n",
       "    </tr>\n",
       "  </tbody>\n",
       "</table>\n",
       "<p>891 rows × 1 columns</p>\n",
       "</div>"
      ],
      "text/plain": [
       "                   subreddit\n",
       "memes                    615\n",
       "MadeMeSmile              539\n",
       "worldnews                532\n",
       "interestingasfuck        519\n",
       "funny                    501\n",
       "...                      ...\n",
       "law                        1\n",
       "BMW                        1\n",
       "britishcolumbia            1\n",
       "trans                      1\n",
       "barstoolsports             1\n",
       "\n",
       "[891 rows x 1 columns]"
      ]
     },
     "execution_count": 293,
     "metadata": {},
     "output_type": "execute_result"
    }
   ],
   "source": [
    "def list_popular_subreddits():\n",
    "    \n",
    "    popular_subreddits = get_popular_threads(columns=['subreddit'])\n",
    "    \n",
    "    return popular_subreddits['subreddit'].value_counts().to_frame()\n",
    "\n",
    "list_popular_subreddits()"
   ]
  },
  {
   "cell_type": "code",
   "execution_count": 312,
   "id": "b2d0d967",
   "metadata": {
    "ExecuteTime": {
     "end_time": "2022-06-08T21:42:37.877638Z",
     "start_time": "2022-06-08T21:42:37.585911Z"
    }
   },
   "outputs": [
    {
     "name": "stdout",
     "output_type": "stream",
     "text": [
      "asdf\n"
     ]
    },
    {
     "data": {
      "text/html": [
       "<style  type=\"text/css\" >\n",
       "</style><table id=\"T_ea3c95fe_e773_11ec_8828_70b5e8d10544\" ><thead>    <tr>        <th class=\"blank level0\" ></th>        <th class=\"col_heading level0 col0\" >N</th>        <th class=\"col_heading level0 col1\" >Start</th>        <th class=\"col_heading level0 col2\" >End</th>    </tr></thead><tbody>\n",
       "                <tr>\n",
       "                        <th id=\"T_ea3c95fe_e773_11ec_8828_70b5e8d10544level0_row0\" class=\"row_heading level0 row0\" >MadeMeCry</th>\n",
       "                        <td id=\"T_ea3c95fe_e773_11ec_8828_70b5e8d10544row0_col0\" class=\"data row0 col0\" >158,549</td>\n",
       "                        <td id=\"T_ea3c95fe_e773_11ec_8828_70b5e8d10544row0_col1\" class=\"data row0 col1\" >2020-01-01 01:23:05</td>\n",
       "                        <td id=\"T_ea3c95fe_e773_11ec_8828_70b5e8d10544row0_col2\" class=\"data row0 col2\" >2022-06-08 12:34:30</td>\n",
       "            </tr>\n",
       "    </tbody></table>"
      ],
      "text/plain": [
       "<pandas.io.formats.style.Styler at 0x7f8a383a5c88>"
      ]
     },
     "execution_count": 312,
     "metadata": {},
     "output_type": "execute_result"
    }
   ],
   "source": [
    "def display_pushshift_coverage():\n",
    "    \n",
    "#     subreddits = pushshift_comments.list_collection_names()\n",
    "    subreddits = ['MadeMeCry']\n",
    "    \n",
    "    table = {}\n",
    "    \n",
    "    for subreddit in tqdm(subreddits, disable=True):\n",
    "        \n",
    "        date_range = pd.DataFrame(pushshift_comments[subreddit].aggregate([\n",
    "            {'$project': {'created_utc': 1}},\n",
    "            {'$group': {'_id': None,\n",
    "                       'min_utc': {'$min': '$created_utc'},\n",
    "                       'max_utc': {'$max': '$created_utc'}}}\n",
    "        ], allowDiskUse=True))\n",
    "        \n",
    "        table[subreddit] = {\n",
    "            'N': pushshift_comments[subreddit].estimated_document_count(),\n",
    "            'Start': dt.datetime.fromtimestamp(date_range['min_utc'].values[0]),\n",
    "            'End': dt.datetime.fromtimestamp(date_range['max_utc'].values[0])\n",
    "        }\n",
    "        \n",
    "    print('asdf')\n",
    "        \n",
    "    return pd.DataFrame.from_dict(table, orient='index').reindex(subreddits) \\\n",
    "        .style.format(formatter='{:,}', subset=['N'])\n",
    "\n",
    "display_pushshift_coverage()"
   ]
  },
  {
   "cell_type": "code",
   "execution_count": 309,
   "id": "8670c932",
   "metadata": {
    "ExecuteTime": {
     "end_time": "2022-06-08T21:41:38.425709Z",
     "start_time": "2022-06-08T21:41:38.422944Z"
    }
   },
   "outputs": [
    {
     "name": "stdout",
     "output_type": "stream",
     "text": [
      "asdfa\n"
     ]
    }
   ],
   "source": [
    "print('asdfa')"
   ]
  }
 ],
 "metadata": {
  "kernelspec": {
   "display_name": "Python 3",
   "language": "python",
   "name": "python3"
  },
  "language_info": {
   "codemirror_mode": {
    "name": "ipython",
    "version": 3
   },
   "file_extension": ".py",
   "mimetype": "text/x-python",
   "name": "python",
   "nbconvert_exporter": "python",
   "pygments_lexer": "ipython3",
   "version": "3.6.8"
  }
 },
 "nbformat": 4,
 "nbformat_minor": 5
}
