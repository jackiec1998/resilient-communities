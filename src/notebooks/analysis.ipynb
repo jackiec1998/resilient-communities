{
 "cells": [
  {
   "cell_type": "code",
   "execution_count": 1,
   "id": "cd2b971c",
   "metadata": {
    "ExecuteTime": {
     "end_time": "2022-03-30T00:34:04.995118Z",
     "start_time": "2022-03-30T00:34:03.902137Z"
    }
   },
   "outputs": [],
   "source": [
    "%config Completer.use_jedi = False\n",
    "from pymongo import MongoClient\n",
    "import pandas as pd\n",
    "import datetime as dt\n",
    "from collections import defaultdict\n",
    "\n",
    "import matplotlib\n",
    "import matplotlib.pyplot as plt\n",
    "import matplotlib.dates as mdates\n",
    "from matplotlib.ticker import MaxNLocator\n",
    "\n",
    "import plotly.express as px\n",
    "\n",
    "client = MongoClient('localhost', 27017)\n",
    "db = client.resilient"
   ]
  },
  {
   "cell_type": "markdown",
   "id": "eb7c04ae",
   "metadata": {},
   "source": [
    "# r/all Analysis"
   ]
  },
  {
   "cell_type": "markdown",
   "id": "0fe98e73",
   "metadata": {},
   "source": [
    "## Connecting to the r/all comment collection."
   ]
  },
  {
   "cell_type": "code",
   "execution_count": 2,
   "id": "e95b334b",
   "metadata": {
    "ExecuteTime": {
     "end_time": "2022-03-30T00:34:05.000773Z",
     "start_time": "2022-03-30T00:34:04.998452Z"
    }
   },
   "outputs": [],
   "source": [
    "all_comments = db.all"
   ]
  },
  {
   "cell_type": "markdown",
   "id": "fd48aefc",
   "metadata": {},
   "source": [
    "## Total number of comments."
   ]
  },
  {
   "cell_type": "code",
   "execution_count": 3,
   "id": "a81b384c",
   "metadata": {
    "ExecuteTime": {
     "end_time": "2022-03-30T00:34:06.627598Z",
     "start_time": "2022-03-30T00:34:06.606794Z"
    }
   },
   "outputs": [
    {
     "data": {
      "text/html": [
       "<div>\n",
       "<style scoped>\n",
       "    .dataframe tbody tr th:only-of-type {\n",
       "        vertical-align: middle;\n",
       "    }\n",
       "\n",
       "    .dataframe tbody tr th {\n",
       "        vertical-align: top;\n",
       "    }\n",
       "\n",
       "    .dataframe thead th {\n",
       "        text-align: right;\n",
       "    }\n",
       "</style>\n",
       "<table border=\"1\" class=\"dataframe\">\n",
       "  <thead>\n",
       "    <tr style=\"text-align: right;\">\n",
       "      <th></th>\n",
       "      <th>N</th>\n",
       "    </tr>\n",
       "  </thead>\n",
       "  <tbody>\n",
       "    <tr>\n",
       "      <th>Comments</th>\n",
       "      <td>41600000</td>\n",
       "    </tr>\n",
       "  </tbody>\n",
       "</table>\n",
       "</div>"
      ],
      "text/plain": [
       "                 N\n",
       "Comments  41600000"
      ]
     },
     "metadata": {},
     "output_type": "display_data"
    }
   ],
   "source": [
    "table = pd.DataFrame.from_dict({\n",
    "    'Comments': all_comments.estimated_document_count()\n",
    "}, orient='index')\n",
    "table.columns = ['N']\n",
    "\n",
    "display(table)"
   ]
  },
  {
   "cell_type": "markdown",
   "id": "3eadc2e9",
   "metadata": {},
   "source": [
    "## Number of comments per author."
   ]
  },
  {
   "cell_type": "code",
   "execution_count": 615,
   "id": "01e63108",
   "metadata": {
    "ExecuteTime": {
     "end_time": "2022-03-30T00:26:28.508560Z",
     "start_time": "2022-03-30T00:21:59.103278Z"
    }
   },
   "outputs": [
    {
     "data": {
      "text/html": [
       "<div>\n",
       "<style scoped>\n",
       "    .dataframe tbody tr th:only-of-type {\n",
       "        vertical-align: middle;\n",
       "    }\n",
       "\n",
       "    .dataframe tbody tr th {\n",
       "        vertical-align: top;\n",
       "    }\n",
       "\n",
       "    .dataframe thead th {\n",
       "        text-align: right;\n",
       "    }\n",
       "</style>\n",
       "<table border=\"1\" class=\"dataframe\">\n",
       "  <thead>\n",
       "    <tr style=\"text-align: right;\">\n",
       "      <th></th>\n",
       "      <th>author</th>\n",
       "      <th>num_comments</th>\n",
       "    </tr>\n",
       "  </thead>\n",
       "  <tbody>\n",
       "    <tr>\n",
       "      <th>0</th>\n",
       "      <td>AutoModerator</td>\n",
       "      <td>1364383</td>\n",
       "    </tr>\n",
       "    <tr>\n",
       "      <th>1</th>\n",
       "      <td>FMKBot</td>\n",
       "      <td>124838</td>\n",
       "    </tr>\n",
       "    <tr>\n",
       "      <th>2</th>\n",
       "      <td>MangaDexStatsBot2</td>\n",
       "      <td>48612</td>\n",
       "    </tr>\n",
       "    <tr>\n",
       "      <th>3</th>\n",
       "      <td>KickOpenTheDoorBot</td>\n",
       "      <td>22234</td>\n",
       "    </tr>\n",
       "    <tr>\n",
       "      <th>4</th>\n",
       "      <td>QualityVote</td>\n",
       "      <td>18483</td>\n",
       "    </tr>\n",
       "    <tr>\n",
       "      <th>...</th>\n",
       "      <td>...</td>\n",
       "      <td>...</td>\n",
       "    </tr>\n",
       "    <tr>\n",
       "      <th>5316675</th>\n",
       "      <td>zzzzzzrink</td>\n",
       "      <td>1</td>\n",
       "    </tr>\n",
       "    <tr>\n",
       "      <th>5316676</th>\n",
       "      <td>zzzzzzwhat</td>\n",
       "      <td>1</td>\n",
       "    </tr>\n",
       "    <tr>\n",
       "      <th>5316677</th>\n",
       "      <td>zzzzzzzt</td>\n",
       "      <td>1</td>\n",
       "    </tr>\n",
       "    <tr>\n",
       "      <th>5316678</th>\n",
       "      <td>zzzzzzzzz301</td>\n",
       "      <td>1</td>\n",
       "    </tr>\n",
       "    <tr>\n",
       "      <th>5316679</th>\n",
       "      <td>zzzzzzzzzzzzzzzzspaf</td>\n",
       "      <td>1</td>\n",
       "    </tr>\n",
       "  </tbody>\n",
       "</table>\n",
       "<p>5316680 rows × 2 columns</p>\n",
       "</div>"
      ],
      "text/plain": [
       "                       author  num_comments\n",
       "0               AutoModerator       1364383\n",
       "1                      FMKBot        124838\n",
       "2           MangaDexStatsBot2         48612\n",
       "3          KickOpenTheDoorBot         22234\n",
       "4                 QualityVote         18483\n",
       "...                       ...           ...\n",
       "5316675            zzzzzzrink             1\n",
       "5316676            zzzzzzwhat             1\n",
       "5316677              zzzzzzzt             1\n",
       "5316678          zzzzzzzzz301             1\n",
       "5316679  zzzzzzzzzzzzzzzzspaf             1\n",
       "\n",
       "[5316680 rows x 2 columns]"
      ]
     },
     "metadata": {},
     "output_type": "display_data"
    }
   ],
   "source": [
    "# Warning: This cell takes a while to compute (~4 minutes for 40M comments.)\n",
    "all_comments_per_author = pd.DataFrame(all_comments.aggregate([\n",
    "    {'$project': {'_id': 1, 'author': 1}}, # Only using author field.\n",
    "    {'$group': {'_id': '$author', 'num_comments': {'$sum': 1}}},\n",
    "    {'$sort': {'num_comments': -1}} # Sort descending.\n",
    "], allowDiskUse=True))\n",
    "\n",
    "all_comments_per_author = all_comments_per_author.rename(columns={'_id': 'author'})\n",
    "\n",
    "all_comments_per_author"
   ]
  },
  {
   "cell_type": "markdown",
   "id": "7ff5b84d",
   "metadata": {},
   "source": [
    "## Number of comments per subreddit."
   ]
  },
  {
   "cell_type": "code",
   "execution_count": 616,
   "id": "61fe9f2f",
   "metadata": {
    "ExecuteTime": {
     "end_time": "2022-03-30T00:28:07.704015Z",
     "start_time": "2022-03-30T00:26:28.511280Z"
    }
   },
   "outputs": [
    {
     "data": {
      "text/html": [
       "<div>\n",
       "<style scoped>\n",
       "    .dataframe tbody tr th:only-of-type {\n",
       "        vertical-align: middle;\n",
       "    }\n",
       "\n",
       "    .dataframe tbody tr th {\n",
       "        vertical-align: top;\n",
       "    }\n",
       "\n",
       "    .dataframe thead th {\n",
       "        text-align: right;\n",
       "    }\n",
       "</style>\n",
       "<table border=\"1\" class=\"dataframe\">\n",
       "  <thead>\n",
       "    <tr style=\"text-align: right;\">\n",
       "      <th></th>\n",
       "      <th>subreddit</th>\n",
       "      <th>num_comments</th>\n",
       "    </tr>\n",
       "  </thead>\n",
       "  <tbody>\n",
       "    <tr>\n",
       "      <th>0</th>\n",
       "      <td>AskReddit</td>\n",
       "      <td>1262249</td>\n",
       "    </tr>\n",
       "    <tr>\n",
       "      <th>1</th>\n",
       "      <td>teenagers</td>\n",
       "      <td>469989</td>\n",
       "    </tr>\n",
       "    <tr>\n",
       "      <th>2</th>\n",
       "      <td>worldnews</td>\n",
       "      <td>448859</td>\n",
       "    </tr>\n",
       "    <tr>\n",
       "      <th>3</th>\n",
       "      <td>Eldenring</td>\n",
       "      <td>437813</td>\n",
       "    </tr>\n",
       "    <tr>\n",
       "      <th>4</th>\n",
       "      <td>AmItheAsshole</td>\n",
       "      <td>388864</td>\n",
       "    </tr>\n",
       "    <tr>\n",
       "      <th>...</th>\n",
       "      <td>...</td>\n",
       "      <td>...</td>\n",
       "    </tr>\n",
       "    <tr>\n",
       "      <th>159339</th>\n",
       "      <td>BetrHealth</td>\n",
       "      <td>1</td>\n",
       "    </tr>\n",
       "    <tr>\n",
       "      <th>159340</th>\n",
       "      <td>MrstrapsaviWorship</td>\n",
       "      <td>1</td>\n",
       "    </tr>\n",
       "    <tr>\n",
       "      <th>159341</th>\n",
       "      <td>TheOwlBoard</td>\n",
       "      <td>1</td>\n",
       "    </tr>\n",
       "    <tr>\n",
       "      <th>159342</th>\n",
       "      <td>Plifortakune</td>\n",
       "      <td>1</td>\n",
       "    </tr>\n",
       "    <tr>\n",
       "      <th>159343</th>\n",
       "      <td>u_Internal_Peace4610</td>\n",
       "      <td>1</td>\n",
       "    </tr>\n",
       "  </tbody>\n",
       "</table>\n",
       "<p>159344 rows × 2 columns</p>\n",
       "</div>"
      ],
      "text/plain": [
       "                   subreddit  num_comments\n",
       "0                  AskReddit       1262249\n",
       "1                  teenagers        469989\n",
       "2                  worldnews        448859\n",
       "3                  Eldenring        437813\n",
       "4              AmItheAsshole        388864\n",
       "...                      ...           ...\n",
       "159339            BetrHealth             1\n",
       "159340    MrstrapsaviWorship             1\n",
       "159341           TheOwlBoard             1\n",
       "159342          Plifortakune             1\n",
       "159343  u_Internal_Peace4610             1\n",
       "\n",
       "[159344 rows x 2 columns]"
      ]
     },
     "metadata": {},
     "output_type": "display_data"
    }
   ],
   "source": [
    "# Warning: This cell takes a while to compute (~4 minutes for 40M comments.)\n",
    "all_comments_per_subreddit = pd.DataFrame(all_comments.aggregate([\n",
    "    {'$project': {'_id': 1, 'subreddit': 1}},\n",
    "    {'$group': {'_id': '$subreddit', 'num_comments': {'$sum': 1}}},\n",
    "    {'$sort': {'num_comments': -1}}\n",
    "], allowDiskUse=True))\n",
    "\n",
    "all_comments_per_subreddit = all_comments_per_subreddit.rename(columns={'_id': 'subreddit'})\n",
    "\n",
    "all_comments_per_subreddit"
   ]
  },
  {
   "cell_type": "markdown",
   "id": "416ad1d8",
   "metadata": {},
   "source": [
    "## Number of comments per hour for specific subreddit."
   ]
  },
  {
   "cell_type": "code",
   "execution_count": 26,
   "id": "8c207447",
   "metadata": {
    "ExecuteTime": {
     "end_time": "2022-03-30T00:48:18.967515Z",
     "start_time": "2022-03-30T00:47:39.884830Z"
    }
   },
   "outputs": [
    {
     "data": {
      "image/svg+xml": [
       "<svg class=\"main-svg\" xmlns=\"http://www.w3.org/2000/svg\" xmlns:xlink=\"http://www.w3.org/1999/xlink\" width=\"700\" height=\"500\" style=\"\" viewBox=\"0 0 700 500\"><rect x=\"0\" y=\"0\" width=\"700\" height=\"500\" style=\"fill: rgb(255, 255, 255); fill-opacity: 1;\"/><defs id=\"defs-9764a7\"><g class=\"clips\"><clipPath id=\"clip9764a7xyplot\" class=\"plotclip\"><rect width=\"540\" height=\"360\"/></clipPath><clipPath class=\"axesclip\" id=\"clip9764a7x\"><rect x=\"80\" y=\"0\" width=\"540\" height=\"500\"/></clipPath><clipPath class=\"axesclip\" id=\"clip9764a7y\"><rect x=\"0\" y=\"60\" width=\"700\" height=\"360\"/></clipPath><clipPath class=\"axesclip\" id=\"clip9764a7xy\"><rect x=\"80\" y=\"60\" width=\"540\" height=\"360\"/></clipPath></g><g class=\"gradients\"/><g class=\"patterns\"/></defs><g class=\"bglayer\"/><g class=\"layer-below\"><g class=\"imagelayer\"/><g class=\"shapelayer\"/></g><g class=\"cartesianlayer\"><g class=\"subplot xy\"><g class=\"layer-subplot\"><g class=\"shapelayer\"/><g class=\"imagelayer\"/></g><g class=\"gridlayer\"><g class=\"x\"><path class=\"xgrid crisp\" transform=\"translate(102.19,0)\" d=\"M0,60v360\" style=\"stroke: rgb(238, 238, 238); stroke-opacity: 1; stroke-width: 1px;\"/><path class=\"xgrid crisp\" transform=\"translate(190.95999999999998,0)\" d=\"M0,60v360\" style=\"stroke: rgb(238, 238, 238); stroke-opacity: 1; stroke-width: 1px;\"/><path class=\"xgrid crisp\" transform=\"translate(279.73,0)\" d=\"M0,60v360\" style=\"stroke: rgb(238, 238, 238); stroke-opacity: 1; stroke-width: 1px;\"/><path class=\"xgrid crisp\" transform=\"translate(368.49,0)\" d=\"M0,60v360\" style=\"stroke: rgb(238, 238, 238); stroke-opacity: 1; stroke-width: 1px;\"/><path class=\"xgrid crisp\" transform=\"translate(457.26,0)\" d=\"M0,60v360\" style=\"stroke: rgb(238, 238, 238); stroke-opacity: 1; stroke-width: 1px;\"/><path class=\"xgrid crisp\" transform=\"translate(546.03,0)\" d=\"M0,60v360\" style=\"stroke: rgb(238, 238, 238); stroke-opacity: 1; stroke-width: 1px;\"/></g><g class=\"y\"><path class=\"ygrid crisp\" transform=\"translate(0,351.72)\" d=\"M80,0h540\" style=\"stroke: rgb(238, 238, 238); stroke-opacity: 1; stroke-width: 1px;\"/><path class=\"ygrid crisp\" transform=\"translate(0,295.86)\" d=\"M80,0h540\" style=\"stroke: rgb(238, 238, 238); stroke-opacity: 1; stroke-width: 1px;\"/><path class=\"ygrid crisp\" transform=\"translate(0,240)\" d=\"M80,0h540\" style=\"stroke: rgb(238, 238, 238); stroke-opacity: 1; stroke-width: 1px;\"/><path class=\"ygrid crisp\" transform=\"translate(0,184.14)\" d=\"M80,0h540\" style=\"stroke: rgb(238, 238, 238); stroke-opacity: 1; stroke-width: 1px;\"/><path class=\"ygrid crisp\" transform=\"translate(0,128.28)\" d=\"M80,0h540\" style=\"stroke: rgb(238, 238, 238); stroke-opacity: 1; stroke-width: 1px;\"/><path class=\"ygrid crisp\" transform=\"translate(0,72.41)\" d=\"M80,0h540\" style=\"stroke: rgb(238, 238, 238); stroke-opacity: 1; stroke-width: 1px;\"/></g></g><g class=\"zerolinelayer\"><path class=\"yzl zl crisp\" transform=\"translate(0,407.59)\" d=\"M80,0h540\" style=\"stroke: rgb(68, 68, 68); stroke-opacity: 1; stroke-width: 1px;\"/></g><path class=\"xlines-below\"/><path class=\"ylines-below\"/><g class=\"overlines-below\"/><g class=\"xaxislayer-below\"/><g class=\"yaxislayer-below\"/><g class=\"overaxes-below\"/><g class=\"plot\" transform=\"translate(80,60)\" clip-path=\"url(#clip9764a7xyplot)\"><g class=\"scatterlayer mlayer\"><g class=\"trace scatter trace460ad8\" style=\"stroke-miterlimit: 2; opacity: 1;\"><g class=\"fills\"/><g class=\"errorbars\"/><g class=\"lines\"><path class=\"js-line\" d=\"M0,269.38L3.7,252.62L7.4,174.41L11.1,124.14L14.79,247.03L18.49,252.62L22.19,207.93L25.89,213.52L29.59,308.48L33.29,252.62L36.99,336.41L40.68,319.66L44.38,336.41L48.08,336.41L51.78,291.72L55.48,157.66L59.18,213.52L62.88,157.66L66.58,180L70.27,241.45L73.97,247.03L77.67,274.97L81.37,269.38L85.07,252.62L88.77,213.52L92.47,18L96.16,107.38L99.86,235.86L103.56,230.28L107.26,196.76L110.96,196.76L114.66,280.55L118.36,308.48L122.05,325.24L125.75,336.41L129.45,314.07L133.15,308.48L136.85,280.55L140.55,308.48L144.25,241.45L147.95,252.62L151.64,207.93L155.34,252.62L159.04,230.28L162.74,129.72L166.44,230.28L170.14,79.45L173.84,191.17L177.53,202.34L181.23,291.72L184.93,247.03L188.63,269.38L192.33,235.86L196.03,263.79L199.73,207.93L203.42,286.14L207.12,308.48L210.82,314.07L214.52,325.24L218.22,330.83L221.92,342L225.62,336.41L229.32,274.97L236.71,224.69L240.41,230.28L244.11,202.34L247.81,157.66L251.51,280.55L255.21,241.45L258.9,230.28L262.6,202.34L266.3,163.24L270,263.79L273.7,247.03L277.4,107.38L281.1,291.72L284.79,235.86L288.49,213.52L292.19,140.9L295.89,280.55L299.59,314.07L303.29,330.83L306.99,325.24L310.68,342L314.38,342L321.78,308.48L325.48,202.34L329.18,213.52L332.88,247.03L336.58,180L340.27,185.59L343.97,202.34L347.67,247.03L351.37,230.28L355.07,286.14L358.77,274.97L362.47,202.34L366.16,219.1L369.86,196.76L373.56,180L377.26,135.31L384.66,252.62L388.36,342L392.05,336.41L395.75,342L399.45,342L403.15,336.41L406.85,314.07L410.55,252.62L414.25,247.03L417.95,202.34L421.64,219.1L425.34,230.28L429.04,224.69L432.74,224.69L436.44,247.03L440.14,180L443.84,207.93L447.53,258.21L451.23,180L454.93,274.97L458.63,112.97L462.33,157.66L466.03,213.52L469.73,297.31L473.42,297.31L477.12,330.83L480.82,319.66L484.52,325.24L488.22,325.24L495.62,314.07L503.01,263.79L506.71,247.03L510.41,185.59L514.11,219.1L517.81,269.38L521.51,241.45L525.21,258.21L528.9,269.38L532.6,185.59L536.3,252.62L540,342\" style=\"vector-effect: non-scaling-stroke; fill: none; stroke: rgb(99, 110, 250); stroke-opacity: 1; stroke-width: 2px; opacity: 1;\"/></g><g class=\"points\"/><g class=\"text\"/></g></g></g><g class=\"overplot\"/><path class=\"xlines-above crisp\" d=\"M0,0\" style=\"fill: none;\"/><path class=\"ylines-above crisp\" d=\"M0,0\" style=\"fill: none;\"/><g class=\"overlines-above\"/><g class=\"xaxislayer-above\"><g class=\"xtick\"><text text-anchor=\"middle\" x=\"0\" y=\"433\" transform=\"translate(102.19,0)\" style=\"font-family: 'Open Sans', verdana, arial, sans-serif; font-size: 12px; fill: rgb(68, 68, 68); fill-opacity: 1; white-space: pre; opacity: 1;\"><tspan class=\"line\" dy=\"0em\" x=\"0\" y=\"433\">Mar 24</tspan><tspan class=\"line\" dy=\"1.3em\" x=\"0\" y=\"433\">2022</tspan></text></g><g class=\"xtick\"><text text-anchor=\"middle\" x=\"0\" y=\"433\" style=\"font-family: 'Open Sans', verdana, arial, sans-serif; font-size: 12px; fill: rgb(68, 68, 68); fill-opacity: 1; white-space: pre; opacity: 1;\" transform=\"translate(190.95999999999998,0)\">Mar 25</text></g><g class=\"xtick\"><text text-anchor=\"middle\" x=\"0\" y=\"433\" style=\"font-family: 'Open Sans', verdana, arial, sans-serif; font-size: 12px; fill: rgb(68, 68, 68); fill-opacity: 1; white-space: pre; opacity: 1;\" transform=\"translate(279.73,0)\">Mar 26</text></g><g class=\"xtick\"><text text-anchor=\"middle\" x=\"0\" y=\"433\" style=\"font-family: 'Open Sans', verdana, arial, sans-serif; font-size: 12px; fill: rgb(68, 68, 68); fill-opacity: 1; white-space: pre; opacity: 1;\" transform=\"translate(368.49,0)\">Mar 27</text></g><g class=\"xtick\"><text text-anchor=\"middle\" x=\"0\" y=\"433\" style=\"font-family: 'Open Sans', verdana, arial, sans-serif; font-size: 12px; fill: rgb(68, 68, 68); fill-opacity: 1; white-space: pre; opacity: 1;\" transform=\"translate(457.26,0)\">Mar 28</text></g><g class=\"xtick\"><text text-anchor=\"middle\" x=\"0\" y=\"433\" style=\"font-family: 'Open Sans', verdana, arial, sans-serif; font-size: 12px; fill: rgb(68, 68, 68); fill-opacity: 1; white-space: pre; opacity: 1;\" transform=\"translate(546.03,0)\">Mar 29</text></g></g><g class=\"yaxislayer-above\"><g class=\"ytick\"><text text-anchor=\"end\" x=\"79\" y=\"4.199999999999999\" transform=\"translate(0,407.59)\" style=\"font-family: 'Open Sans', verdana, arial, sans-serif; font-size: 12px; fill: rgb(68, 68, 68); fill-opacity: 1; white-space: pre; opacity: 1;\">0</text></g><g class=\"ytick\"><text text-anchor=\"end\" x=\"79\" y=\"4.199999999999999\" style=\"font-family: 'Open Sans', verdana, arial, sans-serif; font-size: 12px; fill: rgb(68, 68, 68); fill-opacity: 1; white-space: pre; opacity: 1;\" transform=\"translate(0,351.72)\">10</text></g><g class=\"ytick\"><text text-anchor=\"end\" x=\"79\" y=\"4.199999999999999\" style=\"font-family: 'Open Sans', verdana, arial, sans-serif; font-size: 12px; fill: rgb(68, 68, 68); fill-opacity: 1; white-space: pre; opacity: 1;\" transform=\"translate(0,295.86)\">20</text></g><g class=\"ytick\"><text text-anchor=\"end\" x=\"79\" y=\"4.199999999999999\" style=\"font-family: 'Open Sans', verdana, arial, sans-serif; font-size: 12px; fill: rgb(68, 68, 68); fill-opacity: 1; white-space: pre; opacity: 1;\" transform=\"translate(0,240)\">30</text></g><g class=\"ytick\"><text text-anchor=\"end\" x=\"79\" y=\"4.199999999999999\" style=\"font-family: 'Open Sans', verdana, arial, sans-serif; font-size: 12px; fill: rgb(68, 68, 68); fill-opacity: 1; white-space: pre; opacity: 1;\" transform=\"translate(0,184.14)\">40</text></g><g class=\"ytick\"><text text-anchor=\"end\" x=\"79\" y=\"4.199999999999999\" style=\"font-family: 'Open Sans', verdana, arial, sans-serif; font-size: 12px; fill: rgb(68, 68, 68); fill-opacity: 1; white-space: pre; opacity: 1;\" transform=\"translate(0,128.28)\">50</text></g><g class=\"ytick\"><text text-anchor=\"end\" x=\"79\" y=\"4.199999999999999\" style=\"font-family: 'Open Sans', verdana, arial, sans-serif; font-size: 12px; fill: rgb(68, 68, 68); fill-opacity: 1; white-space: pre; opacity: 1;\" transform=\"translate(0,72.41)\">60</text></g></g><g class=\"overaxes-above\"/></g></g><g class=\"polarlayer\"/><g class=\"smithlayer\"/><g class=\"ternarylayer\"/><g class=\"geolayer\"/><g class=\"funnelarealayer\"/><g class=\"pielayer\"/><g class=\"iciclelayer\"/><g class=\"treemaplayer\"/><g class=\"sunburstlayer\"/><g class=\"glimages\"/><defs id=\"topdefs-9764a7\"><g class=\"clips\"/></defs><g class=\"layer-above\"><g class=\"imagelayer\"/><g class=\"shapelayer\"/></g><g class=\"infolayer\"><g class=\"g-gtitle\"><text class=\"gtitle\" x=\"350\" y=\"30\" text-anchor=\"middle\" dy=\"0em\" style=\"font-family: 'Open Sans', verdana, arial, sans-serif; font-size: 17px; fill: rgb(68, 68, 68); opacity: 1; font-weight: normal; white-space: pre;\">Hourly Comments on r/UIUC</text></g><g class=\"g-xtitle\"><text class=\"xtitle\" x=\"350\" y=\"472\" text-anchor=\"middle\" style=\"font-family: 'Open Sans', verdana, arial, sans-serif; font-size: 14px; fill: rgb(68, 68, 68); opacity: 1; font-weight: normal; white-space: pre;\">Date</text></g><g class=\"g-ytitle\"><text class=\"ytitle\" transform=\"rotate(-90,42,240)\" x=\"42\" y=\"240\" text-anchor=\"middle\" style=\"font-family: 'Open Sans', verdana, arial, sans-serif; font-size: 14px; fill: rgb(68, 68, 68); opacity: 1; font-weight: normal; white-space: pre;\">#Comments</text></g></g></svg>"
      ]
     },
     "metadata": {},
     "output_type": "display_data"
    }
   ],
   "source": [
    "subreddit = 'UIUC'\n",
    "\n",
    "selected_comments = pd.DataFrame(\n",
    "    all_comments.find({'subreddit': {'$eq': 'UIUC'}})\n",
    ")\n",
    "\n",
    "daily = pd.to_datetime(selected_comments['created_utc'], unit='s') \\\n",
    "    .dt.tz_localize('UTC') \\\n",
    "    .dt.tz_convert('US/Central') \\\n",
    "    .round('H') \\\n",
    "    .value_counts() \\\n",
    "    .sort_index()\n",
    "\n",
    "fig = px.line(daily)\n",
    "\n",
    "fig.update_layout(\n",
    "    template='none',\n",
    "    showlegend=False,\n",
    "    xaxis_title='Date',\n",
    "    yaxis_title='#Comments',\n",
    "    title=f'Hourly Comments on r/{subreddit}'\n",
    ")\n",
    "\n",
    "fig.show('svg')"
   ]
  },
  {
   "cell_type": "markdown",
   "id": "dc38f392",
   "metadata": {
    "ExecuteTime": {
     "end_time": "2022-03-23T19:54:57.534572Z",
     "start_time": "2022-03-23T19:54:57.531535Z"
    }
   },
   "source": [
    "# r/popular Analysis"
   ]
  },
  {
   "cell_type": "markdown",
   "id": "d84e06cf",
   "metadata": {},
   "source": [
    "## Connecting to r/popular snapshots collection."
   ]
  },
  {
   "cell_type": "code",
   "execution_count": 27,
   "id": "bd1e36de",
   "metadata": {
    "ExecuteTime": {
     "end_time": "2022-03-30T00:49:19.970990Z",
     "start_time": "2022-03-30T00:49:19.967588Z"
    }
   },
   "outputs": [],
   "source": [
    "popular_snapshots = db.popular"
   ]
  },
  {
   "cell_type": "markdown",
   "id": "4b0c673b",
   "metadata": {},
   "source": [
    "## Grouping r/popular thread IDs, identifying their subreddit, and listing their snapshots (along with snapshot attributes).\n",
    "\n",
    "Each thread should come with their first timestamp (`min_utc`), last timestamp (`max_utc`), and the number of seconds in between known as the thread's lifespan (`lifespan`)."
   ]
  },
  {
   "cell_type": "code",
   "execution_count": 28,
   "id": "6fcfd329",
   "metadata": {
    "ExecuteTime": {
     "end_time": "2022-03-30T00:50:39.486982Z",
     "start_time": "2022-03-30T00:50:35.351089Z"
    }
   },
   "outputs": [
    {
     "data": {
      "text/html": [
       "<div>\n",
       "<style scoped>\n",
       "    .dataframe tbody tr th:only-of-type {\n",
       "        vertical-align: middle;\n",
       "    }\n",
       "\n",
       "    .dataframe tbody tr th {\n",
       "        vertical-align: top;\n",
       "    }\n",
       "\n",
       "    .dataframe thead th {\n",
       "        text-align: right;\n",
       "    }\n",
       "</style>\n",
       "<table border=\"1\" class=\"dataframe\">\n",
       "  <thead>\n",
       "    <tr style=\"text-align: right;\">\n",
       "      <th></th>\n",
       "      <th>id</th>\n",
       "      <th>subreddit</th>\n",
       "      <th>created_utc</th>\n",
       "      <th>num_snapshots</th>\n",
       "      <th>max_utc</th>\n",
       "      <th>min_utc</th>\n",
       "      <th>snapshots</th>\n",
       "      <th>datetime</th>\n",
       "      <th>max_datetime</th>\n",
       "      <th>min_datetime</th>\n",
       "      <th>created_to_popular</th>\n",
       "      <th>popular_window</th>\n",
       "    </tr>\n",
       "  </thead>\n",
       "  <tbody>\n",
       "    <tr>\n",
       "      <th>0</th>\n",
       "      <td>too3mu</td>\n",
       "      <td>cringepics</td>\n",
       "      <td>1.648300e+09</td>\n",
       "      <td>609</td>\n",
       "      <td>1648383475</td>\n",
       "      <td>1648309167</td>\n",
       "      <td>[{'retrieved_utc': 1648309167, 'rank': 99, 'sc...</td>\n",
       "      <td>2022-03-26 08:05:20-05:00</td>\n",
       "      <td>2022-03-27 07:17:55-05:00</td>\n",
       "      <td>2022-03-26 10:39:27-05:00</td>\n",
       "      <td>9247.0</td>\n",
       "      <td>74308</td>\n",
       "    </tr>\n",
       "    <tr>\n",
       "      <th>1</th>\n",
       "      <td>tnktby</td>\n",
       "      <td>gadgets</td>\n",
       "      <td>1.648211e+09</td>\n",
       "      <td>595</td>\n",
       "      <td>1648295736</td>\n",
       "      <td>1648223150</td>\n",
       "      <td>[{'retrieved_utc': 1648223150, 'rank': 96, 'sc...</td>\n",
       "      <td>2022-03-25 07:27:13-05:00</td>\n",
       "      <td>2022-03-26 06:55:36-05:00</td>\n",
       "      <td>2022-03-25 10:45:50-05:00</td>\n",
       "      <td>11917.0</td>\n",
       "      <td>72586</td>\n",
       "    </tr>\n",
       "    <tr>\n",
       "      <th>2</th>\n",
       "      <td>toak5d</td>\n",
       "      <td>CollegeBasketball</td>\n",
       "      <td>1.648258e+09</td>\n",
       "      <td>568</td>\n",
       "      <td>1648328241</td>\n",
       "      <td>1648258960</td>\n",
       "      <td>[{'retrieved_utc': 1648258960, 'rank': 57, 'sc...</td>\n",
       "      <td>2022-03-25 20:26:04-05:00</td>\n",
       "      <td>2022-03-26 15:57:21-05:00</td>\n",
       "      <td>2022-03-25 20:42:40-05:00</td>\n",
       "      <td>996.0</td>\n",
       "      <td>69281</td>\n",
       "    </tr>\n",
       "    <tr>\n",
       "      <th>3</th>\n",
       "      <td>tq5q3y</td>\n",
       "      <td>educationalgifs</td>\n",
       "      <td>1.648461e+09</td>\n",
       "      <td>568</td>\n",
       "      <td>1648541576</td>\n",
       "      <td>1648472236</td>\n",
       "      <td>[{'retrieved_utc': 1648472236, 'rank': 97, 'sc...</td>\n",
       "      <td>2022-03-28 04:50:39-05:00</td>\n",
       "      <td>2022-03-29 03:12:56-05:00</td>\n",
       "      <td>2022-03-28 07:57:16-05:00</td>\n",
       "      <td>11197.0</td>\n",
       "      <td>69340</td>\n",
       "    </tr>\n",
       "    <tr>\n",
       "      <th>4</th>\n",
       "      <td>tofiar</td>\n",
       "      <td>Music</td>\n",
       "      <td>1.648264e+09</td>\n",
       "      <td>557</td>\n",
       "      <td>1648334847</td>\n",
       "      <td>1648266912</td>\n",
       "      <td>[{'retrieved_utc': 1648266912, 'rank': 84, 'sc...</td>\n",
       "      <td>2022-03-25 22:05:30-05:00</td>\n",
       "      <td>2022-03-26 17:47:27-05:00</td>\n",
       "      <td>2022-03-25 22:55:12-05:00</td>\n",
       "      <td>2982.0</td>\n",
       "      <td>67935</td>\n",
       "    </tr>\n",
       "    <tr>\n",
       "      <th>...</th>\n",
       "      <td>...</td>\n",
       "      <td>...</td>\n",
       "      <td>...</td>\n",
       "      <td>...</td>\n",
       "      <td>...</td>\n",
       "      <td>...</td>\n",
       "      <td>...</td>\n",
       "      <td>...</td>\n",
       "      <td>...</td>\n",
       "      <td>...</td>\n",
       "      <td>...</td>\n",
       "      <td>...</td>\n",
       "    </tr>\n",
       "    <tr>\n",
       "      <th>2882</th>\n",
       "      <td>tou48y</td>\n",
       "      <td>funny</td>\n",
       "      <td>1.648310e+09</td>\n",
       "      <td>1</td>\n",
       "      <td>1648330443</td>\n",
       "      <td>1648330443</td>\n",
       "      <td>[{'retrieved_utc': 1648330443, 'rank': 76, 'sc...</td>\n",
       "      <td>2022-03-26 10:53:55-05:00</td>\n",
       "      <td>2022-03-26 16:34:03-05:00</td>\n",
       "      <td>2022-03-26 16:34:03-05:00</td>\n",
       "      <td>20408.0</td>\n",
       "      <td>0</td>\n",
       "    </tr>\n",
       "    <tr>\n",
       "      <th>2883</th>\n",
       "      <td>tow4we</td>\n",
       "      <td>relationship_advice</td>\n",
       "      <td>1.648312e+09</td>\n",
       "      <td>1</td>\n",
       "      <td>1648327140</td>\n",
       "      <td>1648327140</td>\n",
       "      <td>[{'retrieved_utc': 1648327140, 'rank': 96, 'sc...</td>\n",
       "      <td>2022-03-26 11:22:26-05:00</td>\n",
       "      <td>2022-03-26 15:39:00-05:00</td>\n",
       "      <td>2022-03-26 15:39:00-05:00</td>\n",
       "      <td>15394.0</td>\n",
       "      <td>0</td>\n",
       "    </tr>\n",
       "    <tr>\n",
       "      <th>2884</th>\n",
       "      <td>tp0r43</td>\n",
       "      <td>shitposting</td>\n",
       "      <td>1.648322e+09</td>\n",
       "      <td>1</td>\n",
       "      <td>1648341694</td>\n",
       "      <td>1648341694</td>\n",
       "      <td>[{'retrieved_utc': 1648341694, 'rank': 99, 'sc...</td>\n",
       "      <td>2022-03-26 14:21:37-05:00</td>\n",
       "      <td>2022-03-26 19:41:34-05:00</td>\n",
       "      <td>2022-03-26 19:41:34-05:00</td>\n",
       "      <td>19197.0</td>\n",
       "      <td>0</td>\n",
       "    </tr>\n",
       "    <tr>\n",
       "      <th>2885</th>\n",
       "      <td>tq8kby</td>\n",
       "      <td>technicallythetruth</td>\n",
       "      <td>1.648472e+09</td>\n",
       "      <td>1</td>\n",
       "      <td>1648481520</td>\n",
       "      <td>1648481520</td>\n",
       "      <td>[{'retrieved_utc': 1648481520, 'rank': 96, 'sc...</td>\n",
       "      <td>2022-03-28 07:49:19-05:00</td>\n",
       "      <td>2022-03-28 10:32:00-05:00</td>\n",
       "      <td>2022-03-28 10:32:00-05:00</td>\n",
       "      <td>9761.0</td>\n",
       "      <td>0</td>\n",
       "    </tr>\n",
       "    <tr>\n",
       "      <th>2886</th>\n",
       "      <td>tqv23q</td>\n",
       "      <td>ProgrammerHumor</td>\n",
       "      <td>1.648542e+09</td>\n",
       "      <td>1</td>\n",
       "      <td>1648559051</td>\n",
       "      <td>1648559051</td>\n",
       "      <td>[{'retrieved_utc': 1648559051, 'rank': 80, 'sc...</td>\n",
       "      <td>2022-03-29 03:23:20-05:00</td>\n",
       "      <td>2022-03-29 08:04:11-05:00</td>\n",
       "      <td>2022-03-29 08:04:11-05:00</td>\n",
       "      <td>16851.0</td>\n",
       "      <td>0</td>\n",
       "    </tr>\n",
       "  </tbody>\n",
       "</table>\n",
       "<p>2887 rows × 12 columns</p>\n",
       "</div>"
      ],
      "text/plain": [
       "          id            subreddit   created_utc  num_snapshots     max_utc  \\\n",
       "0     too3mu           cringepics  1.648300e+09            609  1648383475   \n",
       "1     tnktby              gadgets  1.648211e+09            595  1648295736   \n",
       "2     toak5d    CollegeBasketball  1.648258e+09            568  1648328241   \n",
       "3     tq5q3y      educationalgifs  1.648461e+09            568  1648541576   \n",
       "4     tofiar                Music  1.648264e+09            557  1648334847   \n",
       "...      ...                  ...           ...            ...         ...   \n",
       "2882  tou48y                funny  1.648310e+09              1  1648330443   \n",
       "2883  tow4we  relationship_advice  1.648312e+09              1  1648327140   \n",
       "2884  tp0r43          shitposting  1.648322e+09              1  1648341694   \n",
       "2885  tq8kby  technicallythetruth  1.648472e+09              1  1648481520   \n",
       "2886  tqv23q      ProgrammerHumor  1.648542e+09              1  1648559051   \n",
       "\n",
       "         min_utc                                          snapshots  \\\n",
       "0     1648309167  [{'retrieved_utc': 1648309167, 'rank': 99, 'sc...   \n",
       "1     1648223150  [{'retrieved_utc': 1648223150, 'rank': 96, 'sc...   \n",
       "2     1648258960  [{'retrieved_utc': 1648258960, 'rank': 57, 'sc...   \n",
       "3     1648472236  [{'retrieved_utc': 1648472236, 'rank': 97, 'sc...   \n",
       "4     1648266912  [{'retrieved_utc': 1648266912, 'rank': 84, 'sc...   \n",
       "...          ...                                                ...   \n",
       "2882  1648330443  [{'retrieved_utc': 1648330443, 'rank': 76, 'sc...   \n",
       "2883  1648327140  [{'retrieved_utc': 1648327140, 'rank': 96, 'sc...   \n",
       "2884  1648341694  [{'retrieved_utc': 1648341694, 'rank': 99, 'sc...   \n",
       "2885  1648481520  [{'retrieved_utc': 1648481520, 'rank': 96, 'sc...   \n",
       "2886  1648559051  [{'retrieved_utc': 1648559051, 'rank': 80, 'sc...   \n",
       "\n",
       "                      datetime              max_datetime  \\\n",
       "0    2022-03-26 08:05:20-05:00 2022-03-27 07:17:55-05:00   \n",
       "1    2022-03-25 07:27:13-05:00 2022-03-26 06:55:36-05:00   \n",
       "2    2022-03-25 20:26:04-05:00 2022-03-26 15:57:21-05:00   \n",
       "3    2022-03-28 04:50:39-05:00 2022-03-29 03:12:56-05:00   \n",
       "4    2022-03-25 22:05:30-05:00 2022-03-26 17:47:27-05:00   \n",
       "...                        ...                       ...   \n",
       "2882 2022-03-26 10:53:55-05:00 2022-03-26 16:34:03-05:00   \n",
       "2883 2022-03-26 11:22:26-05:00 2022-03-26 15:39:00-05:00   \n",
       "2884 2022-03-26 14:21:37-05:00 2022-03-26 19:41:34-05:00   \n",
       "2885 2022-03-28 07:49:19-05:00 2022-03-28 10:32:00-05:00   \n",
       "2886 2022-03-29 03:23:20-05:00 2022-03-29 08:04:11-05:00   \n",
       "\n",
       "                  min_datetime  created_to_popular  popular_window  \n",
       "0    2022-03-26 10:39:27-05:00              9247.0           74308  \n",
       "1    2022-03-25 10:45:50-05:00             11917.0           72586  \n",
       "2    2022-03-25 20:42:40-05:00               996.0           69281  \n",
       "3    2022-03-28 07:57:16-05:00             11197.0           69340  \n",
       "4    2022-03-25 22:55:12-05:00              2982.0           67935  \n",
       "...                        ...                 ...             ...  \n",
       "2882 2022-03-26 16:34:03-05:00             20408.0               0  \n",
       "2883 2022-03-26 15:39:00-05:00             15394.0               0  \n",
       "2884 2022-03-26 19:41:34-05:00             19197.0               0  \n",
       "2885 2022-03-28 10:32:00-05:00              9761.0               0  \n",
       "2886 2022-03-29 08:04:11-05:00             16851.0               0  \n",
       "\n",
       "[2887 rows x 12 columns]"
      ]
     },
     "execution_count": 28,
     "metadata": {},
     "output_type": "execute_result"
    }
   ],
   "source": [
    "popular_threads = pd.DataFrame(popular_snapshots.aggregate([\n",
    "    {'$sort': {'retrieved_utc': 1}},\n",
    "    {'$group': {'_id': '$id',\n",
    "                'subreddit': {'$first': '$subreddit'},\n",
    "                'created_utc': {'$first': '$created_utc'},\n",
    "                'num_snapshots': {'$sum': 1},\n",
    "                'max_utc': {'$max': '$retrieved_utc'},\n",
    "                'min_utc': {'$min': '$retrieved_utc'},\n",
    "                'snapshots': {'$push': \n",
    "                              {'retrieved_utc': '$retrieved_utc',\n",
    "                               'rank': '$rank',\n",
    "                               'score': '$score',\n",
    "                               'upvote_ratio': '$upvote_ratio',\n",
    "                               'num_comments': '$num_comments'}}}},\n",
    "    {'$sort': {'num_snapshots': -1}}\n",
    "], allowDiskUse=True)).rename(columns={'_id': 'id'})\n",
    "\n",
    "popular_threads['datetime'] = \\\n",
    "    pd.to_datetime(popular_threads['created_utc'], unit='s') \\\n",
    "    .dt.tz_localize('UTC') \\\n",
    "    .dt.tz_convert('US/Central')\n",
    "\n",
    "popular_threads['max_datetime'] = \\\n",
    "    pd.to_datetime(popular_threads['max_utc'], unit='s') \\\n",
    "    .dt.tz_localize('UTC') \\\n",
    "    .dt.tz_convert('US/Central')\n",
    "\n",
    "popular_threads['min_datetime'] = \\\n",
    "    pd.to_datetime(popular_threads['min_utc'], unit='s') \\\n",
    "    .dt.tz_localize('UTC') \\\n",
    "    .dt.tz_convert('US/Central')\n",
    "\n",
    "popular_threads['created_to_popular'] = popular_threads['min_utc'] - popular_threads['created_utc']\n",
    "\n",
    "popular_threads['popular_window'] = popular_threads['max_utc'] - popular_threads['min_utc']\n",
    "\n",
    "# Active window for comments, i.e., first comment UTC to last comment UTC.\n",
    "\n",
    "popular_threads"
   ]
  },
  {
   "cell_type": "markdown",
   "id": "d6f81277",
   "metadata": {},
   "source": [
    "## Aggregating r/popular threads per subreddit to provide descriptive measures."
   ]
  },
  {
   "cell_type": "code",
   "execution_count": 591,
   "id": "a535846b",
   "metadata": {
    "ExecuteTime": {
     "end_time": "2022-03-24T18:51:01.131056Z",
     "start_time": "2022-03-24T18:51:01.119212Z"
    },
    "scrolled": true
   },
   "outputs": [
    {
     "name": "stdout",
     "output_type": "stream",
     "text": [
      "                    average_popular_window  num_threads  num_snapshots  \\\n",
      "subreddit                                                                \n",
      "worldnews                            14153           11           1207   \n",
      "shitposting                           5594            9            421   \n",
      "nextfuckinglevel                     12654            9            894   \n",
      "memes                                 8851            9            531   \n",
      "HolUp                                11010            9            806   \n",
      "interestingasfuck                    18176            8           1174   \n",
      "Unexpected                           15642            8            694   \n",
      "Eldenring                            14383            7            741   \n",
      "WhitePeopleTwitter                   12933            7            711   \n",
      "Superstonk                           12168            7            694   \n",
      "\n",
      "                    created_to_popular  \n",
      "subreddit                               \n",
      "worldnews                        15277  \n",
      "shitposting                      13153  \n",
      "nextfuckinglevel                 12678  \n",
      "memes                            12200  \n",
      "HolUp                            13331  \n",
      "interestingasfuck                15868  \n",
      "Unexpected                       15273  \n",
      "Eldenring                        22443  \n",
      "WhitePeopleTwitter               18126  \n",
      "Superstonk                       10667  \n",
      "\n",
      "(210, 4)\n",
      "\n",
      "--- Description of r/popular threads per subreddit.\n"
     ]
    }
   ],
   "source": [
    "popular_describe_subreddits = popular_threads.groupby('subreddit') \\\n",
    "    .agg({'popular_window': 'mean',\n",
    "          'id': 'count',\n",
    "          'num_snapshots': 'sum',\n",
    "          'created_to_popular': 'mean'}) \\\n",
    "    .rename(columns={'id': 'num_threads', 'popular_window': 'average_popular_window'}) \\\n",
    "    .astype(int) \\\n",
    "    .sort_values(by='num_threads', ascending=False)\n",
    "\n",
    "print(\n",
    "    popular_describe_subreddits.head(10),\n",
    "    popular_describe_subreddits.shape,\n",
    "    '--- Description of r/popular threads per subreddit.',\n",
    "    sep='\\n\\n'\n",
    ")"
   ]
  },
  {
   "cell_type": "markdown",
   "id": "b62567c2",
   "metadata": {},
   "source": [
    "## For a specific r/popular thread, graph it's rank trajectory."
   ]
  },
  {
   "cell_type": "code",
   "execution_count": 589,
   "id": "9ef0721a",
   "metadata": {
    "ExecuteTime": {
     "end_time": "2022-03-24T18:47:00.927929Z",
     "start_time": "2022-03-24T18:47:00.595054Z"
    }
   },
   "outputs": [
    {
     "data": {
      "image/png": "[encoded data removed]",
      "text/plain": [
       "<Figure size 648x720 with 4 Axes>"
      ]
     },
     "metadata": {
      "needs_background": "light"
     },
     "output_type": "display_data"
    }
   ],
   "source": [
    "# Get a random r/popular thread.\n",
    "thread = popular_threads.sample(n=1)\n",
    "thread_id = thread['id'].values[0]\n",
    "subreddit = thread['subreddit'].values[0]\n",
    "\n",
    "snapshots = popular_threads[popular_threads['id'] == thread_id]['snapshots'].values[0]\n",
    "\n",
    "snapshots = pd.DataFrame(snapshots).sort_values(by='retrieved_utc')\n",
    "\n",
    "snapshots['datetime'] = pd.to_datetime(snapshots['retrieved_utc'], unit='s') \\\n",
    "    .dt.tz_localize('UTC') \\\n",
    "    .dt.tz_convert('US/Central')\n",
    "\n",
    "# Graph code.\n",
    "fig, ax = plt.subplots(4, 1, figsize=(9, 10))\n",
    "fig.suptitle(f'Thread attributes for thread ID {thread_id} on r/{subreddit}.', fontsize=16)\n",
    "\n",
    "fig.subplots_adjust(hspace=1)\n",
    "\n",
    "# Reverse the y-axis because 100 is at the bottom of r/popular.\n",
    "ax[0].plot(snapshots['datetime'], snapshots['rank'], color='tab:blue')\n",
    "ax[0].title.set_text('r/popular Rank')\n",
    "ax[0].set_xlabel('Timestamp')\n",
    "ax[0].set_ylabel('r/popular Rank')\n",
    "ax[0].xaxis.set_major_locator(mdates.HourLocator(interval=2))\n",
    "ax[0].xaxis.set_major_formatter(mdates.DateFormatter('%m-%d %I%p'))\n",
    "\n",
    "\n",
    "ax[1].plot(snapshots['datetime'], snapshots['score'], color='tab:orange')\n",
    "ax[1].title.set_text('Number of Upvotes')\n",
    "ax[1].set_xlabel('Timestamp')\n",
    "ax[1].set_ylabel('Number of Upvotes')\n",
    "ax[1].xaxis.set_major_locator(mdates.HourLocator(interval=2))\n",
    "ax[1].xaxis.set_major_formatter(mdates.DateFormatter('%m-%d %I%p'))\n",
    "\n",
    "ax[2].plot(snapshots['datetime'], snapshots['upvote_ratio'], color='tab:green')\n",
    "ax[2].title.set_text('Upvote Ratio')\n",
    "ax[2].set_xlabel('Timestamp')\n",
    "ax[2].set_ylabel('Upvote Ratio')\n",
    "ax[2].xaxis.set_major_locator(mdates.HourLocator(interval=2))\n",
    "ax[2].xaxis.set_major_formatter(mdates.DateFormatter('%m-%d %I%p'))\n",
    "\n",
    "ax[3].plot(snapshots['datetime'], snapshots['num_comments'], color='tab:red')\n",
    "ax[3].title.set_text('Number of Comments on Thread')\n",
    "ax[3].set_xlabel('Timestamp')\n",
    "ax[3].set_ylabel('Number of Comments')\n",
    "ax[3].xaxis.set_major_locator(mdates.HourLocator(interval=2))\n",
    "ax[3].xaxis.set_major_formatter(mdates.DateFormatter('%m-%d %I%p'))\n",
    "\n",
    "matplotlib.rcParams['timezone'] = 'US/Central'\n",
    "\n",
    "\n",
    "plt.show()"
   ]
  },
  {
   "cell_type": "markdown",
   "id": "566d5971",
   "metadata": {},
   "source": [
    "## Number of r/popular threads on the feed for a specific subreddit."
   ]
  },
  {
   "cell_type": "code",
   "execution_count": 576,
   "id": "eba15d3c",
   "metadata": {
    "ExecuteTime": {
     "end_time": "2022-03-24T18:15:03.122799Z",
     "start_time": "2022-03-24T18:15:02.978622Z"
    }
   },
   "outputs": [
    {
     "data": {
      "image/png": "[encoded data removed]",
      "text/plain": [
       "<Figure size 648x288 with 1 Axes>"
      ]
     },
     "metadata": {
      "needs_background": "light"
     },
     "output_type": "display_data"
    }
   ],
   "source": [
    "subreddit = 'worldnews'\n",
    "\n",
    "popular_ranges = popular_threads[popular_threads['subreddit'] == subreddit][['min_datetime', 'max_datetime']]\n",
    "popular_ranges['start_hour'] = popular_ranges['min_datetime'].dt.round('H')\n",
    "popular_ranges['end_hour'] = popular_ranges['max_datetime'].dt.round('H')\n",
    "\n",
    "\n",
    "start = popular_ranges['start_hour'].min()\n",
    "end = popular_ranges['end_hour'].max()\n",
    "\n",
    "date_index = pd.date_range(start, end, freq='H')\n",
    "\n",
    "popular_feed_count = pd.DataFrame(index=date_index,\n",
    "                                  columns=['num_popular'],\n",
    "                                  data=[0 for _ in range(len(date_index))])\n",
    "\n",
    "for row in popular_ranges.itertuples():\n",
    "    for hour in pd.date_range(row.start_hour, row.end_hour, freq='H'):\n",
    "        popular_feed_count.loc[hour] += 1\n",
    "\n",
    "plt.figure(figsize=(9, 4))\n",
    "plt.suptitle(f'The number of r/popular threads on top 100 for r/{subreddit}.', fontsize=16)\n",
    "plt.xlabel('Hour', fontsize=10)\n",
    "plt.ylabel('Number of r/popular Threads', fontsize=10)\n",
    "plt.plot(popular_feed_count)\n",
    "\n",
    "ax = plt.gca()\n",
    "matplotlib.rcParams['timezone'] = 'US/Central'\n",
    "ax.xaxis.set_major_locator(mdates.HourLocator(interval=5))\n",
    "ax.xaxis.set_major_formatter(mdates.DateFormatter('%m-%d %I%p'))\n",
    "\n",
    "ax.yaxis.set_major_locator(MaxNLocator(integer=True))\n",
    "\n",
    "plt.show()"
   ]
  }
 ],
 "metadata": {
  "kernelspec": {
   "display_name": "Python 3",
   "language": "python",
   "name": "python3"
  },
  "language_info": {
   "codemirror_mode": {
    "name": "ipython",
    "version": 3
   },
   "file_extension": ".py",
   "mimetype": "text/x-python",
   "name": "python",
   "nbconvert_exporter": "python",
   "pygments_lexer": "ipython3",
   "version": "3.6.8"
  }
 },
 "nbformat": 4,
 "nbformat_minor": 5
}
