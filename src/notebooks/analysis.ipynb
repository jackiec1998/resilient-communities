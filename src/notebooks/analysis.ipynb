{
 "cells": [
  {
   "cell_type": "code",
   "execution_count": 224,
   "id": "cd2b971c",
   "metadata": {
    "ExecuteTime": {
     "end_time": "2022-03-23T23:01:14.963049Z",
     "start_time": "2022-03-23T23:01:14.947856Z"
    }
   },
   "outputs": [],
   "source": [
    "%config Completer.use_jedi = False\n",
    "from pymongo import MongoClient\n",
    "import pandas as pd\n",
    "import datetime as dt\n",
    "from collections import defaultdict\n",
    "\n",
    "client = MongoClient('localhost', 27017)\n",
    "db = client.resilient"
   ]
  },
  {
   "cell_type": "markdown",
   "id": "63ec4987",
   "metadata": {},
   "source": [
    "# r/all Analysis"
   ]
  },
  {
   "cell_type": "markdown",
   "id": "f19aed88",
   "metadata": {},
   "source": [
    "## Connecting to the r/all comment collection."
   ]
  },
  {
   "cell_type": "code",
   "execution_count": 243,
   "id": "3e968304",
   "metadata": {
    "ExecuteTime": {
     "end_time": "2022-03-23T23:10:50.692438Z",
     "start_time": "2022-03-23T23:10:50.689817Z"
    }
   },
   "outputs": [],
   "source": [
    "# ac: r/all comments\n",
    "ac = db.all"
   ]
  },
  {
   "cell_type": "markdown",
   "id": "4ba3aff5",
   "metadata": {},
   "source": [
    "## Getting the number of comments in the collection."
   ]
  },
  {
   "cell_type": "code",
   "execution_count": 244,
   "id": "43a67801",
   "metadata": {
    "ExecuteTime": {
     "end_time": "2022-03-23T23:10:51.582470Z",
     "start_time": "2022-03-23T23:10:51.578979Z"
    }
   },
   "outputs": [
    {
     "name": "stdout",
     "output_type": "stream",
     "text": [
      "There are 100,000 r/all comments.\n"
     ]
    }
   ],
   "source": [
    "print(f'There are {ac.estimated_document_count():,} r/all comments.')"
   ]
  },
  {
   "cell_type": "markdown",
   "id": "41919118",
   "metadata": {},
   "source": [
    "## Counting the number of comments for each author."
   ]
  },
  {
   "cell_type": "code",
   "execution_count": 245,
   "id": "bd7d8182",
   "metadata": {
    "ExecuteTime": {
     "end_time": "2022-03-23T23:10:53.266063Z",
     "start_time": "2022-03-23T23:10:52.714861Z"
    }
   },
   "outputs": [
    {
     "name": "stdout",
     "output_type": "stream",
     "text": [
      "                    _id  num_comments\n",
      "0         AutoModerator          3248\n",
      "1                FMKBot           192\n",
      "2  SecureMarionberry993            67\n",
      "3            gyreor_654            65\n",
      "4            leckerbrot            53\n",
      "(66571, 2)\n",
      "--- Number of comments per author. ---\n"
     ]
    }
   ],
   "source": [
    "# aa: r/all authors with the number of comments they've made.\n",
    "aa = pd.DataFrame(all_comments.aggregate([\n",
    "    {'$project': {'_id': 1, 'author': 1}}, # Only using author field.\n",
    "    {'$group': {'_id': '$author', 'num_comments': {'$sum': 1}}},\n",
    "    {'$sort': {'num_comments': -1}} # Sort descending.\n",
    "], allowDiskUse=True))\n",
    "\n",
    "print(\n",
    "    aa.head(),\n",
    "    aa.shape,\n",
    "    '--- Number of comments per author. ---',\n",
    "    sep='\\n'\n",
    ")"
   ]
  },
  {
   "cell_type": "markdown",
   "id": "a67f4137",
   "metadata": {},
   "source": [
    "## Counting the number of comments in each subreddit."
   ]
  },
  {
   "cell_type": "code",
   "execution_count": 246,
   "id": "0ff31403",
   "metadata": {
    "ExecuteTime": {
     "end_time": "2022-03-23T23:10:55.946792Z",
     "start_time": "2022-03-23T23:10:55.728645Z"
    }
   },
   "outputs": [
    {
     "name": "stdout",
     "output_type": "stream",
     "text": [
      "             _id  num_comments\n",
      "0      AskReddit          3139\n",
      "1  AmItheAsshole          1137\n",
      "2      worldnews          1124\n",
      "3      Eldenring          1114\n",
      "4      teenagers           978\n",
      "(13401, 2)\n",
      "--- Number of comments per subreddit. ---\n"
     ]
    }
   ],
   "source": [
    "# asu: r/all comments per subreddit.\n",
    "asu = pd.DataFrame(ac.aggregate([\n",
    "    {'$project': {'_id': 1, 'subreddit': 1}},\n",
    "    {'$group': {'_id': '$subreddit', 'num_comments': {'$sum': 1}}},\n",
    "    {'$sort': {'num_comments': -1}}\n",
    "], allowDiskUse=True))\n",
    "\n",
    "print(\n",
    "    asu.head(),\n",
    "    asu.shape,\n",
    "    '--- Number of comments per subreddit. ---',\n",
    "    sep='\\n'\n",
    ")"
   ]
  },
  {
   "cell_type": "markdown",
   "id": "74b09951",
   "metadata": {
    "ExecuteTime": {
     "end_time": "2022-03-23T19:54:57.534572Z",
     "start_time": "2022-03-23T19:54:57.531535Z"
    }
   },
   "source": [
    "# r/popular Analysis"
   ]
  },
  {
   "cell_type": "markdown",
   "id": "c2a28413",
   "metadata": {},
   "source": [
    "## Connecting to r/popular snapshots collection."
   ]
  },
  {
   "cell_type": "code",
   "execution_count": 235,
   "id": "605dcaba",
   "metadata": {
    "ExecuteTime": {
     "end_time": "2022-03-23T23:03:33.510944Z",
     "start_time": "2022-03-23T23:03:33.508958Z"
    }
   },
   "outputs": [],
   "source": [
    "# pss: r/popular snapshots\n",
    "pss = db.popular"
   ]
  },
  {
   "cell_type": "markdown",
   "id": "70e97094",
   "metadata": {},
   "source": [
    "## Grouping r/popular thread IDs, identifying their subreddit, and listing their snapshots (along with snapshot attributes).\n",
    "\n",
    "Each thread should come with their first timestamp (`min_utc`), last timestamp (`max_utc`), and the number of seconds in between known as the thread's lifespan (`lifespan`)."
   ]
  },
  {
   "cell_type": "code",
   "execution_count": 247,
   "id": "cae76aca",
   "metadata": {
    "ExecuteTime": {
     "end_time": "2022-03-23T23:13:43.999092Z",
     "start_time": "2022-03-23T23:13:43.972039Z"
    }
   },
   "outputs": [
    {
     "name": "stdout",
     "output_type": "stream",
     "text": [
      "       id           subreddit  num_snapshots\n",
      "0  tkzhsx   interestingasfuck             10\n",
      "1  tkt1a5              Tinder             10\n",
      "2  tl4kfi      PoliticalHumor             10\n",
      "3  tktx7r  WhitePeopleTwitter             10\n",
      "4  tkyg1n            Teachers             10\n",
      "(102, 9)\n",
      "--- Snapshots grouped by threads. ---\n"
     ]
    }
   ],
   "source": [
    "# pt: r/popular threads with their subreddit and associated snapshots.\n",
    "pt = pd.DataFrame(pss.aggregate([\n",
    "    {'$sort': {'retrieved_utc': 1}},\n",
    "    {'$group': {'_id': '$id',\n",
    "                'subreddit': {'$first': '$subreddit'},\n",
    "                'created_utc': {'$first': '$created_utc'},\n",
    "                'num_snapshots': {'$sum': 1},\n",
    "                'max_utc': {'$max': '$retrieved_utc'},\n",
    "                'min_utc': {'$min': '$retrieved_utc'},\n",
    "                'snapshots': {'$push': \n",
    "                              {'retrieved_utc': '$retrieved_utc',\n",
    "                               'rank': '$rank',\n",
    "                               'score': '$score',\n",
    "                               'upvote_ratio': '$upvote_ratio',\n",
    "                               'num_comments': '$num_comments'}}}},\n",
    "    {'$sort': {'num_snapshots': -1}}\n",
    "], allowDiskUse=True)).rename(columns={'_id': 'id'})\n",
    "\n",
    "pt['datetime'] = \\\n",
    "    pd.to_datetime(pt['created_utc'], unit='s') \\\n",
    "    .dt.tz_localize('US/Central')\n",
    "\n",
    "pt['lifespan'] = pt['max_utc'] - pt['min_utc']\n",
    "\n",
    "print(\n",
    "    pt[['id', 'subreddit', 'num_snapshots']].head(),\n",
    "    pt.shape,\n",
    "    '--- Snapshots grouped by threads. ---',\n",
    "    sep='\\n'\n",
    ")"
   ]
  },
  {
   "cell_type": "markdown",
   "id": "c219c65f",
   "metadata": {},
   "source": [
    "## Getting the number of r/popular threads for each subreddit."
   ]
  },
  {
   "cell_type": "code",
   "execution_count": 248,
   "id": "41973989",
   "metadata": {
    "ExecuteTime": {
     "end_time": "2022-03-23T23:13:44.006345Z",
     "start_time": "2022-03-23T23:13:44.000869Z"
    }
   },
   "outputs": [
    {
     "name": "stdout",
     "output_type": "stream",
     "text": [
      "subreddit\n",
      "WhitePeopleTwitter    2\n",
      "Cringetopia           2\n",
      "interestingasfuck     2\n",
      "mildlyinfuriating     2\n",
      "cats                  2\n",
      "Name: id, dtype: int64\n",
      "(89,)\n",
      "--- Number of r/popular thread per subreddit. ---\n"
     ]
    }
   ],
   "source": [
    "# psc: r/popular thread count per subreddit.\n",
    "psc = pt.groupby('subreddit') \\\n",
    "    ['id'].count() \\\n",
    "    .sort_values(ascending=False)\n",
    "\n",
    "print(\n",
    "    psc.head(),\n",
    "    psc.shape,\n",
    "    '--- Number of r/popular thread per subreddit. ---',\n",
    "    sep='\\n'\n",
    ")"
   ]
  },
  {
   "cell_type": "markdown",
   "id": "04a09fb5",
   "metadata": {},
   "source": [
    "## The average lifespan for an r/popular thread for each subreddit."
   ]
  },
  {
   "cell_type": "code",
   "execution_count": 251,
   "id": "58241951",
   "metadata": {
    "ExecuteTime": {
     "end_time": "2022-03-23T23:16:00.747046Z",
     "start_time": "2022-03-23T23:16:00.739191Z"
    }
   },
   "outputs": [
    {
     "name": "stdout",
     "output_type": "stream",
     "text": [
      "subreddit\n",
      "worldnews          1099\n",
      "ShitLiberalsSay    1099\n",
      "OldSchoolCool      1099\n",
      "OnePiece           1099\n",
      "OnePunchMan        1099\n",
      "Name: lifespan, dtype: int64\n",
      "(89,)\n",
      "--- Average lifespan for r/popular threads for each subreddit. ---\n"
     ]
    }
   ],
   "source": [
    "# pals: r/popular average lifespan for each subreddit.\n",
    "pals = pt.groupby('subreddit') \\\n",
    "    ['lifespan'].mean() \\\n",
    "    .sort_values(ascending=False)\n",
    "\n",
    "print(\n",
    "    pals.head(),\n",
    "    pals.shape,\n",
    "    '--- Average lifespan for r/popular threads for each subreddit. ---',\n",
    "    sep='\\n'\n",
    ")"
   ]
  },
  {
   "cell_type": "code",
   "execution_count": null,
   "id": "cffc1e2b",
   "metadata": {},
   "outputs": [],
   "source": []
  }
 ],
 "metadata": {
  "kernelspec": {
   "display_name": "Python 3",
   "language": "python",
   "name": "python3"
  },
  "language_info": {
   "codemirror_mode": {
    "name": "ipython",
    "version": 3
   },
   "file_extension": ".py",
   "mimetype": "text/x-python",
   "name": "python",
   "nbconvert_exporter": "python",
   "pygments_lexer": "ipython3",
   "version": "3.6.8"
  }
 },
 "nbformat": 4,
 "nbformat_minor": 5
}
